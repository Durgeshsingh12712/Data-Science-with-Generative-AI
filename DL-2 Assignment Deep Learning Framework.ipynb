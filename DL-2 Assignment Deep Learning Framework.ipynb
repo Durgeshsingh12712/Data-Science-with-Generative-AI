{
 "cells": [
  {
   "cell_type": "markdown",
   "metadata": {},
   "source": [
    "                                            Assignment : Deep Learning Framework"
   ]
  },
  {
   "cell_type": "markdown",
   "metadata": {},
   "source": [
    "Q1. What is TensorFlow 2.0, and how is it different from TensorFlow 1.x?"
   ]
  },
  {
   "cell_type": "markdown",
   "metadata": {},
   "source": [
    "Answer : TensorFlow is an open-source machine learning library developed by Google. TensorFlow 2.0 is a major update to the TensorFlow framework, released in 2019. It introduces significant changes and improvements over the previous version, TensorFlow 1.x.\n",
    "\n",
    "Key differences in coding style:\n",
    "1. TensorFlow 1.x uses a session-based approach, where you need to create a session and run operations within it.\n",
    "2. TensorFlow 2.0 uses a more Pythonic approach, where you can write code in a straightforward, imperative style."
   ]
  },
  {
   "cell_type": "markdown",
   "metadata": {},
   "source": [
    "Q2. How do you install TensorFlow 2.0?"
   ]
  },
  {
   "cell_type": "markdown",
   "metadata": {},
   "source": [
    "Answer : Method 1: Using pip :\n",
    "\n",
    "1. : Open a terminal or command prompt: On Windows, you can press Win + R to open the Run dialog, type cmd, and press Enter. On macOS or Linux, you can use Spotlight or the Terminal app.\n",
    "2. : Update pip: Run the command pip install --upgrade pip to ensure you have the latest version of pip.\n",
    "3. : Install TensorFlow 2.0: Run the command pip install tensorflow (for CPU-only) or pip install tensorflow-gpu (for GPU support).\n",
    "4. : Verify the installation: Run the command python -c \"import tensorflow as tf; print(tf.__version__)\" to check the installed version of TensorFlow.\n",
    "\n",
    "Method 2: Using conda:\n",
    "\n",
    "1. : Install Anaconda or Miniconda: If you haven't already, download and install Anaconda or Miniconda from the official website.\n",
    "2. : Create a new environment: Run the command conda create --n tf2 python=3.8 (or your preferred Python version).\n",
    "3. : Activate the environment: Run the command conda activate tf2.\n",
    "4. : Install TensorFlow 2.0: Run the command conda install -c conda-forge tensorflow (for CPU-only) or conda install -c conda-forge tensorflow-gpu (for GPU support).\n",
    "5. : Verify the installation: Run the command python -c \"import tensorflow as tf; print(tf.__version__)\" to check the installed version of TensorFlow."
   ]
  },
  {
   "cell_type": "markdown",
   "metadata": {},
   "source": [
    "Q3. What is the primary function of the tf.function in TensorFlow 2.0?"
   ]
  },
  {
   "cell_type": "markdown",
   "metadata": {},
   "source": [
    "Answer : In TensorFlow 2.0, the primary function of tf.function is to compile a Python function into a TensorFlow graph. This compilation process allows TensorFlow to optimize the function for better performance, particularly when it comes to execution speed and memory usage."
   ]
  },
  {
   "cell_type": "code",
   "execution_count": 1,
   "metadata": {},
   "outputs": [
    {
     "name": "stdout",
     "output_type": "stream",
     "text": [
      "tf.Tensor(5, shape=(), dtype=int32)\n"
     ]
    }
   ],
   "source": [
    "import tensorflow as tf\n",
    "\n",
    "@tf.function\n",
    "def add(x, y):\n",
    "    return x + y\n",
    "\n",
    "result = add(2, 3)\n",
    "print(result)"
   ]
  },
  {
   "cell_type": "markdown",
   "metadata": {},
   "source": [
    "Q4. What is the purpose of the Model class in TensorFlow 2.0?"
   ]
  },
  {
   "cell_type": "markdown",
   "metadata": {},
   "source": [
    "Answer : In TensorFlow 2.0, the Model class is a high-level API that provides a simple and intuitive way to build, train, and evaluate neural network models. The primary purpose of the Model class is to encapsulate the logic of a neural network model, making it easier to define, train, and use models."
   ]
  },
  {
   "cell_type": "markdown",
   "metadata": {},
   "source": [
    "Q5. How do you create a neural network using TensorFlow 2.0?"
   ]
  },
  {
   "cell_type": "markdown",
   "metadata": {},
   "source": [
    "Answer :  Create a Neural Network Follow some Step:\n",
    "1. Import necessary libraries: Import the necessary libraries, including tensorflow and any other libraries you may need, such as numpy or matplotlib.\n",
    "2. Prepare the data: Prepare the data you want to use to train the neural network. This may involve loading the data, preprocessing it, and splitting it into training and testing sets.\n",
    "3. Define the model architecture: Define the architecture of the neural network, including the number of layers, the type of layers, and the number of neurons in each layer.\n",
    "4. Compile the model: Compile the model, specifying the loss function, optimizer, and evaluation metrics.\n",
    "5. Train the model: Train the model using the training data.\n",
    "6. Evaluate the model: Evaluate the model using the testing data."
   ]
  },
  {
   "cell_type": "markdown",
   "metadata": {},
   "source": [
    "Q6. What is the importance of Tensor Space in TensorFlow."
   ]
  },
  {
   "cell_type": "markdown",
   "metadata": {},
   "source": [
    "Answer : In TensorFlow, the tensor space is a fundamental concept that plays a crucial role in the development of Deep learning models. A tensor is a multi-dimensional array of numerical values, and the tensor space refers to the set of all possible tensors that can be represented in a particular format.\n",
    "1. Representation of Data\n",
    "2. Linear Algebra Operations\n",
    "3. Gradient Computations\n",
    "4. Optimization Algorithms\n",
    "5. Distributed Computing"
   ]
  },
  {
   "cell_type": "markdown",
   "metadata": {},
   "source": [
    "Q7.  How can TensorBoard be integrated with TensorFlow 2.0?"
   ]
  },
  {
   "cell_type": "markdown",
   "metadata": {},
   "source": [
    "Answer : TensorBoard is a visualization tool that can be used to visualize the performance of a TensorFlow model during training and testing. Integrating TensorBoard with TensorFlow 2.0 can be done in several ways:\n",
    "\n",
    "Method 1: Using the tf.summary module\n",
    "\n",
    "TensorFlow 2.0 provides the tf.summary module, which allows you to write summary data to a log directory. TensorBoard can then be used to visualize this data.\n",
    "\n",
    "Method 2: Using the tf.keras.callbacks module\n",
    "\n",
    "TensorFlow 2.0 provides the tf.keras.callbacks module, which allows you to define custom callbacks that can be used to write summary data to a log directory."
   ]
  },
  {
   "cell_type": "markdown",
   "metadata": {},
   "source": [
    "Q8. What is the purpose of TensorFlow Playground?"
   ]
  },
  {
   "cell_type": "markdown",
   "metadata": {},
   "source": [
    "Answer : TensorFlow Playground is a web-based interactive environment for experimenting with neural networks and deep learning models. The purpose of TensorFlow Playground is to provide a simple and intuitive way for users to explore and understand the basics of neural networks and deep learning."
   ]
  },
  {
   "cell_type": "markdown",
   "metadata": {},
   "source": [
    "Q9. What is Netron, and how is it useful for deep learning models?"
   ]
  },
  {
   "cell_type": "markdown",
   "metadata": {},
   "source": [
    "Answer : Netron is a viewer for neural network models, allowing users to visualize and explore the architecture of their models. It supports a wide range of model formats, including TensorFlow, PyTorch, and ONNX, among others.\n",
    "1. Visualizing Complex Models\n",
    "2. Optimizing Model Performance\n",
    "3. Comparing Different Models\n",
    "4. Deploying Models on Different Platforms\n",
    "5. Educating Students and Researchers"
   ]
  },
  {
   "cell_type": "markdown",
   "metadata": {},
   "source": [
    "Q10. What is the difference between TensorFlow and PyTorch?"
   ]
  },
  {
   "cell_type": "markdown",
   "metadata": {},
   "source": [
    "Answer : TensorFlow and PyTorch are both powerful, open-source deep learning frameworks, but they differ in their approach, with TensorFlow favoring a static graph for production and PyTorch offering a dynamic graph for research and rapid prototyping"
   ]
  },
  {
   "cell_type": "markdown",
   "metadata": {},
   "source": [
    "Q11. How do you install PyTorch?"
   ]
  },
  {
   "cell_type": "markdown",
   "metadata": {},
   "source": [
    "Answer : Method 1: Using pip\n",
    "\n",
    "1. Open a terminal or command prompt: On Windows, you can press Win + R to open the Run dialog, type cmd, and press Enter. On macOS or Linux, you can use Spotlight or the Terminal app.\n",
    "2. Update pip: Run the command pip install --upgrade pip to ensure you have the latest version of pip.\n",
    "3. Install PyTorch: Run the command pip install torch torchvision to install PyTorch and TorchVision.\n",
    "\n",
    "Method 2: Using conda\n",
    "\n",
    "1. Install Anaconda or Miniconda: If you haven't already, download and install Anaconda or Miniconda from the official website.\n",
    "2. Create a new environment: Run the command conda create --n pytorch to create a new environment named pytorch.\n",
    "3. Activate the environment: Run the command conda activate pytorch to activate the environment.\n",
    "4. Install PyTorch: Run the command conda install pytorch torchvision cpuonly -c pytorch to install PyTorch and TorchVision."
   ]
  },
  {
   "cell_type": "markdown",
   "metadata": {},
   "source": [
    "Q12. What is the basic structure of a PyTorch neural network?"
   ]
  },
  {
   "cell_type": "markdown",
   "metadata": {},
   "source": [
    "Answer : The basic structure of a PyTorch neural network consists of the following components:\n",
    "\n",
    "1. Importing necessary libraries\n",
    "2. Defining the neural network architecture\n",
    "3. Initializing the neural network\n",
    "4. Defining the loss function and optimizer\n",
    "5. Training the neural network\n",
    "\n",
    "Components of a PyTorch neural network\n",
    "\n",
    "Modules > Layers > Activation functions > Loss functions > Optimizers"
   ]
  },
  {
   "cell_type": "markdown",
   "metadata": {},
   "source": [
    "Q13. What is the significance of tensors in PyTorch?"
   ]
  },
  {
   "cell_type": "markdown",
   "metadata": {},
   "source": [
    "Answer : Tensors are a fundamental data structure in PyTorch, and they play a crucial role in the development of neural networks and deep learning models.\n",
    "Significance of tensors in PyTorch:\n",
    "1. Efficient computation\n",
    "2. Flexible data structure\n",
    "3. Automatic differentiation\n",
    "4. GPU acceleration:"
   ]
  },
  {
   "cell_type": "markdown",
   "metadata": {},
   "source": [
    "Q14. What is the difference between torch.Tensor and torch.cuda.Tensor in PyTorch?"
   ]
  },
  {
   "cell_type": "markdown",
   "metadata": {},
   "source": [
    "Answer : In PyTorch, torch.Tensor and torch.cuda.Tensor are two types of tensors that differ in their storage location and computational device.\n",
    "\n",
    "torch.Tensor\n",
    "\n",
    "torch.Tensor is a tensor that is stored on the CPU (Central Processing Unit) and is computed on the CPU. This is the default tensor type in PyTorch, and it is suitable for most use cases, especially when working with small to medium-sized datasets.\n",
    "\n",
    "torch.cuda.Tensor\n",
    "\n",
    "torch.cuda.Tensor is a tensor that is stored on the GPU (Graphics Processing Unit) and is computed on the GPU. This tensor type is suitable for large-scale deep learning computations that require significant computational power and memory."
   ]
  },
  {
   "cell_type": "markdown",
   "metadata": {},
   "source": [
    "Q15.  What is the purpose of the torch.optim module in PyTorch?"
   ]
  },
  {
   "cell_type": "markdown",
   "metadata": {},
   "source": [
    "Answer : The torch.optim module in PyTorch is a collection of optimization algorithms that are used to update the model's parameters during training. The purpose of this module is to provide a variety of optimization algorithms that can be used to minimize the loss function and optimize the model's performance."
   ]
  },
  {
   "cell_type": "markdown",
   "metadata": {},
   "source": [
    "Q16. What are some common activation functions used in neural networks?"
   ]
  },
  {
   "cell_type": "markdown",
   "metadata": {},
   "source": [
    "Answer : \n",
    "1. ReLU (Rectified Linear Unit)\n",
    "2. Sigmoid\n",
    "3. Tanh (Hyperbolic Tangent)\n",
    "4. Leaky ReLU\n",
    "5. Softmax\n"
   ]
  },
  {
   "cell_type": "markdown",
   "metadata": {},
   "source": [
    "Q17. What is the difference between torch.nn.Module and torch.nn.Sequential in PyTorch?"
   ]
  },
  {
   "cell_type": "markdown",
   "metadata": {},
   "source": [
    "Answer : In PyTorch, torch.nn.Module and torch.nn.Sequential are both used to build neural networks, but they serve different purposes and offer varying levels of flexibility. Here's a breakdown of their differences:\n",
    "1. torch.nn.Module : The base class for all neural network modules. Every neural network, layer, or custom component in PyTorch must inherit from Module. It provides the foundational structure for defining parameters and sub-modules.\n",
    "\n",
    "2. torch.nn.Sequential : A convenience class that allows you to stack layers sequentially. It is a subclass of Module and simplifies building simple, linear networks."
   ]
  },
  {
   "cell_type": "markdown",
   "metadata": {},
   "source": [
    "Q18. How can you monitor training progress in TensorFlow 2.0?"
   ]
  },
  {
   "cell_type": "markdown",
   "metadata": {},
   "source": [
    "Answer : In TensorFlow 2.0, monitoring training progress is essential for tracking metrics, visualizing performance, and making adjustments during training.\n",
    "\n",
    "1. Using tf.keras.callbacks.TensorBoard\n",
    "2. Built-in Callbacks for Monitoring\n",
    "3. Custom Callbacks for Customized Monitoring\n",
    "4. Real-Time Progress Bar : The default model.fit() includes a progress bar (when verbose=1). Adjust the verbose parameter for different outputs"
   ]
  },
  {
   "cell_type": "markdown",
   "metadata": {},
   "source": [
    "Q19. How does the Keras API fit into TensorFlow 2.0?"
   ]
  },
  {
   "cell_type": "markdown",
   "metadata": {},
   "source": [
    "Answer : In TensorFlow 2.0, the Keras API is the official high-level API for building and training models. It is deeply integrated into TensorFlow and serves as the primary interface for most users. Here's a detailed breakdown of how Keras fits into TensorFlow 2.0 and its role in the ecosystem:\n",
    "The Keras API is now native to TensorFlow and is accessible via tf.keras. It provides a user-friendly, modular interface for building and training models while leveraging TensorFlow’s backend for performance and scalability."
   ]
  },
  {
   "cell_type": "markdown",
   "metadata": {},
   "source": [
    "Q20.  What is an example of a deep learning project that can be implemented using TensorFlow 2.0?"
   ]
  },
  {
   "cell_type": "markdown",
   "metadata": {},
   "source": [
    "Answer : A compelling deep learning project using TensorFlow 2.0 could be building a Convolutional Neural Network (CNN) for image classification, specifically focusing on classifying images of cats versus dogs. This project is beginner-friendly and allows for hands-on experience with image processing and model building"
   ]
  },
  {
   "cell_type": "markdown",
   "metadata": {},
   "source": [
    "Q21. What is the main advantage of using pre-trained models in TensorFlow and PyTorch?"
   ]
  },
  {
   "cell_type": "markdown",
   "metadata": {},
   "source": [
    "Answer : The primary advantage of using pre-trained models in TensorFlow and PyTorch is significantly reduced development time and resource requirements, as they provide a head start by leveraging knowledge acquired during extensive pre-training on large datasets, allowing for faster and more efficient model developmen\n",
    "1. Reduced Development Time and Effort\n",
    "2. Improved Performance\n",
    "3. Transfer Learning\n",
    "4. Resource Efficiency\n",
    "5. State-of-the-Art Performance\n",
    "6. Flexibility\n",
    "7. Libraries and Frameworks"
   ]
  },
  {
   "cell_type": "markdown",
   "metadata": {},
   "source": [
    "                                                    Practical"
   ]
  },
  {
   "cell_type": "markdown",
   "metadata": {},
   "source": [
    "1. How do you install and verify that TensorFlow 2.0 was installed successfully."
   ]
  },
  {
   "cell_type": "code",
   "execution_count": 1,
   "metadata": {},
   "outputs": [
    {
     "name": "stdout",
     "output_type": "stream",
     "text": [
      "Requirement already satisfied: tensorflow in c:\\users\\heart\\anaconda3\\envs\\virual\\lib\\site-packages (2.10.0)\n",
      "Requirement already satisfied: absl-py>=1.0.0 in c:\\users\\heart\\anaconda3\\envs\\virual\\lib\\site-packages (from tensorflow) (2.1.0)\n",
      "Requirement already satisfied: astunparse>=1.6.0 in c:\\users\\heart\\anaconda3\\envs\\virual\\lib\\site-packages (from tensorflow) (1.6.3)\n",
      "Requirement already satisfied: flatbuffers>=2.0 in c:\\users\\heart\\anaconda3\\envs\\virual\\lib\\site-packages (from tensorflow) (24.3.25)\n",
      "Requirement already satisfied: gast<=0.4.0,>=0.2.1 in c:\\users\\heart\\anaconda3\\envs\\virual\\lib\\site-packages (from tensorflow) (0.4.0)\n",
      "Requirement already satisfied: google-pasta>=0.1.1 in c:\\users\\heart\\anaconda3\\envs\\virual\\lib\\site-packages (from tensorflow) (0.2.0)\n",
      "Requirement already satisfied: h5py>=2.9.0 in c:\\users\\heart\\anaconda3\\envs\\virual\\lib\\site-packages (from tensorflow) (3.11.0)\n",
      "Requirement already satisfied: keras-preprocessing>=1.1.1 in c:\\users\\heart\\anaconda3\\envs\\virual\\lib\\site-packages (from tensorflow) (1.1.2)\n",
      "Collecting libclang>=13.0.0 (from tensorflow)\n",
      "  Using cached libclang-18.1.1-py2.py3-none-win_amd64.whl.metadata (5.3 kB)\n",
      "Requirement already satisfied: numpy>=1.20 in c:\\users\\heart\\anaconda3\\envs\\virual\\lib\\site-packages (from tensorflow) (1.24.3)\n",
      "Requirement already satisfied: opt-einsum>=2.3.2 in c:\\users\\heart\\anaconda3\\envs\\virual\\lib\\site-packages (from tensorflow) (3.3.0)\n",
      "Requirement already satisfied: packaging in c:\\users\\heart\\anaconda3\\envs\\virual\\lib\\site-packages (from tensorflow) (24.1)\n",
      "Collecting protobuf<3.20,>=3.9.2 (from tensorflow)\n",
      "  Downloading protobuf-3.19.6-cp38-cp38-win_amd64.whl.metadata (807 bytes)\n",
      "Requirement already satisfied: setuptools in c:\\users\\heart\\anaconda3\\envs\\virual\\lib\\site-packages (from tensorflow) (75.1.0)\n",
      "Requirement already satisfied: six>=1.12.0 in c:\\users\\heart\\anaconda3\\envs\\virual\\lib\\site-packages (from tensorflow) (1.16.0)\n",
      "Requirement already satisfied: termcolor>=1.1.0 in c:\\users\\heart\\anaconda3\\envs\\virual\\lib\\site-packages (from tensorflow) (2.1.0)\n",
      "Requirement already satisfied: typing-extensions>=3.6.6 in c:\\users\\heart\\anaconda3\\envs\\virual\\lib\\site-packages (from tensorflow) (4.11.0)\n",
      "Requirement already satisfied: wrapt>=1.11.0 in c:\\users\\heart\\anaconda3\\envs\\virual\\lib\\site-packages (from tensorflow) (1.14.1)\n",
      "Collecting tensorflow-io-gcs-filesystem>=0.23.1 (from tensorflow)\n",
      "  Downloading tensorflow_io_gcs_filesystem-0.31.0-cp38-cp38-win_amd64.whl.metadata (14 kB)\n",
      "Requirement already satisfied: grpcio<2.0,>=1.24.3 in c:\\users\\heart\\anaconda3\\envs\\virual\\lib\\site-packages (from tensorflow) (1.48.2)\n",
      "Requirement already satisfied: tensorboard<2.11,>=2.10 in c:\\users\\heart\\anaconda3\\envs\\virual\\lib\\site-packages (from tensorflow) (2.10.0)\n",
      "Requirement already satisfied: tensorflow-estimator<2.11,>=2.10.0 in c:\\users\\heart\\anaconda3\\envs\\virual\\lib\\site-packages (from tensorflow) (2.10.0)\n",
      "Requirement already satisfied: keras<2.11,>=2.10.0 in c:\\users\\heart\\anaconda3\\envs\\virual\\lib\\site-packages (from tensorflow) (2.10.0)\n",
      "Requirement already satisfied: wheel<1.0,>=0.23.0 in c:\\users\\heart\\anaconda3\\envs\\virual\\lib\\site-packages (from astunparse>=1.6.0->tensorflow) (0.44.0)\n",
      "Requirement already satisfied: google-auth<3,>=1.6.3 in c:\\users\\heart\\anaconda3\\envs\\virual\\lib\\site-packages (from tensorboard<2.11,>=2.10->tensorflow) (2.29.0)\n",
      "Requirement already satisfied: google-auth-oauthlib<0.5,>=0.4.1 in c:\\users\\heart\\anaconda3\\envs\\virual\\lib\\site-packages (from tensorboard<2.11,>=2.10->tensorflow) (0.4.4)\n",
      "Requirement already satisfied: markdown>=2.6.8 in c:\\users\\heart\\anaconda3\\envs\\virual\\lib\\site-packages (from tensorboard<2.11,>=2.10->tensorflow) (3.4.1)\n",
      "Requirement already satisfied: requests<3,>=2.21.0 in c:\\users\\heart\\anaconda3\\envs\\virual\\lib\\site-packages (from tensorboard<2.11,>=2.10->tensorflow) (2.32.3)\n",
      "Requirement already satisfied: tensorboard-data-server<0.7.0,>=0.6.0 in c:\\users\\heart\\anaconda3\\envs\\virual\\lib\\site-packages (from tensorboard<2.11,>=2.10->tensorflow) (0.6.1)\n",
      "Requirement already satisfied: tensorboard-plugin-wit>=1.6.0 in c:\\users\\heart\\anaconda3\\envs\\virual\\lib\\site-packages (from tensorboard<2.11,>=2.10->tensorflow) (1.8.1)\n",
      "Requirement already satisfied: werkzeug>=1.0.1 in c:\\users\\heart\\anaconda3\\envs\\virual\\lib\\site-packages (from tensorboard<2.11,>=2.10->tensorflow) (3.0.3)\n",
      "Requirement already satisfied: cachetools<6.0,>=2.0.0 in c:\\users\\heart\\anaconda3\\envs\\virual\\lib\\site-packages (from google-auth<3,>=1.6.3->tensorboard<2.11,>=2.10->tensorflow) (5.3.3)\n",
      "Requirement already satisfied: pyasn1-modules>=0.2.1 in c:\\users\\heart\\anaconda3\\envs\\virual\\lib\\site-packages (from google-auth<3,>=1.6.3->tensorboard<2.11,>=2.10->tensorflow) (0.2.8)\n",
      "Requirement already satisfied: rsa<5,>=3.1.4 in c:\\users\\heart\\anaconda3\\envs\\virual\\lib\\site-packages (from google-auth<3,>=1.6.3->tensorboard<2.11,>=2.10->tensorflow) (4.7.2)\n",
      "Requirement already satisfied: requests-oauthlib>=0.7.0 in c:\\users\\heart\\anaconda3\\envs\\virual\\lib\\site-packages (from google-auth-oauthlib<0.5,>=0.4.1->tensorboard<2.11,>=2.10->tensorflow) (2.0.0)\n",
      "Requirement already satisfied: importlib-metadata>=4.4 in c:\\users\\heart\\anaconda3\\envs\\virual\\lib\\site-packages (from markdown>=2.6.8->tensorboard<2.11,>=2.10->tensorflow) (7.0.1)\n",
      "Requirement already satisfied: charset-normalizer<4,>=2 in c:\\users\\heart\\anaconda3\\envs\\virual\\lib\\site-packages (from requests<3,>=2.21.0->tensorboard<2.11,>=2.10->tensorflow) (3.3.2)\n",
      "Requirement already satisfied: idna<4,>=2.5 in c:\\users\\heart\\anaconda3\\envs\\virual\\lib\\site-packages (from requests<3,>=2.21.0->tensorboard<2.11,>=2.10->tensorflow) (3.7)\n",
      "Requirement already satisfied: urllib3<3,>=1.21.1 in c:\\users\\heart\\anaconda3\\envs\\virual\\lib\\site-packages (from requests<3,>=2.21.0->tensorboard<2.11,>=2.10->tensorflow) (2.2.3)\n",
      "Requirement already satisfied: certifi>=2017.4.17 in c:\\users\\heart\\anaconda3\\envs\\virual\\lib\\site-packages (from requests<3,>=2.21.0->tensorboard<2.11,>=2.10->tensorflow) (2024.8.30)\n",
      "Requirement already satisfied: MarkupSafe>=2.1.1 in c:\\users\\heart\\anaconda3\\envs\\virual\\lib\\site-packages (from werkzeug>=1.0.1->tensorboard<2.11,>=2.10->tensorflow) (2.1.3)\n",
      "Requirement already satisfied: zipp>=0.5 in c:\\users\\heart\\anaconda3\\envs\\virual\\lib\\site-packages (from importlib-metadata>=4.4->markdown>=2.6.8->tensorboard<2.11,>=2.10->tensorflow) (3.20.2)\n",
      "Requirement already satisfied: pyasn1<0.5.0,>=0.4.6 in c:\\users\\heart\\anaconda3\\envs\\virual\\lib\\site-packages (from pyasn1-modules>=0.2.1->google-auth<3,>=1.6.3->tensorboard<2.11,>=2.10->tensorflow) (0.4.8)\n",
      "Requirement already satisfied: oauthlib>=3.0.0 in c:\\users\\heart\\anaconda3\\envs\\virual\\lib\\site-packages (from requests-oauthlib>=0.7.0->google-auth-oauthlib<0.5,>=0.4.1->tensorboard<2.11,>=2.10->tensorflow) (3.2.2)\n",
      "Using cached libclang-18.1.1-py2.py3-none-win_amd64.whl (26.4 MB)\n",
      "Downloading protobuf-3.19.6-cp38-cp38-win_amd64.whl (896 kB)\n",
      "   ---------------------------------------- 0.0/896.1 kB ? eta -:--:--\n",
      "   ---------------------------------------- 0.0/896.1 kB ? eta -:--:--\n",
      "   ----------- ---------------------------- 262.1/896.1 kB ? eta -:--:--\n",
      "   ---------------------- --------------- 524.3/896.1 kB 882.6 kB/s eta 0:00:01\n",
      "   ---------------------- --------------- 524.3/896.1 kB 882.6 kB/s eta 0:00:01\n",
      "   --------------------------------- ---- 786.4/896.1 kB 671.3 kB/s eta 0:00:01\n",
      "   -------------------------------------- 896.1/896.1 kB 665.2 kB/s eta 0:00:00\n",
      "Downloading tensorflow_io_gcs_filesystem-0.31.0-cp38-cp38-win_amd64.whl (1.5 MB)\n",
      "   ---------------------------------------- 0.0/1.5 MB ? eta -:--:--\n",
      "   ---------------------------------------- 0.0/1.5 MB ? eta -:--:--\n",
      "   ------- -------------------------------- 0.3/1.5 MB ? eta -:--:--\n",
      "   -------------- ------------------------- 0.5/1.5 MB 1.0 MB/s eta 0:00:01\n",
      "   --------------------- ------------------ 0.8/1.5 MB 1.0 MB/s eta 0:00:01\n",
      "   --------------------- ------------------ 0.8/1.5 MB 1.0 MB/s eta 0:00:01\n",
      "   ---------------------------- ----------- 1.0/1.5 MB 931.8 kB/s eta 0:00:01\n",
      "   ---------------------------- ----------- 1.0/1.5 MB 931.8 kB/s eta 0:00:01\n",
      "   ----------------------------------- ---- 1.3/1.5 MB 838.9 kB/s eta 0:00:01\n",
      "   ---------------------------------------- 1.5/1.5 MB 851.9 kB/s eta 0:00:00\n",
      "Installing collected packages: libclang, tensorflow-io-gcs-filesystem, protobuf\n",
      "  Attempting uninstall: protobuf\n",
      "    Found existing installation: protobuf 3.20.3\n",
      "    Uninstalling protobuf-3.20.3:\n",
      "      Successfully uninstalled protobuf-3.20.3\n",
      "Successfully installed libclang-18.1.1 protobuf-3.19.6 tensorflow-io-gcs-filesystem-0.31.0\n"
     ]
    }
   ],
   "source": [
    "! pip install tensorflow"
   ]
  },
  {
   "cell_type": "code",
   "execution_count": 3,
   "metadata": {},
   "outputs": [
    {
     "name": "stdout",
     "output_type": "stream",
     "text": [
      "TensorFlow version: 2.10.0\n",
      "Eager execution enabled: True\n"
     ]
    }
   ],
   "source": [
    "# Verify Installation\n",
    "import tensorflow as tf\n",
    "\n",
    "print(\"TensorFlow version:\", tf.__version__)\n",
    "print(\"Eager execution enabled:\", tf.executing_eagerly())"
   ]
  },
  {
   "cell_type": "markdown",
   "metadata": {},
   "source": [
    "2.  How can you define a simple function in TensorFlow 2.0 to perform addition."
   ]
  },
  {
   "cell_type": "code",
   "execution_count": 5,
   "metadata": {},
   "outputs": [
    {
     "name": "stdout",
     "output_type": "stream",
     "text": [
      "Result: [6 8]\n"
     ]
    }
   ],
   "source": [
    "import tensorflow as tf\n",
    "\n",
    "def add_tensors(a, b):\n",
    "    return a + b \n",
    "\n",
    "# Create tensors\n",
    "tensor1 = tf.constant([2, 3])\n",
    "tensor2 = tf.constant([4, 5])\n",
    "\n",
    "# Perform addition\n",
    "result = add_tensors(tensor1, tensor2)\n",
    "print(\"Result:\", result.numpy())"
   ]
  },
  {
   "cell_type": "markdown",
   "metadata": {},
   "source": [
    "3. How can you create a simple neural network in TensorFlow 2.0 with one hidden layer."
   ]
  },
  {
   "cell_type": "code",
   "execution_count": 2,
   "metadata": {},
   "outputs": [
    {
     "name": "stdout",
     "output_type": "stream",
     "text": [
      "Model: \"sequential\"\n",
      "_________________________________________________________________\n",
      " Layer (type)                Output Shape              Param #   \n",
      "=================================================================\n",
      " dense (Dense)               (None, 128)               100480    \n",
      "                                                                 \n",
      " dense_1 (Dense)             (None, 10)                1290      \n",
      "                                                                 \n",
      "=================================================================\n",
      "Total params: 101,770\n",
      "Trainable params: 101,770\n",
      "Non-trainable params: 0\n",
      "_________________________________________________________________\n",
      "Epoch 1/5\n",
      "1500/1500 [==============================] - 16s 9ms/step - loss: 0.2918 - accuracy: 0.9175 - val_loss: 0.1604 - val_accuracy: 0.9565\n",
      "Epoch 2/5\n",
      "1500/1500 [==============================] - 16s 11ms/step - loss: 0.1315 - accuracy: 0.9619 - val_loss: 0.1225 - val_accuracy: 0.9638\n",
      "Epoch 3/5\n",
      "1500/1500 [==============================] - 16s 11ms/step - loss: 0.0895 - accuracy: 0.9732 - val_loss: 0.1018 - val_accuracy: 0.9705\n",
      "Epoch 4/5\n",
      "1500/1500 [==============================] - 11s 7ms/step - loss: 0.0656 - accuracy: 0.9804 - val_loss: 0.0987 - val_accuracy: 0.9698\n",
      "Epoch 5/5\n",
      "1500/1500 [==============================] - 11s 7ms/step - loss: 0.0506 - accuracy: 0.9849 - val_loss: 0.0931 - val_accuracy: 0.9726\n",
      "313/313 - 2s - loss: 0.0836 - accuracy: 0.9748 - 2s/epoch - 5ms/step\n",
      "\n",
      "Test accuracy: 0.975\n"
     ]
    }
   ],
   "source": [
    "import tensorflow as tf\n",
    "from tensorflow.keras import layers, models, datasets\n",
    "\n",
    "(train_images, train_labels), (test_images, test_labels) = datasets.mnist.load_data()\n",
    "\n",
    "# Preprocess data\n",
    "train_images = train_images.reshape(-1, 784).astype('float32') / 255\n",
    "test_images = test_images.reshape(-1, 784).astype('float32') / 255\n",
    "\n",
    "model = models.Sequential([\n",
    "    layers.Dense(128, activation='relu', input_shape=(784,)),\n",
    "    layers.Dense(10)\n",
    "])\n",
    "\n",
    "model.summary()\n",
    "\n",
    "model.compile(\n",
    "    optimizer='adam',\n",
    "    loss=tf.keras.losses.SparseCategoricalCrossentropy(from_logits=True),\n",
    "    metrics=['accuracy']\n",
    ")\n",
    "\n",
    "history = model.fit(\n",
    "    train_images, train_labels,\n",
    "    epochs=5,\n",
    "    batch_size=32,\n",
    "    validation_split=0.2,\n",
    "    verbose=1\n",
    ")\n",
    "\n",
    "test_loss, test_acc = model.evaluate(test_images, test_labels, verbose=2)\n",
    "print(f'\\nTest accuracy: {test_acc:.3f}')"
   ]
  },
  {
   "cell_type": "markdown",
   "metadata": {},
   "source": [
    "4.  How can you visualize the training progress using TensorFlow and Matplotlib."
   ]
  },
  {
   "cell_type": "code",
   "execution_count": 3,
   "metadata": {},
   "outputs": [
    {
     "data": {
      "image/png": "[encoded data removed]",
      "text/plain": [
       "<Figure size 1200x600 with 2 Axes>"
      ]
     },
     "metadata": {},
     "output_type": "display_data"
    }
   ],
   "source": [
    "import matplotlib.pyplot as plt\n",
    "\n",
    "# Visualize training history\n",
    "# Plotting training & validation accuracy\n",
    "plt.figure(figsize=(12, 6))\n",
    "\n",
    "# Plot accuracy\n",
    "plt.subplot(1, 2, 1)\n",
    "plt.plot(history.history['accuracy'], label='Training Accuracy')\n",
    "plt.plot(history.history['val_accuracy'], label='Validation Accuracy')\n",
    "plt.title('Training and Validation Accuracy')\n",
    "plt.xlabel('Epochs')\n",
    "plt.ylabel('Accuracy')\n",
    "plt.legend()\n",
    "\n",
    "# Plot loss\n",
    "plt.subplot(1, 2, 2)\n",
    "plt.plot(history.history['loss'], label='Training Loss')\n",
    "plt.plot(history.history['val_loss'], label='Validation Loss')\n",
    "plt.title('Training and Validation Loss')\n",
    "plt.xlabel('Epochs')\n",
    "plt.ylabel('Loss')\n",
    "plt.legend()\n",
    "\n",
    "# Show plots\n",
    "plt.tight_layout()\n",
    "plt.show()"
   ]
  },
  {
   "cell_type": "markdown",
   "metadata": {},
   "source": [
    "5. How do you install PyTorch and verify the PyTorch installation."
   ]
  },
  {
   "cell_type": "code",
   "execution_count": 4,
   "metadata": {},
   "outputs": [
    {
     "name": "stdout",
     "output_type": "stream",
     "text": [
      "Collecting torch\n",
      "  Downloading torch-2.4.1-cp38-cp38-win_amd64.whl.metadata (27 kB)\n",
      "Collecting filelock (from torch)\n",
      "  Downloading filelock-3.16.1-py3-none-any.whl.metadata (2.9 kB)\n",
      "Requirement already satisfied: typing-extensions>=4.8.0 in c:\\users\\heart\\anaconda3\\envs\\virual\\lib\\site-packages (from torch) (4.11.0)\n",
      "Collecting sympy (from torch)\n",
      "  Downloading sympy-1.13.3-py3-none-any.whl.metadata (12 kB)\n",
      "Collecting networkx (from torch)\n",
      "  Downloading networkx-3.1-py3-none-any.whl.metadata (5.3 kB)\n",
      "Collecting jinja2 (from torch)\n",
      "  Using cached jinja2-3.1.6-py3-none-any.whl.metadata (2.9 kB)\n",
      "Collecting fsspec (from torch)\n",
      "  Using cached fsspec-2025.3.0-py3-none-any.whl.metadata (11 kB)\n",
      "Requirement already satisfied: MarkupSafe>=2.0 in c:\\users\\heart\\anaconda3\\envs\\virual\\lib\\site-packages (from jinja2->torch) (2.1.3)\n",
      "Collecting mpmath<1.4,>=1.1.0 (from sympy->torch)\n",
      "  Using cached mpmath-1.3.0-py3-none-any.whl.metadata (8.6 kB)\n",
      "Downloading torch-2.4.1-cp38-cp38-win_amd64.whl (199.4 MB)\n",
      "   ---------------------------------------- 0.0/199.4 MB ? eta -:--:--\n",
      "   ---------------------------------------- 0.0/199.4 MB ? eta -:--:--\n",
      "   ---------------------------------------- 0.3/199.4 MB ? eta -:--:--\n",
      "   ---------------------------------------- 0.5/199.4 MB 1.2 MB/s eta 0:02:46\n",
      "   ---------------------------------------- 0.8/199.4 MB 987.4 kB/s eta 0:03:22\n",
      "   ---------------------------------------- 1.0/199.4 MB 1.0 MB/s eta 0:03:10\n",
      "   ---------------------------------------- 1.3/199.4 MB 1.1 MB/s eta 0:03:03\n",
      "   ---------------------------------------- 1.6/199.4 MB 1.2 MB/s eta 0:02:50\n",
      "   ---------------------------------------- 1.8/199.4 MB 1.2 MB/s eta 0:02:45\n",
      "   ---------------------------------------- 2.1/199.4 MB 1.2 MB/s eta 0:02:50\n",
      "   ---------------------------------------- 2.4/199.4 MB 1.2 MB/s eta 0:02:46\n",
      "    --------------------------------------- 2.6/199.4 MB 1.2 MB/s eta 0:02:50\n",
      "    --------------------------------------- 2.9/199.4 MB 1.2 MB/s eta 0:02:46\n",
      "    --------------------------------------- 3.1/199.4 MB 1.1 MB/s eta 0:02:52\n",
      "    --------------------------------------- 3.1/199.4 MB 1.1 MB/s eta 0:02:52\n",
      "    --------------------------------------- 3.4/199.4 MB 1.1 MB/s eta 0:03:00\n",
      "    --------------------------------------- 3.7/199.4 MB 1.1 MB/s eta 0:03:04\n",
      "    --------------------------------------- 3.7/199.4 MB 1.1 MB/s eta 0:03:04\n",
      "    --------------------------------------- 3.9/199.4 MB 1.0 MB/s eta 0:03:11\n",
      "    --------------------------------------- 4.2/199.4 MB 1.0 MB/s eta 0:03:09\n",
      "    --------------------------------------- 4.5/199.4 MB 1.0 MB/s eta 0:03:09\n",
      "    --------------------------------------- 4.7/199.4 MB 1.0 MB/s eta 0:03:08\n",
      "    --------------------------------------- 5.0/199.4 MB 1.0 MB/s eta 0:03:06\n",
      "    --------------------------------------- 5.0/199.4 MB 1.0 MB/s eta 0:03:06\n",
      "   - -------------------------------------- 5.5/199.4 MB 1.1 MB/s eta 0:03:02\n",
      "   - -------------------------------------- 5.8/199.4 MB 1.1 MB/s eta 0:03:00\n",
      "   - -------------------------------------- 6.0/199.4 MB 1.1 MB/s eta 0:02:59\n",
      "   - -------------------------------------- 6.3/199.4 MB 1.1 MB/s eta 0:02:59\n",
      "   - -------------------------------------- 6.3/199.4 MB 1.1 MB/s eta 0:02:59\n",
      "   - -------------------------------------- 6.6/199.4 MB 1.1 MB/s eta 0:03:01\n",
      "   - -------------------------------------- 6.8/199.4 MB 1.1 MB/s eta 0:03:00\n",
      "   - -------------------------------------- 7.1/199.4 MB 1.1 MB/s eta 0:03:00\n",
      "   - -------------------------------------- 7.3/199.4 MB 1.1 MB/s eta 0:03:00\n",
      "   - -------------------------------------- 7.6/199.4 MB 1.1 MB/s eta 0:02:59\n",
      "   - -------------------------------------- 7.9/199.4 MB 1.1 MB/s eta 0:02:57\n",
      "   - -------------------------------------- 8.1/199.4 MB 1.1 MB/s eta 0:02:56\n",
      "   - -------------------------------------- 8.4/199.4 MB 1.1 MB/s eta 0:02:55\n",
      "   - -------------------------------------- 8.7/199.4 MB 1.1 MB/s eta 0:02:54\n",
      "   - -------------------------------------- 8.9/199.4 MB 1.1 MB/s eta 0:02:52\n",
      "   - -------------------------------------- 9.2/199.4 MB 1.1 MB/s eta 0:02:51\n",
      "   - -------------------------------------- 9.7/199.4 MB 1.1 MB/s eta 0:02:48\n",
      "   - -------------------------------------- 10.0/199.4 MB 1.1 MB/s eta 0:02:46\n",
      "   -- ------------------------------------- 10.2/199.4 MB 1.2 MB/s eta 0:02:44\n",
      "   -- ------------------------------------- 10.7/199.4 MB 1.2 MB/s eta 0:02:42\n",
      "   -- ------------------------------------- 11.3/199.4 MB 1.2 MB/s eta 0:02:37\n",
      "   -- ------------------------------------- 11.5/199.4 MB 1.2 MB/s eta 0:02:36\n",
      "   -- ------------------------------------- 11.8/199.4 MB 1.2 MB/s eta 0:02:35\n",
      "   -- ------------------------------------- 12.1/199.4 MB 1.2 MB/s eta 0:02:34\n",
      "   -- ------------------------------------- 12.3/199.4 MB 1.2 MB/s eta 0:02:33\n",
      "   -- ------------------------------------- 12.6/199.4 MB 1.2 MB/s eta 0:02:33\n",
      "   -- ------------------------------------- 13.1/199.4 MB 1.2 MB/s eta 0:02:32\n",
      "   -- ------------------------------------- 13.4/199.4 MB 1.2 MB/s eta 0:02:30\n",
      "   -- ------------------------------------- 13.6/199.4 MB 1.2 MB/s eta 0:02:30\n",
      "   -- ------------------------------------- 13.9/199.4 MB 1.2 MB/s eta 0:02:30\n",
      "   -- ------------------------------------- 14.4/199.4 MB 1.3 MB/s eta 0:02:27\n",
      "   -- ------------------------------------- 14.7/199.4 MB 1.3 MB/s eta 0:02:26\n",
      "   -- ------------------------------------- 14.9/199.4 MB 1.3 MB/s eta 0:02:25\n",
      "   --- ------------------------------------ 15.5/199.4 MB 1.3 MB/s eta 0:02:23\n",
      "   --- ------------------------------------ 15.7/199.4 MB 1.3 MB/s eta 0:02:22\n",
      "   --- ------------------------------------ 16.0/199.4 MB 1.3 MB/s eta 0:02:22\n",
      "   --- ------------------------------------ 16.5/199.4 MB 1.3 MB/s eta 0:02:21\n",
      "   --- ------------------------------------ 16.8/199.4 MB 1.3 MB/s eta 0:02:20\n",
      "   --- ------------------------------------ 17.0/199.4 MB 1.3 MB/s eta 0:02:20\n",
      "   --- ------------------------------------ 17.3/199.4 MB 1.3 MB/s eta 0:02:20\n",
      "   --- ------------------------------------ 17.6/199.4 MB 1.3 MB/s eta 0:02:21\n",
      "   --- ------------------------------------ 17.8/199.4 MB 1.3 MB/s eta 0:02:20\n",
      "   --- ------------------------------------ 18.1/199.4 MB 1.3 MB/s eta 0:02:21\n",
      "   --- ------------------------------------ 18.4/199.4 MB 1.3 MB/s eta 0:02:20\n",
      "   --- ------------------------------------ 18.9/199.4 MB 1.3 MB/s eta 0:02:18\n",
      "   --- ------------------------------------ 19.4/199.4 MB 1.3 MB/s eta 0:02:16\n",
      "   --- ------------------------------------ 19.7/199.4 MB 1.3 MB/s eta 0:02:16\n",
      "   ---- ----------------------------------- 20.2/199.4 MB 1.3 MB/s eta 0:02:14\n",
      "   ---- ----------------------------------- 20.4/199.4 MB 1.3 MB/s eta 0:02:14\n",
      "   ---- ----------------------------------- 21.0/199.4 MB 1.4 MB/s eta 0:02:12\n",
      "   ---- ----------------------------------- 21.5/199.4 MB 1.4 MB/s eta 0:02:11\n",
      "   ---- ----------------------------------- 21.8/199.4 MB 1.4 MB/s eta 0:02:11\n",
      "   ---- ----------------------------------- 22.0/199.4 MB 1.4 MB/s eta 0:02:10\n",
      "   ---- ----------------------------------- 22.5/199.4 MB 1.4 MB/s eta 0:02:09\n",
      "   ---- ----------------------------------- 23.1/199.4 MB 1.4 MB/s eta 0:02:08\n",
      "   ---- ----------------------------------- 23.3/199.4 MB 1.4 MB/s eta 0:02:07\n",
      "   ---- ----------------------------------- 23.6/199.4 MB 1.4 MB/s eta 0:02:07\n",
      "   ---- ----------------------------------- 24.1/199.4 MB 1.4 MB/s eta 0:02:05\n",
      "   ---- ----------------------------------- 24.6/199.4 MB 1.4 MB/s eta 0:02:04\n",
      "   ---- ----------------------------------- 24.9/199.4 MB 1.4 MB/s eta 0:02:04\n",
      "   ----- ---------------------------------- 25.4/199.4 MB 1.4 MB/s eta 0:02:03\n",
      "   ----- ---------------------------------- 26.0/199.4 MB 1.4 MB/s eta 0:02:01\n",
      "   ----- ---------------------------------- 26.5/199.4 MB 1.4 MB/s eta 0:02:00\n",
      "   ----- ---------------------------------- 27.0/199.4 MB 1.5 MB/s eta 0:01:59\n",
      "   ----- ---------------------------------- 27.5/199.4 MB 1.5 MB/s eta 0:01:57\n",
      "   ----- ---------------------------------- 28.3/199.4 MB 1.5 MB/s eta 0:01:55\n",
      "   ----- ---------------------------------- 28.8/199.4 MB 1.5 MB/s eta 0:01:54\n",
      "   ----- ---------------------------------- 29.1/199.4 MB 1.5 MB/s eta 0:01:54\n",
      "   ----- ---------------------------------- 29.9/199.4 MB 1.5 MB/s eta 0:01:52\n",
      "   ------ --------------------------------- 30.4/199.4 MB 1.5 MB/s eta 0:01:50\n",
      "   ------ --------------------------------- 31.2/199.4 MB 1.6 MB/s eta 0:01:48\n",
      "   ------ --------------------------------- 32.0/199.4 MB 1.6 MB/s eta 0:01:46\n",
      "   ------ --------------------------------- 32.5/199.4 MB 1.6 MB/s eta 0:01:45\n",
      "   ------ --------------------------------- 33.0/199.4 MB 1.6 MB/s eta 0:01:44\n",
      "   ------ --------------------------------- 33.8/199.4 MB 1.6 MB/s eta 0:01:43\n",
      "   ------ --------------------------------- 34.3/199.4 MB 1.6 MB/s eta 0:01:42\n",
      "   ------ --------------------------------- 34.6/199.4 MB 1.6 MB/s eta 0:01:41\n",
      "   ------- -------------------------------- 35.4/199.4 MB 1.6 MB/s eta 0:01:40\n",
      "   ------- -------------------------------- 35.9/199.4 MB 1.7 MB/s eta 0:01:39\n",
      "   ------- -------------------------------- 36.7/199.4 MB 1.7 MB/s eta 0:01:38\n",
      "   ------- -------------------------------- 37.2/199.4 MB 1.7 MB/s eta 0:01:37\n",
      "   ------- -------------------------------- 38.3/199.4 MB 1.7 MB/s eta 0:01:35\n",
      "   ------- -------------------------------- 38.8/199.4 MB 1.7 MB/s eta 0:01:34\n",
      "   ------- -------------------------------- 39.6/199.4 MB 1.7 MB/s eta 0:01:33\n",
      "   -------- ------------------------------- 40.1/199.4 MB 1.7 MB/s eta 0:01:32\n",
      "   -------- ------------------------------- 40.6/199.4 MB 1.8 MB/s eta 0:01:31\n",
      "   -------- ------------------------------- 41.2/199.4 MB 1.8 MB/s eta 0:01:30\n",
      "   -------- ------------------------------- 41.7/199.4 MB 1.8 MB/s eta 0:01:30\n",
      "   -------- ------------------------------- 41.9/199.4 MB 1.8 MB/s eta 0:01:30\n",
      "   -------- ------------------------------- 42.2/199.4 MB 1.8 MB/s eta 0:01:30\n",
      "   -------- ------------------------------- 43.0/199.4 MB 1.8 MB/s eta 0:01:29\n",
      "   -------- ------------------------------- 43.8/199.4 MB 1.8 MB/s eta 0:01:28\n",
      "   -------- ------------------------------- 44.6/199.4 MB 1.8 MB/s eta 0:01:26\n",
      "   --------- ------------------------------ 45.6/199.4 MB 1.8 MB/s eta 0:01:25\n",
      "   --------- ------------------------------ 46.1/199.4 MB 1.8 MB/s eta 0:01:24\n",
      "   --------- ------------------------------ 47.2/199.4 MB 1.9 MB/s eta 0:01:22\n",
      "   --------- ------------------------------ 48.2/199.4 MB 1.9 MB/s eta 0:01:21\n",
      "   --------- ------------------------------ 49.3/199.4 MB 1.9 MB/s eta 0:01:19\n",
      "   ---------- ----------------------------- 50.1/199.4 MB 1.9 MB/s eta 0:01:18\n",
      "   ---------- ----------------------------- 50.9/199.4 MB 1.9 MB/s eta 0:01:17\n",
      "   ---------- ----------------------------- 51.9/199.4 MB 2.0 MB/s eta 0:01:16\n",
      "   ---------- ----------------------------- 52.7/199.4 MB 2.0 MB/s eta 0:01:15\n",
      "   ---------- ----------------------------- 53.7/199.4 MB 2.0 MB/s eta 0:01:14\n",
      "   ---------- ----------------------------- 54.3/199.4 MB 2.0 MB/s eta 0:01:13\n",
      "   ----------- ---------------------------- 55.1/199.4 MB 2.0 MB/s eta 0:01:12\n",
      "   ----------- ---------------------------- 56.4/199.4 MB 2.0 MB/s eta 0:01:10\n",
      "   ----------- ---------------------------- 56.9/199.4 MB 2.1 MB/s eta 0:01:10\n",
      "   ----------- ---------------------------- 57.7/199.4 MB 2.1 MB/s eta 0:01:09\n",
      "   ----------- ---------------------------- 58.5/199.4 MB 2.1 MB/s eta 0:01:08\n",
      "   ----------- ---------------------------- 59.2/199.4 MB 2.1 MB/s eta 0:01:08\n",
      "   ----------- ---------------------------- 59.8/199.4 MB 2.1 MB/s eta 0:01:07\n",
      "   ------------ --------------------------- 60.6/199.4 MB 2.1 MB/s eta 0:01:07\n",
      "   ------------ --------------------------- 61.3/199.4 MB 2.1 MB/s eta 0:01:06\n",
      "   ------------ --------------------------- 62.1/199.4 MB 2.1 MB/s eta 0:01:05\n",
      "   ------------ --------------------------- 63.2/199.4 MB 2.1 MB/s eta 0:01:04\n",
      "   ------------ --------------------------- 63.7/199.4 MB 2.2 MB/s eta 0:01:04\n",
      "   ------------ --------------------------- 64.7/199.4 MB 2.2 MB/s eta 0:01:03\n",
      "   ------------- -------------------------- 65.0/199.4 MB 2.2 MB/s eta 0:01:03\n",
      "   ------------- -------------------------- 65.8/199.4 MB 2.2 MB/s eta 0:01:02\n",
      "   ------------- -------------------------- 66.6/199.4 MB 2.2 MB/s eta 0:01:01\n",
      "   ------------- -------------------------- 67.6/199.4 MB 2.2 MB/s eta 0:01:00\n",
      "   ------------- -------------------------- 68.4/199.4 MB 2.2 MB/s eta 0:00:59\n",
      "   ------------- -------------------------- 68.9/199.4 MB 2.3 MB/s eta 0:00:58\n",
      "   ------------- -------------------------- 69.7/199.4 MB 2.3 MB/s eta 0:00:58\n",
      "   -------------- ------------------------- 70.5/199.4 MB 2.3 MB/s eta 0:00:57\n",
      "   -------------- ------------------------- 71.3/199.4 MB 2.3 MB/s eta 0:00:56\n",
      "   -------------- ------------------------- 72.1/199.4 MB 2.3 MB/s eta 0:00:55\n",
      "   -------------- ------------------------- 73.1/199.4 MB 2.4 MB/s eta 0:00:54\n",
      "   -------------- ------------------------- 73.9/199.4 MB 2.4 MB/s eta 0:00:53\n",
      "   -------------- ------------------------- 74.7/199.4 MB 2.4 MB/s eta 0:00:53\n",
      "   --------------- ------------------------ 75.8/199.4 MB 2.4 MB/s eta 0:00:51\n",
      "   --------------- ------------------------ 76.3/199.4 MB 2.4 MB/s eta 0:00:51\n",
      "   --------------- ------------------------ 77.3/199.4 MB 2.5 MB/s eta 0:00:50\n",
      "   --------------- ------------------------ 78.1/199.4 MB 2.5 MB/s eta 0:00:49\n",
      "   --------------- ------------------------ 78.6/199.4 MB 2.5 MB/s eta 0:00:49\n",
      "   --------------- ------------------------ 79.2/199.4 MB 2.5 MB/s eta 0:00:48\n",
      "   --------------- ------------------------ 79.7/199.4 MB 2.5 MB/s eta 0:00:48\n",
      "   ---------------- ----------------------- 80.2/199.4 MB 2.5 MB/s eta 0:00:48\n",
      "   ---------------- ----------------------- 80.7/199.4 MB 2.5 MB/s eta 0:00:47\n",
      "   ---------------- ----------------------- 81.8/199.4 MB 2.6 MB/s eta 0:00:46\n",
      "   ---------------- ----------------------- 82.6/199.4 MB 2.6 MB/s eta 0:00:46\n",
      "   ---------------- ----------------------- 83.4/199.4 MB 2.6 MB/s eta 0:00:45\n",
      "   ---------------- ----------------------- 84.1/199.4 MB 2.6 MB/s eta 0:00:44\n",
      "   ----------------- ---------------------- 85.5/199.4 MB 2.7 MB/s eta 0:00:43\n",
      "   ----------------- ---------------------- 86.2/199.4 MB 2.7 MB/s eta 0:00:43\n",
      "   ----------------- ---------------------- 87.3/199.4 MB 2.7 MB/s eta 0:00:42\n",
      "   ----------------- ---------------------- 88.3/199.4 MB 2.7 MB/s eta 0:00:41\n",
      "   ----------------- ---------------------- 89.4/199.4 MB 2.8 MB/s eta 0:00:41\n",
      "   ------------------ --------------------- 90.7/199.4 MB 2.8 MB/s eta 0:00:40\n",
      "   ------------------ --------------------- 91.8/199.4 MB 2.8 MB/s eta 0:00:39\n",
      "   ------------------ --------------------- 92.5/199.4 MB 2.8 MB/s eta 0:00:38\n",
      "   ------------------ --------------------- 93.3/199.4 MB 2.9 MB/s eta 0:00:38\n",
      "   ------------------ --------------------- 94.4/199.4 MB 2.9 MB/s eta 0:00:37\n",
      "   ------------------- -------------------- 95.4/199.4 MB 2.9 MB/s eta 0:00:36\n",
      "   ------------------- -------------------- 96.2/199.4 MB 2.9 MB/s eta 0:00:36\n",
      "   ------------------- -------------------- 97.3/199.4 MB 2.9 MB/s eta 0:00:35\n",
      "   ------------------- -------------------- 98.0/199.4 MB 3.0 MB/s eta 0:00:35\n",
      "   ------------------- -------------------- 99.1/199.4 MB 3.0 MB/s eta 0:00:34\n",
      "   -------------------- ------------------- 99.9/199.4 MB 3.0 MB/s eta 0:00:34\n",
      "   -------------------- ------------------- 100.9/199.4 MB 3.0 MB/s eta 0:00:33\n",
      "   -------------------- ------------------- 101.7/199.4 MB 3.0 MB/s eta 0:00:33\n",
      "   -------------------- ------------------- 102.5/199.4 MB 3.0 MB/s eta 0:00:32\n",
      "   -------------------- ------------------- 103.3/199.4 MB 3.1 MB/s eta 0:00:32\n",
      "   -------------------- ------------------- 104.1/199.4 MB 3.1 MB/s eta 0:00:32\n",
      "   --------------------- ------------------ 105.1/199.4 MB 3.1 MB/s eta 0:00:31\n",
      "   --------------------- ------------------ 106.2/199.4 MB 3.1 MB/s eta 0:00:30\n",
      "   --------------------- ------------------ 107.2/199.4 MB 3.1 MB/s eta 0:00:30\n",
      "   --------------------- ------------------ 108.3/199.4 MB 3.2 MB/s eta 0:00:29\n",
      "   --------------------- ------------------ 109.1/199.4 MB 3.2 MB/s eta 0:00:29\n",
      "   ---------------------- ----------------- 109.8/199.4 MB 3.2 MB/s eta 0:00:29\n",
      "   ---------------------- ----------------- 110.6/199.4 MB 3.2 MB/s eta 0:00:28\n",
      "   ---------------------- ----------------- 111.7/199.4 MB 3.2 MB/s eta 0:00:28\n",
      "   ---------------------- ----------------- 112.7/199.4 MB 3.3 MB/s eta 0:00:27\n",
      "   ---------------------- ----------------- 113.5/199.4 MB 3.3 MB/s eta 0:00:27\n",
      "   ---------------------- ----------------- 114.6/199.4 MB 3.3 MB/s eta 0:00:26\n",
      "   ----------------------- ---------------- 115.6/199.4 MB 3.3 MB/s eta 0:00:26\n",
      "   ----------------------- ---------------- 116.7/199.4 MB 3.3 MB/s eta 0:00:25\n",
      "   ----------------------- ---------------- 117.7/199.4 MB 3.4 MB/s eta 0:00:25\n",
      "   ----------------------- ---------------- 118.5/199.4 MB 3.4 MB/s eta 0:00:24\n",
      "   ----------------------- ---------------- 119.3/199.4 MB 3.4 MB/s eta 0:00:24\n",
      "   ------------------------ --------------- 120.1/199.4 MB 3.4 MB/s eta 0:00:24\n",
      "   ------------------------ --------------- 121.1/199.4 MB 3.5 MB/s eta 0:00:23\n",
      "   ------------------------ --------------- 121.6/199.4 MB 3.5 MB/s eta 0:00:23\n",
      "   ------------------------ --------------- 122.4/199.4 MB 3.5 MB/s eta 0:00:23\n",
      "   ------------------------ --------------- 122.9/199.4 MB 3.5 MB/s eta 0:00:22\n",
      "   ------------------------ --------------- 123.5/199.4 MB 3.5 MB/s eta 0:00:22\n",
      "   ------------------------ --------------- 123.7/199.4 MB 3.5 MB/s eta 0:00:22\n",
      "   ------------------------ --------------- 124.5/199.4 MB 3.5 MB/s eta 0:00:22\n",
      "   ------------------------- -------------- 125.3/199.4 MB 3.5 MB/s eta 0:00:22\n",
      "   ------------------------- -------------- 126.4/199.4 MB 3.5 MB/s eta 0:00:21\n",
      "   ------------------------- -------------- 127.1/199.4 MB 3.5 MB/s eta 0:00:21\n",
      "   ------------------------- -------------- 128.2/199.4 MB 3.6 MB/s eta 0:00:20\n",
      "   ------------------------- -------------- 129.2/199.4 MB 3.6 MB/s eta 0:00:20\n",
      "   -------------------------- ------------- 130.3/199.4 MB 3.6 MB/s eta 0:00:20\n",
      "   -------------------------- ------------- 131.1/199.4 MB 3.6 MB/s eta 0:00:19\n",
      "   -------------------------- ------------- 132.1/199.4 MB 3.6 MB/s eta 0:00:19\n",
      "   -------------------------- ------------- 132.9/199.4 MB 3.7 MB/s eta 0:00:19\n",
      "   -------------------------- ------------- 134.0/199.4 MB 3.7 MB/s eta 0:00:18\n",
      "   --------------------------- ------------ 135.0/199.4 MB 3.7 MB/s eta 0:00:18\n",
      "   --------------------------- ------------ 136.1/199.4 MB 3.7 MB/s eta 0:00:18\n",
      "   --------------------------- ------------ 137.4/199.4 MB 3.8 MB/s eta 0:00:17\n",
      "   --------------------------- ------------ 138.4/199.4 MB 3.8 MB/s eta 0:00:17\n",
      "   --------------------------- ------------ 139.2/199.4 MB 3.8 MB/s eta 0:00:16\n",
      "   ---------------------------- ----------- 140.2/199.4 MB 3.8 MB/s eta 0:00:16\n",
      "   ---------------------------- ----------- 141.0/199.4 MB 3.8 MB/s eta 0:00:16\n",
      "   ---------------------------- ----------- 142.1/199.4 MB 3.8 MB/s eta 0:00:15\n",
      "   ---------------------------- ----------- 143.4/199.4 MB 3.8 MB/s eta 0:00:15\n",
      "   ---------------------------- ----------- 144.4/199.4 MB 3.9 MB/s eta 0:00:15\n",
      "   ----------------------------- ---------- 145.2/199.4 MB 3.9 MB/s eta 0:00:15\n",
      "   ----------------------------- ---------- 146.5/199.4 MB 3.9 MB/s eta 0:00:14\n",
      "   ----------------------------- ---------- 147.8/199.4 MB 3.9 MB/s eta 0:00:14\n",
      "   ----------------------------- ---------- 148.6/199.4 MB 3.9 MB/s eta 0:00:13\n",
      "   ------------------------------ --------- 149.9/199.4 MB 3.9 MB/s eta 0:00:13\n",
      "   ------------------------------ --------- 151.0/199.4 MB 4.0 MB/s eta 0:00:13\n",
      "   ------------------------------ --------- 152.0/199.4 MB 4.0 MB/s eta 0:00:12\n",
      "   ------------------------------ --------- 153.4/199.4 MB 4.0 MB/s eta 0:00:12\n",
      "   ------------------------------- -------- 154.7/199.4 MB 4.0 MB/s eta 0:00:12\n",
      "   ------------------------------- -------- 155.7/199.4 MB 4.0 MB/s eta 0:00:11\n",
      "   ------------------------------- -------- 157.0/199.4 MB 4.1 MB/s eta 0:00:11\n",
      "   ------------------------------- -------- 158.1/199.4 MB 4.1 MB/s eta 0:00:11\n",
      "   ------------------------------- -------- 159.4/199.4 MB 4.1 MB/s eta 0:00:10\n",
      "   -------------------------------- ------- 160.7/199.4 MB 4.1 MB/s eta 0:00:10\n",
      "   -------------------------------- ------- 162.0/199.4 MB 4.1 MB/s eta 0:00:10\n",
      "   -------------------------------- ------- 163.3/199.4 MB 4.2 MB/s eta 0:00:09\n",
      "   --------------------------------- ------ 164.6/199.4 MB 4.2 MB/s eta 0:00:09\n",
      "   --------------------------------- ------ 165.9/199.4 MB 4.2 MB/s eta 0:00:08\n",
      "   --------------------------------- ------ 167.5/199.4 MB 4.2 MB/s eta 0:00:08\n",
      "   --------------------------------- ------ 168.6/199.4 MB 4.3 MB/s eta 0:00:08\n",
      "   ---------------------------------- ----- 170.1/199.4 MB 4.3 MB/s eta 0:00:07\n",
      "   ---------------------------------- ----- 171.7/199.4 MB 4.3 MB/s eta 0:00:07\n",
      "   ---------------------------------- ----- 173.0/199.4 MB 4.4 MB/s eta 0:00:07\n",
      "   ---------------------------------- ----- 173.5/199.4 MB 4.4 MB/s eta 0:00:06\n",
      "   ---------------------------------- ----- 173.8/199.4 MB 4.4 MB/s eta 0:00:06\n",
      "   ---------------------------------- ----- 174.1/199.4 MB 4.3 MB/s eta 0:00:06\n",
      "   ----------------------------------- ---- 174.6/199.4 MB 4.3 MB/s eta 0:00:06\n",
      "   ----------------------------------- ---- 175.4/199.4 MB 4.3 MB/s eta 0:00:06\n",
      "   ----------------------------------- ---- 176.7/199.4 MB 4.3 MB/s eta 0:00:06\n",
      "   ----------------------------------- ---- 178.0/199.4 MB 4.4 MB/s eta 0:00:05\n",
      "   ----------------------------------- ---- 179.0/199.4 MB 4.4 MB/s eta 0:00:05\n",
      "   ------------------------------------ --- 180.4/199.4 MB 4.4 MB/s eta 0:00:05\n",
      "   ------------------------------------ --- 181.9/199.4 MB 4.4 MB/s eta 0:00:04\n",
      "   ------------------------------------ --- 183.5/199.4 MB 4.4 MB/s eta 0:00:04\n",
      "   ------------------------------------- -- 184.8/199.4 MB 4.4 MB/s eta 0:00:04\n",
      "   ------------------------------------- -- 186.4/199.4 MB 4.5 MB/s eta 0:00:03\n",
      "   ------------------------------------- -- 187.7/199.4 MB 4.5 MB/s eta 0:00:03\n",
      "   -------------------------------------- - 189.5/199.4 MB 4.5 MB/s eta 0:00:03\n",
      "   -------------------------------------- - 190.8/199.4 MB 4.5 MB/s eta 0:00:02\n",
      "   -------------------------------------- - 192.4/199.4 MB 4.5 MB/s eta 0:00:02\n",
      "   -------------------------------------- - 193.7/199.4 MB 4.6 MB/s eta 0:00:02\n",
      "   ---------------------------------------  195.3/199.4 MB 4.6 MB/s eta 0:00:01\n",
      "   ---------------------------------------  196.9/199.4 MB 4.6 MB/s eta 0:00:01\n",
      "   ---------------------------------------  198.4/199.4 MB 4.6 MB/s eta 0:00:01\n",
      "   ---------------------------------------  199.2/199.4 MB 4.7 MB/s eta 0:00:01\n",
      "   ---------------------------------------  199.2/199.4 MB 4.7 MB/s eta 0:00:01\n",
      "   ---------------------------------------  199.2/199.4 MB 4.7 MB/s eta 0:00:01\n",
      "   ---------------------------------------  199.2/199.4 MB 4.7 MB/s eta 0:00:01\n",
      "   ---------------------------------------  199.2/199.4 MB 4.7 MB/s eta 0:00:01\n",
      "   ---------------------------------------  199.2/199.4 MB 4.7 MB/s eta 0:00:01\n",
      "   ---------------------------------------  199.2/199.4 MB 4.7 MB/s eta 0:00:01\n",
      "   ---------------------------------------  199.2/199.4 MB 4.7 MB/s eta 0:00:01\n",
      "   ---------------------------------------  199.2/199.4 MB 4.7 MB/s eta 0:00:01\n",
      "   ---------------------------------------  199.2/199.4 MB 4.7 MB/s eta 0:00:01\n",
      "   ---------------------------------------  199.2/199.4 MB 4.7 MB/s eta 0:00:01\n",
      "   ---------------------------------------  199.2/199.4 MB 4.7 MB/s eta 0:00:01\n",
      "   ---------------------------------------  199.2/199.4 MB 4.7 MB/s eta 0:00:01\n",
      "   ---------------------------------------  199.2/199.4 MB 4.7 MB/s eta 0:00:01\n",
      "   ---------------------------------------  199.2/199.4 MB 4.7 MB/s eta 0:00:01\n",
      "   ---------------------------------------  199.2/199.4 MB 4.7 MB/s eta 0:00:01\n",
      "   ---------------------------------------  199.2/199.4 MB 4.7 MB/s eta 0:00:01\n",
      "   ---------------------------------------  199.2/199.4 MB 4.7 MB/s eta 0:00:01\n",
      "   ---------------------------------------- 199.4/199.4 MB 4.2 MB/s eta 0:00:00\n",
      "Downloading filelock-3.16.1-py3-none-any.whl (16 kB)\n",
      "Downloading fsspec-2025.3.0-py3-none-any.whl (193 kB)\n",
      "Using cached jinja2-3.1.6-py3-none-any.whl (134 kB)\n",
      "Downloading networkx-3.1-py3-none-any.whl (2.1 MB)\n",
      "   ---------------------------------------- 0.0/2.1 MB ? eta -:--:--\n",
      "   -------------------- ------------------- 1.0/2.1 MB 6.3 MB/s eta 0:00:01\n",
      "   ---------------------------------------- 2.1/2.1 MB 5.8 MB/s eta 0:00:00\n",
      "Downloading sympy-1.13.3-py3-none-any.whl (6.2 MB)\n",
      "   ---------------------------------------- 0.0/6.2 MB ? eta -:--:--\n",
      "   -------- ------------------------------- 1.3/6.2 MB 6.7 MB/s eta 0:00:01\n",
      "   --------------- ------------------------ 2.4/6.2 MB 5.6 MB/s eta 0:00:01\n",
      "   ------------------------- -------------- 3.9/6.2 MB 6.3 MB/s eta 0:00:01\n",
      "   ---------------------------- ----------- 4.5/6.2 MB 5.8 MB/s eta 0:00:01\n",
      "   --------------------------------- ------ 5.2/6.2 MB 5.0 MB/s eta 0:00:01\n",
      "   ------------------------------------- -- 5.8/6.2 MB 4.5 MB/s eta 0:00:01\n",
      "   ---------------------------------------- 6.2/6.2 MB 4.2 MB/s eta 0:00:00\n",
      "Downloading mpmath-1.3.0-py3-none-any.whl (536 kB)\n",
      "   ---------------------------------------- 0.0/536.2 kB ? eta -:--:--\n",
      "   ---------------------------------------- 0.0/536.2 kB ? eta -:--:--\n",
      "   ---------------------------------------- 536.2/536.2 kB 2.0 MB/s eta 0:00:00\n",
      "Installing collected packages: mpmath, sympy, networkx, jinja2, fsspec, filelock, torch\n",
      "Successfully installed filelock-3.16.1 fsspec-2025.3.0 jinja2-3.1.6 mpmath-1.3.0 networkx-3.1 sympy-1.13.3 torch-2.4.1\n"
     ]
    }
   ],
   "source": [
    "# Step 1 Install Pytorch\n",
    "!pip install torch"
   ]
  },
  {
   "cell_type": "code",
   "execution_count": 11,
   "metadata": {},
   "outputs": [
    {
     "name": "stdout",
     "output_type": "stream",
     "text": [
      "2.4.1+cpu\n"
     ]
    }
   ],
   "source": [
    "import torch\n",
    "print(torch.__version__)"
   ]
  },
  {
   "cell_type": "markdown",
   "metadata": {},
   "source": [
    "6. How do you create a simple neural network in PyTorch."
   ]
  },
  {
   "cell_type": "code",
   "execution_count": null,
   "metadata": {},
   "outputs": [],
   "source": [
    "import torch\n",
    "import torch.nn as nn\n",
    "import torch.optim as optim\n",
    "from torch.utils.data import DataLoader\n",
    "from torchvision import datasets, transforms\n",
    "\n",
    "# 1. Define the model (Neural Network)\n",
    "class SimpleNN(nn.Module):\n",
    "    def __init__(self):\n",
    "        super(SimpleNN, self).__init__()\n",
    "        # Input layer: 784 features (28x28 image flattened)\n",
    "        # Hidden layer: 128 neurons\n",
    "        # Output layer: 10 neurons (for 10 classes)\n",
    "        self.fc1 = nn.Linear(784, 128)  # First fully connected layer\n",
    "        self.fc2 = nn.Linear(128, 10)   # Second fully connected layer (output layer)\n",
    "\n",
    "    def forward(self, x):\n",
    "        # Forward pass: Apply ReLU activation after the first layer\n",
    "        x = torch.relu(self.fc1(x))\n",
    "        # No activation function is needed for the output layer because we use CrossEntropy loss\n",
    "        x = self.fc2(x)\n",
    "        return x\n",
    "\n",
    "# 2. Load and preprocess the MNIST dataset\n",
    "transform = transforms.Compose([transforms.ToTensor(), transforms.Normalize((0.5,), (0.5,))])\n",
    "\n",
    "# Load MNIST dataset\n",
    "train_dataset = datasets.MNIST(root='./data', train=True, download=True, transform=transform)\n",
    "test_dataset = datasets.MNIST(root='./data', train=False, download=True, transform=transform)\n",
    "\n",
    "# DataLoader for batching the data\n",
    "train_loader = DataLoader(train_dataset, batch_size=64, shuffle=True)\n",
    "test_loader = DataLoader(test_dataset, batch_size=64, shuffle=False)\n",
    "\n",
    "# 3. Define the loss function and optimizer\n",
    "model = SimpleNN()  # Create the neural network model\n",
    "loss_fn = nn.CrossEntropyLoss()  # CrossEntropyLoss is commonly used for classification\n",
    "optimizer = optim.Adam(model.parameters(), lr=0.001)  # Adam optimizer\n",
    "\n",
    "# 4. Train the model\n",
    "epochs = 5\n",
    "for epoch in range(epochs):\n",
    "    model.train()  # Set the model to training mode\n",
    "    running_loss = 0.0\n",
    "    correct = 0\n",
    "    total = 0\n",
    "\n",
    "    for images, labels in train_loader:\n",
    "        # Flatten the images from 28x28 to 784\n",
    "        images = images.view(-1, 784)\n",
    "\n",
    "        # Zero the gradients from the previous step\n",
    "        optimizer.zero_grad()\n",
    "\n",
    "        # Forward pass\n",
    "        outputs = model(images)\n",
    "\n",
    "        # Compute loss\n",
    "        loss = loss_fn(outputs, labels)\n",
    "        \n",
    "        # Backward pass (calculate gradients)\n",
    "        loss.backward()\n",
    "\n",
    "        # Update weights\n",
    "        optimizer.step()\n",
    "\n",
    "        running_loss += loss.item()\n",
    "\n",
    "        # Get predictions and calculate accuracy\n",
    "        _, predicted = torch.max(outputs, 1)\n",
    "        total += labels.size(0)\n",
    "        correct += (predicted == labels).sum().item()\n",
    "\n",
    "    # Print the loss and accuracy for this epoch\n",
    "    print(f\"Epoch {epoch+1}/{epochs}, Loss: {running_loss/len(train_loader):.4f}, Accuracy: {100 * correct / total:.2f}%\")\n",
    "\n",
    "# 5. Evaluate the model\n",
    "model.eval()  # Set the model to evaluation mode\n",
    "correct = 0\n",
    "total = 0\n",
    "\n",
    "with torch.no_grad():  # Disable gradient tracking for evaluation\n",
    "    for images, labels in test_loader:\n",
    "        images = images.view(-1, 784)\n",
    "        outputs = model(images)\n",
    "        _, predicted = torch.max(outputs, 1)\n",
    "        total += labels.size(0)\n",
    "        correct += (predicted == labels).sum().item()\n",
    "\n",
    "print(f\"Test Accuracy: {100 * correct / total:.2f}%\")\n"
   ]
  },
  {
   "cell_type": "markdown",
   "metadata": {},
   "source": [
    "7. How do you define a loss function and optimizer in PyTorch."
   ]
  },
  {
   "cell_type": "code",
   "execution_count": 13,
   "metadata": {},
   "outputs": [],
   "source": [
    "# Define the loss function (CrossEntropyLoss for classification)\n",
    "loss_fn = nn.CrossEntropyLoss()\n",
    "\n",
    "# For a regression task, you can use MSELoss (Mean Squared Error Loss)\n",
    "loss_fn = nn.MSELoss()"
   ]
  },
  {
   "cell_type": "code",
   "execution_count": 15,
   "metadata": {},
   "outputs": [
    {
     "name": "stdout",
     "output_type": "stream",
     "text": [
      "Custom MSLE Loss: 0.0793190523982048\n"
     ]
    }
   ],
   "source": [
    "import torch\n",
    "import torch.nn as nn\n",
    "\n",
    "class CustomMSLELoss(nn.Module):\n",
    "    def __init__(self):\n",
    "        super(CustomMSLELoss, self).__init__()\n",
    "\n",
    "    def forward(self, y_pred, y_true):\n",
    "        # Ensure no negative values for logarithm by adding a small constant epsilon\n",
    "        epsilon = 1e-6\n",
    "        y_pred = torch.log(y_pred + epsilon)\n",
    "        y_true = torch.log(y_true + epsilon)\n",
    "        \n",
    "        # Compute Mean Squared Logarithmic Error (MSLE)\n",
    "        loss = torch.mean((y_pred - y_true) ** 2)\n",
    "        return loss\n",
    "\n",
    "# Example usage in training\n",
    "\n",
    "# Create an instance of the custom loss function\n",
    "loss_fn = CustomMSLELoss()\n",
    "\n",
    "# Sample predicted and true values\n",
    "y_pred = torch.tensor([1.5, 2.0, 3.5], dtype=torch.float32)\n",
    "y_true = torch.tensor([1.0, 2.5, 3.0], dtype=torch.float32)\n",
    "\n",
    "# Calculate the loss\n",
    "loss = loss_fn(y_pred, y_true)\n",
    "print(f\"Custom MSLE Loss: {loss.item()}\")"
   ]
  },
  {
   "cell_type": "markdown",
   "metadata": {},
   "source": [
    "9. How do you save and load a TensorFlow model?"
   ]
  },
  {
   "cell_type": "code",
   "execution_count": 16,
   "metadata": {},
   "outputs": [
    {
     "name": "stdout",
     "output_type": "stream",
     "text": [
      "INFO:tensorflow:Assets written to: my_model\\assets\n"
     ]
    }
   ],
   "source": [
    "import tensorflow as tf\n",
    "\n",
    "model = tf.keras.Sequential([\n",
    "    tf.keras.layers.Dense(64, activation='relu', input_shape=(784,)),\n",
    "    tf.keras.layers.Dense(10, activation='softmax')\n",
    "])\n",
    "\n",
    "model.compile(optimizer='adam', loss='sparse_categorical_crossentropy', metrics=['accuracy'])\n",
    "\n",
    "# Save the entire model\n",
    "model.save('my_model')"
   ]
  },
  {
   "cell_type": "code",
   "execution_count": 17,
   "metadata": {},
   "outputs": [],
   "source": [
    "# Load the saved model\n",
    "loaded_model = tf.keras.models.load_model('my_model')"
   ]
  },
  {
   "cell_type": "code",
   "execution_count": null,
   "metadata": {},
   "outputs": [],
   "source": []
  }
 ],
 "metadata": {
  "kernelspec": {
   "display_name": "virual",
   "language": "python",
   "name": "python3"
  },
  "language_info": {
   "codemirror_mode": {
    "name": "ipython",
    "version": 3
   },
   "file_extension": ".py",
   "mimetype": "text/x-python",
   "name": "python",
   "nbconvert_exporter": "python",
   "pygments_lexer": "ipython3",
   "version": "3.8.18"
  }
 },
 "nbformat": 4,
 "nbformat_minor": 2
}
