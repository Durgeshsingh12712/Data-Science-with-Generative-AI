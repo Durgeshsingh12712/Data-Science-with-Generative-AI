{
 "cells": [
  {
   "cell_type": "markdown",
   "id": "596e3ec2-5a37-43ed-9cbf-88f01e9184e4",
   "metadata": {},
   "source": [
    "                                             Assignment 6 : Statistics"
   ]
  },
  {
   "cell_type": "code",
   "execution_count": 1,
   "id": "e086d2cd-217b-4862-96f1-1242eed972c2",
   "metadata": {},
   "outputs": [],
   "source": [
    "import numpy as np\n",
    "import pandas as pd\n",
    "import statistics"
   ]
  },
  {
   "cell_type": "code",
   "execution_count": 2,
   "id": "4b0447d9-6ad6-4a31-9e32-b18cd88877b2",
   "metadata": {},
   "outputs": [],
   "source": [
    "# 1. Generate a list of 100 integers containing values between 90 to 130 and store it in the variable `int_list`. After generating the list, find the following:\n",
    "int_list = np.random.randint(90, 130, 100)"
   ]
  },
  {
   "cell_type": "code",
   "execution_count": 3,
   "id": "b45a8dab-fd90-47eb-a6a3-9a501b115574",
   "metadata": {},
   "outputs": [
    {
     "data": {
      "text/plain": [
       "array([126, 114,  97, 100, 118, 120,  98, 100, 103, 125, 117, 100, 125,\n",
       "        92,  93, 108, 108,  91, 108, 100, 109, 115, 102, 125, 104, 110,\n",
       "        93,  95, 102, 115, 123, 115, 125, 118, 108,  93,  96,  90, 104,\n",
       "        90,  94, 119, 128, 105,  92, 120, 119,  90,  98, 103,  90, 115,\n",
       "        96, 121, 109, 118, 101,  94, 108,  93, 118, 103, 121, 109, 120,\n",
       "       100,  92,  99, 116, 104, 124, 107, 112,  98,  97, 122, 103, 102,\n",
       "       110, 100, 105, 110,  95, 120,  96, 103, 120, 101,  97,  97, 111,\n",
       "       125, 123,  95, 116,  96, 121, 121,  98, 123], dtype=int32)"
      ]
     },
     "execution_count": 3,
     "metadata": {},
     "output_type": "execute_result"
    }
   ],
   "source": [
    "int_list"
   ]
  },
  {
   "cell_type": "code",
   "execution_count": 16,
   "id": "d1e9476d-1c2b-4b2c-8c85-225251397fd1",
   "metadata": {},
   "outputs": [],
   "source": [
    "#  (i) Write a Python function to calculate the mean of a given list of numbers. Create a function to find the median of a list of numbers.\n",
    "def mean(numbers):\n",
    "    return sum(numbers) / len(numbers)"
   ]
  },
  {
   "cell_type": "code",
   "execution_count": 23,
   "id": "206f17a4-5967-46c2-84cc-140d861eedc0",
   "metadata": {},
   "outputs": [
    {
     "name": "stdout",
     "output_type": "stream",
     "text": [
      "109.17\n"
     ]
    }
   ],
   "source": [
    "print(mean(int_list))"
   ]
  },
  {
   "cell_type": "code",
   "execution_count": 34,
   "id": "27959c29-d605-4e2b-ab4a-d48e0ce08d88",
   "metadata": {},
   "outputs": [],
   "source": [
    "def median(numbers):\n",
    "    return np.median(numbers)"
   ]
  },
  {
   "cell_type": "code",
   "execution_count": 35,
   "id": "d9c4397f-de73-48cc-9e1d-ffeaafe8d8d5",
   "metadata": {},
   "outputs": [
    {
     "name": "stdout",
     "output_type": "stream",
     "text": [
      "110.0\n"
     ]
    }
   ],
   "source": [
    "print(median(int_list))"
   ]
  },
  {
   "cell_type": "code",
   "execution_count": 36,
   "id": "770adf1d-29d3-4f41-baaf-03f27ab0d66a",
   "metadata": {},
   "outputs": [],
   "source": [
    "#   (ii) Develop a program to compute the mode of a list of integers."
   ]
  },
  {
   "cell_type": "code",
   "execution_count": 37,
   "id": "3f6ca915-4670-4359-a4f0-01f01354b8d0",
   "metadata": {},
   "outputs": [],
   "source": [
    "def mode(numbers):\n",
    "    return statistics.mode(numbers)"
   ]
  },
  {
   "cell_type": "code",
   "execution_count": 38,
   "id": "2123d45e-5c06-47f1-925b-19d09281f143",
   "metadata": {},
   "outputs": [
    {
     "name": "stdout",
     "output_type": "stream",
     "text": [
      "129\n"
     ]
    }
   ],
   "source": [
    "print(mode(int_list))"
   ]
  },
  {
   "cell_type": "code",
   "execution_count": 58,
   "id": "b6f16a7e-3cf9-4fe4-93e7-9cda822a3b27",
   "metadata": {},
   "outputs": [],
   "source": [
    "#  (iii) Implement a function to calculate the weighted mean of a list of values and their corresponding weights.\n",
    "weights = np.random.randint(1, 10, size=100)\n",
    "def weighted_mean(values, weights):\n",
    "    return sum(v * w for v, w in zip(values, weights)) / sum(weights)"
   ]
  },
  {
   "cell_type": "code",
   "execution_count": 59,
   "id": "228e55ba-1412-499b-89a5-aa00c8ea0f08",
   "metadata": {},
   "outputs": [
    {
     "name": "stdout",
     "output_type": "stream",
     "text": [
      "109.38888888888889\n"
     ]
    }
   ],
   "source": [
    "print(weighted_mean(int_list, weights))"
   ]
  },
  {
   "cell_type": "code",
   "execution_count": 2,
   "id": "818627a9-acbe-41cd-9618-a2f721eb44b8",
   "metadata": {},
   "outputs": [],
   "source": [
    "# (iv) Write a Python function to find the geometric mean of a list of positive numbers.\n",
    "import math\n",
    "def geometric_mean(numbers):\n",
    "    product = 1\n",
    "    for num in numbers:\n",
    "        product  = num\n",
    "    return product ** (1 / len(numbers))"
   ]
  },
  {
   "cell_type": "code",
   "execution_count": 76,
   "id": "642f9fc1-182b-46c2-b22a-f12a55f99dde",
   "metadata": {},
   "outputs": [
    {
     "name": "stdout",
     "output_type": "stream",
     "text": [
      "1.0461414595404\n"
     ]
    }
   ],
   "source": [
    "print(geometric_mean(int_list))"
   ]
  },
  {
   "cell_type": "code",
   "execution_count": 77,
   "id": "55cef1c6-defb-441a-a3f5-2bab2979c647",
   "metadata": {},
   "outputs": [],
   "source": [
    "# (v) Create a program to calculate the harmonic mean of a list of values.\n",
    "def harmonic_mean(numbers):\n",
    "    return len(numbers) / sum(1 / num for num in numbers)"
   ]
  },
  {
   "cell_type": "code",
   "execution_count": 78,
   "id": "ecf3efbb-d2a1-44cc-9941-627519c6deec",
   "metadata": {},
   "outputs": [
    {
     "name": "stdout",
     "output_type": "stream",
     "text": [
      "107.76503218783367\n"
     ]
    }
   ],
   "source": [
    "print(harmonic_mean(int_list))"
   ]
  },
  {
   "cell_type": "code",
   "execution_count": 79,
   "id": "5c0f6f29-780c-4042-a8c0-a1c89aeec9ad",
   "metadata": {},
   "outputs": [],
   "source": [
    "# (vi) Build a function to determine the midrange of a list of numbers (average of the minimum and maximum).\n",
    "def midrange(numbers):\n",
    "    return (min(numbers) + max(numbers)) / 2"
   ]
  },
  {
   "cell_type": "code",
   "execution_count": 81,
   "id": "f18cfd03-f7bd-42ee-8b8a-886d7b65da89",
   "metadata": {},
   "outputs": [
    {
     "name": "stdout",
     "output_type": "stream",
     "text": [
      "109.5\n"
     ]
    }
   ],
   "source": [
    "print(midrange(int_list))"
   ]
  },
  {
   "cell_type": "code",
   "execution_count": 82,
   "id": "aa746359-b8a6-43f6-b148-dd256a77a2a8",
   "metadata": {},
   "outputs": [],
   "source": [
    "#   (vii) Implement a Python program to find the trimmed mean of a list, excluding a certain percentage of outliers.\n",
    "def trimmed_mean(numbers, trim_percentage):\n",
    "    trim_count = int(len(numbers) * trim_percentage / 100)\n",
    "    sorted_numbers = sorted(numbers)\n",
    "    trimmed_list = sorted_numbers[trim_count:-trim_count]\n",
    "    return mean(trimmed_list)"
   ]
  },
  {
   "cell_type": "code",
   "execution_count": 85,
   "id": "42615969-4e32-4e9f-a673-8c96ad66c257",
   "metadata": {},
   "outputs": [
    {
     "name": "stdout",
     "output_type": "stream",
     "text": [
      "108.9875\n"
     ]
    }
   ],
   "source": [
    "print(trimmed_mean(int_list, 10))"
   ]
  },
  {
   "cell_type": "code",
   "execution_count": 3,
   "id": "c9a082cd-b2d2-4007-925b-8ed11c02342f",
   "metadata": {},
   "outputs": [],
   "source": [
    "#  2. Generate a list of 500 integers containing values between 200 to 300 and store it in the variable `int_list2`.After generating the list, find the following:\n",
    "int_list2 = np.random.randint(200, 301, 500)"
   ]
  },
  {
   "cell_type": "code",
   "execution_count": 4,
   "id": "c706a72c-1626-40c8-8af8-21a0ae9551f4",
   "metadata": {},
   "outputs": [
    {
     "ename": "NameError",
     "evalue": "name 'int_list2' is not defined",
     "output_type": "error",
     "traceback": [
      "\u001b[1;31m---------------------------------------------------------------------------\u001b[0m",
      "\u001b[1;31mNameError\u001b[0m                                 Traceback (most recent call last)",
      "Cell \u001b[1;32mIn[4], line 8\u001b[0m\n\u001b[0;32m      6\u001b[0m plt\u001b[38;5;241m.\u001b[39mfigure(figsize\u001b[38;5;241m=\u001b[39m(\u001b[38;5;241m18\u001b[39m, \u001b[38;5;241m6\u001b[39m))\n\u001b[0;32m      7\u001b[0m plt\u001b[38;5;241m.\u001b[39msubplot(\u001b[38;5;241m1\u001b[39m, \u001b[38;5;241m3\u001b[39m, \u001b[38;5;241m1\u001b[39m)\n\u001b[1;32m----> 8\u001b[0m sns\u001b[38;5;241m.\u001b[39mhistplot(\u001b[43mint_list2\u001b[49m, kde\u001b[38;5;241m=\u001b[39m\u001b[38;5;28;01mTrue\u001b[39;00m, stat\u001b[38;5;241m=\u001b[39m\u001b[38;5;124m\"\u001b[39m\u001b[38;5;124mdensity\u001b[39m\u001b[38;5;124m\"\u001b[39m, color\u001b[38;5;241m=\u001b[39m\u001b[38;5;124m\"\u001b[39m\u001b[38;5;124mskyblue\u001b[39m\u001b[38;5;124m\"\u001b[39m, bins\u001b[38;5;241m=\u001b[39m\u001b[38;5;241m15\u001b[39m)\n\u001b[0;32m      9\u001b[0m plt\u001b[38;5;241m.\u001b[39mtitle(\u001b[38;5;124m'\u001b[39m\u001b[38;5;124mFrequency & Gaussian Distribution\u001b[39m\u001b[38;5;124m'\u001b[39m)\n\u001b[0;32m     10\u001b[0m plt\u001b[38;5;241m.\u001b[39mshow()\n",
      "\u001b[1;31mNameError\u001b[0m: name 'int_list2' is not defined"
     ]
    },
    {
     "data": {
      "image/png": "[encoded data removed]",
      "text/plain": [
       "<Figure size 1800x600 with 1 Axes>"
      ]
     },
     "metadata": {},
     "output_type": "display_data"
    }
   ],
   "source": [
    "#   (i) Compare the given list of visualization for the given data:\n",
    "# 1. Frequency & Gaussian distribution\n",
    "import matplotlib.pyplot as plt\n",
    "import seaborn as sns\n",
    "\n",
    "plt.figure(figsize=(18, 6))\n",
    "plt.subplot(1, 3, 1)\n",
    "sns.histplot(int_list2, kde=True, stat=\"density\", color=\"skyblue\", bins=15)\n",
    "plt.title('Frequency & Gaussian Distribution')\n",
    "plt.show()"
   ]
  },
  {
   "cell_type": "code",
   "execution_count": 5,
   "id": "9f2a2a44-ec72-4c35-aea1-bbaf384aed79",
   "metadata": {},
   "outputs": [
    {
     "name": "stderr",
     "output_type": "stream",
     "text": [
      "C:\\Users\\HEART\\AppData\\Local\\Temp\\ipykernel_9824\\3660872557.py:4: FutureWarning: \n",
      "\n",
      "`shade` is now deprecated in favor of `fill`; setting `fill=True`.\n",
      "This will become an error in seaborn v0.14.0; please update your code.\n",
      "\n",
      "  sns.kdeplot(int_list2, shade=True, color='orange')\n"
     ]
    },
    {
     "data": {
      "image/png": "[encoded data removed]",
      "text/plain": [
       "<Figure size 1800x600 with 1 Axes>"
      ]
     },
     "metadata": {},
     "output_type": "display_data"
    }
   ],
   "source": [
    "# 2. Frequency smoothened KDE plot\n",
    "plt.figure(figsize=(18, 6))\n",
    "plt.subplot(1, 3, 2)\n",
    "sns.kdeplot(int_list2, shade=True, color='orange')\n",
    "plt.title('Smoothened KDE Plot')\n",
    "plt.show()"
   ]
  },
  {
   "cell_type": "code",
   "execution_count": 6,
   "id": "99303f19-7926-4567-aeb7-f610faec6b9a",
   "metadata": {},
   "outputs": [
    {
     "name": "stderr",
     "output_type": "stream",
     "text": [
      "C:\\Users\\HEART\\AppData\\Local\\Temp\\ipykernel_9824\\3428062701.py:5: FutureWarning: \n",
      "\n",
      "`shade` is now deprecated in favor of `fill`; setting `fill=True`.\n",
      "This will become an error in seaborn v0.14.0; please update your code.\n",
      "\n",
      "  sns.kdeplot(int_list2, shade=True, color='orange')\n"
     ]
    },
    {
     "data": {
      "image/png": "[encoded data removed]",
      "text/plain": [
       "<Figure size 1800x600 with 1 Axes>"
      ]
     },
     "metadata": {},
     "output_type": "display_data"
    }
   ],
   "source": [
    "# 3. Gaussian distribution & smoothened KDE plot.\n",
    "plt.figure(figsize=(18, 6))\n",
    "plt.subplot(1, 3, 3)\n",
    "sns.histplot(int_list2, kde=True, stat=\"density\", color='skyblue', bins=15)\n",
    "sns.kdeplot(int_list2, shade=True, color='orange')\n",
    "plt.title('Gaussian Distribution & Smoothened KDE Plot')\n",
    "plt.tight_layout()\n",
    "plt.show()"
   ]
  },
  {
   "cell_type": "code",
   "execution_count": 13,
   "id": "aacd41d2-da91-4eae-9276-f89f7cc93afb",
   "metadata": {},
   "outputs": [],
   "source": [
    "# (ii) Write a Python function to calculate the range of a given list of numbers.\n",
    "def calculate_range(numbers):\n",
    "    return max(numbers) - min(numbers)"
   ]
  },
  {
   "cell_type": "code",
   "execution_count": 14,
   "id": "a26e985b-ef6f-40e0-a9f1-b6f1bbbd942a",
   "metadata": {},
   "outputs": [
    {
     "name": "stdout",
     "output_type": "stream",
     "text": [
      "100\n"
     ]
    }
   ],
   "source": [
    "print(calculate_range(int_list2))"
   ]
  },
  {
   "cell_type": "code",
   "execution_count": 15,
   "id": "af5bf587-1eb2-46bb-9201-28fe43438841",
   "metadata": {},
   "outputs": [],
   "source": [
    "# (iii) Create a program to find the variance and standard deviation of a list of numbers.\n",
    "def calculate_variance_and_std(numbers):\n",
    "    variance = np.var(numbers)\n",
    "    std_dev = np.std(numbers)\n",
    "    return variance, std_dev"
   ]
  },
  {
   "cell_type": "code",
   "execution_count": 18,
   "id": "c11ed37d-179a-4921-9798-c6ba7d81b11d",
   "metadata": {},
   "outputs": [
    {
     "name": "stdout",
     "output_type": "stream",
     "text": [
      "(np.float64(851.6931040000001), np.float64(29.18378152330503))\n"
     ]
    }
   ],
   "source": [
    "print(calculate_variance_and_std(int_list2))"
   ]
  },
  {
   "cell_type": "code",
   "execution_count": 21,
   "id": "e4a82edd-99c6-453c-818f-f89f4feb66aa",
   "metadata": {},
   "outputs": [],
   "source": [
    "# (iv) Implement a function to compute the interquartile range (IQR) of a list of values.\n",
    "def calculate_IQR(numbers):\n",
    "    Q1 = np.percentile(numbers, 25)\n",
    "    Q3 = np.percentile(numbers, 75)\n",
    "    IQR = Q3 - Q1\n",
    "    return IQR"
   ]
  },
  {
   "cell_type": "code",
   "execution_count": 22,
   "id": "5a17f356-f6cf-4fa2-a4df-2d5cfde6f5bd",
   "metadata": {},
   "outputs": [
    {
     "name": "stdout",
     "output_type": "stream",
     "text": [
      "48.0\n"
     ]
    }
   ],
   "source": [
    "print(calculate_IQR(int_list2))"
   ]
  },
  {
   "cell_type": "code",
   "execution_count": 23,
   "id": "b8ab644f-c6e0-480c-a411-7aa7dc5bb72d",
   "metadata": {},
   "outputs": [],
   "source": [
    "# (v) Build a program to calculate the coefficient of variation for a dataset.\n",
    "def calculate_cv(numbers):\n",
    "    mean = np.mean(numbers)\n",
    "    std_dev = np.std(numbers)\n",
    "    cv = std_dev / mean\n",
    "    return cv"
   ]
  },
  {
   "cell_type": "code",
   "execution_count": 25,
   "id": "02a7504a-c4f6-457b-b0fd-6b6945cff85e",
   "metadata": {},
   "outputs": [
    {
     "name": "stdout",
     "output_type": "stream",
     "text": [
      "0.1168117546042405\n"
     ]
    }
   ],
   "source": [
    "print(calculate_cv(int_list2))"
   ]
  },
  {
   "cell_type": "code",
   "execution_count": 28,
   "id": "1f9a2811-9394-42cf-9f20-59bd7c8d4403",
   "metadata": {},
   "outputs": [],
   "source": [
    "# (vi) Write a Python function to find the mean absolute deviation (MAD) of a list of numbers.\n",
    "def calculate_mad(numbers):\n",
    "    mean = np.mean(numbers)\n",
    "    mad = np.mean([abs(x - mean) for x in numbers])\n",
    "    return mad"
   ]
  },
  {
   "cell_type": "code",
   "execution_count": 30,
   "id": "02b9dfa1-d8b1-4af8-8859-6c93496b2647",
   "metadata": {},
   "outputs": [
    {
     "name": "stdout",
     "output_type": "stream",
     "text": [
      "25.292592\n"
     ]
    }
   ],
   "source": [
    "print(calculate_mad(int_list2))"
   ]
  },
  {
   "cell_type": "code",
   "execution_count": 31,
   "id": "b67bd77a-618f-4a4e-b78f-1eaecc5ce59e",
   "metadata": {},
   "outputs": [],
   "source": [
    "# (vii) Create a program to calculate the quartile deviation of a list of values.\n",
    "def calculate_quartile_deviation(numbers):\n",
    "    Q1 = np.percentile(numbers, 25)\n",
    "    Q3 = np.percentile(numbers, 75)\n",
    "    quartile_deviation = (Q3 - Q1) / 2\n",
    "    return quartile_deviation"
   ]
  },
  {
   "cell_type": "code",
   "execution_count": 33,
   "id": "2096edb5-1ab3-4b20-a1ad-3cf38633f63f",
   "metadata": {},
   "outputs": [
    {
     "name": "stdout",
     "output_type": "stream",
     "text": [
      "24.0\n"
     ]
    }
   ],
   "source": [
    "print(calculate_quartile_deviation(int_list2))"
   ]
  },
  {
   "cell_type": "code",
   "execution_count": 34,
   "id": "a8d98060-6223-4e09-8f3a-ffcf0d8bd34e",
   "metadata": {},
   "outputs": [],
   "source": [
    "#  (viii) Implement a function to find the range-based coefficient of dispersion for a dataset.\n",
    "def calculate_dispersion(numbers):\n",
    "    range_value = calculate_range(numbers)\n",
    "    mean = np.mean(numbers)\n",
    "    dispersion = range_value / mean\n",
    "    return dispersion"
   ]
  },
  {
   "cell_type": "code",
   "execution_count": 35,
   "id": "870a9663-cc1b-4aeb-98c7-ffba8f88649c",
   "metadata": {},
   "outputs": [
    {
     "name": "stdout",
     "output_type": "stream",
     "text": [
      "0.40026257224739425\n"
     ]
    }
   ],
   "source": [
    "print(calculate_dispersion(int_list2))"
   ]
  },
  {
   "cell_type": "code",
   "execution_count": 48,
   "id": "f69719c1-ba04-4d65-815b-e728d466234b",
   "metadata": {},
   "outputs": [],
   "source": [
    "# 3. Write a Python class representing a discrete random variable with methods to calculate its expected value and variance.\n",
    "class DiscreteRandomVariable:\n",
    "    def __init__(self, probabilities, values):\n",
    "    \n",
    "        if len(probabilities) != len(values):\n",
    "            raise ValueError(\"The number of probabilities must match the number of values.\")\n",
    "        \n",
    "        if not all(0 <= p <= 1 for p in probabilities) or sum(probabilities) != 1:\n",
    "            raise ValueError(\"Probabilities must be between 0 and 1 and sum to 1.\")\n",
    "        \n",
    "        self.probabilities = probabilities\n",
    "        self.values = values\n",
    "    \n",
    "    def expected_value(self):\n",
    "        return sum(p * v for p, v in zip(self.probabilities, self.values))\n",
    "    \n",
    "    def variance(self):\n",
    "        mean = self.expected_value()\n",
    "        return sum(p * (v - mean) ** 2 for p, v in zip(self.probabilities, self.values))\n",
    "    \n",
    "    def __repr__(self):\n",
    "        return f\"DiscreteRandomVariable(values={self.values}, probabilities={self.probabilities})\"\n",
    "\n",
    "# Example usage:\n",
    "values = [1, 2, 3]\n",
    "probabilities = [0.2, 0.5, 0.3]\n",
    "random_variable = DiscreteRandomVariable(probabilities, values)"
   ]
  },
  {
   "cell_type": "code",
   "execution_count": 49,
   "id": "a8351340-8c45-42bf-9167-443e815b6a5b",
   "metadata": {},
   "outputs": [
    {
     "name": "stdout",
     "output_type": "stream",
     "text": [
      "Expected Value: 2.1\n"
     ]
    }
   ],
   "source": [
    "print(\"Expected Value:\", random_variable.expected_value())"
   ]
  },
  {
   "cell_type": "code",
   "execution_count": 50,
   "id": "dfc5ed2e-c4af-4792-adac-d1bc887bf489",
   "metadata": {},
   "outputs": [
    {
     "name": "stdout",
     "output_type": "stream",
     "text": [
      "Variance: 0.49\n"
     ]
    }
   ],
   "source": [
    "print(\"Variance:\", random_variable.variance())"
   ]
  },
  {
   "cell_type": "code",
   "execution_count": 52,
   "id": "a9dc8d32-739d-4ab0-b8ab-c1e89cf8c2c7",
   "metadata": {},
   "outputs": [],
   "source": [
    "# 4. Implement a program to simulate the rolling of a fair six-sided die and calculate the expected value and variance of the outcomes.\n",
    "def roll_die():\n",
    "    return np.random.randint(1, 6)\n",
    "\n",
    "def expected_value():\n",
    "    outcomes = [1, 2, 3, 4, 5, 6]\n",
    "    probability = 1 / 6 \n",
    "    return sum(outcome * probability for outcome in outcomes)\n",
    "\n",
    "def variance():\n",
    "    # First, calculate E(X)\n",
    "    expected_val = expected_value()\n",
    "    \n",
    "    # Now calculate E(X^2)\n",
    "    outcomes = [1, 2, 3, 4, 5, 6]\n",
    "    probability = 1 / 6\n",
    "    expected_squared = sum((outcome**2) * probability for outcome in outcomes)\n",
    "    \n",
    "    # Variance formula: Var(X) = E(X^2) - (E(X))^2\n",
    "    return expected_squared - expected_val**2\n",
    "\n",
    "def simulate_rolls(num_rolls=100000):\n",
    "    rolls = [roll_die() for _ in range(num_rolls)]\n",
    "    \n",
    "    # Empirical expected value (mean of the rolls)\n",
    "    empirical_expected_value = sum(rolls) / num_rolls\n",
    "    \n",
    "    # Empirical variance\n",
    "    empirical_variance = sum((x - empirical_expected_value) ** 2 for x in rolls) / num_rolls\n",
    "    \n",
    "    return empirical_expected_value, empirical_variance\n",
    "\n",
    "theoretical_expected_value = expected_value()\n",
    "theoretical_variance = variance()\n",
    "\n",
    "empirical_expected_value, empirical_variance = simulate_rolls()"
   ]
  },
  {
   "cell_type": "code",
   "execution_count": 53,
   "id": "5aeb8531-8f90-4467-b68c-a41079590845",
   "metadata": {},
   "outputs": [
    {
     "name": "stdout",
     "output_type": "stream",
     "text": [
      "Theoretical Expected Value: 3.5\n"
     ]
    }
   ],
   "source": [
    "print(f\"Theoretical Expected Value: {theoretical_expected_value}\")"
   ]
  },
  {
   "cell_type": "code",
   "execution_count": 54,
   "id": "1b88a16d-54de-4284-9437-02210cf9e14b",
   "metadata": {},
   "outputs": [
    {
     "name": "stdout",
     "output_type": "stream",
     "text": [
      "Theoretical Variance: 2.916666666666666\n"
     ]
    }
   ],
   "source": [
    "print(f\"Theoretical Variance: {theoretical_variance}\")"
   ]
  },
  {
   "cell_type": "code",
   "execution_count": 55,
   "id": "0ff15bcd-bdde-433e-9c09-9edb5c96248a",
   "metadata": {},
   "outputs": [
    {
     "name": "stdout",
     "output_type": "stream",
     "text": [
      "Empirical Expected Value (from simulation): 3.00854\n"
     ]
    }
   ],
   "source": [
    "print(f\"Empirical Expected Value (from simulation): {empirical_expected_value}\")"
   ]
  },
  {
   "cell_type": "code",
   "execution_count": 56,
   "id": "4b2d1dda-67f2-4f42-88ca-8d521318d81c",
   "metadata": {},
   "outputs": [
    {
     "name": "stdout",
     "output_type": "stream",
     "text": [
      "Empirical Variance (from simulation): 1.9949870684\n"
     ]
    }
   ],
   "source": [
    "print(f\"Empirical Variance (from simulation): {empirical_variance}\")"
   ]
  },
  {
   "cell_type": "code",
   "execution_count": 8,
   "id": "3993e9d3-8cb0-4efa-93d7-f625111f88fe",
   "metadata": {},
   "outputs": [],
   "source": [
    "# 5. Create a Python function to generate random samples from a given probability distribution (e.g., binomial, Poisson) and calculate their mean and variance.\n",
    "def generate_samples_and_statistics(dist_type, params, num_samples=1000):\n",
    "    if dist_type == 'binomial':\n",
    "        n, p = params  # n=10 trials and p=0.5 params = paramenter\n",
    "        samples = np.random.binomial(n, p, num_samples)\n",
    "        \n",
    "    elif dist_type == 'poisson':\n",
    "        lam = params[0]\n",
    "        samples = np.random.poissan(lam, num_samples)\n",
    "        \n",
    "    elif dist_type == 'normal':\n",
    "        mu, sigma = params\n",
    "        samples = np.random.normal(mu, sigma, num_samples)\n",
    "        \n",
    "    elif dist_type == 'uniform':\n",
    "        low, high = params\n",
    "        samples = np.random.uniform(low, high, num_samples)\n",
    "        \n",
    "    else:\n",
    "        raise ValueError(\"Unsupported distribution type\")\n",
    "        \n",
    "    mean = np.mean(samples)\n",
    "    variance = np.var(samples)\n",
    "\n",
    "    return samples, mean, variance\n",
    "\n",
    "samples, mean, variance = generate_samples_and_statistics('binomial', (10, 0.5))"
   ]
  },
  {
   "cell_type": "code",
   "execution_count": 9,
   "id": "7eee4e8c-d3c7-4b74-85a3-741546176548",
   "metadata": {},
   "outputs": [
    {
     "name": "stdout",
     "output_type": "stream",
     "text": [
      "Generated Samples: [4 6 5 3 6 6 7 5 4 5]\n"
     ]
    }
   ],
   "source": [
    "print(\"Generated Samples:\", samples[:10])"
   ]
  },
  {
   "cell_type": "code",
   "execution_count": 10,
   "id": "c668922a-af7c-4539-8460-e28c6eedac6b",
   "metadata": {},
   "outputs": [
    {
     "name": "stdout",
     "output_type": "stream",
     "text": [
      "Mean of samples: 4.989\n"
     ]
    }
   ],
   "source": [
    "print(\"Mean of samples:\", mean)"
   ]
  },
  {
   "cell_type": "code",
   "execution_count": 11,
   "id": "eb1428a4-980c-4420-9880-be47e35722f9",
   "metadata": {},
   "outputs": [
    {
     "name": "stdout",
     "output_type": "stream",
     "text": [
      "Variance of samples: 2.366879\n"
     ]
    }
   ],
   "source": [
    "print(\"Variance of samples:\", variance)"
   ]
  },
  {
   "cell_type": "code",
   "execution_count": 12,
   "id": "090e93f6-5b94-4a48-9080-a61cc3a3db31",
   "metadata": {},
   "outputs": [],
   "source": [
    "# 6. Write a Python script to generate random numbers from a Gaussian (normal) distribution and compute the mean, variance, and standard deviation of the samples.\n",
    "\n",
    "mean = 0\n",
    "std_dev = 1\n",
    "num_samples = 1000\n",
    "\n",
    "random_numbers = np.random.normal(mean, std_dev, num_samples)\n",
    "\n",
    "calculated_mean = np.mean(random_numbers)\n",
    "calculated_variance = np.var(random_numbers)\n",
    "calculated_std_dev = np.std(random_numbers)"
   ]
  },
  {
   "cell_type": "code",
   "execution_count": 13,
   "id": "9a568a4e-4dc2-4da2-a221-24397be6bb71",
   "metadata": {},
   "outputs": [
    {
     "name": "stdout",
     "output_type": "stream",
     "text": [
      "Generated 1000 random numbers from a normal distribution:\n"
     ]
    }
   ],
   "source": [
    "print(f\"Generated {num_samples} random numbers from a normal distribution:\")"
   ]
  },
  {
   "cell_type": "code",
   "execution_count": 14,
   "id": "37922a0b-4cff-463f-a35e-99aaa8ae4b1d",
   "metadata": {},
   "outputs": [
    {
     "name": "stdout",
     "output_type": "stream",
     "text": [
      "Mean of the samples: -0.02165924794904514\n"
     ]
    }
   ],
   "source": [
    "print(f\"Mean of the samples: {calculated_mean}\")"
   ]
  },
  {
   "cell_type": "code",
   "execution_count": 15,
   "id": "48c771c3-bf08-459d-936f-12a4fce2ec1d",
   "metadata": {},
   "outputs": [
    {
     "name": "stdout",
     "output_type": "stream",
     "text": [
      "Variance of the samples: 0.9539340886128166\n"
     ]
    }
   ],
   "source": [
    "print(f\"Variance of the samples: {calculated_variance}\")"
   ]
  },
  {
   "cell_type": "code",
   "execution_count": 16,
   "id": "b0a34470-c14a-4d40-8705-2dbd1282a02f",
   "metadata": {},
   "outputs": [
    {
     "name": "stdout",
     "output_type": "stream",
     "text": [
      "Standard deviation of the samples: 0.9766954943137685\n"
     ]
    }
   ],
   "source": [
    "print(f\"Standard deviation of the samples: {calculated_std_dev}\")"
   ]
  },
  {
   "cell_type": "code",
   "execution_count": 27,
   "id": "4dbeb04a-c314-47bf-bf78-ee0bafe34b91",
   "metadata": {},
   "outputs": [
    {
     "data": {
      "text/plain": [
       "(0      16.99\n",
       " 1      10.34\n",
       " 2      21.01\n",
       " 3      23.68\n",
       " 4      24.59\n",
       "        ...  \n",
       " 239    29.03\n",
       " 240    27.18\n",
       " 241    22.67\n",
       " 242    17.82\n",
       " 243    18.78\n",
       " Name: total_bill, Length: 244, dtype: float64,\n",
       " 0      1.01\n",
       " 1      1.66\n",
       " 2      3.50\n",
       " 3      3.31\n",
       " 4      3.61\n",
       "        ... \n",
       " 239    5.92\n",
       " 240    2.00\n",
       " 241    2.00\n",
       " 242    1.75\n",
       " 243    3.00\n",
       " Name: tip, Length: 244, dtype: float64)"
      ]
     },
     "execution_count": 27,
     "metadata": {},
     "output_type": "execute_result"
    }
   ],
   "source": [
    "# 7. Use seaborn library to load tips dataset. Find the following from the dataset for the columns total_bill and tip:\n",
    "import seaborn as sns\n",
    "from scipy.stats import skew\n",
    "df = sns.load_dataset('tips')\n",
    "data = (df['total_bill'], df['tip'])\n",
    "data"
   ]
  },
  {
   "cell_type": "code",
   "execution_count": 29,
   "id": "3eae090f-8452-4b51-8698-df40bf613bf9",
   "metadata": {},
   "outputs": [],
   "source": [
    "# (i) Write a Python function that calculates their skewness.\n",
    "\n",
    "def calculate_skewness(data, column_name):\n",
    "    return skew(data[column_name])\n",
    "\n",
    "total_bill_skewness = calculate_skewness(df, 'total_bill')\n",
    "tip_skewness = calculate_skewness(df, 'tip')"
   ]
  },
  {
   "cell_type": "code",
   "execution_count": 30,
   "id": "8cf85d92-0b01-4911-9eeb-c5b231698a89",
   "metadata": {},
   "outputs": [
    {
     "name": "stdout",
     "output_type": "stream",
     "text": [
      "Skewness of 'total_bill': 1.1262346334818638\n"
     ]
    }
   ],
   "source": [
    "print(f\"Skewness of 'total_bill': {total_bill_skewness}\")"
   ]
  },
  {
   "cell_type": "code",
   "execution_count": 33,
   "id": "082d1b06-91c9-4d52-9113-44bfef3e90c8",
   "metadata": {},
   "outputs": [
    {
     "name": "stdout",
     "output_type": "stream",
     "text": [
      "Skewness of 'tip': 1.4564266884221506\n"
     ]
    }
   ],
   "source": [
    "print(f\"Skewness of 'tip': {tip_skewness}\")"
   ]
  },
  {
   "cell_type": "code",
   "execution_count": 38,
   "id": "f2524fd3-5373-401a-a858-1d4b5d1fa017",
   "metadata": {},
   "outputs": [],
   "source": [
    "#  (ii) Create a program that determines whether the columns exhibit positive skewness, negative skewness, or is approximately symmetric.\n",
    "\n",
    "def determine_skewness_type(skew_value):\n",
    "    if skew_value > 0:\n",
    "        return \"Positive Skewness\"\n",
    "    elif skew_value < 0:\n",
    "        return \"Negative Skewness\"\n",
    "    else:\n",
    "        return \"Approximately Symmetric\"\n",
    "\n",
    "total_bill_skewness_type = determine_skewness_type(total_bill_skewness)\n",
    "tip_skewness_type = determine_skewness_type(tip_skewness)"
   ]
  },
  {
   "cell_type": "code",
   "execution_count": 39,
   "id": "81ca544d-1e80-4a5a-87f7-4036987a3a3a",
   "metadata": {},
   "outputs": [
    {
     "name": "stdout",
     "output_type": "stream",
     "text": [
      "Skewness of 'total_bill': Positive Skewness\n"
     ]
    }
   ],
   "source": [
    "print(f\"Skewness of 'total_bill': {total_bill_skewness_type}\")"
   ]
  },
  {
   "cell_type": "code",
   "execution_count": 40,
   "id": "a98f0392-66e0-4a42-9b74-11b8412bf830",
   "metadata": {},
   "outputs": [
    {
     "name": "stdout",
     "output_type": "stream",
     "text": [
      "Skewness of 'tip': Positive Skewness\n"
     ]
    }
   ],
   "source": [
    "print(f\"Skewness of 'tip': {tip_skewness_type}\")"
   ]
  },
  {
   "cell_type": "code",
   "execution_count": 42,
   "id": "3c5bf287-6841-4c4c-8698-136df589e1c4",
   "metadata": {},
   "outputs": [],
   "source": [
    "# (iii) Write a function that calculates the covariance between two columns.\n",
    "\n",
    "def calculate_covariance(data, column1, column2):\n",
    "    return data[[column1, column2]].cov().iloc[0, 1]\n",
    "\n",
    "covariance = calculate_covariance(df, 'total_bill', 'tip')"
   ]
  },
  {
   "cell_type": "code",
   "execution_count": 43,
   "id": "70bb6d3c-45c3-4530-becc-2be66f16eeb6",
   "metadata": {},
   "outputs": [
    {
     "name": "stdout",
     "output_type": "stream",
     "text": [
      "Covariance between 'total_bill' and 'tip': 8.323501629224854\n"
     ]
    }
   ],
   "source": [
    "print(f\"Covariance between 'total_bill' and 'tip': {covariance}\")"
   ]
  },
  {
   "cell_type": "code",
   "execution_count": 45,
   "id": "8eba394e-5696-4c06-95e1-b66e324a76a3",
   "metadata": {},
   "outputs": [],
   "source": [
    "#   (iv) Implement a Python program that calculates the Pearson correlation coefficient between two columns.\n",
    "\n",
    "def calculate_pearson_correlation(data, column1, column2):\n",
    "    return data[column1].corr(data[column2])\n",
    "\n",
    "pearson_correlation = calculate_pearson_correlation(df, 'total_bill', 'tip')"
   ]
  },
  {
   "cell_type": "code",
   "execution_count": 46,
   "id": "1297a70c-d9b9-4835-bccd-39375d09bc5f",
   "metadata": {},
   "outputs": [
    {
     "name": "stdout",
     "output_type": "stream",
     "text": [
      "Pearson correlation between 'total_bill' and 'tip': 0.6757341092113645\n"
     ]
    }
   ],
   "source": [
    "print(f\"Pearson correlation between 'total_bill' and 'tip': {pearson_correlation}\")"
   ]
  },
  {
   "cell_type": "code",
   "execution_count": 48,
   "id": "ed434e8f-1051-44b4-8f1a-6551674630d8",
   "metadata": {},
   "outputs": [
    {
     "data": {
      "image/png": "[encoded data removed]",
      "text/plain": [
       "<Figure size 640x480 with 1 Axes>"
      ]
     },
     "metadata": {},
     "output_type": "display_data"
    }
   ],
   "source": [
    "# (v) Write a script to visualize the correlation between two specific columns in a Pandas DataFrame using scatter plots.\n",
    "\n",
    "sns.scatterplot(data=df, x='total_bill', y='tip')\n",
    "plt.title('Scatter plot between total_bill and tip')\n",
    "plt.xlabel('Total_bill')\n",
    "plt.ylabel('Tip')\n",
    "plt.show()"
   ]
  },
  {
   "cell_type": "code",
   "execution_count": 50,
   "id": "7e0b6839-2c4e-4d30-aead-98e850487780",
   "metadata": {},
   "outputs": [],
   "source": [
    "# 8. Write a Python function to calculate the probability density function (PDF) of a continuous random variable for a given normal distribution.\n",
    "\n",
    "def normal_pdf(x, mu, sigma):\n",
    "\n",
    "    coefficient = 1 / (sigma * np.sqrt(2 * np.pi))\n",
    "    exponent = np.exp(-0.5 * ((x - mu) / sigma) ** 2)\n",
    "    return coefficient * exponent\n",
    "\n",
    "mu = 0 # mean\n",
    "sigma = 1 # std dev\n",
    "x_values = np.linspace(-5, 5, 1000)\n",
    "\n",
    "pdf_values = normal_pdf(x_values, mu, sigma)"
   ]
  },
  {
   "cell_type": "code",
   "execution_count": 51,
   "id": "f05b5214-aaa1-4773-a60d-007687697bc2",
   "metadata": {},
   "outputs": [
    {
     "data": {
      "text/plain": [
       "array([1.48671951e-06, 1.56294518e-06, 1.64291438e-06, 1.72680223e-06,\n",
       "       1.81479157e-06, 1.90707332e-06, 2.00384677e-06, 2.10531999e-06,\n",
       "       2.21171010e-06, 2.32324372e-06, 2.44015731e-06, 2.56269761e-06,\n",
       "       2.69112199e-06, 2.82569895e-06, 2.96670852e-06, 3.11444274e-06,\n",
       "       3.26920615e-06, 3.43131624e-06, 3.60110404e-06, 3.77891458e-06,\n",
       "       3.96510749e-06, 4.16005756e-06, 4.36415530e-06, 4.57780761e-06,\n",
       "       4.80143840e-06, 5.03548920e-06, 5.28041992e-06, 5.53670947e-06,\n",
       "       5.80485658e-06, 6.08538047e-06, 6.37882168e-06, 6.68574289e-06,\n",
       "       7.00672970e-06, 7.34239154e-06, 7.69336257e-06, 8.06030255e-06,\n",
       "       8.44389784e-06, 8.84486240e-06, 9.26393876e-06, 9.70189908e-06,\n",
       "       1.01595463e-05, 1.06377152e-05, 1.11372736e-05, 1.16591234e-05,\n",
       "       1.22042022e-05, 1.27734842e-05, 1.33679815e-05, 1.39887459e-05,\n",
       "       1.46368699e-05, 1.53134881e-05, 1.60197791e-05, 1.67569666e-05,\n",
       "       1.75263212e-05, 1.83291622e-05, 1.91668589e-05, 2.00408326e-05,\n",
       "       2.09525584e-05, 2.19035668e-05, 2.28954459e-05, 2.39298433e-05,\n",
       "       2.50084680e-05, 2.61330924e-05, 2.73055547e-05, 2.85277610e-05,\n",
       "       2.98016873e-05, 3.11293824e-05, 3.25129696e-05, 3.39546498e-05,\n",
       "       3.54567035e-05, 3.70214940e-05, 3.86514694e-05, 4.03491658e-05,\n",
       "       4.21172102e-05, 4.39583229e-05, 4.58753211e-05, 4.78711216e-05,\n",
       "       4.99487441e-05, 5.21113142e-05, 5.43620671e-05, 5.67043508e-05,\n",
       "       5.91416295e-05, 6.16774875e-05, 6.43156324e-05, 6.70598996e-05,\n",
       "       6.99142555e-05, 7.28828016e-05, 7.59697791e-05, 7.91795725e-05,\n",
       "       8.25167139e-05, 8.59858880e-05, 8.95919357e-05, 9.33398595e-05,\n",
       "       9.72348278e-05, 1.01282180e-04, 1.05487430e-04, 1.09856275e-04,\n",
       "       1.14394597e-04, 1.19108467e-04, 1.24004157e-04, 1.29088138e-04,\n",
       "       1.34367089e-04, 1.39847906e-04, 1.45537701e-04, 1.51443813e-04,\n",
       "       1.57573813e-04, 1.63935511e-04, 1.70536959e-04, 1.77386463e-04,\n",
       "       1.84492586e-04, 1.91864155e-04, 1.99510270e-04, 2.07440309e-04,\n",
       "       2.15663936e-04, 2.24191111e-04, 2.33032092e-04, 2.42197448e-04,\n",
       "       2.51698064e-04, 2.61545150e-04, 2.71750248e-04, 2.82325244e-04,\n",
       "       2.93282371e-04, 3.04634221e-04, 3.16393754e-04, 3.28574305e-04,\n",
       "       3.41189596e-04, 3.54253739e-04, 3.67781255e-04, 3.81787075e-04,\n",
       "       3.96286554e-04, 4.11295478e-04, 4.26830079e-04, 4.42907039e-04,\n",
       "       4.59543504e-04, 4.76757094e-04, 4.94565913e-04, 5.12988560e-04,\n",
       "       5.32044139e-04, 5.51752272e-04, 5.72133108e-04, 5.93207338e-04,\n",
       "       6.14996199e-04, 6.37521496e-04, 6.60805604e-04, 6.84871487e-04,\n",
       "       7.09742705e-04, 7.35443430e-04, 7.61998457e-04, 7.89433213e-04,\n",
       "       8.17773777e-04, 8.47046885e-04, 8.77279948e-04, 9.08501063e-04,\n",
       "       9.40739024e-04, 9.74023340e-04, 1.00838424e-03, 1.04385271e-03,\n",
       "       1.08046046e-03, 1.11823998e-03, 1.15722454e-03, 1.19744822e-03,\n",
       "       1.23894586e-03, 1.28175318e-03, 1.32590668e-03, 1.37144374e-03,\n",
       "       1.41840261e-03, 1.46682238e-03, 1.51674306e-03, 1.56820557e-03,\n",
       "       1.62125172e-03, 1.67592427e-03, 1.73226693e-03, 1.79032436e-03,\n",
       "       1.85014222e-03, 1.91176712e-03, 1.97524671e-03, 2.04062963e-03,\n",
       "       2.10796558e-03, 2.17730527e-03, 2.24870050e-03, 2.32220413e-03,\n",
       "       2.39787011e-03, 2.47575348e-03, 2.55591040e-03, 2.63839816e-03,\n",
       "       2.72327519e-03, 2.81060107e-03, 2.90043655e-03, 2.99284354e-03,\n",
       "       3.08788517e-03, 3.18562576e-03, 3.28613083e-03, 3.38946715e-03,\n",
       "       3.49570271e-03, 3.60490678e-03, 3.71714984e-03, 3.83250369e-03,\n",
       "       3.95104138e-03, 4.07283728e-03, 4.19796703e-03, 4.32650760e-03,\n",
       "       4.45853728e-03, 4.59413568e-03, 4.73338375e-03, 4.87636379e-03,\n",
       "       5.02315943e-03, 5.17385570e-03, 5.32853895e-03, 5.48729692e-03,\n",
       "       5.65021873e-03, 5.81739487e-03, 5.98891723e-03, 6.16487906e-03,\n",
       "       6.34537503e-03, 6.53050119e-03, 6.72035498e-03, 6.91503526e-03,\n",
       "       7.11464225e-03, 7.31927759e-03, 7.52904433e-03, 7.74404687e-03,\n",
       "       7.96439105e-03, 8.19018406e-03, 8.42153448e-03, 8.65855230e-03,\n",
       "       8.90134884e-03, 9.15003682e-03, 9.40473029e-03, 9.66554468e-03,\n",
       "       9.93259675e-03, 1.02060046e-02, 1.04858876e-02, 1.07723664e-02,\n",
       "       1.10655632e-02, 1.13656012e-02, 1.16726049e-02, 1.19867001e-02,\n",
       "       1.23080140e-02, 1.26366746e-02, 1.29728116e-02, 1.33165554e-02,\n",
       "       1.36680379e-02, 1.40273919e-02, 1.43947515e-02, 1.47702517e-02,\n",
       "       1.51540287e-02, 1.55462195e-02, 1.59469624e-02, 1.63563965e-02,\n",
       "       1.67746618e-02, 1.72018992e-02, 1.76382506e-02, 1.80838585e-02,\n",
       "       1.85388665e-02, 1.90034187e-02, 1.94776600e-02, 1.99617360e-02,\n",
       "       2.04557929e-02, 2.09599775e-02, 2.14744372e-02, 2.19993198e-02,\n",
       "       2.25347735e-02, 2.30809471e-02, 2.36379896e-02, 2.42060504e-02,\n",
       "       2.47852791e-02, 2.53758253e-02, 2.59778391e-02, 2.65914704e-02,\n",
       "       2.72168692e-02, 2.78541855e-02, 2.85035691e-02, 2.91651697e-02,\n",
       "       2.98391368e-02, 3.05256195e-02, 3.12247667e-02, 3.19367266e-02,\n",
       "       3.26616471e-02, 3.33996755e-02, 3.41509585e-02, 3.49156418e-02,\n",
       "       3.56938707e-02, 3.64857893e-02, 3.72915409e-02, 3.81112678e-02,\n",
       "       3.89451110e-02, 3.97932106e-02, 4.06557052e-02, 4.15327320e-02,\n",
       "       4.24244269e-02, 4.33309242e-02, 4.42523567e-02, 4.51888553e-02,\n",
       "       4.61405491e-02, 4.71075656e-02, 4.80900299e-02, 4.90880655e-02,\n",
       "       5.01017932e-02, 5.11313321e-02, 5.21767985e-02, 5.32383064e-02,\n",
       "       5.43159674e-02, 5.54098903e-02, 5.65201811e-02, 5.76469432e-02,\n",
       "       5.87902768e-02, 5.99502792e-02, 6.11270446e-02, 6.23206639e-02,\n",
       "       6.35312247e-02, 6.47588111e-02, 6.60035037e-02, 6.72653795e-02,\n",
       "       6.85445117e-02, 6.98409697e-02, 7.11548190e-02, 7.24861209e-02,\n",
       "       7.38349328e-02, 7.52013075e-02, 7.65852939e-02, 7.79869361e-02,\n",
       "       7.94062739e-02, 8.08433422e-02, 8.22981714e-02, 8.37707869e-02,\n",
       "       8.52612093e-02, 8.67694540e-02, 8.82955314e-02, 8.98394467e-02,\n",
       "       9.14011996e-02, 9.29807846e-02, 9.45781905e-02, 9.61934008e-02,\n",
       "       9.78263929e-02, 9.94771388e-02, 1.01145604e-01, 1.02831750e-01,\n",
       "       1.04535529e-01, 1.06256890e-01, 1.07995775e-01, 1.09752118e-01,\n",
       "       1.11525850e-01, 1.13316892e-01, 1.15125161e-01, 1.16950567e-01,\n",
       "       1.18793013e-01, 1.20652394e-01, 1.22528601e-01, 1.24421517e-01,\n",
       "       1.26331016e-01, 1.28256969e-01, 1.30199236e-01, 1.32157674e-01,\n",
       "       1.34132129e-01, 1.36122443e-01, 1.38128449e-01, 1.40149973e-01,\n",
       "       1.42186834e-01, 1.44238845e-01, 1.46305809e-01, 1.48387524e-01,\n",
       "       1.50483779e-01, 1.52594357e-01, 1.54719033e-01, 1.56857574e-01,\n",
       "       1.59009741e-01, 1.61175286e-01, 1.63353954e-01, 1.65545484e-01,\n",
       "       1.67749605e-01, 1.69966042e-01, 1.72194509e-01, 1.74434714e-01,\n",
       "       1.76686359e-01, 1.78949137e-01, 1.81222735e-01, 1.83506831e-01,\n",
       "       1.85801097e-01, 1.88105197e-01, 1.90418790e-01, 1.92741524e-01,\n",
       "       1.95073045e-01, 1.97412986e-01, 1.99760979e-01, 2.02116645e-01,\n",
       "       2.04479600e-01, 2.06849454e-01, 2.09225807e-01, 2.11608257e-01,\n",
       "       2.13996392e-01, 2.16389795e-01, 2.18788043e-01, 2.21190706e-01,\n",
       "       2.23597349e-01, 2.26007530e-01, 2.28420802e-01, 2.30836711e-01,\n",
       "       2.33254798e-01, 2.35674601e-01, 2.38095648e-01, 2.40517464e-01,\n",
       "       2.42939571e-01, 2.45361483e-01, 2.47782710e-01, 2.50202758e-01,\n",
       "       2.52621129e-01, 2.55037318e-01, 2.57450819e-01, 2.59861120e-01,\n",
       "       2.62267707e-01, 2.64670059e-01, 2.67067655e-01, 2.69459970e-01,\n",
       "       2.71846473e-01, 2.74226634e-01, 2.76599918e-01, 2.78965787e-01,\n",
       "       2.81323703e-01, 2.83673123e-01, 2.86013503e-01, 2.88344299e-01,\n",
       "       2.90664962e-01, 2.92974946e-01, 2.95273699e-01, 2.97560671e-01,\n",
       "       2.99835312e-01, 3.02097069e-01, 3.04345390e-01, 3.06579724e-01,\n",
       "       3.08799517e-01, 3.11004218e-01, 3.13193276e-01, 3.15366141e-01,\n",
       "       3.17522263e-01, 3.19661095e-01, 3.21782090e-01, 3.23884702e-01,\n",
       "       3.25968391e-01, 3.28032613e-01, 3.30076832e-01, 3.32100512e-01,\n",
       "       3.34103120e-01, 3.36084127e-01, 3.38043006e-01, 3.39979235e-01,\n",
       "       3.41892294e-01, 3.43781670e-01, 3.45646851e-01, 3.47487331e-01,\n",
       "       3.49302609e-01, 3.51092190e-01, 3.52855580e-01, 3.54592296e-01,\n",
       "       3.56301856e-01, 3.57983786e-01, 3.59637619e-01, 3.61262891e-01,\n",
       "       3.62859148e-01, 3.64425940e-01, 3.65962827e-01, 3.67469372e-01,\n",
       "       3.68945149e-01, 3.70389738e-01, 3.71802727e-01, 3.73183711e-01,\n",
       "       3.74532294e-01, 3.75848089e-01, 3.77130715e-01, 3.78379803e-01,\n",
       "       3.79594991e-01, 3.80775926e-01, 3.81922264e-01, 3.83033671e-01,\n",
       "       3.84109822e-01, 3.85150403e-01, 3.86155108e-01, 3.87123642e-01,\n",
       "       3.88055720e-01, 3.88951067e-01, 3.89809419e-01, 3.90630522e-01,\n",
       "       3.91414133e-01, 3.92160019e-01, 3.92867960e-01, 3.93537743e-01,\n",
       "       3.94169171e-01, 3.94762054e-01, 3.95316217e-01, 3.95831493e-01,\n",
       "       3.96307728e-01, 3.96744781e-01, 3.97142519e-01, 3.97500825e-01,\n",
       "       3.97819591e-01, 3.98098720e-01, 3.98338130e-01, 3.98537748e-01,\n",
       "       3.98697514e-01, 3.98817381e-01, 3.98897312e-01, 3.98937284e-01,\n",
       "       3.98937284e-01, 3.98897312e-01, 3.98817381e-01, 3.98697514e-01,\n",
       "       3.98537748e-01, 3.98338130e-01, 3.98098720e-01, 3.97819591e-01,\n",
       "       3.97500825e-01, 3.97142519e-01, 3.96744781e-01, 3.96307728e-01,\n",
       "       3.95831493e-01, 3.95316217e-01, 3.94762054e-01, 3.94169171e-01,\n",
       "       3.93537743e-01, 3.92867960e-01, 3.92160019e-01, 3.91414133e-01,\n",
       "       3.90630522e-01, 3.89809419e-01, 3.88951067e-01, 3.88055720e-01,\n",
       "       3.87123642e-01, 3.86155108e-01, 3.85150403e-01, 3.84109822e-01,\n",
       "       3.83033671e-01, 3.81922264e-01, 3.80775926e-01, 3.79594991e-01,\n",
       "       3.78379803e-01, 3.77130715e-01, 3.75848089e-01, 3.74532294e-01,\n",
       "       3.73183711e-01, 3.71802727e-01, 3.70389738e-01, 3.68945149e-01,\n",
       "       3.67469372e-01, 3.65962827e-01, 3.64425940e-01, 3.62859148e-01,\n",
       "       3.61262891e-01, 3.59637619e-01, 3.57983786e-01, 3.56301856e-01,\n",
       "       3.54592296e-01, 3.52855580e-01, 3.51092190e-01, 3.49302609e-01,\n",
       "       3.47487331e-01, 3.45646851e-01, 3.43781670e-01, 3.41892294e-01,\n",
       "       3.39979235e-01, 3.38043006e-01, 3.36084127e-01, 3.34103120e-01,\n",
       "       3.32100512e-01, 3.30076832e-01, 3.28032613e-01, 3.25968391e-01,\n",
       "       3.23884702e-01, 3.21782090e-01, 3.19661095e-01, 3.17522263e-01,\n",
       "       3.15366141e-01, 3.13193276e-01, 3.11004218e-01, 3.08799517e-01,\n",
       "       3.06579724e-01, 3.04345390e-01, 3.02097069e-01, 2.99835312e-01,\n",
       "       2.97560671e-01, 2.95273699e-01, 2.92974946e-01, 2.90664962e-01,\n",
       "       2.88344299e-01, 2.86013503e-01, 2.83673123e-01, 2.81323703e-01,\n",
       "       2.78965787e-01, 2.76599918e-01, 2.74226634e-01, 2.71846473e-01,\n",
       "       2.69459970e-01, 2.67067655e-01, 2.64670059e-01, 2.62267707e-01,\n",
       "       2.59861120e-01, 2.57450819e-01, 2.55037318e-01, 2.52621129e-01,\n",
       "       2.50202758e-01, 2.47782710e-01, 2.45361483e-01, 2.42939571e-01,\n",
       "       2.40517464e-01, 2.38095648e-01, 2.35674601e-01, 2.33254798e-01,\n",
       "       2.30836711e-01, 2.28420802e-01, 2.26007530e-01, 2.23597349e-01,\n",
       "       2.21190706e-01, 2.18788043e-01, 2.16389795e-01, 2.13996392e-01,\n",
       "       2.11608257e-01, 2.09225807e-01, 2.06849454e-01, 2.04479600e-01,\n",
       "       2.02116645e-01, 1.99760979e-01, 1.97412986e-01, 1.95073045e-01,\n",
       "       1.92741524e-01, 1.90418790e-01, 1.88105197e-01, 1.85801097e-01,\n",
       "       1.83506831e-01, 1.81222735e-01, 1.78949137e-01, 1.76686359e-01,\n",
       "       1.74434714e-01, 1.72194509e-01, 1.69966042e-01, 1.67749605e-01,\n",
       "       1.65545484e-01, 1.63353954e-01, 1.61175286e-01, 1.59009741e-01,\n",
       "       1.56857574e-01, 1.54719033e-01, 1.52594357e-01, 1.50483779e-01,\n",
       "       1.48387524e-01, 1.46305809e-01, 1.44238845e-01, 1.42186834e-01,\n",
       "       1.40149973e-01, 1.38128449e-01, 1.36122443e-01, 1.34132129e-01,\n",
       "       1.32157674e-01, 1.30199236e-01, 1.28256969e-01, 1.26331016e-01,\n",
       "       1.24421517e-01, 1.22528601e-01, 1.20652394e-01, 1.18793013e-01,\n",
       "       1.16950567e-01, 1.15125161e-01, 1.13316892e-01, 1.11525850e-01,\n",
       "       1.09752118e-01, 1.07995775e-01, 1.06256890e-01, 1.04535529e-01,\n",
       "       1.02831750e-01, 1.01145604e-01, 9.94771388e-02, 9.78263929e-02,\n",
       "       9.61934008e-02, 9.45781905e-02, 9.29807846e-02, 9.14011996e-02,\n",
       "       8.98394467e-02, 8.82955314e-02, 8.67694540e-02, 8.52612093e-02,\n",
       "       8.37707869e-02, 8.22981714e-02, 8.08433422e-02, 7.94062739e-02,\n",
       "       7.79869361e-02, 7.65852939e-02, 7.52013075e-02, 7.38349328e-02,\n",
       "       7.24861209e-02, 7.11548190e-02, 6.98409697e-02, 6.85445117e-02,\n",
       "       6.72653795e-02, 6.60035037e-02, 6.47588111e-02, 6.35312247e-02,\n",
       "       6.23206639e-02, 6.11270446e-02, 5.99502792e-02, 5.87902768e-02,\n",
       "       5.76469432e-02, 5.65201811e-02, 5.54098903e-02, 5.43159674e-02,\n",
       "       5.32383064e-02, 5.21767985e-02, 5.11313321e-02, 5.01017932e-02,\n",
       "       4.90880655e-02, 4.80900299e-02, 4.71075656e-02, 4.61405491e-02,\n",
       "       4.51888553e-02, 4.42523567e-02, 4.33309242e-02, 4.24244269e-02,\n",
       "       4.15327320e-02, 4.06557052e-02, 3.97932106e-02, 3.89451110e-02,\n",
       "       3.81112678e-02, 3.72915409e-02, 3.64857893e-02, 3.56938707e-02,\n",
       "       3.49156418e-02, 3.41509585e-02, 3.33996755e-02, 3.26616471e-02,\n",
       "       3.19367266e-02, 3.12247667e-02, 3.05256195e-02, 2.98391368e-02,\n",
       "       2.91651697e-02, 2.85035691e-02, 2.78541855e-02, 2.72168692e-02,\n",
       "       2.65914704e-02, 2.59778391e-02, 2.53758253e-02, 2.47852791e-02,\n",
       "       2.42060504e-02, 2.36379896e-02, 2.30809471e-02, 2.25347735e-02,\n",
       "       2.19993198e-02, 2.14744372e-02, 2.09599775e-02, 2.04557929e-02,\n",
       "       1.99617360e-02, 1.94776600e-02, 1.90034187e-02, 1.85388665e-02,\n",
       "       1.80838585e-02, 1.76382506e-02, 1.72018992e-02, 1.67746618e-02,\n",
       "       1.63563965e-02, 1.59469624e-02, 1.55462195e-02, 1.51540287e-02,\n",
       "       1.47702517e-02, 1.43947515e-02, 1.40273919e-02, 1.36680379e-02,\n",
       "       1.33165554e-02, 1.29728116e-02, 1.26366746e-02, 1.23080140e-02,\n",
       "       1.19867001e-02, 1.16726049e-02, 1.13656012e-02, 1.10655632e-02,\n",
       "       1.07723664e-02, 1.04858876e-02, 1.02060046e-02, 9.93259675e-03,\n",
       "       9.66554468e-03, 9.40473029e-03, 9.15003682e-03, 8.90134884e-03,\n",
       "       8.65855230e-03, 8.42153448e-03, 8.19018406e-03, 7.96439105e-03,\n",
       "       7.74404687e-03, 7.52904433e-03, 7.31927759e-03, 7.11464225e-03,\n",
       "       6.91503526e-03, 6.72035498e-03, 6.53050119e-03, 6.34537503e-03,\n",
       "       6.16487906e-03, 5.98891723e-03, 5.81739487e-03, 5.65021873e-03,\n",
       "       5.48729692e-03, 5.32853895e-03, 5.17385570e-03, 5.02315943e-03,\n",
       "       4.87636379e-03, 4.73338375e-03, 4.59413568e-03, 4.45853728e-03,\n",
       "       4.32650760e-03, 4.19796703e-03, 4.07283728e-03, 3.95104138e-03,\n",
       "       3.83250369e-03, 3.71714984e-03, 3.60490678e-03, 3.49570271e-03,\n",
       "       3.38946715e-03, 3.28613083e-03, 3.18562576e-03, 3.08788517e-03,\n",
       "       2.99284354e-03, 2.90043655e-03, 2.81060107e-03, 2.72327519e-03,\n",
       "       2.63839816e-03, 2.55591040e-03, 2.47575348e-03, 2.39787011e-03,\n",
       "       2.32220413e-03, 2.24870050e-03, 2.17730527e-03, 2.10796558e-03,\n",
       "       2.04062963e-03, 1.97524671e-03, 1.91176712e-03, 1.85014222e-03,\n",
       "       1.79032436e-03, 1.73226693e-03, 1.67592427e-03, 1.62125172e-03,\n",
       "       1.56820557e-03, 1.51674306e-03, 1.46682238e-03, 1.41840261e-03,\n",
       "       1.37144374e-03, 1.32590668e-03, 1.28175318e-03, 1.23894586e-03,\n",
       "       1.19744822e-03, 1.15722454e-03, 1.11823998e-03, 1.08046046e-03,\n",
       "       1.04385271e-03, 1.00838424e-03, 9.74023340e-04, 9.40739024e-04,\n",
       "       9.08501063e-04, 8.77279948e-04, 8.47046885e-04, 8.17773777e-04,\n",
       "       7.89433213e-04, 7.61998457e-04, 7.35443430e-04, 7.09742705e-04,\n",
       "       6.84871487e-04, 6.60805604e-04, 6.37521496e-04, 6.14996199e-04,\n",
       "       5.93207338e-04, 5.72133108e-04, 5.51752272e-04, 5.32044139e-04,\n",
       "       5.12988560e-04, 4.94565913e-04, 4.76757094e-04, 4.59543504e-04,\n",
       "       4.42907039e-04, 4.26830079e-04, 4.11295478e-04, 3.96286554e-04,\n",
       "       3.81787075e-04, 3.67781255e-04, 3.54253739e-04, 3.41189596e-04,\n",
       "       3.28574305e-04, 3.16393754e-04, 3.04634221e-04, 2.93282371e-04,\n",
       "       2.82325244e-04, 2.71750248e-04, 2.61545150e-04, 2.51698064e-04,\n",
       "       2.42197448e-04, 2.33032092e-04, 2.24191111e-04, 2.15663936e-04,\n",
       "       2.07440309e-04, 1.99510270e-04, 1.91864155e-04, 1.84492586e-04,\n",
       "       1.77386463e-04, 1.70536959e-04, 1.63935511e-04, 1.57573813e-04,\n",
       "       1.51443813e-04, 1.45537701e-04, 1.39847906e-04, 1.34367089e-04,\n",
       "       1.29088138e-04, 1.24004157e-04, 1.19108467e-04, 1.14394597e-04,\n",
       "       1.09856275e-04, 1.05487430e-04, 1.01282180e-04, 9.72348278e-05,\n",
       "       9.33398595e-05, 8.95919357e-05, 8.59858880e-05, 8.25167139e-05,\n",
       "       7.91795725e-05, 7.59697791e-05, 7.28828016e-05, 6.99142555e-05,\n",
       "       6.70598996e-05, 6.43156324e-05, 6.16774875e-05, 5.91416295e-05,\n",
       "       5.67043508e-05, 5.43620671e-05, 5.21113142e-05, 4.99487441e-05,\n",
       "       4.78711216e-05, 4.58753211e-05, 4.39583229e-05, 4.21172102e-05,\n",
       "       4.03491658e-05, 3.86514694e-05, 3.70214940e-05, 3.54567035e-05,\n",
       "       3.39546498e-05, 3.25129696e-05, 3.11293824e-05, 2.98016873e-05,\n",
       "       2.85277610e-05, 2.73055547e-05, 2.61330924e-05, 2.50084680e-05,\n",
       "       2.39298433e-05, 2.28954459e-05, 2.19035668e-05, 2.09525584e-05,\n",
       "       2.00408326e-05, 1.91668589e-05, 1.83291622e-05, 1.75263212e-05,\n",
       "       1.67569666e-05, 1.60197791e-05, 1.53134881e-05, 1.46368699e-05,\n",
       "       1.39887459e-05, 1.33679815e-05, 1.27734842e-05, 1.22042022e-05,\n",
       "       1.16591234e-05, 1.11372736e-05, 1.06377152e-05, 1.01595463e-05,\n",
       "       9.70189908e-06, 9.26393876e-06, 8.84486240e-06, 8.44389784e-06,\n",
       "       8.06030255e-06, 7.69336257e-06, 7.34239154e-06, 7.00672970e-06,\n",
       "       6.68574289e-06, 6.37882168e-06, 6.08538047e-06, 5.80485658e-06,\n",
       "       5.53670947e-06, 5.28041992e-06, 5.03548920e-06, 4.80143840e-06,\n",
       "       4.57780761e-06, 4.36415530e-06, 4.16005756e-06, 3.96510749e-06,\n",
       "       3.77891458e-06, 3.60110404e-06, 3.43131624e-06, 3.26920615e-06,\n",
       "       3.11444274e-06, 2.96670852e-06, 2.82569895e-06, 2.69112199e-06,\n",
       "       2.56269761e-06, 2.44015731e-06, 2.32324372e-06, 2.21171010e-06,\n",
       "       2.10531999e-06, 2.00384677e-06, 1.90707332e-06, 1.81479157e-06,\n",
       "       1.72680223e-06, 1.64291438e-06, 1.56294518e-06, 1.48671951e-06])"
      ]
     },
     "execution_count": 51,
     "metadata": {},
     "output_type": "execute_result"
    }
   ],
   "source": [
    "pdf_values"
   ]
  },
  {
   "cell_type": "code",
   "execution_count": 52,
   "id": "35dc0b37-e609-401c-a6d3-4d545e6d8ba2",
   "metadata": {},
   "outputs": [
    {
     "data": {
      "image/png": "[encoded data removed]",
      "text/plain": [
       "<Figure size 640x480 with 1 Axes>"
      ]
     },
     "metadata": {},
     "output_type": "display_data"
    }
   ],
   "source": [
    "plt.plot(x_values, pdf_values, label='Normal PDF')\n",
    "plt.title(f'Normal Distribution with mean = {mu} and Std Dev = {sigma}')\n",
    "plt.xlabel('X')\n",
    "plt.ylabel('PDF(X)')\n",
    "plt.legend()\n",
    "plt.show()"
   ]
  },
  {
   "cell_type": "code",
   "execution_count": 54,
   "id": "0d4e1fb7-21d1-4ef2-b87f-59412babd809",
   "metadata": {},
   "outputs": [
    {
     "data": {
      "text/plain": [
       "array([0.        , 0.00996008, 0.01982095, 0.02958361, 0.03924903,\n",
       "       0.04881818, 0.05829203, 0.06767151, 0.07695757, 0.08615115,\n",
       "       0.09525315, 0.1042645 , 0.11318609, 0.12201883, 0.13076359,\n",
       "       0.13942125, 0.14799268, 0.15647874, 0.16488027, 0.17319813,\n",
       "       0.18143314, 0.18958613, 0.19765791, 0.2056493 , 0.2135611 ,\n",
       "       0.22139409, 0.22914906, 0.2368268 , 0.24442806, 0.25195361,\n",
       "       0.25940421, 0.2667806 , 0.27408353, 0.28131371, 0.28847188,\n",
       "       0.29555875, 0.30257504, 0.30952145, 0.31639867, 0.32320739,\n",
       "       0.3299483 , 0.33662206, 0.34322936, 0.34977084, 0.35624718,\n",
       "       0.362659  , 0.36900697, 0.37529171, 0.38151385, 0.38767402,\n",
       "       0.39377283, 0.3998109 , 0.40578883, 0.41170722, 0.41756666,\n",
       "       0.42336774, 0.42911104, 0.43479714, 0.44042661, 0.446     ,\n",
       "       0.45151788, 0.45698081, 0.46238932, 0.46774396, 0.47304527,\n",
       "       0.47829378, 0.48349002, 0.4886345 , 0.49372773, 0.49877025,\n",
       "       0.50376253, 0.5087051 , 0.51359843, 0.51844303, 0.52323937,\n",
       "       0.52798794, 0.53268922, 0.53734367, 0.54195176, 0.54651396,\n",
       "       0.55103071, 0.55550248, 0.55992971, 0.56431285, 0.56865232,\n",
       "       0.57294858, 0.57720204, 0.58141314, 0.5855823 , 0.58970993,\n",
       "       0.59379645, 0.59784227, 0.60184779, 0.60581342, 0.60973955,\n",
       "       0.61362657, 0.61747488, 0.62128486, 0.62505689, 0.62879136,\n",
       "       0.63248862, 0.63614906, 0.63977305, 0.64336093, 0.64691309,\n",
       "       0.65042986, 0.65391161, 0.65735867, 0.66077141, 0.66415015,\n",
       "       0.66749524, 0.67080701, 0.6740858 , 0.67733193, 0.68054573,\n",
       "       0.68372752, 0.68687762, 0.68999634, 0.693084  , 0.69614091,\n",
       "       0.69916737, 0.70216368, 0.70513015, 0.70806708, 0.71097475,\n",
       "       0.71385347, 0.71670351, 0.71952516, 0.72231872, 0.72508444,\n",
       "       0.72782262, 0.73053353, 0.73321744, 0.73587461, 0.73850532,\n",
       "       0.74110983, 0.74368839, 0.74624128, 0.74876873, 0.75127102,\n",
       "       0.75374838, 0.75620106, 0.75862932, 0.76103339, 0.76341351,\n",
       "       0.76576993, 0.76810288, 0.77041259, 0.7726993 , 0.77496324,\n",
       "       0.77720462, 0.77942368, 0.78162063, 0.78379571, 0.78594912,\n",
       "       0.78808108, 0.79019181, 0.79228152, 0.79435041, 0.7963987 ,\n",
       "       0.79842658, 0.80043427, 0.80242196, 0.80438985, 0.80633814,\n",
       "       0.80826703, 0.8101767 , 0.81206736, 0.81393918, 0.81579236,\n",
       "       0.81762708, 0.81944353, 0.82124189, 0.82302233, 0.82478504,\n",
       "       0.8265302 , 0.82825797, 0.82996854, 0.83166206, 0.83333872,\n",
       "       0.83499868, 0.83664211, 0.83826916, 0.83988001, 0.84147482,\n",
       "       0.84305374, 0.84461694, 0.84616457, 0.84769678, 0.84921373,\n",
       "       0.85071558, 0.85220246, 0.85367453, 0.85513195, 0.85657484,\n",
       "       0.85800337, 0.85941767, 0.86081788, 0.86220414, 0.8635766 ,\n",
       "       0.86493539, 0.86628064, 0.8676125 , 0.86893109, 0.87023654,\n",
       "       0.871529  , 0.87280858, 0.87407541, 0.87532963, 0.87657136,\n",
       "       0.87780072, 0.87901783, 0.88022282, 0.88141581, 0.88259692,\n",
       "       0.88376626, 0.88492396, 0.88607013, 0.88720488, 0.88832833,\n",
       "       0.88944058, 0.89054176, 0.89163198, 0.89271133, 0.89377993,\n",
       "       0.89483789, 0.89588532, 0.89692231, 0.89794897, 0.8989654 ,\n",
       "       0.89997172, 0.90096801, 0.90195437, 0.90293091, 0.90389773,\n",
       "       0.90485492, 0.90580257, 0.90674078, 0.90766965, 0.90858927,\n",
       "       0.90949973, 0.91040112, 0.91129353, 0.91217705, 0.91305177,\n",
       "       0.91391779, 0.91477517, 0.91562402, 0.91646441, 0.91729643,\n",
       "       0.91812016, 0.91893569, 0.9197431 , 0.92054246, 0.92133387,\n",
       "       0.92211739, 0.9228931 , 0.92366109, 0.92442144, 0.9251742 ,\n",
       "       0.92591948, 0.92665732, 0.92738782, 0.92811104, 0.92882706,\n",
       "       0.92953595, 0.93023778, 0.93093262, 0.93162053, 0.9323016 ,\n",
       "       0.93297588, 0.93364344, 0.93430436, 0.93495869, 0.93560651,\n",
       "       0.93624787, 0.93688285, 0.9375115 , 0.93813389, 0.93875008,\n",
       "       0.93936014, 0.93996412, 0.94056208, 0.94115408, 0.94174019,\n",
       "       0.94232047, 0.94289496, 0.94346373, 0.94402683, 0.94458433,\n",
       "       0.94513628, 0.94568272, 0.94622373, 0.94675934, 0.94728962,\n",
       "       0.94781462, 0.94833439, 0.94884899, 0.94935845, 0.94986285,\n",
       "       0.95036222, 0.95085661, 0.95134609, 0.95183068, 0.95231045,\n",
       "       0.95278544, 0.95325571, 0.95372128, 0.95418222, 0.95463857,\n",
       "       0.95509037, 0.95553768, 0.95598052, 0.95641896, 0.95685303,\n",
       "       0.95728278, 0.95770825, 0.95812948, 0.95854651, 0.95895939,\n",
       "       0.95936816, 0.95977285, 0.96017352, 0.96057019, 0.96096292,\n",
       "       0.96135173, 0.96173667, 0.96211777, 0.96249508, 0.96286864,\n",
       "       0.96323847, 0.96360462, 0.96396712, 0.96432601, 0.96468132,\n",
       "       0.9650331 , 0.96538137, 0.96572618, 0.96606755, 0.96640552,\n",
       "       0.96674012, 0.96707139, 0.96739936, 0.96772407, 0.96804554,\n",
       "       0.96836381, 0.96867891, 0.96899087, 0.96929972, 0.9696055 ,\n",
       "       0.96990823, 0.97020794, 0.97050468, 0.97079845, 0.9710893 ,\n",
       "       0.97137725, 0.97166234, 0.97194458, 0.97222402, 0.97250067,\n",
       "       0.97277456, 0.97304573, 0.9733142 , 0.97357999, 0.97384314,\n",
       "       0.97410366, 0.97436159, 0.97461695, 0.97486977, 0.97512007,\n",
       "       0.97536787, 0.97561321, 0.9758561 , 0.97609658, 0.97633466,\n",
       "       0.97657037, 0.97680373, 0.97703477, 0.9772635 , 0.97748996,\n",
       "       0.97771416, 0.97793613, 0.97815589, 0.97837346, 0.97858886,\n",
       "       0.97880211, 0.97901325, 0.97922228, 0.97942922, 0.97963411,\n",
       "       0.97983696, 0.98003778, 0.98023661, 0.98043345, 0.98062834,\n",
       "       0.98082128, 0.9810123 , 0.98120142, 0.98138866, 0.98157403,\n",
       "       0.98175755, 0.98193925, 0.98211913, 0.98229723, 0.98247355,\n",
       "       0.98264811, 0.98282094, 0.98299204, 0.98316145, 0.98332916,\n",
       "       0.9834952 , 0.98365959, 0.98382234, 0.98398347, 0.984143  ,\n",
       "       0.98430094, 0.9844573 , 0.98461211, 0.98476537, 0.98491711,\n",
       "       0.98506734, 0.98521607, 0.98536331, 0.9855091 , 0.98565343,\n",
       "       0.98579632, 0.98593779, 0.98607785, 0.98621652, 0.9863538 ,\n",
       "       0.98648972, 0.98662428, 0.98675751, 0.9868894 , 0.98701998,\n",
       "       0.98714927, 0.98727726, 0.98740398, 0.98752944, 0.98765364,\n",
       "       0.98777662, 0.98789836, 0.98801889, 0.98813823, 0.98825637,\n",
       "       0.98837334, 0.98848914, 0.98860379, 0.9887173 , 0.98882967,\n",
       "       0.98894093, 0.98905108, 0.98916013, 0.9892681 , 0.98937499,\n",
       "       0.98948082, 0.98958559, 0.98968932, 0.98979201, 0.98989368,\n",
       "       0.98999434, 0.990094  , 0.99019266, 0.99029035, 0.99038705,\n",
       "       0.9904828 , 0.99057759, 0.99067144, 0.99076435, 0.99085634,\n",
       "       0.99094741, 0.99103758, 0.99112684, 0.99121522, 0.99130272,\n",
       "       0.99138934, 0.99147511, 0.99156002, 0.99164408, 0.9917273 ,\n",
       "       0.9918097 , 0.99189128, 0.99197204, 0.992052  , 0.99213116,\n",
       "       0.99220954, 0.99228713, 0.99236395, 0.99244001, 0.9925153 ,\n",
       "       0.99258985, 0.99266366, 0.99273673, 0.99280907, 0.99288069,\n",
       "       0.9929516 , 0.9930218 , 0.99309131, 0.99316012, 0.99322825,\n",
       "       0.99329569, 0.99336247, 0.99342858, 0.99349403, 0.99355883,\n",
       "       0.99362298, 0.9936865 , 0.99374938, 0.99381164, 0.99387328,\n",
       "       0.9939343 , 0.99399471, 0.99405453, 0.99411374, 0.99417237,\n",
       "       0.99423042, 0.99428788, 0.99434477, 0.9944011 , 0.99445687,\n",
       "       0.99451208, 0.99456674, 0.99462085, 0.99467443, 0.99472747,\n",
       "       0.99477999, 0.99483198, 0.99488345, 0.99493441, 0.99498487,\n",
       "       0.99503482, 0.99508427, 0.99513323, 0.99518171, 0.9952297 ,\n",
       "       0.99527721, 0.99532425, 0.99537082, 0.99541693, 0.99546257,\n",
       "       0.99550777, 0.99555251, 0.99559681, 0.99564066, 0.99568408,\n",
       "       0.99572707, 0.99576963, 0.99581176, 0.99585348, 0.99589478,\n",
       "       0.99593567, 0.99597615, 0.99601623, 0.9960559 , 0.99609519,\n",
       "       0.99613408, 0.99617258, 0.99621071, 0.99624845, 0.99628581,\n",
       "       0.99632281, 0.99635943, 0.99639569, 0.99643159, 0.99646713,\n",
       "       0.99650232, 0.99653716, 0.99657165, 0.99660579, 0.9966396 ,\n",
       "       0.99667307, 0.99670621, 0.99673901, 0.99677149, 0.99680365,\n",
       "       0.99683549, 0.996867  , 0.99689821, 0.9969291 , 0.99695969,\n",
       "       0.99698997, 0.99701995, 0.99704963, 0.99707902, 0.99710811,\n",
       "       0.99713692, 0.99716543, 0.99719366, 0.99722162, 0.99724929,\n",
       "       0.99727669, 0.99730381, 0.99733067, 0.99735725, 0.99738357,\n",
       "       0.99740963, 0.99743543, 0.99746098, 0.99748627, 0.9975113 ,\n",
       "       0.99753609, 0.99756063, 0.99758493, 0.99760898, 0.9976328 ,\n",
       "       0.99765637, 0.99767972, 0.99770283, 0.99772571, 0.99774836,\n",
       "       0.99777079, 0.99779299, 0.99781497, 0.99783673, 0.99785828,\n",
       "       0.99787961, 0.99790073, 0.99792164, 0.99794234, 0.99796284,\n",
       "       0.99798313, 0.99800321, 0.9980231 , 0.99804279, 0.99806229,\n",
       "       0.99808159, 0.99810069, 0.99811961, 0.99813834, 0.99815688,\n",
       "       0.99817524, 0.99819341, 0.99821141, 0.99822922, 0.99824686,\n",
       "       0.99826432, 0.99828161, 0.99829872, 0.99831567, 0.99833244,\n",
       "       0.99834905, 0.9983655 , 0.99838178, 0.99839789, 0.99841385,\n",
       "       0.99842965, 0.99844529, 0.99846078, 0.99847611, 0.99849128,\n",
       "       0.99850631, 0.99852119, 0.99853592, 0.9985505 , 0.99856494,\n",
       "       0.99857923, 0.99859338, 0.99860739, 0.99862126, 0.99863499,\n",
       "       0.99864859, 0.99866205, 0.99867538, 0.99868857, 0.99870163,\n",
       "       0.99871456, 0.99872737, 0.99874004, 0.99875259, 0.99876502,\n",
       "       0.99877732, 0.99878949, 0.99880155, 0.99881349, 0.99882531,\n",
       "       0.99883701, 0.99884859, 0.99886006, 0.99887141, 0.99888265,\n",
       "       0.99889378, 0.9989048 , 0.99891571, 0.99892651, 0.9989372 ,\n",
       "       0.99894778, 0.99895826, 0.99896864, 0.99897891, 0.99898908,\n",
       "       0.99899915, 0.99900912, 0.99901899, 0.99902876, 0.99903843,\n",
       "       0.99904801, 0.99905749, 0.99906688, 0.99907617, 0.99908538,\n",
       "       0.99909449, 0.9991035 , 0.99911243, 0.99912127, 0.99913003,\n",
       "       0.99913869, 0.99914727, 0.99915576, 0.99916417, 0.9991725 ,\n",
       "       0.99918074, 0.9991889 , 0.99919698, 0.99920498, 0.99921289,\n",
       "       0.99922073, 0.99922849, 0.99923618, 0.99924379, 0.99925132,\n",
       "       0.99925878, 0.99926616, 0.99927347, 0.9992807 , 0.99928787,\n",
       "       0.99929496, 0.99930198, 0.99930894, 0.99931582, 0.99932263,\n",
       "       0.99932938, 0.99933606, 0.99934267, 0.99934922, 0.9993557 ,\n",
       "       0.99936212, 0.99936847, 0.99937476, 0.99938099, 0.99938715,\n",
       "       0.99939326, 0.9993993 , 0.99940528, 0.99941121, 0.99941707,\n",
       "       0.99942288, 0.99942863, 0.99943432, 0.99943995, 0.99944553,\n",
       "       0.99945105, 0.99945652, 0.99946193, 0.99946729, 0.9994726 ,\n",
       "       0.99947785, 0.99948305, 0.9994882 , 0.9994933 , 0.99949834,\n",
       "       0.99950334, 0.99950829, 0.99951319, 0.99951803, 0.99952283,\n",
       "       0.99952759, 0.99953229, 0.99953695, 0.99954156, 0.99954613,\n",
       "       0.99955065, 0.99955513, 0.99955956, 0.99956394, 0.99956829,\n",
       "       0.99957259, 0.99957684, 0.99958106, 0.99958523, 0.99958936,\n",
       "       0.99959345, 0.9995975 , 0.99960151, 0.99960548, 0.99960941,\n",
       "       0.9996133 , 0.99961715, 0.99962096, 0.99962474, 0.99962848,\n",
       "       0.99963218, 0.99963584, 0.99963947, 0.99964306, 0.99964661,\n",
       "       0.99965013, 0.99965362, 0.99965707, 0.99966048, 0.99966387,\n",
       "       0.99966721, 0.99967053, 0.99967381, 0.99967706, 0.99968027,\n",
       "       0.99968346, 0.99968661, 0.99968973, 0.99969282, 0.99969588,\n",
       "       0.99969891, 0.99970191, 0.99970488, 0.99970782, 0.99971073,\n",
       "       0.99971361, 0.99971646, 0.99971929, 0.99972208, 0.99972485,\n",
       "       0.99972759, 0.9997303 , 0.99973299, 0.99973565, 0.99973828,\n",
       "       0.99974089, 0.99974347, 0.99974603, 0.99974856, 0.99975106,\n",
       "       0.99975354, 0.99975599, 0.99975842, 0.99976083, 0.99976321,\n",
       "       0.99976557, 0.99976791, 0.99977022, 0.99977251, 0.99977477,\n",
       "       0.99977702, 0.99977924, 0.99978144, 0.99978361, 0.99978577,\n",
       "       0.9997879 , 0.99979001, 0.99979211, 0.99979418, 0.99979623,\n",
       "       0.99979826, 0.99980026, 0.99980225, 0.99980422, 0.99980617,\n",
       "       0.9998081 , 0.99981002, 0.99981191, 0.99981378, 0.99981564,\n",
       "       0.99981747, 0.99981929, 0.99982109, 0.99982287, 0.99982464,\n",
       "       0.99982638, 0.99982811, 0.99982982, 0.99983152, 0.9998332 ,\n",
       "       0.99983486, 0.9998365 , 0.99983813, 0.99983974, 0.99984134,\n",
       "       0.99984292, 0.99984449, 0.99984603, 0.99984757, 0.99984909,\n",
       "       0.99985059, 0.99985208, 0.99985355, 0.99985501, 0.99985645,\n",
       "       0.99985788, 0.9998593 , 0.9998607 , 0.99986209, 0.99986346,\n",
       "       0.99986482, 0.99986617, 0.9998675 , 0.99986882, 0.99987013,\n",
       "       0.99987142, 0.9998727 , 0.99987397, 0.99987522, 0.99987647,\n",
       "       0.9998777 , 0.99987892, 0.99988012, 0.99988132, 0.9998825 ,\n",
       "       0.99988367, 0.99988483, 0.99988597, 0.99988711, 0.99988823,\n",
       "       0.99988935, 0.99989045, 0.99989154, 0.99989262, 0.99989369,\n",
       "       0.99989475, 0.9998958 , 0.99989683, 0.99989786, 0.99989888,\n",
       "       0.99989989, 0.99990088, 0.99990187, 0.99990285, 0.99990382,\n",
       "       0.99990477, 0.99990572, 0.99990666, 0.99990759, 0.99990851,\n",
       "       0.99990942, 0.99991033, 0.99991122, 0.9999121 , 0.99991298,\n",
       "       0.99991384, 0.9999147 , 0.99991555, 0.99991639, 0.99991723,\n",
       "       0.99991805, 0.99991887, 0.99991967, 0.99992048, 0.99992127,\n",
       "       0.99992205, 0.99992283, 0.9999236 , 0.99992436, 0.99992511,\n",
       "       0.99992586, 0.9999266 , 0.99992733, 0.99992805, 0.99992877,\n",
       "       0.99992948, 0.99993018, 0.99993087, 0.99993156, 0.99993224,\n",
       "       0.99993292, 0.99993359, 0.99993425, 0.9999349 , 0.99993555,\n",
       "       0.99993619, 0.99993683, 0.99993746, 0.99993808, 0.9999387 ,\n",
       "       0.99993931, 0.99993991, 0.99994051, 0.9999411 , 0.99994169,\n",
       "       0.99994227, 0.99994285, 0.99994342, 0.99994398, 0.99994454,\n",
       "       0.99994509, 0.99994564, 0.99994618, 0.99994671, 0.99994724,\n",
       "       0.99994777, 0.99994829, 0.99994881, 0.99994932, 0.99994982,\n",
       "       0.99995032, 0.99995081, 0.9999513 , 0.99995179, 0.99995227,\n",
       "       0.99995275, 0.99995322, 0.99995368, 0.99995414, 0.9999546 ])"
      ]
     },
     "execution_count": 54,
     "metadata": {},
     "output_type": "execute_result"
    }
   ],
   "source": [
    "# 9. Create a program to calculate the cumulative distribution function (CDF) of exponential distribution.\n",
    "\n",
    "def exponential_cdf(x, lambda_param):\n",
    "    return 1 - np.exp(-lambda_param * x)\n",
    "\n",
    "lambda_param = 1\n",
    "x_values = np.linspace(0, 10, 1000)\n",
    "\n",
    "cdf_values = exponential_cdf(x_values, lambda_param)\n",
    "cdf_values"
   ]
  },
  {
   "cell_type": "code",
   "execution_count": 55,
   "id": "e1d1de1b-9994-4432-ab7d-a549ef5bb6ba",
   "metadata": {},
   "outputs": [
    {
     "data": {
      "image/png": "[encoded data removed]",
      "text/plain": [
       "<Figure size 640x480 with 1 Axes>"
      ]
     },
     "metadata": {},
     "output_type": "display_data"
    }
   ],
   "source": [
    "plt.plot(x_values, cdf_values, label=f'Exponential CDF (lambda = {lambda_param})')\n",
    "plt.title(f'CDF of Exponential Distribution with Rate Parameter = {lambda_param}')\n",
    "plt.xlabel('x')\n",
    "plt.ylabel('CDF(x)')\n",
    "plt.legend()\n",
    "plt.grid(True)\n",
    "plt.show()"
   ]
  },
  {
   "cell_type": "code",
   "execution_count": 57,
   "id": "251ff327-bfe7-48c9-94d4-d3a2c8657121",
   "metadata": {},
   "outputs": [
    {
     "name": "stdout",
     "output_type": "stream",
     "text": [
      "P(X = 0) = 0.049787068367863944\n",
      "P(X = 1) = 0.14936120510359183\n",
      "P(X = 2) = 0.22404180765538775\n",
      "P(X = 3) = 0.22404180765538775\n",
      "P(X = 4) = 0.16803135574154082\n",
      "P(X = 5) = 0.10081881344492448\n",
      "P(X = 6) = 0.05040940672246225\n",
      "P(X = 7) = 0.02160403145248382\n",
      "P(X = 8) = 0.008101511794681432\n",
      "P(X = 9) = 0.002700503931560477\n"
     ]
    }
   ],
   "source": [
    "# 10. Write a Python function to calculate the probability mass function (PMF) of Poisson distribution.\n",
    "\n",
    "def poisson_pmf(k, lambda_param):\n",
    "    return (lambda_param**k * np.exp(-lambda_param)) / math.factorial(k)\n",
    "\n",
    "lambda_param = 3\n",
    "k_values = np.arange(0, 10)\n",
    "\n",
    "pmf_values = [poisson_pmf(k, lambda_param) for k in k_values]\n",
    "\n",
    "for k, pmf in zip(k_values, pmf_values):\n",
    "    print(f\"P(X = {k}) = {pmf}\")"
   ]
  },
  {
   "cell_type": "code",
   "execution_count": 58,
   "id": "14df2dd5-13f8-42bb-8acf-bb716d77a745",
   "metadata": {},
   "outputs": [
    {
     "name": "stdout",
     "output_type": "stream",
     "text": [
      "P(X = 0) = 0.049787068367863944\n",
      "P(X = 1) = 0.14936120510359185\n",
      "P(X = 2) = 0.22404180765538775\n",
      "P(X = 3) = 0.22404180765538775\n",
      "P(X = 4) = 0.16803135574154085\n",
      "P(X = 5) = 0.10081881344492458\n",
      "P(X = 6) = 0.05040940672246224\n",
      "P(X = 7) = 0.02160403145248382\n",
      "P(X = 8) = 0.008101511794681432\n",
      "P(X = 9) = 0.002700503931560479\n"
     ]
    }
   ],
   "source": [
    "# Using SciPy to calculate the PMF of a Poisson distribution\n",
    "\n",
    "from scipy.stats import poisson\n",
    "\n",
    "pmf_values_scipy = poisson.pmf(k_values, mu=lambda_param)\n",
    "\n",
    "for k, pmf in zip(k_values, pmf_values_scipy):\n",
    "    print(f\"P(X = {k}) = {pmf}\")"
   ]
  },
  {
   "cell_type": "code",
   "execution_count": 70,
   "id": "e5d0c86e-c701-46cc-a5f7-61051e10c82c",
   "metadata": {},
   "outputs": [],
   "source": [
    "# 11. A company wants to test if a new website layout leads to a higher conversion rate (percentage of visitors who make a purchase). They collect data from the old and new layouts to compare.\n",
    "\n",
    "# To generate the data use the following command:\n",
    "\n",
    "# python\n",
    "\n",
    "import numpy as np\n",
    "\n",
    "# 50 purchases out of 1000 visitors\n",
    "\n",
    "old_layout = np.array([1] * 50 + [0] * 950)\n",
    "\n",
    "# 70 purchases out of 1000 visitors  \n",
    "\n",
    "new_layout = np.array([1] * 70 + [0] * 930)\n",
    "\n",
    "# Apply z-test to find which layout is successfull"
   ]
  },
  {
   "cell_type": "code",
   "execution_count": 71,
   "id": "eea7afc1-ffc5-47ba-aacc-76d398d96883",
   "metadata": {},
   "outputs": [],
   "source": [
    "from statsmodels.stats.weightstats import ztest"
   ]
  },
  {
   "cell_type": "code",
   "execution_count": 72,
   "id": "eeb71aed-e6f4-48a6-ab3d-b7d5f3e868af",
   "metadata": {},
   "outputs": [
    {
     "name": "stdout",
     "output_type": "stream",
     "text": [
      "Z-statistics: -94.0\n"
     ]
    }
   ],
   "source": [
    "successes = np.array([old_layout.sum(), new_layout.sum()])\n",
    "n = np.array([len(old_layout), len(new_layout)])\n",
    "\n",
    "z_score, p_value = ztest(successes, n, alternative='larger')\n",
    "\n",
    "print(f\"Z-statistics: {z_score}\")"
   ]
  },
  {
   "cell_type": "code",
   "execution_count": 73,
   "id": "f8dfe2ed-782d-460e-b6c4-0d72d31b0955",
   "metadata": {},
   "outputs": [
    {
     "name": "stdout",
     "output_type": "stream",
     "text": [
      "P-value: 1.0\n"
     ]
    }
   ],
   "source": [
    "print(f\"P-value: {p_value}\")"
   ]
  },
  {
   "cell_type": "code",
   "execution_count": 74,
   "id": "860b3ca0-14dd-4bf9-82df-6dcc51cfcde8",
   "metadata": {},
   "outputs": [
    {
     "name": "stdout",
     "output_type": "stream",
     "text": [
      "Fail to reject the null hypothesis\n"
     ]
    }
   ],
   "source": [
    "alpha = 0.05\n",
    "if p_value < alpha:\n",
    "    print(\"Reject the null hypothesis\")\n",
    "else:\n",
    "    print(\"Fail to reject the null hypothesis\")"
   ]
  },
  {
   "cell_type": "code",
   "execution_count": 4,
   "id": "cef06848-49e7-4545-ac37-5e3ced2e220f",
   "metadata": {},
   "outputs": [],
   "source": [
    "# 12. A tutoring service claims that its program improves students' exam scores. A sample of students who participated in the program was taken, and their scores before and after the program were recorded.\n",
    "# Use the below code to generate samples of respective arrays of marks:\n",
    "# python\n",
    "\n",
    "before_program = np.array([75, 80, 85, 70, 90, 78, 92, 88, 82, 87])\n",
    "\n",
    "after_program = np.array([80, 85, 90, 80, 92, 80, 95, 90, 85, 88])\n",
    "\n",
    "# Use z-test to find if the claims made by tutor are true or false."
   ]
  },
  {
   "cell_type": "code",
   "execution_count": 5,
   "id": "75ff391f-f7cf-4c63-a8a4-3d444a219630",
   "metadata": {},
   "outputs": [],
   "source": [
    "import numpy as np\n",
    "from scipy import stats\n",
    "\n",
    "differences = after_program - before_program\n",
    "\n",
    "mean_d = np.mean(differences)\n",
    "std_d = np.std(differences, ddof=1)\n",
    "n = len(differences)\n",
    "\n",
    "z_score = mean_d / (std_d / np.sqrt(n))"
   ]
  },
  {
   "cell_type": "code",
   "execution_count": 11,
   "id": "39b78444-27ab-4301-9f5a-2e4c3719c438",
   "metadata": {},
   "outputs": [],
   "source": [
    "p_value = 2 * (1 - stats.norm.cdf(abs(z_score)))"
   ]
  },
  {
   "cell_type": "code",
   "execution_count": 12,
   "id": "bfb99926-80a3-4903-8ec0-14c11b89f986",
   "metadata": {},
   "outputs": [
    {
     "name": "stdout",
     "output_type": "stream",
     "text": [
      "Mean difference: 3.8\n"
     ]
    }
   ],
   "source": [
    "print(\"Mean difference:\", mean_d)"
   ]
  },
  {
   "cell_type": "code",
   "execution_count": 13,
   "id": "7fa12878-b1ab-4988-86a8-f7469c114535",
   "metadata": {},
   "outputs": [
    {
     "name": "stdout",
     "output_type": "stream",
     "text": [
      "Standard deviation of difference: 2.616188916046478\n"
     ]
    }
   ],
   "source": [
    "print(\"Standard deviation of difference:\", std_d)"
   ]
  },
  {
   "cell_type": "code",
   "execution_count": 14,
   "id": "9f00d5a1-47b8-4cd4-a51d-b759f9e4b981",
   "metadata": {},
   "outputs": [
    {
     "name": "stdout",
     "output_type": "stream",
     "text": [
      "Z-score: 4.593190894944668\n"
     ]
    }
   ],
   "source": [
    "print(\"Z-score:\", z_score)"
   ]
  },
  {
   "cell_type": "code",
   "execution_count": 15,
   "id": "a9cfc2e5-1d02-4eed-9d9d-c3c46958e2d9",
   "metadata": {},
   "outputs": [
    {
     "name": "stdout",
     "output_type": "stream",
     "text": [
      "P-value: 4.365194105293568e-06\n"
     ]
    }
   ],
   "source": [
    "print(\"P-value:\", p_value)"
   ]
  },
  {
   "cell_type": "code",
   "execution_count": 33,
   "id": "4db36c0d-d7f0-4f1e-84a9-c75e30322106",
   "metadata": {},
   "outputs": [
    {
     "name": "stdout",
     "output_type": "stream",
     "text": [
      "the claims made by tutor are true (Reject the null hypothesis).\n"
     ]
    }
   ],
   "source": [
    "alpha = 0.05\n",
    "if p_value < alpha:\n",
    "    print(\"the claims made by tutor are true (Reject the null hypothesis).\") \n",
    "else:\n",
    "    print(\"the claims made by tutor are False (fail to reject the null hypothesis).\")"
   ]
  },
  {
   "cell_type": "code",
   "execution_count": 18,
   "id": "e18c6caa-ec14-449b-963a-cdbba72d3ab9",
   "metadata": {},
   "outputs": [],
   "source": [
    "# 13. A pharmaceutical company wants to determine if a new drug is effective in reducing blood pressure. They conduct a study and record blood pressure measurements before and after administering the drug.\n",
    "# Use the below code to generate samples of respective arrays of blood pressure:\n",
    "# python\n",
    "\n",
    "before_drug = np.array([145, 150, 140, 135, 155, 160, 152, 148, 130, 138])\n",
    "\n",
    "after_drug = np.array([130, 140, 132, 128, 145, 148, 138, 136, 125, 130])\n",
    "\n",
    "# Implement z-test to find if the drug really works or not."
   ]
  },
  {
   "cell_type": "code",
   "execution_count": 19,
   "id": "32411368-5b7f-4561-a8f6-aeb7076d18cc",
   "metadata": {},
   "outputs": [],
   "source": [
    "diff = before_drug - after_drug\n",
    "\n",
    "mean_diff = np.mean(diff)\n",
    "std_diff = np.std(diff, ddof=1)\n",
    "n = len(diff)\n",
    "\n",
    "z_score = mean_diff / (std_diff / np.sqrt(n))\n",
    "p_value = 2 * (1 - stats.norm.cdf(np.abs(z_score)))"
   ]
  },
  {
   "cell_type": "code",
   "execution_count": 20,
   "id": "17284fd7-4b7a-4a88-b92f-d4e7f3330447",
   "metadata": {},
   "outputs": [
    {
     "name": "stdout",
     "output_type": "stream",
     "text": [
      "Mean difference: 10.1\n"
     ]
    }
   ],
   "source": [
    "print(\"Mean difference:\", mean_diff)"
   ]
  },
  {
   "cell_type": "code",
   "execution_count": 21,
   "id": "56d2bc4e-c0d0-45f7-a7b6-d7b1c459c9b2",
   "metadata": {},
   "outputs": [
    {
     "name": "stdout",
     "output_type": "stream",
     "text": [
      "Standard deviation of difference: 3.178049716414141\n"
     ]
    }
   ],
   "source": [
    "print(\"Standard deviation of difference:\", std_diff)"
   ]
  },
  {
   "cell_type": "code",
   "execution_count": 22,
   "id": "5807dd82-a7f2-41b8-b681-64f93e0614a2",
   "metadata": {},
   "outputs": [
    {
     "name": "stdout",
     "output_type": "stream",
     "text": [
      "Z-score: 10.049875621120888\n"
     ]
    }
   ],
   "source": [
    "print(\"Z-score:\", z_score)"
   ]
  },
  {
   "cell_type": "code",
   "execution_count": 23,
   "id": "dcd7e944-dd18-4113-b307-a1bf538389ae",
   "metadata": {},
   "outputs": [
    {
     "name": "stdout",
     "output_type": "stream",
     "text": [
      "P-value: 0.0\n"
     ]
    }
   ],
   "source": [
    "print(\"P-value:\", p_value)"
   ]
  },
  {
   "cell_type": "code",
   "execution_count": 32,
   "id": "8e151a65-9928-466e-8093-2bb7be58abf5",
   "metadata": {},
   "outputs": [
    {
     "name": "stdout",
     "output_type": "stream",
     "text": [
      "the drug really works (Reject the null hypothesis).\n"
     ]
    }
   ],
   "source": [
    "alpha = 0.05\n",
    "if p_value < alpha:\n",
    "    print(\"the drug really works (Reject the null hypothesis).\") \n",
    "else:\n",
    "    print(\"the drug really not (fail to reject the null hypothesis).\")"
   ]
  },
  {
   "cell_type": "code",
   "execution_count": 25,
   "id": "754a73e2-955a-465f-85a2-52ac0442611a",
   "metadata": {},
   "outputs": [],
   "source": [
    "# 14.A customer service department claims that their average response time is less than 5 minutes. A sample of recent customer interactions was taken, and the response times were recorded.\n",
    "# Implement the below code to generate the array of response time:\n",
    "# python\n",
    "\n",
    "response_times = np.array([4.3, 3.8, 5.1, 4.9, 4.7, 4.2, 5.2, 4.5, 4.6, 4.4])\n",
    "\n",
    "# Implement z-test to find the claims made by customer service department are tru or false."
   ]
  },
  {
   "cell_type": "code",
   "execution_count": 26,
   "id": "ab81ce54-bb7d-4e1b-9712-3648417e5e5e",
   "metadata": {},
   "outputs": [],
   "source": [
    "population_mean = 5\n",
    "\n",
    "sample_mean = np.mean(response_times)\n",
    "sample_std = np.std(response_times, ddof=1)\n",
    "n = len(response_times)\n",
    "\n",
    "z_score = (sample_mean - population_mean) / (sample_std / np.sqrt(n))\n",
    "p_value = stats.norm.cdf(z_score)"
   ]
  },
  {
   "cell_type": "code",
   "execution_count": 27,
   "id": "b5ac26d7-16bf-4c76-a165-56d0ee64e1b0",
   "metadata": {},
   "outputs": [
    {
     "name": "stdout",
     "output_type": "stream",
     "text": [
      "Sample mean: 4.57\n"
     ]
    }
   ],
   "source": [
    "print(\"Sample mean:\", sample_mean)"
   ]
  },
  {
   "cell_type": "code",
   "execution_count": 28,
   "id": "ca781938-bc95-41c6-8454-7d224e87d752",
   "metadata": {},
   "outputs": [
    {
     "name": "stdout",
     "output_type": "stream",
     "text": [
      "Smaple standard deviation: 0.4270050741306634\n"
     ]
    }
   ],
   "source": [
    "print(\"Smaple standard deviation:\", sample_std)"
   ]
  },
  {
   "cell_type": "code",
   "execution_count": 29,
   "id": "3fcfdfde-8ba9-4fa6-8c85-ecc60e6b5eab",
   "metadata": {},
   "outputs": [
    {
     "name": "stdout",
     "output_type": "stream",
     "text": [
      "Z-score: -3.184457226042963\n"
     ]
    }
   ],
   "source": [
    "print(\"Z-score:\", z_score)"
   ]
  },
  {
   "cell_type": "code",
   "execution_count": 30,
   "id": "35e01786-aea3-4fa2-bf2d-07196c850116",
   "metadata": {},
   "outputs": [
    {
     "name": "stdout",
     "output_type": "stream",
     "text": [
      "P-value: 0.0007251287113068958\n"
     ]
    }
   ],
   "source": [
    "print(\"P-value:\", p_value)"
   ]
  },
  {
   "cell_type": "code",
   "execution_count": 31,
   "id": "ffb88144-1d23-4a77-9b49-c79ce3385a6d",
   "metadata": {},
   "outputs": [
    {
     "name": "stdout",
     "output_type": "stream",
     "text": [
      "The customer service department's claim is true (reject the null hypothesis).\n"
     ]
    }
   ],
   "source": [
    "alpha = 0.05\n",
    "if p_value < alpha:\n",
    "    print(\"The customer service department's claim is true (reject the null hypothesis).\")\n",
    "else:\n",
    "    print(\"The customer service department's claim is false (fail to reject the null hypothesis).\")"
   ]
  },
  {
   "cell_type": "code",
   "execution_count": 34,
   "id": "43671fe2-0cfe-442d-b0f6-f48e8d599717",
   "metadata": {},
   "outputs": [],
   "source": [
    "# 15. A company is testing two different website layouts to see which one leads to higher click-through rates. Write a Python function to perform an A/B test analysis, including calculating the t-statistic, degrees of freedom, and p-value.\n",
    "#Use the following data:\n",
    "# python\n",
    "\n",
    "layout_a_clicks = [28, 32, 33, 29, 31, 34, 30, 35, 36, 37]\n",
    "\n",
    "layout_b_clicks = [40, 41, 38, 42, 39, 44, 43, 41, 45, 47]"
   ]
  },
  {
   "cell_type": "code",
   "execution_count": 40,
   "id": "4ed5a836-743e-4715-961f-166f1d5eeb1e",
   "metadata": {},
   "outputs": [],
   "source": [
    "mean_a = np.mean(layout_a_clicks)\n",
    "mean_b = np.mean(layout_b_clicks)\n",
    "std_a = np.std(layout_a_clicks, ddof=1)\n",
    "std_b = np.std(layout_b_clicks, ddof=1)\n",
    "\n",
    "# calculate the t-stats and ddof\n",
    "\n",
    "n_a = len(layout_a_clicks)\n",
    "n_b = len(layout_b_clicks)\n",
    "\n",
    "t_stats = (mean_a - mean_b) / np.sqrt((std_a**2 / n_a) + (std_b**2 / n_b))\n",
    "d_o_f = ((std_a**2 / n_a) + (std_b**2 / n_b))**2 / (((std_a**2 / n_a)**2 / (n_a - 1)) + ((std_b**2 / n_b)**2 / (n_b - 1)))\n",
    "\n",
    "# cal p_value\n",
    "p_value = stats.norm.cdf(t_stats, d_o_f)"
   ]
  },
  {
   "cell_type": "code",
   "execution_count": 41,
   "id": "72252acd-e48a-4d7a-9df6-6693611c30b0",
   "metadata": {},
   "outputs": [
    {
     "name": "stdout",
     "output_type": "stream",
     "text": [
      "Mean of Layout A: 32.5\n"
     ]
    }
   ],
   "source": [
    "print(\"Mean of Layout A:\", mean_a)"
   ]
  },
  {
   "cell_type": "code",
   "execution_count": 42,
   "id": "7a9a23bb-95a1-431d-ac47-8877bfbd45bf",
   "metadata": {},
   "outputs": [
    {
     "name": "stdout",
     "output_type": "stream",
     "text": [
      "Mean of Layout B: 42.0\n"
     ]
    }
   ],
   "source": [
    "print(\"Mean of Layout B:\", mean_b)"
   ]
  },
  {
   "cell_type": "code",
   "execution_count": 43,
   "id": "e429680c-e4df-47a2-9aab-c79df5b21367",
   "metadata": {},
   "outputs": [
    {
     "name": "stdout",
     "output_type": "stream",
     "text": [
      "Standard Deviation of Layout A: 3.0276503540974917\n"
     ]
    }
   ],
   "source": [
    "print(\"Standard Deviation of Layout A:\", std_a)"
   ]
  },
  {
   "cell_type": "code",
   "execution_count": 44,
   "id": "cd9ad04d-a6bf-4558-8f06-57b56585f325",
   "metadata": {},
   "outputs": [
    {
     "name": "stdout",
     "output_type": "stream",
     "text": [
      "Standard Deviation of Layout B: 2.788866755113585\n"
     ]
    }
   ],
   "source": [
    "print(\"Standard Deviation of Layout B:\", std_b)"
   ]
  },
  {
   "cell_type": "code",
   "execution_count": 45,
   "id": "6f008edf-5623-4ce2-b9fb-f86e8d162423",
   "metadata": {},
   "outputs": [
    {
     "name": "stdout",
     "output_type": "stream",
     "text": [
      "T-statistic: -7.298102156175071\n"
     ]
    }
   ],
   "source": [
    "print(\"T-statistic:\", t_stats)"
   ]
  },
  {
   "cell_type": "code",
   "execution_count": 46,
   "id": "ffb7dd66-2508-4a48-9503-f0f2d28cdf9a",
   "metadata": {},
   "outputs": [
    {
     "name": "stdout",
     "output_type": "stream",
     "text": [
      "Degrees of Freedom: 17.879871863320876\n"
     ]
    }
   ],
   "source": [
    "print(\"Degrees of Freedom:\", d_o_f)"
   ]
  },
  {
   "cell_type": "code",
   "execution_count": 47,
   "id": "6d96953c-f754-4f62-8ff1-314356885c5d",
   "metadata": {},
   "outputs": [
    {
     "name": "stdout",
     "output_type": "stream",
     "text": [
      "P-value: 3.49120088469867e-140\n"
     ]
    }
   ],
   "source": [
    "print(\"P-value:\", p_value)"
   ]
  },
  {
   "cell_type": "code",
   "execution_count": 48,
   "id": "451bb8a0-22fb-4090-90be-b515c2909e0f",
   "metadata": {},
   "outputs": [
    {
     "name": "stdout",
     "output_type": "stream",
     "text": [
      "There is a significant difference between the two layouts (reject the null hypothesis).\n"
     ]
    }
   ],
   "source": [
    "alpha = 0.05\n",
    "if p_value < alpha:\n",
    "    print(\"There is a significant difference between the two layouts (reject the null hypothesis).\")\n",
    "else:\n",
    "    print(\"There is no significant difference between the two layouts (fail to reject the null hypothesis).\")"
   ]
  },
  {
   "cell_type": "code",
   "execution_count": 49,
   "id": "9e01a319-5d50-4368-9d8e-c1e6c7130d11",
   "metadata": {},
   "outputs": [],
   "source": [
    "# 16.  A pharmaceutical company wants to determine if a new drug is more effective than an existing drug in reducing cholesterol levels. Create a program to analyze the clinical trial data and calculate the tstatistic and p-value for the treatment effect.\n",
    "# Use the following data of cholestrol level:\n",
    "# python\n",
    "\n",
    "existing_drug_levels = [180, 182, 175, 185, 178, 176, 172, 184, 179, 183]\n",
    "\n",
    "new_drug_levels = [170, 172, 165, 168, 175, 173, 170, 178, 172, 176]"
   ]
  },
  {
   "cell_type": "code",
   "execution_count": 50,
   "id": "5dd7aa8d-5bf1-4a93-89ae-cbc8d9577094",
   "metadata": {},
   "outputs": [],
   "source": [
    "mean_existing = np.mean(existing_drug_levels)\n",
    "mean_new = np.mean(new_drug_levels)\n",
    "std_existing = np.std(existing_drug_levels)\n",
    "std_new = np.std(new_drug_levels)\n",
    "\n",
    "# cal tstats and dof\n",
    "n_existing = len(existing_drug_levels)\n",
    "n_new = len(new_drug_levels)\n",
    "\n",
    "t_stats, p_value = stats.ttest_ind(existing_drug_levels, new_drug_levels)"
   ]
  },
  {
   "cell_type": "code",
   "execution_count": 51,
   "id": "81b52c9f-e506-4ba5-8025-2b7c0838f962",
   "metadata": {},
   "outputs": [
    {
     "name": "stdout",
     "output_type": "stream",
     "text": [
      "Mean of Existing Drug Levels: 179.4\n"
     ]
    }
   ],
   "source": [
    "print(\"Mean of Existing Drug Levels:\", mean_existing)"
   ]
  },
  {
   "cell_type": "code",
   "execution_count": 52,
   "id": "74f2581c-8cdd-4adf-b833-c9dfe4bc003a",
   "metadata": {},
   "outputs": [
    {
     "name": "stdout",
     "output_type": "stream",
     "text": [
      "Mean of New Drug Levels: 171.9\n"
     ]
    }
   ],
   "source": [
    "print(\"Mean of New Drug Levels:\", mean_new)"
   ]
  },
  {
   "cell_type": "code",
   "execution_count": 54,
   "id": "30fe1cee-0964-4c1c-b018-7571715fc743",
   "metadata": {},
   "outputs": [
    {
     "name": "stdout",
     "output_type": "stream",
     "text": [
      "Standard Deviation of Existing Drug Levels: 4.004996878900157\n"
     ]
    }
   ],
   "source": [
    "print(\"Standard Deviation of Existing Drug Levels:\", std_existing)"
   ]
  },
  {
   "cell_type": "code",
   "execution_count": 55,
   "id": "df9ed8d1-c6f8-474c-8821-25896a56bebc",
   "metadata": {},
   "outputs": [
    {
     "name": "stdout",
     "output_type": "stream",
     "text": [
      "Standard Deviation of New Drug Levels: 3.6728735344413916\n"
     ]
    }
   ],
   "source": [
    "print(\"Standard Deviation of New Drug Levels:\", std_new)"
   ]
  },
  {
   "cell_type": "code",
   "execution_count": 56,
   "id": "efed6837-d4e1-45ef-89d7-e6721801766a",
   "metadata": {},
   "outputs": [
    {
     "name": "stdout",
     "output_type": "stream",
     "text": [
      "T-statistic: 4.14048098620866\n"
     ]
    }
   ],
   "source": [
    "print(\"T-statistic:\", t_stats)"
   ]
  },
  {
   "cell_type": "code",
   "execution_count": 57,
   "id": "d9dfadeb-cd76-44b7-92ba-6ce6cfb388cf",
   "metadata": {},
   "outputs": [
    {
     "name": "stdout",
     "output_type": "stream",
     "text": [
      "P-value: 0.0006143398442372505\n"
     ]
    }
   ],
   "source": [
    "print(\"P-value:\", p_value)"
   ]
  },
  {
   "cell_type": "code",
   "execution_count": 58,
   "id": "4f813650-f599-492e-a4dc-4c76fcf7af35",
   "metadata": {},
   "outputs": [
    {
     "name": "stdout",
     "output_type": "stream",
     "text": [
      "The new drug is significantly more effective in reducing cholesterol levels (reject the null hypothesis).\n"
     ]
    }
   ],
   "source": [
    "alpha = 0.05\n",
    "if p_value < alpha:\n",
    "    print(\"The new drug is significantly more effective in reducing cholesterol levels (reject the null hypothesis).\")\n",
    "else:\n",
    "    print(\"The new drug is not significantly more effective in reducing cholesterol levels (fail to reject the null hypothesis).\")"
   ]
  },
  {
   "cell_type": "code",
   "execution_count": 60,
   "id": "7493d29d-2db4-4b40-a47e-c2e1f5456ca4",
   "metadata": {},
   "outputs": [],
   "source": [
    "# 17. A school district introduces an educational intervention program to improve math scores. Write a Python function to analyze pre- and post-intervention test scores, calculating the t-statistic and p-value to determine if the intervention had a significant impact.\n",
    "# Use the following data of test score:\n",
    "# python\n",
    "\n",
    "pre_intervention_scores = [80, 85, 90, 75, 88, 82, 92, 78, 85, 87]\n",
    "\n",
    "post_intervention_scores = [90, 92, 88, 92, 95, 91, 96, 93, 89, 93]\n",
    "\n",
    "t_statistic, p_value = stats.ttest_rel(pre_intervention_scores, post_intervention_scores)"
   ]
  },
  {
   "cell_type": "code",
   "execution_count": 61,
   "id": "438f4aba-796b-4309-9546-8e48a7525eac",
   "metadata": {},
   "outputs": [
    {
     "name": "stdout",
     "output_type": "stream",
     "text": [
      "T-statistic: -4.42840883965761\n"
     ]
    }
   ],
   "source": [
    "print(\"T-statistic:\", t_statistic)"
   ]
  },
  {
   "cell_type": "code",
   "execution_count": 62,
   "id": "1b484c4f-cd72-4f7f-ae1f-dae1a06e3979",
   "metadata": {},
   "outputs": [
    {
     "name": "stdout",
     "output_type": "stream",
     "text": [
      "P-value: 0.0016509548165795493\n"
     ]
    }
   ],
   "source": [
    "print(\"P-value:\", p_value)"
   ]
  },
  {
   "cell_type": "code",
   "execution_count": 63,
   "id": "5f71165d-7d33-4046-8078-58defebeb83c",
   "metadata": {},
   "outputs": [
    {
     "name": "stdout",
     "output_type": "stream",
     "text": [
      "The intervention had a significant impact on math scores (reject the null hypothesis).\n"
     ]
    }
   ],
   "source": [
    "alpha = 0.05\n",
    "if p_value < alpha:\n",
    "    print(\"The intervention had a significant impact on math scores (reject the null hypothesis).\")\n",
    "else:\n",
    "    print(\"The intervention did not have a significant impact on math scores (fail to reject the null hypothesis).\")"
   ]
  },
  {
   "cell_type": "code",
   "execution_count": 69,
   "id": "781dce1d-913a-4bf1-b864-195108765b7e",
   "metadata": {},
   "outputs": [],
   "source": [
    "# 18. An HR department wants to investigate if there's a gender-based salary gap within the company. Develop a program to analyze salary data, calculate the t-statistic, and determine if there's a statistically significant difference between the average salaries of male and female employees.\n",
    "# Use the below code to generate synthetic data:\n",
    "# python\n",
    "\n",
    "# Generate synthetic salary data for male and female employees\n",
    "\n",
    "# np.random.seed()  # For reproducibility\n",
    "\n",
    "male_salaries = np.random.normal(loc=50000, scale=10000, size=20)\n",
    "\n",
    "female_salaries = np.random.normal(loc=55000, scale=9000, size=20)\n",
    "\n",
    "mean_male = np.mean(male_salaries)\n",
    "mean_female = np.mean(female_salaries)\n",
    "std_male = np.std(male_salaries, ddof=1)\n",
    "std_female = np.std(female_salaries, ddof=1)\n",
    "\n",
    "# cal tstats and dof\n",
    "n_male = len(male_salaries)\n",
    "n_female = len(female_salaries)\n",
    "\n",
    "t_statistic, p_value = stats.ttest_ind(male_salaries, female_salaries, equal_var=False)"
   ]
  },
  {
   "cell_type": "code",
   "execution_count": 70,
   "id": "24511e91-a933-4c4b-a8df-a8071a9950ac",
   "metadata": {},
   "outputs": [
    {
     "name": "stdout",
     "output_type": "stream",
     "text": [
      "Mean of Male Salaries: 50887.82845687725\n"
     ]
    }
   ],
   "source": [
    "print(\"Mean of Male Salaries:\", mean_male)"
   ]
  },
  {
   "cell_type": "code",
   "execution_count": 71,
   "id": "731ae19a-cc22-48ca-8845-2b91afe8c2b3",
   "metadata": {},
   "outputs": [
    {
     "name": "stdout",
     "output_type": "stream",
     "text": [
      "Mean of Female Salaries: 56779.94857478029\n"
     ]
    }
   ],
   "source": [
    "print(\"Mean of Female Salaries:\", mean_female)"
   ]
  },
  {
   "cell_type": "code",
   "execution_count": 72,
   "id": "0f843d5c-da6d-4912-b2d0-3d3437518c71",
   "metadata": {},
   "outputs": [
    {
     "name": "stdout",
     "output_type": "stream",
     "text": [
      "Standard Deviation of Male Salaries: 10882.664984904024\n"
     ]
    }
   ],
   "source": [
    "print(\"Standard Deviation of Male Salaries:\", std_male)"
   ]
  },
  {
   "cell_type": "code",
   "execution_count": 74,
   "id": "1eb50e3a-00ea-452d-8231-a3c357b42830",
   "metadata": {},
   "outputs": [
    {
     "name": "stdout",
     "output_type": "stream",
     "text": [
      "Standard Deviation of Female Salaries: 9456.86193470733\n"
     ]
    }
   ],
   "source": [
    "print(\"Standard Deviation of Female Salaries:\", std_female)"
   ]
  },
  {
   "cell_type": "code",
   "execution_count": 75,
   "id": "f35bc971-d0d3-418e-adfd-2abfd5c2224a",
   "metadata": {},
   "outputs": [
    {
     "name": "stdout",
     "output_type": "stream",
     "text": [
      "T-statistic: -1.827663700653431\n"
     ]
    }
   ],
   "source": [
    "print(\"T-statistic:\", t_statistic)"
   ]
  },
  {
   "cell_type": "code",
   "execution_count": 76,
   "id": "9345f589-2076-47bb-9580-6e085ab589e7",
   "metadata": {},
   "outputs": [
    {
     "name": "stdout",
     "output_type": "stream",
     "text": [
      "P-value: 0.07561363506851433\n"
     ]
    }
   ],
   "source": [
    "print(\"P-value:\", p_value)"
   ]
  },
  {
   "cell_type": "code",
   "execution_count": 77,
   "id": "259f41dd-4d57-4402-b36d-cb6ccea44411",
   "metadata": {},
   "outputs": [
    {
     "name": "stdout",
     "output_type": "stream",
     "text": [
      "There is no significant difference between the average salaries of male and female employees (fail to reject the null hypothesis).\n"
     ]
    }
   ],
   "source": [
    "alpha = 0.05\n",
    "if p_value < alpha:\n",
    "    print(\"There is a significant difference between the average salaries of male and female employees (reject the null hypothesis).\")\n",
    "else:\n",
    "    print(\"There is no significant difference between the average salaries of male and female employees (fail to reject the null hypothesis).\")"
   ]
  },
  {
   "cell_type": "code",
   "execution_count": 78,
   "id": "50da5c98-74fb-4937-a05b-07e360af7277",
   "metadata": {},
   "outputs": [],
   "source": [
    "# 19. A manufacturer produces two different versions of a product and wants to compare their quality scores. Create a Python function to analyze quality assessment data, calculate the t-statistic, and decide whether there's a significant difference in quality between the two versions.\n",
    "# Use the following data:\n",
    "# python\n",
    "\n",
    "version1_scores = [85, 88, 82, 89, 87, 84, 90, 88, 85, 86, 91, 83, 87, 84, 89, 86, 84, 88, 85, 86, 89, 90, 87, 88, 85]\n",
    "\n",
    "version2_scores = [80, 78, 83, 81, 79, 82, 76, 80, 78, 81, 77, 82, 80, 79, 82, 79, 80, 81, 79, 82, 79, 78, 80, 81, 82]\n",
    "\n",
    "mean_version1 = np.mean(version1_scores)\n",
    "mean_version2 = np.mean(version2_scores)\n",
    "std_version1 = np.std(version1_scores, ddof=1)\n",
    "std_version2 = np.std(version2_scores, ddof=1)\n",
    "\n",
    "n_version1 = len(version1_scores)\n",
    "n_version2 = len(version2_scores)\n",
    "t_statistic, p_value = stats.ttest_ind(version1_scores, version2_scores, equal_var=False)"
   ]
  },
  {
   "cell_type": "code",
   "execution_count": 79,
   "id": "a471d3d7-68f1-4dce-833d-8cc7e492950e",
   "metadata": {},
   "outputs": [
    {
     "name": "stdout",
     "output_type": "stream",
     "text": [
      "Mean of Version 1 Scores: 86.64\n"
     ]
    }
   ],
   "source": [
    "print(\"Mean of Version 1 Scores:\", mean_version1)"
   ]
  },
  {
   "cell_type": "code",
   "execution_count": 82,
   "id": "49fe9af3-a4da-40af-8d81-908b4c9b3607",
   "metadata": {},
   "outputs": [
    {
     "name": "stdout",
     "output_type": "stream",
     "text": [
      "Mean of Version 2 Scores: 79.96\n"
     ]
    }
   ],
   "source": [
    "print(\"Mean of Version 2 Scores:\", mean_version2)"
   ]
  },
  {
   "cell_type": "code",
   "execution_count": 83,
   "id": "5fc822e9-7d43-42f5-b505-dccbaab25465",
   "metadata": {},
   "outputs": [
    {
     "name": "stdout",
     "output_type": "stream",
     "text": [
      "Standard Deviation of Version 1 Scores: 2.3607908279501033\n"
     ]
    }
   ],
   "source": [
    "print(\"Standard Deviation of Version 1 Scores:\", std_version1)"
   ]
  },
  {
   "cell_type": "code",
   "execution_count": 84,
   "id": "719977ff-ed6b-4795-8786-746c9b076d2f",
   "metadata": {},
   "outputs": [
    {
     "name": "stdout",
     "output_type": "stream",
     "text": [
      "Standard Deviation of Version 2 Scores: 1.767295485574875\n"
     ]
    }
   ],
   "source": [
    "print(\"Standard Deviation of Version 2 Scores:\", std_version2)"
   ]
  },
  {
   "cell_type": "code",
   "execution_count": 85,
   "id": "35a2d46c-8fd0-4e3c-aacf-138b0d718a48",
   "metadata": {},
   "outputs": [
    {
     "name": "stdout",
     "output_type": "stream",
     "text": [
      "T-statistic: 11.325830417646698\n"
     ]
    }
   ],
   "source": [
    "print(\"T-statistic:\", t_statistic)"
   ]
  },
  {
   "cell_type": "code",
   "execution_count": 86,
   "id": "cae0341b-5b92-446e-a56e-c6f9f444e15e",
   "metadata": {},
   "outputs": [
    {
     "name": "stdout",
     "output_type": "stream",
     "text": [
      "P-value: 1.078754084378157e-14\n"
     ]
    }
   ],
   "source": [
    "print(\"P-value:\", p_value)"
   ]
  },
  {
   "cell_type": "code",
   "execution_count": 87,
   "id": "e4e23457-91d7-4fec-aa24-26a0946c7b3b",
   "metadata": {},
   "outputs": [
    {
     "name": "stdout",
     "output_type": "stream",
     "text": [
      "There is a significant difference in quality between the two versions (reject the null hypothesis).\n"
     ]
    }
   ],
   "source": [
    "alpha = 0.05\n",
    "if p_value < alpha:\n",
    "    print(\"There is a significant difference in quality between the two versions (reject the null hypothesis).\")\n",
    "else:\n",
    "    print(\"There is no significant difference in quality between the two versions (fail to reject the null hypothesis).\")"
   ]
  },
  {
   "cell_type": "code",
   "execution_count": 88,
   "id": "d6b1343d-2840-4bb4-8c94-4f3497f19512",
   "metadata": {},
   "outputs": [],
   "source": [
    "# 20. A restaurant chain collects customer satisfaction scores for two different branches. Write a program to analyze the scores, calculate the t-statistic, and determine if there's a statistically significant difference in customer satisfaction between the branches.\n",
    "# Use the below data of scores:\n",
    "#python\n",
    "\n",
    "branch_a_scores = [4, 5, 3, 4, 5, 4, 5, 3, 4, 4, 5, 4, 4, 3, 4, 5, 5, 4, 3, 4, 5, 4, 3, 5, 4, 4, 5, 3, 4, 5, 4]\n",
    "\n",
    "branch_b_scores = [3, 4, 2, 3, 4, 3, 4, 2, 3, 3, 4, 3, 3, 2, 3, 4, 4, 3, 2, 3, 4, 3, 2, 4, 3, 3, 4, 2, 3, 4, 3]\n",
    "\n",
    "mean_branch_a = np.mean(branch_a_scores)\n",
    "mean_branch_b = np.mean(branch_b_scores)\n",
    "std_branch_a = np.std(branch_a_scores, ddof=1)\n",
    "std_branch_b = np.std(branch_b_scores, ddof=1)\n",
    "\n",
    "n_branch_a = len(branch_a_scores)\n",
    "n_branch_b = len(branch_b_scores)\n",
    "t_statistic, p_value = stats.ttest_ind(branch_a_scores, branch_b_scores, equal_var=False)"
   ]
  },
  {
   "cell_type": "code",
   "execution_count": 89,
   "id": "269726db-ea16-4403-b33c-2fda7831d614",
   "metadata": {},
   "outputs": [
    {
     "name": "stdout",
     "output_type": "stream",
     "text": [
      "Mean of Branch A Scores: 4.129032258064516\n",
      "Mean of Branch B Scores: 3.129032258064516\n",
      "Standard Deviation of Branch A Scores: 0.7184212081070998\n",
      "Standard Deviation of Branch B Scores: 0.7184212081070998\n",
      "T-statistic: 5.480077554195743\n",
      "P-value: 8.895290509945657e-07\n"
     ]
    }
   ],
   "source": [
    "print(\"Mean of Branch A Scores:\", mean_branch_a)\n",
    "print(\"Mean of Branch B Scores:\", mean_branch_b)\n",
    "print(\"Standard Deviation of Branch A Scores:\", std_branch_a)\n",
    "print(\"Standard Deviation of Branch B Scores:\", std_branch_b)\n",
    "print(\"T-statistic:\", t_statistic) \n",
    "print(\"P-value:\", p_value)"
   ]
  },
  {
   "cell_type": "code",
   "execution_count": 90,
   "id": "b2e39afe-603e-4c96-b427-5938803a1d7e",
   "metadata": {},
   "outputs": [
    {
     "name": "stdout",
     "output_type": "stream",
     "text": [
      "There is a significant difference in customer satisfaction between the two branches (reject the null hypothesis).\n"
     ]
    }
   ],
   "source": [
    "alpha = 0.05\n",
    "if p_value < alpha:\n",
    "    print(\"There is a significant difference in customer satisfaction between the two branches (reject the null hypothesis).\")\n",
    "else:\n",
    "    print(\"There is no significant difference in customer satisfaction between the two branches (fail to reject the null hypothesis).\")"
   ]
  },
  {
   "cell_type": "code",
   "execution_count": 8,
   "id": "d01525b9-e9c1-4ef9-8684-8e0ff09fcd9a",
   "metadata": {},
   "outputs": [],
   "source": [
    "# 21.  A political analyst wants to determine if there is a significant association between age groups and voter preferences (Candidate A or Candidate B). They collect data from a sample of 500 voters and classify them into different age groups and candidate preferences. Perform a Chi-Square test to determine if there is a significant association between age groups and voter preferences.\n",
    "# Use the below code to generate data:\n",
    "# python\n",
    "import scipy.stats as stats\n",
    "\n",
    "np.random.seed(0)\n",
    "\n",
    "age_groups = np.random.choice(['18-30', '31-50', '51+', '51+'], size=30)\n",
    "\n",
    "voter_preferences = np.random.choice(['Candidate A', 'Candidate B'], size=30)\n",
    "\n",
    "# make contingency table\n",
    "\n",
    "data = pd.crosstab(age_groups, voter_preferences)\n",
    "\n",
    "chi2, p, dof, expected = stats.chi2_contingency(data)"
   ]
  },
  {
   "cell_type": "code",
   "execution_count": 9,
   "id": "23cbd919-5c7d-48ad-a366-d8a8894ee9ba",
   "metadata": {},
   "outputs": [
    {
     "name": "stdout",
     "output_type": "stream",
     "text": [
      "Chi-Square Value: 1.086807928913192\n",
      "P-Value: 0.5807679703526951\n",
      "Degree of Freedom: 2\n",
      "Expected Frequency Table:\n",
      "[[2.93333333 5.06666667]\n",
      " [2.93333333 5.06666667]\n",
      " [5.13333333 8.86666667]]\n"
     ]
    }
   ],
   "source": [
    "print(f\"Chi-Square Value: {chi2}\")\n",
    "print(f\"P-Value: {p}\")\n",
    "print(f\"Degree of Freedom: {dof}\")\n",
    "print(f\"Expected Frequency Table:\\n{expected}\")"
   ]
  },
  {
   "cell_type": "code",
   "execution_count": 10,
   "id": "83b9c3ee-fdf4-4d1e-99cb-8c6aebe969a5",
   "metadata": {},
   "outputs": [
    {
     "name": "stdout",
     "output_type": "stream",
     "text": [
      "There is no significant association between age groups and voter preferences.\n"
     ]
    }
   ],
   "source": [
    "if p < 0.05:\n",
    "    print(\"There is a significant association between age groups and voter preferences.\")\n",
    "else:\n",
    "    print(\"There is no significant association between age groups and voter preferences.\")"
   ]
  },
  {
   "cell_type": "code",
   "execution_count": 12,
   "id": "6c5f5019-a369-492b-9fb6-ff36de4759ad",
   "metadata": {},
   "outputs": [],
   "source": [
    "# 22.A company conducted a customer satisfaction survey to determine if there is a significant relationship between product satisfaction levels (Satisfied, Neutral, Dissatisfied) and the region where customers are located (East, West, North, South). The survey data is summarized in a contingency table. Conduct a Chi￾Square test to determine if there is a significant relationship between product satisfaction levels and customer regions.\n",
    "# Sample data:\n",
    "# python\n",
    "\n",
    "#Sample data: Product satisfaction levels (rows) vs. Customer regions (columns)\n",
    "\n",
    "data = np.array([[50, 30, 40, 20], [30, 40, 30, 50], [20, 30, 40, 30]])\n",
    "\n",
    "# chi_square test\n",
    "\n",
    "chi2, p, dof, expected = stats.chi2_contingency(data)"
   ]
  },
  {
   "cell_type": "code",
   "execution_count": 13,
   "id": "c1da5d50-a324-4189-9225-618e28882318",
   "metadata": {},
   "outputs": [
    {
     "name": "stdout",
     "output_type": "stream",
     "text": [
      "Chi-Square Test: 27.777056277056275\n",
      "P-Value: 0.00010349448486004387\n",
      "Degree of Freedom: 6\n",
      "Expected Frequency Table:\n",
      "[[34.14634146 34.14634146 37.56097561 34.14634146]\n",
      " [36.58536585 36.58536585 40.24390244 36.58536585]\n",
      " [29.26829268 29.26829268 32.19512195 29.26829268]]\n"
     ]
    }
   ],
   "source": [
    "print(f\"Chi-Square Test: {chi2}\")\n",
    "print(f\"P-Value: {p}\")\n",
    "print(f\"Degree of Freedom: {dof}\")\n",
    "print(f\"Expected Frequency Table:\\n{expected}\")"
   ]
  },
  {
   "cell_type": "code",
   "execution_count": 14,
   "id": "d1eb2cc7-e956-436e-a10c-bc3cf1f9d19f",
   "metadata": {},
   "outputs": [
    {
     "name": "stdout",
     "output_type": "stream",
     "text": [
      "There is a significant relationship between product satisfaction levels and customer regions.\n"
     ]
    }
   ],
   "source": [
    "if p < 0.05:\n",
    "    print(\"There is a significant relationship between product satisfaction levels and customer regions.\")\n",
    "else:\n",
    "    print(\"There is no significant relationship between product satisfaction levels and customer regions.\")"
   ]
  },
  {
   "cell_type": "code",
   "execution_count": 16,
   "id": "ed4f72c7-ee96-4e1f-a644-685df88957ff",
   "metadata": {},
   "outputs": [],
   "source": [
    "# 23.  A company implemented an employee training program to improve job performance (Effective, Neutral, Ineffective). After the training, they collected data from a sample of employees and classified them based on their job performance before and after the training. Perform a Chi-Square test to determine if there is a significant difference between job performance levels before and after the training.\n",
    "# Sample data:\n",
    "# python\n",
    "\n",
    "# Sample data: Job performance levels before (rows) and after (columns) training\n",
    "\n",
    "data = np.array([[50, 30, 20], [30, 40, 30], [20, 30, 40]])\n",
    "\n",
    "# chi-square test\n",
    "\n",
    "chi2, p, dof, expected = stats.chi2_contingency(data)"
   ]
  },
  {
   "cell_type": "code",
   "execution_count": 17,
   "id": "adc51260-5efe-484a-98d7-99b3c0d71ac0",
   "metadata": {},
   "outputs": [
    {
     "name": "stdout",
     "output_type": "stream",
     "text": [
      "Chi-Square Test: 22.161728395061726\n",
      "P-Value: 0.00018609719479882554\n",
      "Degree of freedom: 4\n",
      "Expected Frequency Table:\n",
      "[[34.48275862 34.48275862 31.03448276]\n",
      " [34.48275862 34.48275862 31.03448276]\n",
      " [31.03448276 31.03448276 27.93103448]]\n"
     ]
    }
   ],
   "source": [
    "print(f\"Chi-Square Test: {chi2}\")\n",
    "print(f\"P-Value: {p}\")\n",
    "print(f\"Degree of freedom: {dof}\")\n",
    "print(f\"Expected Frequency Table:\\n{expected}\")"
   ]
  },
  {
   "cell_type": "code",
   "execution_count": 18,
   "id": "c35e70a4-ad65-4c85-bc38-4d634ef28b66",
   "metadata": {},
   "outputs": [
    {
     "name": "stdout",
     "output_type": "stream",
     "text": [
      "There is a significant difference in job performance levels before and after the training.\n"
     ]
    }
   ],
   "source": [
    "if p < 0.05:\n",
    "    print(\"There is a significant difference in job performance levels before and after the training.\")\n",
    "else:\n",
    "    print(\"There is no significant difference in job performance levels before and after the training.\")"
   ]
  },
  {
   "cell_type": "code",
   "execution_count": 22,
   "id": "1294f051-7b94-48c6-bf6d-1b815a85b3fa",
   "metadata": {},
   "outputs": [],
   "source": [
    "# 24. A company produces three different versions of a product: Standard, Premium, and Deluxe. The company wants to determine if there is a significant difference in customer satisfaction scores among the three product versions. They conducted a survey and collected customer satisfaction scores for each version from a random sample of customers. Perform an ANOVA test to determine if there is a significant difference in customer satisfaction scores.\n",
    "# Use the following data:\n",
    "# python\n",
    "\n",
    "# Sample data: Customer satisfaction scores for each product version\n",
    "\n",
    "standard_scores = [80, 85, 90, 78, 88, 82, 92, 78, 85, 87]\n",
    "\n",
    "premium_scores = [90, 92, 88, 92, 95, 91, 96, 93, 89, 93]\n",
    "\n",
    "deluxe_scores = [95, 98, 92, 97, 96, 94, 98, 97, 92, 99]\n",
    "\n",
    "# Anova test\n",
    "\n",
    "fstat, pvalue = stats.f_oneway(standard_scores, premium_scores, deluxe_scores)"
   ]
  },
  {
   "cell_type": "code",
   "execution_count": 23,
   "id": "27054093-a813-449d-aff7-ffe9b9e27c1f",
   "metadata": {},
   "outputs": [
    {
     "name": "stdout",
     "output_type": "stream",
     "text": [
      "F-Statistics: 27.03556231003039\n",
      "P-Value: 3.578632885734896e-07\n"
     ]
    }
   ],
   "source": [
    "print(f\"F-Statistics: {fstat}\")\n",
    "print(f\"P-Value: {pvalue}\")"
   ]
  },
  {
   "cell_type": "code",
   "execution_count": 26,
   "id": "19c458bf-67a7-40cc-ac83-f4113fdf4549",
   "metadata": {},
   "outputs": [
    {
     "name": "stdout",
     "output_type": "stream",
     "text": [
      "There is a significant difference in customer satisfaction scores among the three product versions.\n"
     ]
    }
   ],
   "source": [
    "# conclusion Based On P-Value\n",
    "if pvalue < 0.05:\n",
    "    print(\"There is a significant difference in customer satisfaction scores among the three product versions.\")\n",
    "else:\n",
    "    print(\"There is no significant difference in customer satisfaction scores among the three product versions.\")"
   ]
  },
  {
   "cell_type": "code",
   "execution_count": null,
   "id": "32f7b227-51a8-4fb7-b02b-456f88f96f94",
   "metadata": {},
   "outputs": [],
   "source": []
  }
 ],
 "metadata": {
  "kernelspec": {
   "display_name": "Python 3 (ipykernel)",
   "language": "python",
   "name": "python3"
  },
  "language_info": {
   "codemirror_mode": {
    "name": "ipython",
    "version": 3
   },
   "file_extension": ".py",
   "mimetype": "text/x-python",
   "name": "python",
   "nbconvert_exporter": "python",
   "pygments_lexer": "ipython3",
   "version": "3.13.0"
  }
 },
 "nbformat": 4,
 "nbformat_minor": 5
}
