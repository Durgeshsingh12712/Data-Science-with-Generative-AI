{
 "cells": [
  {
   "cell_type": "markdown",
   "id": "9d547269-06f1-4820-b6af-6a6fbbafcb31",
   "metadata": {},
   "source": [
    "                                           Assignment : Object Oriented Programming"
   ]
  },
  {
   "cell_type": "code",
   "execution_count": null,
   "id": "5fca8e01-9987-4e38-8bcd-03083e2fb0a9",
   "metadata": {},
   "outputs": [],
   "source": [
    "# Question and Answer are in Raw So please download to see answer"
   ]
  },
  {
   "cell_type": "raw",
   "id": "0b6dce25-baa9-4cb2-a0ab-800a310bc4b5",
   "metadata": {},
   "source": [
    "# 1. Explain the importance of Functions.\n",
    "\n",
    "Explain:- Functions in python programming play a cruial role and are important for several reasons\n",
    "\n",
    "1. Simplifying Tasks  :   Functions are like helpers that you can create to do specific jobs.\n",
    "                          Instead of writting the same code again and again, you  can make a function to do it once.\n",
    "                          This makes your program shorter and easier to understand.\n",
    "\n",
    "2. Keeping Things Organized   :  In a big program, there can be lots of code.\n",
    "                                 Functions help keep things organized.\n",
    "                                 You give each job a name and put the code for that job inside the function.\n",
    "                                 So, you know where to find things.\n",
    "\n",
    "3. Reusability   :  Once you create a function, you can use it in different parts of your program whenever you need that job done.\n",
    "                    This saves time, reduces mistakes, and makes your code more efficient.\n",
    "\n",
    "\n",
    "7. Collaboration   :   When working with others, functions make it easier to share and understand the code.\n",
    "                       You can tell your friends, \"Use this function to do that task,\" and they'll understand what it does."
   ]
  },
  {
   "cell_type": "code",
   "execution_count": 1,
   "id": "eb9dbcaf-bbd1-4332-b958-da898342c7f0",
   "metadata": {},
   "outputs": [],
   "source": [
    "# 2. Write a basic function to Great student.\n",
    "\n",
    "def great_student():\n",
    "    print(\"Hello Welcome to the class\")"
   ]
  },
  {
   "cell_type": "code",
   "execution_count": 36,
   "id": "cc6b3169-434f-43aa-9939-2007b9ff1783",
   "metadata": {},
   "outputs": [
    {
     "name": "stdout",
     "output_type": "stream",
     "text": [
      "Hello Welcome to the class\n"
     ]
    }
   ],
   "source": [
    "great_student()"
   ]
  },
  {
   "cell_type": "raw",
   "id": "ed82976c-7969-4759-a41f-2d9bf2020029",
   "metadata": {},
   "source": [
    "# 3. What is the difference between print and return statements?\n",
    "\n",
    "1. Print  :   It is used to display output to the console.\n",
    "              It displays output to the console but does not return the value.\n",
    "              It can be used multiple times in a function but does not affect the function's return value.\n",
    "              The print does't affect program flow and execution continues normally.\n",
    "              Example : print(\"Hello World\") to display a message on the console.\n",
    "\n",
    "2. Return  :  It is used to exit a function and return a value.\n",
    "              It returns a  value that can be assigned to a variable or used in any expression.\n",
    "              It can be used multiple times in a function but only one value can be returned at a time.\n",
    "              Exiting the function with return ends the function and control return to calling code.\n",
    "              Example : return sum in a function that calculates the sum of two numbers."
   ]
  },
  {
   "cell_type": "raw",
   "id": "fd57eb98-de5f-410b-92d2-fe4fa436efc8",
   "metadata": {},
   "source": [
    "# 4. whats are *args and **kwargs?\n",
    "\n",
    "1. *args( Arbitrary Arguments) : It allows a function to accept any number of positional arguments.\n",
    "                                 It asterisk(*) before the parameter name is used to denote that it can take multiple arguments.\n",
    "                                 The arguments passed with *args are treated as a tuple.\n",
    "2. **Kwargs ( Keyword Arguments) : It allows a function to accept any number of keyword arguments.\n",
    "                                   The Double asterisk(**) before the parameter name is used to denote that it can take                                            multiple keyword arguments.\n",
    "                                   The arguments passed with **Kwargs are treated as a dictionary. "
   ]
  },
  {
   "cell_type": "raw",
   "id": "b7355839-30ae-4489-94f9-22be692fa144",
   "metadata": {},
   "source": [
    "# 5. Explain the iterator function.\n",
    "\n",
    "Expalain : Iterator in python is an obeject that is used to iterate over iterable objects like lists, tuples, dicts, and sets.             The iterator object is initialized using the iter() method. it uses the next() method for iteration.\n",
    "           Example :    s = \"PWskills\"\n",
    "                        iter(s)\n",
    "\n",
    "                        output = < str_iterator at 0x7ffa776bbf70>"
   ]
  },
  {
   "cell_type": "code",
   "execution_count": 43,
   "id": "fd29279f-d941-4188-913c-986c28d4282c",
   "metadata": {},
   "outputs": [
    {
     "name": "stdout",
     "output_type": "stream",
     "text": [
      "0\n",
      "1\n",
      "4\n",
      "9\n",
      "16\n"
     ]
    }
   ],
   "source": [
    "# 6. Write a code that generates the squares of numbers from 1 to n using a generator.\n",
    "\n",
    "def square_numbers_generators(n):\n",
    "    for i in range(n):\n",
    "        yield i ** 2\n",
    "n = 5\n",
    "for square in square_numbers_generators(n):\n",
    "    print(square)"
   ]
  },
  {
   "cell_type": "code",
   "execution_count": 15,
   "id": "ab269323-061f-4f30-a972-38439946e5bb",
   "metadata": {},
   "outputs": [
    {
     "name": "stdout",
     "output_type": "stream",
     "text": [
      "0\n",
      "1\n",
      "2\n",
      "3\n",
      "4\n",
      "5\n",
      "6\n",
      "7\n",
      "8\n",
      "9\n",
      "11\n",
      "22\n"
     ]
    }
   ],
   "source": [
    "# 7. Write a code that generates palindromic numbers up to n using a generator.\n",
    "\n",
    "def is_palindrome(num):\n",
    "    return str(num) == str(num)[::-1]\n",
    "\n",
    "def generate_palindromes(n):\n",
    "    for i in range(n):\n",
    "        if is_palindrome(i):\n",
    "            yield i\n",
    "n = 30\n",
    "for palindrome in generate_palindromes(n):\n",
    "    print(palindrome)"
   ]
  },
  {
   "cell_type": "code",
   "execution_count": 30,
   "id": "0481f12e-af2e-4834-ba49-45a07148ae70",
   "metadata": {},
   "outputs": [
    {
     "name": "stdout",
     "output_type": "stream",
     "text": [
      "0\n",
      "2\n",
      "4\n"
     ]
    }
   ],
   "source": [
    "# 8. Write a code that generates even numbers from to n using a generator.\n",
    "\n",
    "def even_numbers(n):\n",
    "    for i in range(0, n + 1, 2):\n",
    "        yield i\n",
    "n = 4        \n",
    "for even in even_numbers(n):\n",
    "    print(even)"
   ]
  },
  {
   "cell_type": "code",
   "execution_count": 35,
   "id": "23409383-7471-4c3e-91bc-10d4643f8194",
   "metadata": {},
   "outputs": [
    {
     "name": "stdout",
     "output_type": "stream",
     "text": [
      "1\n",
      "2\n",
      "4\n",
      "8\n",
      "16\n",
      "32\n"
     ]
    }
   ],
   "source": [
    "# 9. Write a code that generates powers of two up to n using a generator. \n",
    "\n",
    "def powers_of_two(n):\n",
    "    i = 0\n",
    "    while (1 << i) <= n:\n",
    "        yield 1 << i\n",
    "        i += 1\n",
    "n = 50\n",
    "for power in powers_of_two(n):\n",
    "    print(power)\n"
   ]
  },
  {
   "cell_type": "code",
   "execution_count": 40,
   "id": "a37a07d6-4119-414b-9431-137240f98af5",
   "metadata": {},
   "outputs": [
    {
     "name": "stdout",
     "output_type": "stream",
     "text": [
      "2\n",
      "3\n",
      "5\n",
      "7\n",
      "11\n",
      "13\n",
      "17\n",
      "19\n"
     ]
    }
   ],
   "source": [
    "# 10. Write a code that generates prime numbers up to n using a generator.\n",
    "def is_prime(num):\n",
    "    if num < 2:\n",
    "        return False\n",
    "    for i in range(2, int(num ** 0.5) + 1):\n",
    "        if num % i == 0:\n",
    "            return False\n",
    "    return True\n",
    "\n",
    "def primes_up_to_n(n):\n",
    "    for num in range(2, n + 1):\n",
    "        if is_prime(num):\n",
    "            yield num\n",
    "\n",
    "n = 20 \n",
    "for prime in primes_up_to_n(n):\n",
    "    print(prime)\n"
   ]
  },
  {
   "cell_type": "code",
   "execution_count": 2,
   "id": "ae0a421e-3840-4fde-8d18-5410c9694058",
   "metadata": {},
   "outputs": [
    {
     "data": {
      "text/plain": [
       "7"
      ]
     },
     "execution_count": 2,
     "metadata": {},
     "output_type": "execute_result"
    }
   ],
   "source": [
    "# 11. Write a code that uses a lambda function to calculate the sum of two numbers.\n",
    "\n",
    "add = lambda a, b: a + b\n",
    "\n",
    "add(2, 5)"
   ]
  },
  {
   "cell_type": "code",
   "execution_count": 3,
   "id": "e2411792-83be-44d7-911b-1308ee372032",
   "metadata": {},
   "outputs": [
    {
     "data": {
      "text/plain": [
       "16"
      ]
     },
     "execution_count": 3,
     "metadata": {},
     "output_type": "execute_result"
    }
   ],
   "source": [
    "# 12. Write a code that uses a lambda function to calculates the square of a given number.\n",
    "\n",
    "square_lambda = lambda x: x**2\n",
    "square_lambda(4)"
   ]
  },
  {
   "cell_type": "code",
   "execution_count": 4,
   "id": "c4fc31e7-84d0-43cf-b57b-5b2ff46e8db5",
   "metadata": {},
   "outputs": [
    {
     "data": {
      "text/plain": [
       "'ODD'"
      ]
     },
     "execution_count": 4,
     "metadata": {},
     "output_type": "execute_result"
    }
   ],
   "source": [
    "# 13. Write a code that uses a lambda function to check whether a given numbers is enen or odd.\n",
    "\n",
    "even_or_odd = lambda x: \"EVEN\" if x % 2 == 0 else \"ODD\"\n",
    "\n",
    "even_or_odd(7)"
   ]
  },
  {
   "cell_type": "code",
   "execution_count": 5,
   "id": "2d674841-de0d-4270-a2fe-0468e828b07e",
   "metadata": {},
   "outputs": [
    {
     "data": {
      "text/plain": [
       "'EVEN'"
      ]
     },
     "execution_count": 5,
     "metadata": {},
     "output_type": "execute_result"
    }
   ],
   "source": [
    "even_or_odd(12)"
   ]
  },
  {
   "cell_type": "code",
   "execution_count": 12,
   "id": "e0ebba39-04da-458f-9825-16ab3be44d8c",
   "metadata": {},
   "outputs": [
    {
     "name": "stdout",
     "output_type": "stream",
     "text": [
      "Hello World\n"
     ]
    }
   ],
   "source": [
    "# 14. Write a code that uses a lambda function to concatenate two strings.\n",
    "\n",
    "concat_str = lambda str1, str2: str1 + str2\n",
    "\n",
    "strn1 = \"Hello \"\n",
    "strn2 = \"World\"\n",
    "\n",
    "concat = concat_str(strn1, strn2)\n",
    "print(concat)"
   ]
  },
  {
   "cell_type": "code",
   "execution_count": 22,
   "id": "2db3b791-a41b-44d7-bf27-b898805571ff",
   "metadata": {},
   "outputs": [
    {
     "name": "stdout",
     "output_type": "stream",
     "text": [
      "15\n"
     ]
    }
   ],
   "source": [
    "# 15. Write a code that used a lambda function to find the maximum of three given numbers.\n",
    "\n",
    "max_num_of_three = lambda x, y, z: max(x, y, z)\n",
    "\n",
    "num1 = 5\n",
    "num2 = 10\n",
    "num3 = 15\n",
    "\n",
    "max_num = max_num_of_three(num1, num2, num3)\n",
    "print(max_num)"
   ]
  },
  {
   "cell_type": "code",
   "execution_count": 24,
   "id": "060a0a9d-9715-4ebc-9cf0-05485a057da6",
   "metadata": {},
   "outputs": [
    {
     "name": "stdout",
     "output_type": "stream",
     "text": [
      "[4, 16, 36]\n"
     ]
    }
   ],
   "source": [
    "# 16. Write a code that generates the squares of even numbers from given list.\n",
    "\n",
    "given_list = [2, 1, 3, 4, 5, 6]\n",
    "\n",
    "square_of_even = list(map(lambda x: x**2, filter(lambda x: x % 2 == 0, given_list)))\n",
    "\n",
    "print(square_of_even)"
   ]
  },
  {
   "cell_type": "code",
   "execution_count": 31,
   "id": "1ac2ca10-4253-437b-ab92-9203fc77c5f0",
   "metadata": {},
   "outputs": [
    {
     "name": "stdout",
     "output_type": "stream",
     "text": [
      "120\n"
     ]
    }
   ],
   "source": [
    "# 17. Write a code that calculates the product of positive numbers from a given list.\n",
    "from functools import reduce\n",
    "given_list = [2, 1, 3, -1, -4, -8, 4, 5,]\n",
    "\n",
    "positive_num = filter(lambda x: x > 0, given_list)\n",
    "\n",
    "product_of_positive = reduce(lambda x, y: x * y, positive_num, 1)\n",
    "print(product_of_positive)"
   ]
  },
  {
   "cell_type": "code",
   "execution_count": 32,
   "id": "52a2fa88-2ef5-4f36-a3ed-0a807edba562",
   "metadata": {},
   "outputs": [
    {
     "name": "stdout",
     "output_type": "stream",
     "text": [
      "[2, 6, 10]\n"
     ]
    }
   ],
   "source": [
    "#18. Write a code that doubles the value of odd numbers from given list.\n",
    "\n",
    "given_list = [2, 1, 3, 4, 5, 6]\n",
    "\n",
    "double_of_odd = list(map(lambda x: x*2, filter(lambda x: x % 2 != 0, given_list)))\n",
    "\n",
    "print(double_of_odd)"
   ]
  },
  {
   "cell_type": "code",
   "execution_count": 33,
   "id": "14f753d8-4c35-4c89-9cd4-66c10f260c80",
   "metadata": {},
   "outputs": [
    {
     "name": "stdout",
     "output_type": "stream",
     "text": [
      "441\n"
     ]
    }
   ],
   "source": [
    "# 19. Write a code that calculates the sum of cubes of numbers from a given list.\n",
    "\n",
    "given_list = [2, 1, 3, 4, 5, 6]\n",
    "\n",
    "sum_of_cubes = sum(map(lambda x: x ** 3, given_list))\n",
    "\n",
    "print(sum_of_cubes)"
   ]
  },
  {
   "cell_type": "code",
   "execution_count": 35,
   "id": "b13b7cce-15e0-43ab-96aa-bfd2809b98ae",
   "metadata": {},
   "outputs": [
    {
     "name": "stdout",
     "output_type": "stream",
     "text": [
      "[2, 3, 5]\n"
     ]
    }
   ],
   "source": [
    "# 20. Write a code that filters out prime numbers from a given list.\n",
    "\n",
    "def is_prime(n):\n",
    "    if n <= 1:\n",
    "        return False\n",
    "    for i in range(2, int(n ** 0.5) + 1):\n",
    "        if n % i == 0:\n",
    "            return False\n",
    "    return True\n",
    "\n",
    "given_list = [2, 1, 3, 4, 5, 6]\n",
    "\n",
    "prime_num = list(filter(lambda x: is_prime(x), given_list))\n",
    "\n",
    "print(prime_num)"
   ]
  },
  {
   "cell_type": "code",
   "execution_count": 36,
   "id": "2e10c363-981a-4640-9bca-d1dc74f228ca",
   "metadata": {},
   "outputs": [
    {
     "name": "stdout",
     "output_type": "stream",
     "text": [
      "5\n"
     ]
    }
   ],
   "source": [
    "# 21. Write a code that used a lambda function to colculates the sum of two numbers.\n",
    "\n",
    "sum_of_two = lambda x, y: x + y\n",
    "\n",
    "num1 = 2\n",
    "num2 = 3\n",
    "\n",
    "result = sum_of_two(num1, num2)\n",
    "\n",
    "print(result)"
   ]
  },
  {
   "cell_type": "code",
   "execution_count": 37,
   "id": "92fd3ec5-c850-46ab-bdc1-e9e4b99a048b",
   "metadata": {},
   "outputs": [
    {
     "data": {
      "text/plain": [
       "25"
      ]
     },
     "execution_count": 37,
     "metadata": {},
     "output_type": "execute_result"
    }
   ],
   "source": [
    "# 22. write a code that uses a lambda function to calculate the square of a given a given number.\n",
    "square = lambda x: x**2\n",
    "square(5)"
   ]
  },
  {
   "cell_type": "code",
   "execution_count": 38,
   "id": "25abaacf-af5b-4746-81c0-8cb7dff6dc9c",
   "metadata": {},
   "outputs": [
    {
     "data": {
      "text/plain": [
       "'ODD'"
      ]
     },
     "execution_count": 38,
     "metadata": {},
     "output_type": "execute_result"
    }
   ],
   "source": [
    "# 23. Write a code that uses a lambda function to check whether a given number is even or odd\n",
    "\n",
    "even_or_odd = lambda x: \"EVEN\" if x % 2 == 0 else \"ODD\"\n",
    "\n",
    "even_or_odd(7)"
   ]
  },
  {
   "cell_type": "code",
   "execution_count": 39,
   "id": "79098db0-c838-4126-bc74-b38c740a42ae",
   "metadata": {},
   "outputs": [
    {
     "data": {
      "text/plain": [
       "'EVEN'"
      ]
     },
     "execution_count": 39,
     "metadata": {},
     "output_type": "execute_result"
    }
   ],
   "source": [
    "even_or_odd(12)"
   ]
  },
  {
   "cell_type": "code",
   "execution_count": 40,
   "id": "71163faf-d8ff-4968-8889-cd759eaaf017",
   "metadata": {},
   "outputs": [
    {
     "name": "stdout",
     "output_type": "stream",
     "text": [
      "Hello Pwskills\n"
     ]
    }
   ],
   "source": [
    "# 24. Write a code that uses a lambda function to concatenate two strings.\n",
    "\n",
    "concat_str = lambda str1, str2: str1 + str2\n",
    "\n",
    "strn1 = \"Hello \"\n",
    "strn2 = \"Pwskills\"\n",
    "\n",
    "concat = concat_str(strn1, strn2)\n",
    "print(concat)"
   ]
  },
  {
   "cell_type": "code",
   "execution_count": 41,
   "id": "b5bf75f1-3e65-437f-a147-c91d6cb408e1",
   "metadata": {},
   "outputs": [
    {
     "name": "stdout",
     "output_type": "stream",
     "text": [
      "6\n"
     ]
    }
   ],
   "source": [
    "# 25. Write a code that uses a lambda function to find the maximum of three given numbers.\n",
    "\n",
    "max_num_of_three = lambda x, y, z: max(x, y, z)\n",
    "\n",
    "num1 = 4\n",
    "num2 = 5\n",
    "num3 = 6\n",
    "\n",
    "max_num = max_num_of_three(num1, num2, num3)\n",
    "print(max_num)"
   ]
  },
  {
   "cell_type": "raw",
   "id": "68a92bda-7cb3-49b8-909f-3ecfa6717e80",
   "metadata": {},
   "source": [
    "# 26. What is encapsulation in OOP?\n",
    "\n",
    "Explain : In Object-Oriented Programming (OOP) , encapsulation is a python technique for combining data and function into a single object. A class , for intance, contains all the data(Method and variables).Encapsulation refers to the broad concealment\n",
    "of an object's internal representation from area outside of its spcification.\n",
    "\n",
    "Key Concepts of Encapsulation:\n",
    "1. Data Hiding : The Internal state of an object is hidden from the outside world .\n",
    "                 This means that external code cannot directly modify the object's internal state.\n",
    "                 Any interaction with the data must occur through public method.\n",
    "2. Access Control : This is usually implemented using access modifiers :\n",
    "                    * Private : Makes the member accessible only within the class.\n",
    "                    * Protected : Makes the member accessibl within the class and by Subclasses.\n",
    "                    * Public : Makes the member accessible from anywhere.\n",
    "3.Methed  :  Encapsulation allows defining function that operate on the hidden data. These method control how the data is accessed or modified ."
   ]
  },
  {
   "cell_type": "raw",
   "id": "fdedd86d-855b-482a-80c2-17d4e7b2f8e6",
   "metadata": {},
   "source": [
    "# 27. Explain the use of access modifiers in Python classes.\n",
    "\n",
    "Explain : A class's data members and methods can be made private or protected in order to achieve encapsulation. Direct access modifiers like public,private and protected don't exists in python, though. Single and double underscorecan be used to accomplish this.\n",
    "     Modifiers for access control restrict use of a class's variable and methods. Private, Public and Protected are the three different access modifier types that Python offers."
   ]
  },
  {
   "cell_type": "code",
   "execution_count": 62,
   "id": "7c074bf5-7a30-4228-ace7-55fbbebb8e55",
   "metadata": {},
   "outputs": [],
   "source": [
    "# Types of Access Modifiers in Python\n",
    "    # Public\n",
    "class Student:\n",
    "    def __init__(self, name, degree):\n",
    "        self.name = name\n",
    "        self.degree = degree"
   ]
  },
  {
   "cell_type": "code",
   "execution_count": 64,
   "id": "31ed8b3a-b4e6-49b0-96e1-9bc5b2b61d63",
   "metadata": {},
   "outputs": [
    {
     "data": {
      "text/plain": [
       "'Durgesh'"
      ]
     },
     "execution_count": 64,
     "metadata": {},
     "output_type": "execute_result"
    }
   ],
   "source": [
    "stud = Student(\"Durgesh\", \"Data Science\")\n",
    "stud.name"
   ]
  },
  {
   "cell_type": "code",
   "execution_count": 65,
   "id": "6e4451d4-d94d-4e76-8785-67521d605f85",
   "metadata": {},
   "outputs": [],
   "source": [
    "# Private\n",
    "class Student:\n",
    "    def __init__(self, name, degree):\n",
    "        self.name = name\n",
    "        self.__degree = degree \n",
    "        \n",
    "    def show(self):\n",
    "        #accessing the public and private data member\n",
    "        print(\"name\", self.name, 'degree', self.__degree)\n",
    "stud = Student(\"Durgesh\", \"Data Science\")"
   ]
  },
  {
   "cell_type": "code",
   "execution_count": 66,
   "id": "ed7af2b0-f47f-4932-aa22-4826ae8c079d",
   "metadata": {},
   "outputs": [
    {
     "data": {
      "text/plain": [
       "'Durgesh'"
      ]
     },
     "execution_count": 66,
     "metadata": {},
     "output_type": "execute_result"
    }
   ],
   "source": [
    "stud.name"
   ]
  },
  {
   "cell_type": "code",
   "execution_count": 6,
   "id": "2d3a00d1-b911-40a0-8af9-5336f45cf179",
   "metadata": {},
   "outputs": [
    {
     "ename": "AttributeError",
     "evalue": "'Student' object has no attribute 'degree'",
     "output_type": "error",
     "traceback": [
      "\u001b[1;31m---------------------------------------------------------------------------\u001b[0m",
      "\u001b[1;31mAttributeError\u001b[0m                            Traceback (most recent call last)",
      "Cell \u001b[1;32mIn[6], line 1\u001b[0m\n\u001b[1;32m----> 1\u001b[0m \u001b[43mstud\u001b[49m\u001b[38;5;241;43m.\u001b[39;49m\u001b[43mdegree\u001b[49m\n",
      "\u001b[1;31mAttributeError\u001b[0m: 'Student' object has no attribute 'degree'"
     ]
    }
   ],
   "source": [
    "stud.degree"
   ]
  },
  {
   "cell_type": "code",
   "execution_count": 2,
   "id": "01ac4208-6344-4ff7-a590-ef06f5c928d7",
   "metadata": {},
   "outputs": [],
   "source": [
    "# Protection\n",
    "class Student:\n",
    "    def __init__(self, name, degree):\n",
    "        self._name = name\n",
    "        self._degree = degree \n",
    "        \n",
    "    def show(self):\n",
    "        #accessing the public and private data member\n",
    "        print(\"name\", self._name, 'degree', self._degree)\n",
    "stud = Student(\"Durgesh\", \"Data Science\")"
   ]
  },
  {
   "cell_type": "code",
   "execution_count": 8,
   "id": "6bdba3d1-b359-47bc-b857-ab9363553ddb",
   "metadata": {},
   "outputs": [
    {
     "ename": "AttributeError",
     "evalue": "'Student' object has no attribute 'name'",
     "output_type": "error",
     "traceback": [
      "\u001b[1;31m---------------------------------------------------------------------------\u001b[0m",
      "\u001b[1;31mAttributeError\u001b[0m                            Traceback (most recent call last)",
      "Cell \u001b[1;32mIn[8], line 1\u001b[0m\n\u001b[1;32m----> 1\u001b[0m \u001b[43mstud\u001b[49m\u001b[38;5;241;43m.\u001b[39;49m\u001b[43mname\u001b[49m\n",
      "\u001b[1;31mAttributeError\u001b[0m: 'Student' object has no attribute 'name'"
     ]
    }
   ],
   "source": [
    "stud.name"
   ]
  },
  {
   "cell_type": "raw",
   "id": "2916a0bd-c6fd-4355-abf3-4999ae398056",
   "metadata": {},
   "source": [
    "# 28. What is inheritance in OOP?\n",
    "\n",
    "Explain : Inheritence plays a significant role in an object-oriented programming language.\n",
    "          Inheritance in python to the process of a child class receiving the parent class's properties.\n",
    "          The reuse of code is inheritance's main goal. Instead of starting from scratch when developing a new class, we can\n",
    "          use the existing class instead of re-creating it from scratch"
   ]
  },
  {
   "cell_type": "markdown",
   "id": "6d38a3b7-bc99-4b0a-8808-1ed82c023015",
   "metadata": {},
   "source": [
    "# syntax\n",
    "class BaseClass:\n",
    "    #Bady of bass class\n",
    "class DerivedClass(BaseClass):\n",
    "    # Body of derived class"
   ]
  },
  {
   "cell_type": "raw",
   "id": "d4f3eb55-a320-4d88-88e2-6e63ee138d44",
   "metadata": {},
   "source": [
    "# 29. Define polymorphism in OOP.\n",
    "\n",
    "Polymorphism : In OOP, Polymorphism refers to an object's capacity to assume several forms.\n",
    "               Simply said, Polymorphism enables us to carry out a single activity in a variety of ways\n",
    "               From the Greek words poly(many) and porphism(forms), we get polymorphism .\n",
    "               Polymorphism is the capasity to assume severals shapes.\n",
    "Example : print(len('iNeuron'))\n",
    "          print(len(['iNeuron','PwSkills']))"
   ]
  },
  {
   "cell_type": "raw",
   "id": "a095af77-bfa0-434b-a7a1-291560da02c7",
   "metadata": {},
   "source": [
    "# 30. Explain method overriding in python.\n",
    "\n",
    "Explain : In Python ,Method overriding is the process of providng a different implementation for a method that is already                 defined in the superclass within a subclass.It enables the subclass to define its own version of a method with the              same name and parameters as the method in the superclass. When a method is overridden the subclass implements the               method in its own way,which overriding the behaviour defined in the superclass. The subclass can then alter or expand           the functionality of the inherited method.\n",
    "          The name,parameters,and return type of the overriding method in the subclass must match those of the method in the              superclass.Method overriding occurs only when the subclass has a method with the same name and  signature as the                superclass method.\n",
    "          when a subclass object is used to call the overriding method during runtime,the subclass implementation is invoke               rather than the superclass implementatiom . A crucial element of polymorphism is the dynamic dispatch of methods                based on the actual object type. "
   ]
  },
  {
   "cell_type": "code",
   "execution_count": 10,
   "id": "3ab27f49-6738-4744-aaff-6c9d96a9a36e",
   "metadata": {},
   "outputs": [],
   "source": [
    "class Animal:\n",
    "    def sound(self):\n",
    "        print(\"Animal Sound\")\n",
    "class Cat(Animal):\n",
    "    def sound(self):\n",
    "        print(\"Cat Meows\")\n",
    "animal = Animal()\n",
    "cat = Cat()"
   ]
  },
  {
   "cell_type": "code",
   "execution_count": 11,
   "id": "c42e006a-acd3-4f5f-acf8-c64f6b13d39c",
   "metadata": {},
   "outputs": [
    {
     "name": "stdout",
     "output_type": "stream",
     "text": [
      "Animal Sound\n"
     ]
    }
   ],
   "source": [
    "animal.sound()"
   ]
  },
  {
   "cell_type": "code",
   "execution_count": 12,
   "id": "37fda1bd-0881-4bb2-8701-0612edb95851",
   "metadata": {},
   "outputs": [
    {
     "name": "stdout",
     "output_type": "stream",
     "text": [
      "Cat Meows\n"
     ]
    }
   ],
   "source": [
    "cat.sound()"
   ]
  },
  {
   "cell_type": "code",
   "execution_count": 13,
   "id": "3c4dbd68-30ab-4fd8-8bca-22f71ec16b97",
   "metadata": {},
   "outputs": [],
   "source": [
    "# 31. Define a parent class Animal with a method make_sound that print \"Generic animal sound\". Create a child class dog inheriting from animal with a method make_sound that print \"Woof\".\n",
    "class Animal:\n",
    "    def sound(self):\n",
    "        print(\"Generic animal sound\")\n",
    "class Dog(Animal):\n",
    "    def sound(self):\n",
    "        print(\"Woof\")\n",
    "animal = Animal()\n",
    "dog = Dog()"
   ]
  },
  {
   "cell_type": "code",
   "execution_count": 14,
   "id": "42cbd147-f5de-40e8-819f-112cb6b7d7ab",
   "metadata": {},
   "outputs": [
    {
     "name": "stdout",
     "output_type": "stream",
     "text": [
      "Generic animal sound\n"
     ]
    }
   ],
   "source": [
    "animal.sound()"
   ]
  },
  {
   "cell_type": "code",
   "execution_count": 15,
   "id": "b3078382-18d2-4fa4-b293-927c0ae25c92",
   "metadata": {},
   "outputs": [
    {
     "name": "stdout",
     "output_type": "stream",
     "text": [
      "Woof\n"
     ]
    }
   ],
   "source": [
    "dog.sound()"
   ]
  },
  {
   "cell_type": "code",
   "execution_count": 16,
   "id": "7f2f674f-fde1-495e-8c89-a78ce4673a5c",
   "metadata": {},
   "outputs": [],
   "source": [
    "# 32. Define a method move in the Animal class that prints \"Animal moves\". Override the move method in the Dog class to print \"Dog runs.\"\n",
    "\n",
    "class Animal:\n",
    "    def move(self):\n",
    "        print(\"Animal moves\")\n",
    "class Dog(Animal):\n",
    "    def move(self):\n",
    "        print(\"Dog runs\")\n",
    "animal = Animal()\n",
    "dog = Dog()"
   ]
  },
  {
   "cell_type": "code",
   "execution_count": 17,
   "id": "7ce464c2-bc33-4cc2-a78f-34bf0b4f367b",
   "metadata": {},
   "outputs": [
    {
     "name": "stdout",
     "output_type": "stream",
     "text": [
      "Animal moves\n"
     ]
    }
   ],
   "source": [
    "animal.move()"
   ]
  },
  {
   "cell_type": "code",
   "execution_count": 18,
   "id": "19f49280-3582-4bf0-96c4-1ff14a0b514b",
   "metadata": {},
   "outputs": [
    {
     "name": "stdout",
     "output_type": "stream",
     "text": [
      "Dog runs\n"
     ]
    }
   ],
   "source": [
    "dog.move()"
   ]
  },
  {
   "cell_type": "code",
   "execution_count": 20,
   "id": "0dad2e1f-34df-454b-b581-8472230ea91f",
   "metadata": {},
   "outputs": [],
   "source": [
    "# 33. Create a class Mammal with a method reproduce that prints \"Giving birth to live young.\" Create a class DogMammal inheriting from both Dog and Mammal.\n",
    "class Mammal:\n",
    "    def reproduce(self):\n",
    "        print(\"Giving birth to live young\")\n",
    "class Dog:\n",
    "    def bark(self):\n",
    "        print(\"Woof\")\n",
    "class DogMammal(Dog, Mammal):\n",
    "    pass\n",
    "dog_mammal = DogMammal()"
   ]
  },
  {
   "cell_type": "code",
   "execution_count": 21,
   "id": "69f76bbd-adf3-4313-8e75-00d3d20357bb",
   "metadata": {},
   "outputs": [
    {
     "name": "stdout",
     "output_type": "stream",
     "text": [
      "Giving birth to live young\n"
     ]
    }
   ],
   "source": [
    "dog_mammal.reproduce()"
   ]
  },
  {
   "cell_type": "code",
   "execution_count": 22,
   "id": "5a986dc4-dfaa-4d06-9479-00e101d6e0ef",
   "metadata": {},
   "outputs": [
    {
     "name": "stdout",
     "output_type": "stream",
     "text": [
      "Woof\n"
     ]
    }
   ],
   "source": [
    "dog_mammal.bark()"
   ]
  },
  {
   "cell_type": "code",
   "execution_count": 24,
   "id": "af94f371-3c15-474d-af6c-16f2c9a7e4f2",
   "metadata": {},
   "outputs": [],
   "source": [
    "# 34. Create a class German Shepherd inheriting from Dog and override the make_sound method to print \"Bark!\"\n",
    "class Dog:\n",
    "    def sound(self):\n",
    "        print(\"Generic dog sound\")\n",
    "class GermanShepherd(Dog):\n",
    "    def sound(self):\n",
    "        print(\"Bark!\")\n",
    "dog = Dog()\n",
    "german_shepherd = GermanShepherd()"
   ]
  },
  {
   "cell_type": "code",
   "execution_count": 25,
   "id": "2756ce8b-890b-477e-83a1-392b513c4981",
   "metadata": {},
   "outputs": [
    {
     "name": "stdout",
     "output_type": "stream",
     "text": [
      "Bark!\n"
     ]
    }
   ],
   "source": [
    "german_shepherd.sound()"
   ]
  },
  {
   "cell_type": "code",
   "execution_count": 27,
   "id": "7342653a-eccd-40c5-b63f-727f696d3076",
   "metadata": {},
   "outputs": [
    {
     "name": "stdout",
     "output_type": "stream",
     "text": [
      "Lion is Panthera leo species.\n",
      "Max is Dog species.\n",
      "Max is a German Shepherd dog.\n"
     ]
    }
   ],
   "source": [
    "# 35.Define constructors in both the Animal and Dog classes with different initialization parameters.\n",
    "\n",
    "class Animal:\n",
    "    def __init__(self, name, species):\n",
    "        self.name = name\n",
    "        self.species = species\n",
    "        print(f\"{self.name} is {self.species} species.\")\n",
    "class Dog(Animal):\n",
    "    def __init__(self, name, breed):\n",
    "        super().__init__(name, \"Dog\")\n",
    "        self.breed = breed\n",
    "        print(f\"{self.name} is a {self.breed} dog.\")\n",
    "        \n",
    "animal = Animal(\"Lion\", \"Panthera leo\")\n",
    "dog = Dog(\"Max\", \"German Shepherd\") \n"
   ]
  },
  {
   "cell_type": "raw",
   "id": "9b927879-b78c-4a50-8d40-59d5f91927c1",
   "metadata": {},
   "source": [
    "# 36.What is abstraction in Python? How is it implemented?\n",
    "\n",
    "Explain : In Python, abstraction is a key idea in object-oriented programming (OOP) that allows you to describes complicated              system by hidding unneeded details and exposing just essensial aspects. it aids in the management of programme                  complexity by breaking it down into smaller , more manageable section.\n",
    "          Classes and objects are used to accomplish abstraction. A class is a blueprint for constructing objects, whereas an             object is a class instance.\n",
    "          The class defines the properties(attributes) and behaviours(method) of the class's object.Abstraction allows you to             construct abstract classes and methods that give a high-level inetrface without providing the implementation                    specifics.\n",
    "          Abstact classes cannot be instantiated and must be subsclasses. They may contain abstract methods that are declared             but not implemented in the abstract class itself. Subclasses are in charge of implementation these abstract methods.\n",
    "\n",
    "         From abc import ABC\n",
    "         class abc_classes(ABC):\n",
    "            # abstract method\n",
    "        @abstractmethod\n",
    "        def abs_method(self):\n",
    "          # abs_methed"
   ]
  },
  {
   "cell_type": "code",
   "execution_count": 28,
   "id": "46a115ee-a750-4292-a373-62a862d07135",
   "metadata": {},
   "outputs": [],
   "source": [
    "# 37. Explain the importance of abstraction in object-oriented programming."
   ]
  },
  {
   "cell_type": "code",
   "execution_count": 36,
   "id": "c891aefd-af18-4dd4-8a79-38dde23c401e",
   "metadata": {},
   "outputs": [
    {
     "name": "stdout",
     "output_type": "stream",
     "text": [
      "Bark!\n"
     ]
    }
   ],
   "source": [
    "# 38. How are abstract methods different from regular methods in Python?\n",
    " # Explain : Abstarct : An abstract method is a method that is declared in an abstract class, but it does not contain an implementation. The primary purpose of an abstract method is to define a contract that any subclass of the abstract class must adhere to by providing its own implementation of the abstract method.\n",
    "from abc import ABC, abstractmethod\n",
    "\n",
    "class Animal(ABC):\n",
    "    @abstractmethod\n",
    "    def sound(self):\n",
    "        pass\n",
    "        \n",
    "class Dog(Animal):\n",
    "    def sound(self):\n",
    "        print(\"Bark!\")\n",
    "        \n",
    "dog = Dog()\n",
    "dog.sound() \n"
   ]
  },
  {
   "cell_type": "code",
   "execution_count": 38,
   "id": "c1705884-d429-4fbf-8ff1-ad5a65a98c7a",
   "metadata": {},
   "outputs": [
    {
     "name": "stdout",
     "output_type": "stream",
     "text": [
      "Bark!\n"
     ]
    }
   ],
   "source": [
    "# regular : A regular method in Python is a method that contains a full implementation. It can be defined in any class, abstract or not, and can be invoked on instances of that class or its subclasses. Regular methods do not impose any requirement on subclasses—they can be overridden if desired but are not mandatory to be implemented in subclasses.\n",
    "class Animal:\n",
    "    def sound(self):\n",
    "        print(\"Animal Sound\")\n",
    "class Dog(Animal):\n",
    "    def sound(self):\n",
    "        print(\"Bark!\")\n",
    "dog = Dog()\n",
    "dog.sound()"
   ]
  },
  {
   "cell_type": "code",
   "execution_count": 39,
   "id": "b35f352a-907a-4bbd-965f-6f25f28caf87",
   "metadata": {},
   "outputs": [],
   "source": [
    "# 39. How can you achieve abstraction using interfaces in Python?"
   ]
  },
  {
   "cell_type": "code",
   "execution_count": 48,
   "id": "181041f1-b02f-4c34-9117-a047be2cf3e7",
   "metadata": {},
   "outputs": [],
   "source": [
    "# 40. Can you provide an example of how abstraction can be utilized to create a common interface for a group of related classes in Python?"
   ]
  },
  {
   "cell_type": "raw",
   "id": "8e0e6934-be34-401c-98d3-18f2fce7f52c",
   "metadata": {},
   "source": [
    "# 41. How does Python achieve polymorphism through method overriding?\n",
    "\n",
    "Explain : In Python, polymorphism is achieved through method overriding, which allows a subclass to provide its own                       implementation of a method that is already defined in its superclass. This enables the subclass to tailor or extend             the behavior of the inherited method while still retaining the same method signature."
   ]
  },
  {
   "cell_type": "code",
   "execution_count": 2,
   "id": "297d961e-473d-4931-9ca4-39d7f39b5854",
   "metadata": {},
   "outputs": [
    {
     "name": "stdout",
     "output_type": "stream",
     "text": [
      "Cat Meow!\n"
     ]
    }
   ],
   "source": [
    "class Animal:\n",
    "    def sound(self):\n",
    "        print(\"Animal Sound\")\n",
    "class Cat(Animal):\n",
    "    def sound(self):\n",
    "        print(\"Cat Meow!\")\n",
    "class Dog(Animal):\n",
    "    def sound(self):\n",
    "        print(\"Dog Bark!\")\n",
    "cat = Cat()\n",
    "dog = Dog()\n",
    "cat.sound()"
   ]
  },
  {
   "cell_type": "code",
   "execution_count": 3,
   "id": "c57d4b47-15a2-46c8-ade7-81f0cc0aa697",
   "metadata": {},
   "outputs": [
    {
     "name": "stdout",
     "output_type": "stream",
     "text": [
      "Cat Meow!\n"
     ]
    }
   ],
   "source": [
    "# 42. Define a base class with a method and a subclass that overrides the method.\n",
    "class Animal:\n",
    "    def sound(self):\n",
    "        print(\"Animal Sound\")\n",
    "class Cat(Animal):\n",
    "    def sound(self):\n",
    "        print(\"Cat Meow!\")\n",
    "class Dog(Animal):\n",
    "    def sound(self):\n",
    "        print(\"Dog Bark!\")\n",
    "cat = Cat()\n",
    "dog = Dog()\n",
    "cat.sound()"
   ]
  },
  {
   "cell_type": "code",
   "execution_count": 4,
   "id": "f66e6584-c093-4aab-96cb-9b4a4ddfb097",
   "metadata": {},
   "outputs": [
    {
     "name": "stdout",
     "output_type": "stream",
     "text": [
      "Dog Bark!\n"
     ]
    }
   ],
   "source": [
    "dog.sound()"
   ]
  },
  {
   "cell_type": "code",
   "execution_count": 6,
   "id": "187e0064-6db2-4b97-9af3-93535c1acb9a",
   "metadata": {},
   "outputs": [
    {
     "name": "stdout",
     "output_type": "stream",
     "text": [
      "The car is starting with push of a button\n"
     ]
    }
   ],
   "source": [
    "# 43.  Define a base class and multiple subclasses with overridden methods.\n",
    "\n",
    "class Vehicle:\n",
    "    def start(self):\n",
    "        print(\"The Vehicle is starting\")\n",
    "class Car(Vehicle):\n",
    "    def start(self):\n",
    "        print(\"The car is starting with push of a button\")\n",
    "class Motarcycle(Vehicle):\n",
    "    def start(self):\n",
    "        print(\"The motarcycle is starting with a kickstart\")\n",
    "class Truck(Vehicle):\n",
    "    def start(self):\n",
    "        print(\"The truck is starting with key and ignition\")\n",
    "car = Car()\n",
    "motarcycle = Motarcycle()\n",
    "truck = Truck()\n",
    "car.start()"
   ]
  },
  {
   "cell_type": "code",
   "execution_count": 7,
   "id": "b84a8969-5bd2-4fd5-9d9b-106f0ab40b6e",
   "metadata": {},
   "outputs": [
    {
     "name": "stdout",
     "output_type": "stream",
     "text": [
      "The motarcycle is starting with a kickstart\n"
     ]
    }
   ],
   "source": [
    "motarcycle.start()"
   ]
  },
  {
   "cell_type": "code",
   "execution_count": 8,
   "id": "fd98ac29-91c3-4a3a-a7ae-ea49c165082d",
   "metadata": {},
   "outputs": [
    {
     "name": "stdout",
     "output_type": "stream",
     "text": [
      "The truck is starting with key and ignition\n"
     ]
    }
   ],
   "source": [
    "truck.start()"
   ]
  },
  {
   "cell_type": "code",
   "execution_count": null,
   "id": "79f0bc97-fe57-4b3d-98c5-db186e0823cd",
   "metadata": {},
   "outputs": [],
   "source": [
    "# 44. How does polymorphism improve code readability and reusability?"
   ]
  },
  {
   "cell_type": "code",
   "execution_count": null,
   "id": "3c738cda-c56e-4cee-abf9-fc88bc10f2f9",
   "metadata": {},
   "outputs": [],
   "source": [
    "# 45. Describe how Python supports polymorphism with duck typing."
   ]
  },
  {
   "cell_type": "code",
   "execution_count": 49,
   "id": "c19297e0-661d-46b8-8923-37f76f05b80a",
   "metadata": {},
   "outputs": [],
   "source": [
    "# 46. How do you achieve encapsulation in Python?"
   ]
  },
  {
   "cell_type": "raw",
   "id": "1d1263c2-2547-44b3-80b4-199cc7841de2",
   "metadata": {},
   "source": [
    "# 47. Can encapsulation be bypassed in Python? If so, how?\n",
    "explain : Yes, encapsulation in Python can be bypassed due to Python’s dynamic nature and lack of strict enforcement of access control. While                     encapsulation is supported by using conventions (e.g., private attributes with double underscores __ and protected attributes with a single             underscore _)"
   ]
  },
  {
   "cell_type": "code",
   "execution_count": 10,
   "id": "ba9403fb-7655-4a0f-9bbf-01fc17277419",
   "metadata": {},
   "outputs": [
    {
     "data": {
      "text/plain": [
       "2024"
      ]
     },
     "execution_count": 10,
     "metadata": {},
     "output_type": "execute_result"
    }
   ],
   "source": [
    "# private\n",
    "class Car:\n",
    "    def __init__(self, make, model, year):\n",
    "        self.__year = year\n",
    "car = Car(\"Tata\", \"Curve\", 2024)\n",
    "car._Car__year"
   ]
  },
  {
   "cell_type": "code",
   "execution_count": 26,
   "id": "8aa05585-fbfb-4a37-bbfc-0cb61477438c",
   "metadata": {},
   "outputs": [],
   "source": [
    "# 48. Implement a class BankAccount with a private balance attribute. Include methods to deposit, withdraw, and check the balance.\n",
    "\n",
    "class BankAccount:\n",
    "    def __init__(self, balance):\n",
    "        self.__balance = balance\n",
    "    def deposite(self, amount):\n",
    "        self.__balance = self.__balance + amount\n",
    "    def withdraw(self, amount):\n",
    "        if self.__balance >= amount:\n",
    "            self.__balance = self.__balance - amount\n",
    "            return True\n",
    "        else:\n",
    "            return False\n",
    "    def get_balance(self):\n",
    "        return self.__balance\n",
    "acc = BankAccount(1000)"
   ]
  },
  {
   "cell_type": "code",
   "execution_count": 27,
   "id": "d609eb51-47cd-47cc-9ae3-0ebb50d0fa2b",
   "metadata": {},
   "outputs": [
    {
     "data": {
      "text/plain": [
       "1000"
      ]
     },
     "execution_count": 27,
     "metadata": {},
     "output_type": "execute_result"
    }
   ],
   "source": [
    "acc.get_balance()"
   ]
  },
  {
   "cell_type": "code",
   "execution_count": 28,
   "id": "4b6d3fa5-f842-43c5-a6e8-1493b63ad5a0",
   "metadata": {},
   "outputs": [],
   "source": [
    "acc.deposite(10000)"
   ]
  },
  {
   "cell_type": "code",
   "execution_count": 29,
   "id": "cdbf34af-82e3-4481-826a-f49b52b2f18a",
   "metadata": {},
   "outputs": [
    {
     "data": {
      "text/plain": [
       "11000"
      ]
     },
     "execution_count": 29,
     "metadata": {},
     "output_type": "execute_result"
    }
   ],
   "source": [
    "acc.get_balance()"
   ]
  },
  {
   "cell_type": "code",
   "execution_count": 30,
   "id": "acd117e1-de9a-4bce-8b9d-22c2439b49ca",
   "metadata": {},
   "outputs": [
    {
     "data": {
      "text/plain": [
       "True"
      ]
     },
     "execution_count": 30,
     "metadata": {},
     "output_type": "execute_result"
    }
   ],
   "source": [
    "acc.withdraw(10500)"
   ]
  },
  {
   "cell_type": "code",
   "execution_count": 31,
   "id": "15110abf-221f-4673-aad7-b6839655a105",
   "metadata": {},
   "outputs": [
    {
     "data": {
      "text/plain": [
       "500"
      ]
     },
     "execution_count": 31,
     "metadata": {},
     "output_type": "execute_result"
    }
   ],
   "source": [
    "acc.get_balance()"
   ]
  },
  {
   "cell_type": "code",
   "execution_count": 40,
   "id": "06d264ab-2fda-4b76-a4f4-026214c6e314",
   "metadata": {},
   "outputs": [],
   "source": [
    "# 49. Develop a Person class with private attributes name and email, and methods to set and get the email.\n",
    "\n",
    "class Person:\n",
    "    def __init__(self, name, email):\n",
    "        self.__name = name\n",
    "        self.__email = email\n",
    "    def set_email(self, email):\n",
    "        if '@' in email:\n",
    "            self.__email = email\n",
    "            print(\"Email Updated\")\n",
    "        else:\n",
    "            print(\"Invalid email. Please provide valid email address\")\n",
    "    def get_email(self):\n",
    "        return self.__email\n",
    "    def get_name(self):\n",
    "        return self.__name\n",
    "person = Person(\"Durgesh\", \"durgesh@gmail.com\")"
   ]
  },
  {
   "cell_type": "code",
   "execution_count": 42,
   "id": "6cac19de-32bf-4d86-a766-4c0569a724fa",
   "metadata": {},
   "outputs": [
    {
     "name": "stdout",
     "output_type": "stream",
     "text": [
      "Email Updated\n"
     ]
    }
   ],
   "source": [
    "person.set_email(\"durgesh12@gmail.com\")"
   ]
  },
  {
   "cell_type": "code",
   "execution_count": 43,
   "id": "d046fc28-abb8-49e0-8fba-4f469f737ac1",
   "metadata": {},
   "outputs": [
    {
     "name": "stdout",
     "output_type": "stream",
     "text": [
      "Invalid email. Please provide valid email address\n"
     ]
    }
   ],
   "source": [
    "person.set_email(\"durgeshgmail.com\")"
   ]
  },
  {
   "cell_type": "code",
   "execution_count": 44,
   "id": "fb0f17b3-7f9f-4b22-afdf-9e81416dccc4",
   "metadata": {},
   "outputs": [
    {
     "data": {
      "text/plain": [
       "'Durgesh'"
      ]
     },
     "execution_count": 44,
     "metadata": {},
     "output_type": "execute_result"
    }
   ],
   "source": [
    "person._Person__name"
   ]
  },
  {
   "cell_type": "raw",
   "id": "ea37d388-59ee-4f36-a88b-943eb065caca",
   "metadata": {},
   "source": [
    "# 50. Why is encapsulation considered a pillar of object-oriented programming (OOP)?\n",
    " Explain : Encapsulation is considered a fundamental pillar of Object-Oriented Programming (OOP) because it promotes the idea              of bundling the data (attributes) and the methods (functions) that operate on that data into a single unit, or                  object. It is crucial for several reasons:\n",
    "           1. Data Hiding and Protection\n",
    "           2. Modularity and Abstraction\n",
    "           3. Control Over Data\n",
    "           4. Maintaining Code Integrity\n",
    "           5. Simplifying Debugging and Maintenance\n",
    "           6. Support for Object Lifecycle Management"
   ]
  },
  {
   "cell_type": "code",
   "execution_count": 46,
   "id": "ff2db8b8-0d86-47c3-b461-fae518567728",
   "metadata": {},
   "outputs": [
    {
     "name": "stdout",
     "output_type": "stream",
     "text": [
      "The lines being printed before the function\n",
      "12\n",
      "The line being  printed after the function\n"
     ]
    }
   ],
   "source": [
    "# 51. Create a decorator in Python that adds functionality to a simple function by printing a message before and after the function execution.\n",
    "\n",
    "def my_decorator_func():\n",
    "    print(\"The lines being printed before the function\")\n",
    "    print(1+11)\n",
    "    print(\"The line being  printed after the function\")\n",
    "my_decorator_func()"
   ]
  },
  {
   "cell_type": "code",
   "execution_count": 59,
   "id": "c7a09a99-886f-4463-b392-48d1da954bea",
   "metadata": {},
   "outputs": [],
   "source": [
    "# 52. Modify the decorator to accept arguments and print the function name along with the message.\n",
    "\n",
    "def decorator_with_args(message):\n",
    "    def decorator(func):\n",
    "        def wrapper(*args, **kwargs):\n",
    "            print(f\"{message} - Function '{func.__name__}' is being called.\")\n",
    "            return func(*args, **kwargs)\n",
    "        return wrapper\n",
    "    return decorator\n",
    "\n",
    "@decorator_with_args(\"Hello\")\n",
    "def greet():\n",
    "    print(\"Hello, Rohit!\")\n",
    "\n",
    "@decorator_with_args(\"Goodbye\")\n",
    "def farewell():\n",
    "    print(\"Goodbye, Rahul!\")\n"
   ]
  },
  {
   "cell_type": "code",
   "execution_count": 61,
   "id": "aa444c67-189f-41d1-b170-749ddbb57659",
   "metadata": {},
   "outputs": [
    {
     "name": "stdout",
     "output_type": "stream",
     "text": [
      "Hello - Function 'greet' is being called.\n",
      "Hello, Rohit!\n"
     ]
    }
   ],
   "source": [
    "greet()"
   ]
  },
  {
   "cell_type": "code",
   "execution_count": 62,
   "id": "9dfcaaf6-ca2c-4e09-bc4b-499e9a24d41f",
   "metadata": {},
   "outputs": [
    {
     "name": "stdout",
     "output_type": "stream",
     "text": [
      "Goodbye - Function 'farewell' is being called.\n",
      "Goodbye, Rahul!\n"
     ]
    }
   ],
   "source": [
    "farewell()"
   ]
  },
  {
   "cell_type": "code",
   "execution_count": 64,
   "id": "3bfdc3af-6b7a-41d4-925c-1ac57d5717df",
   "metadata": {},
   "outputs": [],
   "source": [
    "# 53. Create two decorators, and apply them to a single function. Ensure that they execute in the order they are applied.\n",
    "\n",
    "def decorator_one(func):\n",
    "    def wrapper(*args, **kwargs):\n",
    "        print(\"Decorator One: Before function call\")\n",
    "        result = func(*args, **kwargs)\n",
    "        print(\"Decorator One: After function call\")\n",
    "        return result\n",
    "    return wrapper\n",
    "def decorator_two(func):\n",
    "    def wrapper(*args, **kwargs):\n",
    "        print(\"Decorator Two: Before function call\")\n",
    "        result = func(*args, **kwargs)\n",
    "        print(\"Decorator Two: After function call\")\n",
    "        return result\n",
    "    return wrapper\n",
    "@decorator_one\n",
    "@decorator_two\n",
    "def greet(name):\n",
    "    print(f\"Hello, {name}!\")"
   ]
  },
  {
   "cell_type": "code",
   "execution_count": 65,
   "id": "af5cdb62-156d-493a-951d-0b66514076e2",
   "metadata": {},
   "outputs": [
    {
     "name": "stdout",
     "output_type": "stream",
     "text": [
      "Decorator One: Before function call\n",
      "Decorator Two: Before function call\n",
      "Hello, Rohit!\n",
      "Decorator Two: After function call\n",
      "Decorator One: After function call\n"
     ]
    }
   ],
   "source": [
    "greet(\"Rohit\")"
   ]
  },
  {
   "cell_type": "code",
   "execution_count": 6,
   "id": "6462aabe-80e2-4453-8ba0-444caa479bcf",
   "metadata": {},
   "outputs": [
    {
     "name": "stdout",
     "output_type": "stream",
     "text": [
      "Before calling the function\n",
      "a: 3, b: 5\n",
      "After calling the function\n",
      "Result: 8\n"
     ]
    }
   ],
   "source": [
    "# 54. Modify the decorator to accept and pass function arguments to the wrapped function.\n",
    "def my_decorator(func):\n",
    "    def wrapper(*args, **kwargs):\n",
    "        print(\"Before calling the function\")\n",
    "        result = func(*args, **kwargs)\n",
    "        print(\"After calling the function\")\n",
    "        return result\n",
    "    return wrapper\n",
    "\n",
    "@my_decorator\n",
    "def my_function(a, b):\n",
    "    print(f\"a: {a}, b: {b}\")\n",
    "    return a + b\n",
    "\n",
    "result = my_function(3, 5)\n",
    "print(f\"Result: {result}\")"
   ]
  },
  {
   "cell_type": "code",
   "execution_count": 1,
   "id": "86315d0c-5dbc-4406-af17-95551347dae4",
   "metadata": {},
   "outputs": [
    {
     "name": "stdout",
     "output_type": "stream",
     "text": [
      "Calling add with arguments: (3, 5) and keyword arguments: {}\n",
      "add returned 8\n",
      "8\n",
      "add\n",
      "This function adds two numbers.\n"
     ]
    }
   ],
   "source": [
    "# 55. Create a decorator that preserves the metadata of the original function.\n",
    "import functools\n",
    "\n",
    "def preserve_metadata_decorator(func):\n",
    "    @functools.wraps(func)\n",
    "    def wrapper(*args, **kwargs):\n",
    "        # Add the custom behavior here\n",
    "        print(f\"Calling {func.__name__} with arguments: {args} and keyword arguments: {kwargs}\")\n",
    "        result = func(*args, **kwargs)\n",
    "        print(f\"{func.__name__} returned {result}\")\n",
    "        return result\n",
    "    return wrapper\n",
    "    \n",
    "@preserve_metadata_decorator\n",
    "def add(a, b):\n",
    "    \"\"\"This function adds two numbers.\"\"\"\n",
    "    return a + b\n",
    "\n",
    "print(add(3, 5))\n",
    "print(add.__name__)\n",
    "print(add.__doc__)   \n"
   ]
  },
  {
   "cell_type": "code",
   "execution_count": 3,
   "id": "17846228-1e29-4dab-8428-6c0ce06f521d",
   "metadata": {},
   "outputs": [
    {
     "name": "stdout",
     "output_type": "stream",
     "text": [
      "8\n"
     ]
    }
   ],
   "source": [
    "# 56. Create a Python class `Calculator` with a static method `add` that takes in two numbers and returns their sum.\n",
    "class Calculator:\n",
    "    @staticmethod\n",
    "    def add(a, b):\n",
    "        return a + b\n",
    "result = Calculator.add(3, 5)\n",
    "print(result)"
   ]
  },
  {
   "cell_type": "code",
   "execution_count": 12,
   "id": "348f2c05-4682-4c49-a2c2-5816a6ab33f4",
   "metadata": {},
   "outputs": [
    {
     "name": "stdout",
     "output_type": "stream",
     "text": [
      "3\n"
     ]
    }
   ],
   "source": [
    "# 57. Create a Python class Employee with a class `method get_employee_count that returns the total number of employees created.\n",
    "class Employee:\n",
    "    employee_count = 0\n",
    "\n",
    "    def __init__(self, name, position):\n",
    "        self.name = name\n",
    "        self.position = position\n",
    "\n",
    "        Employee.employee_count += 1\n",
    "\n",
    "    @classmethod\n",
    "    def get_employee_count(cls):\n",
    "\n",
    "        return cls.employee_count\n",
    "\n",
    "emp1 = Employee(\"Rohit\", \"Engineer\")\n",
    "emp2 = Employee(\"Rahul\", \"Manager\")\n",
    "emp3 = Employee(\"Pant\", \"clerk\")\n",
    "\n",
    "print(Employee.get_employee_count())\n"
   ]
  },
  {
   "cell_type": "code",
   "execution_count": 14,
   "id": "b6cf6611-e33c-4f53-b0b0-b951ef7e11f4",
   "metadata": {},
   "outputs": [
    {
     "name": "stdout",
     "output_type": "stream",
     "text": [
      "olleH\n"
     ]
    }
   ],
   "source": [
    "# 58. Create a Python class 'StringFormatter with a static method reverse_string that takes a string as input and returns its reverse.\n",
    "class StringFormatter:\n",
    "    @staticmethod\n",
    "    def reverse_string(input_string):\n",
    "        return input_string[::-1]\n",
    "result = StringFormatter.reverse_string(\"Hello\")\n",
    "print(result)"
   ]
  },
  {
   "cell_type": "code",
   "execution_count": 17,
   "id": "49e46132-13ee-476d-b052-dabb5ecea3c7",
   "metadata": {},
   "outputs": [
    {
     "name": "stdout",
     "output_type": "stream",
     "text": [
      "78.5\n"
     ]
    }
   ],
   "source": [
    "# 59. Create a Python class Circle with a class method calculate_area that calculates the area of a circle given its radius.\n",
    "import math\n",
    "class Circle:\n",
    "    @classmethod\n",
    "    def calculate_area(cls, radius):\n",
    "        return 3.14 * radius ** 2\n",
    "radius = 5 \n",
    "area = Circle.calculate_area(radius)\n",
    "print(area)"
   ]
  },
  {
   "cell_type": "code",
   "execution_count": 25,
   "id": "824df25e-c83c-4d1d-8ab1-5809df328fd4",
   "metadata": {},
   "outputs": [
    {
     "name": "stdout",
     "output_type": "stream",
     "text": [
      "25°C is equal to 77.0°F\n"
     ]
    }
   ],
   "source": [
    "# 60. Create a Python class TemperatureConverter with a static method celsius_to_fahrenheit that converts Celsius to Fahrenheit.\n",
    "class TemperatureConverter:\n",
    "    @staticmethod\n",
    "    def cel_to_fah(celsius):\n",
    "        return (celsius * 9/5) + 32\n",
    "cel_temp = 25\n",
    "fah_temp = TemperatureConverter.cel_to_fah(cel_temp)\n",
    "print(f\"{cel_temp}°C is equal to {fah_temp}°F\")"
   ]
  },
  {
   "cell_type": "raw",
   "id": "00d637d8-f69c-4f6e-9b95-f972571774b3",
   "metadata": {},
   "source": [
    "# 61. What is the purpose of the __str__() method in Python classes? Provide an example.\n",
    "Explain : The __str__() method in Python is used to define a human-readable string representation of an object. It is called when you use the str()               function or when you print an instance of a class."
   ]
  },
  {
   "cell_type": "code",
   "execution_count": 26,
   "id": "0db4be35-4b5f-4fb1-b763-7c4edeae7c1f",
   "metadata": {},
   "outputs": [],
   "source": [
    "#Example :\n",
    "class Person:\n",
    "    def __init__(self, name, age):\n",
    "        self.name = name\n",
    "        self.age = age\n",
    "    def __str__(self):\n",
    "        return f\"Person(name: {self.name}, age: {self.age})\"\n",
    "person = Person(\"Rohit\", 33)\n",
    "person_str = str(person)"
   ]
  },
  {
   "cell_type": "code",
   "execution_count": 27,
   "id": "af59f512-2f2c-4b36-b37e-7c169824eb2c",
   "metadata": {},
   "outputs": [
    {
     "name": "stdout",
     "output_type": "stream",
     "text": [
      "Person(name: Rohit, age: 33)\n"
     ]
    }
   ],
   "source": [
    "print(person)"
   ]
  },
  {
   "cell_type": "code",
   "execution_count": 28,
   "id": "fdcabe80-a2b0-4d01-b3c6-e9ae869db6a1",
   "metadata": {},
   "outputs": [
    {
     "name": "stdout",
     "output_type": "stream",
     "text": [
      "Person(name: Rohit, age: 33)\n"
     ]
    }
   ],
   "source": [
    "print(person_str)"
   ]
  },
  {
   "cell_type": "code",
   "execution_count": 31,
   "id": "7a410a1c-a1f3-4b80-a9dd-a557c651d920",
   "metadata": {},
   "outputs": [
    {
     "name": "stdout",
     "output_type": "stream",
     "text": [
      "5\n"
     ]
    }
   ],
   "source": [
    "# 62. How does the __len__() method work in Python? Provide an example.\n",
    "# Ex : The __len__() method in Python is a special method used to define the behavior of the len() function when applied to instances of a custom class.\n",
    "class MyList:\n",
    "    def __init__(self, items):\n",
    "        self.items = items\n",
    "    def __len__(self):\n",
    "        return len(self.items)\n",
    "my_list = MyList([2, 4, 1, 5, 3])\n",
    "print(len(my_list))"
   ]
  },
  {
   "cell_type": "code",
   "execution_count": 33,
   "id": "5f868c41-31cc-4c1d-bebc-45e3a247e4c9",
   "metadata": {},
   "outputs": [
    {
     "name": "stdout",
     "output_type": "stream",
     "text": [
      "Vector(4, 6)\n"
     ]
    }
   ],
   "source": [
    "# 63. Explain the usage of the __add__() method in Python classes. Provide an example.\n",
    "# EX : The __add__() method in Python is a special (magic) method used to define the behavior of the + (addition) operator when applied to instances of a class.\n",
    "class Vector:\n",
    "    def __init__(self, x, y):\n",
    "        self.x = x\n",
    "        self.y = y\n",
    "    \n",
    "    def __add__(self, other):\n",
    "        if isinstance(other, Vector):\n",
    "            return Vector(self.x + other.x, self.y + other.y)\n",
    "        return NotImplemented\n",
    "\n",
    "    def __repr__(self):\n",
    "        return f\"Vector({self.x}, {self.y})\"\n",
    "\n",
    "vector1 = Vector(1, 2)\n",
    "vector2 = Vector(3, 4)\n",
    "\n",
    "result = vector1 + vector2\n",
    "\n",
    "print(result) "
   ]
  },
  {
   "cell_type": "code",
   "execution_count": 34,
   "id": "97542466-1292-4c92-85b7-5e04a404f88f",
   "metadata": {},
   "outputs": [
    {
     "name": "stdout",
     "output_type": "stream",
     "text": [
      "30\n"
     ]
    }
   ],
   "source": [
    "# 64. What is the purpose of the __getitem__() method in Python? Provide an example.\n",
    "# Ex : The __getitem__() method in Python is a special (magic) method that allows you to define the behavior of the indexing ([]) operator for your custom objects.\n",
    "class MyList:\n",
    "    def __init__(self, data):\n",
    "        self.data = data\n",
    "    \n",
    "    def __getitem__(self, index):\n",
    "        return self.data[index]\n",
    "my_list = MyList([10, 20, 30, 40, 50])\n",
    "\n",
    "print(my_list[2])"
   ]
  },
  {
   "cell_type": "code",
   "execution_count": 35,
   "id": "d50b841b-df35-489a-9b8e-e9857f9ea6a7",
   "metadata": {},
   "outputs": [
    {
     "name": "stdout",
     "output_type": "stream",
     "text": [
      "1\n",
      "1\n",
      "2\n",
      "3\n",
      "5\n",
      "8\n",
      "13\n"
     ]
    }
   ],
   "source": [
    "# 65. Explain the usage of the __iter __() and ___next__() methods in Python. Provide an example using iterators.\n",
    "class FibonacciIter:\n",
    "    def __init__(self, n):\n",
    "        self.n = n\n",
    "        self.a, self.b = 0, 1\n",
    "        self.count = 0\n",
    "    def __iter__(self):\n",
    "        return self\n",
    "    def __next__(self):\n",
    "        if self.count >= self.n:\n",
    "            raise StopIteration\n",
    "        self.count += 1\n",
    "        self.a, self.b = self.b, self.a + self.b\n",
    "        return self.a\n",
    "fib = FibonacciIter(7)\n",
    "for number in fib:\n",
    "    print(number)"
   ]
  },
  {
   "cell_type": "raw",
   "id": "2361e65c-c89a-49c2-b601-a4175d0c88ce",
   "metadata": {},
   "source": [
    "# 66. What is the purpose of a getter method in Python? Provide an example demonstrating the use of a getter method using property decorators.\n",
    "Explain : In Python, getter methods are used to access the values of an object's attributes in a controlled way. They allow you to retrieve the value             of an attribute, while providing the flexibility to control access to that value, add validation, or modify how it is retrieved"
   ]
  },
  {
   "cell_type": "code",
   "execution_count": 38,
   "id": "69cabf25-0b77-4bd1-bdea-bb06685371e0",
   "metadata": {},
   "outputs": [
    {
     "data": {
      "text/plain": [
       "78.5"
      ]
     },
     "execution_count": 38,
     "metadata": {},
     "output_type": "execute_result"
    }
   ],
   "source": [
    "#Example\n",
    "class Circle:\n",
    "    def __init__(self, radius):\n",
    "        self._radius = radius\n",
    "    @property\n",
    "    def radius(self):\n",
    "        return self._radius\n",
    "    @radius.setter\n",
    "    def radius(self, value):\n",
    "        if value < 0:\n",
    "            raise ValueError(\"Radius cannot be negative\")\n",
    "        self._radius = value\n",
    "    @property\n",
    "    def area(self):\n",
    "        return 3.14 * self._radius * self._radius\n",
    "circle = Circle(5)\n",
    "circle.area"
   ]
  },
  {
   "cell_type": "raw",
   "id": "db5cd10e-8d41-4093-8a18-dfea4921e952",
   "metadata": {},
   "source": [
    "# 67. Explain the role of setter methods in Python. Demonstrate how to use a setter method to modify a class attribute using property decorators.\n",
    "Explain : In Python, setter methods are used to set or modify the value of an object's attribute in a controlled way. Like getter methods, setter                 methods allow you to manage access to an attribute, but in this case, they are used to update or change the value of the attribute."
   ]
  },
  {
   "cell_type": "code",
   "execution_count": 39,
   "id": "bf34500c-8ce1-42b0-a6d3-dfccbc34ebc9",
   "metadata": {},
   "outputs": [
    {
     "data": {
      "text/plain": [
       "'Durgesh'"
      ]
     },
     "execution_count": 39,
     "metadata": {},
     "output_type": "execute_result"
    }
   ],
   "source": [
    "class Person:\n",
    "    def __init__(self, name):\n",
    "        self._name = name\n",
    "    @property\n",
    "    def name(self):\n",
    "        return self._name\n",
    "    @name.setter\n",
    "    def name(self, value):\n",
    "        if not value:\n",
    "            raise ValueError(\"Name cannot be empty.\")\n",
    "        self._name = value\n",
    "person = Person(\"Durgesh\")\n",
    "person.name"
   ]
  },
  {
   "cell_type": "raw",
   "id": "d615a1b0-916a-4067-8da4-7c2b0c724408",
   "metadata": {},
   "source": [
    "# 68. What is the purpose of the @property decorator in Python? Provide an example illustrating its usage.\n",
    "Explain : \n",
    "* Encapsulation: It allows you to hide the internal workings of a class while providing a public interface to access the data.\n",
    "* Controlled Access: You can perform validation, computation, or modification when getting an attribute, without changing the syntax for attribute access.\n",
    "* Cleaner Code: Instead of using explicit method calls (like get_name()), you can access the method like a regular attribute (obj.name)."
   ]
  },
  {
   "cell_type": "code",
   "execution_count": 41,
   "id": "c9324144-bf01-41f3-a082-1a0be6809fb4",
   "metadata": {},
   "outputs": [
    {
     "data": {
      "text/plain": [
       "20"
      ]
     },
     "execution_count": 41,
     "metadata": {},
     "output_type": "execute_result"
    }
   ],
   "source": [
    "#Example :\n",
    "class Rectangle:\n",
    "    def __init__(self, length, width):\n",
    "        self._length = length\n",
    "        self._width = width\n",
    "    @property\n",
    "    def length(self):\n",
    "        return self._length\n",
    "    @length.setter\n",
    "    def length(self, value):\n",
    "        if value <= 0:\n",
    "            raise ValueError(\"Length must be positivbe\")\n",
    "        self._length = value\n",
    "    @property\n",
    "    def width(self):\n",
    "        return self._width\n",
    "    @width.setter\n",
    "    def width(self, value):\n",
    "        if value <= 0:\n",
    "            raise ValueError(\"Width must be positive\")\n",
    "        self._width = value\n",
    "    @property\n",
    "    def area(self):\n",
    "        return self._length * self._width\n",
    "rect = Rectangle(4, 5)\n",
    "\n",
    "rect.area"
   ]
  },
  {
   "cell_type": "raw",
   "id": "11a05061-a334-44eb-a776-944ed7f48cf7",
   "metadata": {},
   "source": [
    "# 69. Explain the use of the @deleter decorator in Python property decorators. Provide a code example demonstrating its application.\n",
    "Explain : The @deleter decorator in Python is used in conjunction with the @property decorator to define a deleter method for an attribute. A deleter             method allows you to define custom behavior when an attribute is deleted using the del statement."
   ]
  },
  {
   "cell_type": "code",
   "execution_count": 43,
   "id": "9df403d6-eef6-4b67-b8a0-156a59c40205",
   "metadata": {},
   "outputs": [],
   "source": [
    "# Example :\n",
    "class Person:\n",
    "    def __init__(self, name, age):\n",
    "        self._name = name\n",
    "        self._age = age\n",
    "    @property\n",
    "    def name(self):\n",
    "        return self._name\n",
    "    @property\n",
    "    def age(self):\n",
    "        return self._age\n",
    "    @age.setter\n",
    "    def age(self, value):\n",
    "        if value < 0:\n",
    "            raise ValueError(\"Age cannot be negative\")\n",
    "        self._age = value\n",
    "    @age.deleter\n",
    "    def age(self):\n",
    "        print(self._name)\n",
    "        del self._age"
   ]
  },
  {
   "cell_type": "code",
   "execution_count": 44,
   "id": "3e945c25-bd48-467e-b791-9720726a18a4",
   "metadata": {},
   "outputs": [
    {
     "ename": "NameError",
     "evalue": "name 'self' is not defined",
     "output_type": "error",
     "traceback": [
      "\u001b[1;31m---------------------------------------------------------------------------\u001b[0m",
      "\u001b[1;31mNameError\u001b[0m                                 Traceback (most recent call last)",
      "Cell \u001b[1;32mIn[44], line 1\u001b[0m\n\u001b[1;32m----> 1\u001b[0m \u001b[38;5;28;43mself\u001b[39;49m\u001b[38;5;241m.\u001b[39m_age\n",
      "\u001b[1;31mNameError\u001b[0m: name 'self' is not defined"
     ]
    }
   ],
   "source": [
    "self._age"
   ]
  },
  {
   "cell_type": "code",
   "execution_count": null,
   "id": "c298d5c7-4097-4492-85e3-030ac4593737",
   "metadata": {},
   "outputs": [],
   "source": [
    "# 70. How does encapsulation relate to property decorators in Python? Provide an example showcasing encapsulation using property decorators."
   ]
  },
  {
   "cell_type": "code",
   "execution_count": 49,
   "id": "4cb291bc-96d0-458b-baf7-6c0e85e0938a",
   "metadata": {},
   "outputs": [],
   "source": [
    "class BankAccount:\n",
    "    def __init__(self, owner, balance):\n",
    "        self._owner = owner\n",
    "        self._balance = balance\n",
    "    \n",
    "    @property\n",
    "    def owner(self):\n",
    "        return self._owner\n",
    "\n",
    "    @property\n",
    "    def balance(self):\n",
    "        return self._balance\n",
    "\n",
    "    @balance.setter\n",
    "    def balance(self, amount):\n",
    "        if amount < 0:\n",
    "            print(\"Balance cannot be negative.\")\n",
    "        else:\n",
    "            self._balance = amount\n",
    "\n",
    "    def deposit(self, amount):\n",
    "        if amount > 0:\n",
    "            self._balance += amount\n",
    "        else:\n",
    "            print(\"Deposit amount must be positive.\")\n",
    "\n",
    "    def withdraw(self, amount):\n",
    "        if 0 < amount <= self._balance:\n",
    "            self._balance -= amount\n",
    "        else:\n",
    "            print(\"Invalid withdrawal amount.\")\n",
    "acc = BankAccount(\"Durgesh\", 1000)"
   ]
  },
  {
   "cell_type": "code",
   "execution_count": 52,
   "id": "b579ea37-5429-4556-a3ce-062392ea86d7",
   "metadata": {},
   "outputs": [
    {
     "data": {
      "text/plain": [
       "'Durgesh'"
      ]
     },
     "execution_count": 52,
     "metadata": {},
     "output_type": "execute_result"
    }
   ],
   "source": [
    "acc.owner"
   ]
  },
  {
   "cell_type": "code",
   "execution_count": 53,
   "id": "2b361f49-23e6-419f-a7a4-600852621d1b",
   "metadata": {},
   "outputs": [
    {
     "data": {
      "text/plain": [
       "1000"
      ]
     },
     "execution_count": 53,
     "metadata": {},
     "output_type": "execute_result"
    }
   ],
   "source": [
    "acc.balance"
   ]
  },
  {
   "cell_type": "code",
   "execution_count": 54,
   "id": "845e495c-ae88-4324-bc4f-279136a05280",
   "metadata": {},
   "outputs": [],
   "source": [
    "acc.deposit(500)"
   ]
  },
  {
   "cell_type": "code",
   "execution_count": 55,
   "id": "e716d616-aca4-473b-8a67-39a8986ffa70",
   "metadata": {},
   "outputs": [
    {
     "data": {
      "text/plain": [
       "1500"
      ]
     },
     "execution_count": 55,
     "metadata": {},
     "output_type": "execute_result"
    }
   ],
   "source": [
    "acc.balance"
   ]
  },
  {
   "cell_type": "code",
   "execution_count": 56,
   "id": "b8b17703-626e-476e-86ef-93aa8c9974c9",
   "metadata": {},
   "outputs": [],
   "source": [
    "acc.withdraw(200)"
   ]
  },
  {
   "cell_type": "code",
   "execution_count": 58,
   "id": "405a3c8a-3b7e-4657-bf46-31d05dfef2b9",
   "metadata": {},
   "outputs": [
    {
     "data": {
      "text/plain": [
       "1300"
      ]
     },
     "execution_count": 58,
     "metadata": {},
     "output_type": "execute_result"
    }
   ],
   "source": [
    "acc.balance"
   ]
  },
  {
   "cell_type": "code",
   "execution_count": null,
   "id": "26f97fd6-05d3-47b8-9deb-0327ec3f77b3",
   "metadata": {},
   "outputs": [],
   "source": []
  }
 ],
 "metadata": {
  "kernelspec": {
   "display_name": "Python 3 (ipykernel)",
   "language": "python",
   "name": "python3"
  },
  "language_info": {
   "codemirror_mode": {
    "name": "ipython",
    "version": 3
   },
   "file_extension": ".py",
   "mimetype": "text/x-python",
   "name": "python",
   "nbconvert_exporter": "python",
   "pygments_lexer": "ipython3",
   "version": "3.13.0"
  }
 },
 "nbformat": 4,
 "nbformat_minor": 5
}
