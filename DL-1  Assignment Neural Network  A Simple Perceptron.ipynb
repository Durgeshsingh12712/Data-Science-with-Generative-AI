{
 "cells": [
  {
   "cell_type": "markdown",
   "metadata": {},
   "source": [
    "                        Neural Network A Simple Perceptron : Assignment"
   ]
  },
  {
   "cell_type": "markdown",
   "metadata": {},
   "source": [
    "Q 1. What is deep learning, and how is it connected to artificial intelligence"
   ]
  },
  {
   "cell_type": "markdown",
   "metadata": {},
   "source": [
    "Answer : Deep learning involves the use of artificial neural networks with multiple layers to analyze and interpret data. These networks are designed to learn complex patterns and relationships within data, allowing them to make predictions, classify objects, and generate text or images.\n",
    "\n",
    "Deep learning is a key enabler of artificial intelligence, as it allows machines to learn from data and improve their performance over time. AI systems that use deep learning can:\n",
    "1. Learn from experience: Deep learning algorithms can learn from large datasets, allowing them to improve their performance on tasks such as image recognition, natural language processing, and decision-making.\n",
    "2. Recognize patterns: Deep learning can recognize patterns in data, such as objects in images, speech in audio, or text in documents.\n",
    "3. Make predictions: Deep learning can make predictions based on data, such as predicting customer behavior, forecasting stock prices, or diagnosing diseases.\n",
    "4. Generate content: Deep learning can generate content, such as text, images, or music, based on patterns learned from data.\n"
   ]
  },
  {
   "cell_type": "markdown",
   "metadata": {},
   "source": [
    "Q 2. What is a neural network, and what are the different types of neural networks ?"
   ]
  },
  {
   "cell_type": "markdown",
   "metadata": {},
   "source": [
    "Answer: A neural network is a type of machine learning model inspired by the structure and function of the human brain. It's a complex system composed of interconnected nodes or \"neurons\" that process and transmit information. Neural networks are designed to recognize patterns in data and learn from experience, allowing them to make predictions, classify objects, and generate text or images.\n",
    "\n",
    "1. Input Layer: Receives the input data, such as images, text, or audio.\n",
    "2. Hidden Layers: Processes the input data through multiple layers of interconnected nodes (neurons).\n",
    "3. Output Layer: Generates the output, such as predictions, classifications, or generated text.\n",
    "\n",
    "Types of Neural Network:\n",
    "1. Feedforward Neural Networks\n",
    "2. Recurrent Neural Networks (RNNs)\n",
    "3. Convolutional Neural Networks (CNNs)\n",
    "4. Autoencoders\n",
    "5. Generative Adversarial Networks (GANs)\n",
    "6. Long Short-Term Memory (LSTM) Networks\n",
    "7. Transformers\n",
    "8. Residual Networks (ResNets)\n",
    "9. Modular Neural Networks\n",
    "10. Spiking Neural Networks (SNNs)\n",
    "11. Graph Neural Networks"
   ]
  },
  {
   "cell_type": "markdown",
   "metadata": {},
   "source": [
    "Q 3. What is the mathematical structure of a neural network?"
   ]
  },
  {
   "cell_type": "markdown",
   "metadata": {},
   "source": [
    "Answer : A neural network is a complex system composed of interconnected nodes or \"neurons\" that process and transmit information. The mathematical structure of a neural network can be represented using various mathematical concepts, including:\n",
    "1. Graph Theory\n",
    "2. Linear Algebra\n",
    "3. Calculus\n",
    "4. Probability Theory\n",
    "\n",
    "Mathematical Components of a Neural Network:\n",
    "1. Artificial Neurons (Nodes): Each node (neuron) in the network applies a non-linear transformation to the input data, using an activation function.\n",
    "2. Activation Functions: Common activation functions include:\n",
    "   Sigmoid (σ(x) = 1 / (1 + exp(-x)))\n",
    "   ReLU (Rectified Linear Unit, σ(x) = max(0, x))\n",
    "   Tanh (Hyperbolic Tangent, σ(x) = 2 / (1 + exp(-2x)) - 1)\n",
    "3. Weights and Biases\n",
    "4. Linear Combinations\n",
    "5. Non-Linear Transformations\n",
    "\n",
    "Mathematical Representation of a Neural Network:\n",
    "1. Input Layer: x = (x1, x2, ..., xn)\n",
    "2. Hidden Layers: z = σ(Wx + b), where W is the weight matrix, b is the bias vector, and σ is the activation function.\n",
    "3. Output Layer: y = σ(Wz + b), where W is the weight matrix, b is the bias vector, and σ is the activation function.\n",
    "\n",
    "Backpropagation Algorithm:\n",
    "Forward Pass -> Error Computation -> Backward Pass -> Weight Update\n",
    "\n",
    "Mathematical Notation:\n",
    "x: Input vector   \n",
    "W: Weight matrix \n",
    "b: Bias vector   \n",
    "z: Hidden layer output\n",
    "y: Output vector\n",
    "σ: Activation function  \n",
    "E: Error function  \n",
    "α: Learning rate"
   ]
  },
  {
   "cell_type": "markdown",
   "metadata": {},
   "source": [
    "Q 4. What is an activation function, and why is it essential in neural?\n"
   ]
  },
  {
   "cell_type": "markdown",
   "metadata": {},
   "source": [
    "Answer : An activation function is a mathematical function that is applied to the output of a neural network node (neuron) to introduce non-linearity into the model. It's a crucial component of a neural network, as it enables the model to learn and represent complex relationships between inputs and outputs.\n",
    "An activation function is essential in neural networks for several reasons:\n",
    "Introduces Non-Linearity\n",
    "Enables Learning\n",
    "Improves Model Capacity\n",
    "Helps with Vanishing Gradients"
   ]
  },
  {
   "cell_type": "markdown",
   "metadata": {},
   "source": [
    "Q 5.  Could you list some common activation functions used in neural networks?\n"
   ]
  },
  {
   "cell_type": "markdown",
   "metadata": {},
   "source": [
    "Answer : \n",
    "1. Sigmoid (σ(x) = 1 / (1 + exp(-x))): Sigmoid is a widely used activation function, especially in the output layer when the task is a binary classification problem.\n",
    "2. ReLU (Rectified Linear Unit, σ(x) = max(0, x)): ReLU is a popular activation function used in hidden layers, as it is computationally efficient and easy to implement.\n",
    "3. Tanh (Hyperbolic Tangent, σ(x) = 2 / (1 + exp(-2x)) - 1): Tanh is similar to sigmoid, but it has a slightly different shape and can be more effective in some cases.\n",
    "4. Leaky ReLU (σ(x) = max(αx, x)): Leaky ReLU is a variation of ReLU that allows a small fraction of the input to pass through, even when the input is negative.\n",
    "5. Softmax (σ(x) = exp(x) / Σ exp(x)): Softmax is commonly used in the output layer when the task is a multi-class classification problem."
   ]
  },
  {
   "cell_type": "markdown",
   "metadata": {},
   "source": [
    "Q 6. What is a multilayer neural network?\n"
   ]
  },
  {
   "cell_type": "markdown",
   "metadata": {},
   "source": [
    "Answer : A multilayer neural network is a type of neural network that consists of multiple layers of interconnected nodes or \"neurons\". Each layer is responsible for processing and transforming the input data in a specific way, allowing the network to learn and represent complex relationships between inputs and outputs."
   ]
  },
  {
   "cell_type": "markdown",
   "metadata": {},
   "source": [
    "Q 7. What is a loss function, and why is it crucial for neural network training?\n"
   ]
  },
  {
   "cell_type": "markdown",
   "metadata": {},
   "source": [
    "Answer : A loss function, also known as a cost function or objective function, is a mathematical function that measures the difference between the predicted output of a neural network and the actual output. The loss function is used to evaluate the performance of the neural network during training, and it plays a crucial role in adjusting the model's parameters to minimize the error.\n",
    "A Loss Function Crucial for Neural Network Training:\n",
    "1. Evaluates Model Performance\n",
    "2. Guides Parameter Updates\n",
    "3. Provides a Optimization Objective\n",
    "4. Helps to Prevent Overfitting"
   ]
  },
  {
   "cell_type": "markdown",
   "metadata": {},
   "source": [
    "Q 8. What are some common types of loss functions?"
   ]
  },
  {
   "cell_type": "markdown",
   "metadata": {},
   "source": [
    "Answer : Regression Loss Functions:\n",
    "1. Mean Squared Error (MSE)\n",
    "2. Mean Absolute Error (MAE)\n",
    "3. Huber Loss\n",
    "4. Poisson Loss\n",
    "5. Gamma Loss\n",
    "\n",
    "Classification Loss Functions:\n",
    "1. Cross-Entropy Loss\n",
    "2. Binary Cross-Entropy Loss\n",
    "3. Hinge Loss\n",
    "4. Logistic Loss\n",
    "5. Kullback-Leibler Divergence\n"
   ]
  },
  {
   "cell_type": "markdown",
   "metadata": {},
   "source": [
    "Q 9. How does a neural network learn?"
   ]
  },
  {
   "cell_type": "markdown",
   "metadata": {},
   "source": [
    "Answer : \n",
    "1. Forward Pass: The neural network receives an input and propagates it through the network, layer by layer, to produce an output.\n",
    "2. Error Calculation: The error between the predicted output and the actual output is calculated using a loss function.\n",
    "3. Backward Pass: The error is propagated backwards through the network, layer by layer, to calculate the gradients of the loss with respect to each of the model's parameters.\n",
    "4. Weight Update: The model's parameters are updated based on the gradients and the learning rate.\n",
    "5. Repeat: Steps 1-4 are repeated for multiple iterations, with the model's parameters being updated at each iteration."
   ]
  },
  {
   "cell_type": "markdown",
   "metadata": {},
   "source": [
    "Q 10. What is an optimizer in neural networks, and why is it necessary?"
   ]
  },
  {
   "cell_type": "markdown",
   "metadata": {},
   "source": [
    "Answer : An optimizer in neural networks is an algorithm that is used to update the model's parameters to minimize the loss function. The optimizer's goal is to find the optimal values for the model's parameters that result in the lowest loss.\n",
    "\n",
    "An optimizer is necessary for several reasons:\n",
    "\n",
    "1. Minimizing the Loss Function\n",
    "2. Updating the Model's Parameters\n",
    "3. Converging to the Optimal Solution\n",
    "4. Avoiding Local Minima"
   ]
  },
  {
   "cell_type": "markdown",
   "metadata": {},
   "source": [
    "Q 11. Could you briefly describe some common optimizers?"
   ]
  },
  {
   "cell_type": "markdown",
   "metadata": {},
   "source": [
    "Answer : \n",
    "1. Stochastic Gradient Descent (SGD): SGD is a simple and widely used optimizer that updates the parameters based on the gradients of the loss function.\n",
    "2. Momentum SGD: Momentum SGD is a variant of SGD that adds a momentum term to the update rule to help the optimizer escape local minima.\n",
    "3. Adagrad: Adagrad is an optimizer that adapts the learning rate for each parameter based on the gradients of the loss function.\n",
    "4. RMSProp: RMSProp is an optimizer that uses a different update rule to help the optimizer converge faster.\n",
    "5. Adam: Adam is a popular optimizer that combines the benefits of Adagrad and RMSProp."
   ]
  },
  {
   "cell_type": "markdown",
   "metadata": {},
   "source": [
    "Q 12. Can you explain forward and backward propagation in a neural network?\n"
   ]
  },
  {
   "cell_type": "markdown",
   "metadata": {},
   "source": [
    "Answer : Forward Propagation\n",
    "\n",
    "Forward propagation is the process of passing input data through a neural network to produce an output. The process involves the following steps:\n",
    "\n",
    "1. Input Layer: The input data is fed into the input layer of the neural network.\n",
    "2. Forward Pass: The input data is propagated through the network, layer by layer, with each layer applying a transformation to the data.\n",
    "3. Activation Functions: Each layer applies an activation function to the output of the previous layer, introducing non-linearity into the model.\n",
    "4. Output Layer: The final output of the network is produced by the output layer.\n",
    "Backward Propagation\n",
    "\n",
    "Backward propagation is the process of adjusting the model's parameters to minimize the error between the predicted output and the actual output. The process involves the following steps:\n",
    "\n",
    "1. Error Calculation: The error between the predicted output and the actual output is calculated using a loss function.\n",
    "2. Backward Pass: The error is propagated backwards through the network, layer by layer, to calculate the gradients of the loss with respect to each of the model's parameters.\n",
    "3. Gradient Calculation: The gradients of the loss with respect to each of the model's parameters are calculated using the chain rule.\n",
    "4. Parameter Update: The model's parameters are updated based on the gradients and the learning rate.\n",
    "5. Repeat: The process is repeated for multiple iterations, with the model's parameters being updated at each iteration."
   ]
  },
  {
   "cell_type": "markdown",
   "metadata": {},
   "source": [
    "Q 13. What is weight initialization, and how does it impact training?"
   ]
  },
  {
   "cell_type": "markdown",
   "metadata": {},
   "source": [
    "Answer : Weight initialization is the process of setting the initial values of the weights and biases in a neural network. The weights and biases are the model's parameters that are adjusted during training to minimize the loss function. The initial values of these parameters can have a significant impact on the training process and the final performance of the model.\n",
    "\n",
    "The weight initialization method can impact the training process in several ways:\n",
    "\n",
    "1. Convergence: A good weight initialization can help the model converge faster and to a better solution.\n",
    "2. Stability: A good weight initialization can help to improve the stability of the training process, reducing the risk of exploding gradients or vanishing gradients.\n",
    "3. Overfitting: A poor weight initialization can lead to overfitting, where the model becomes too complex and starts to fit the noise in the training data.\n",
    "4. Underfitting: A poor weight initialization can also lead to underfitting, where the model is too simple and fails to capture the underlying patterns in the data."
   ]
  },
  {
   "cell_type": "markdown",
   "metadata": {},
   "source": [
    "Q 14. What is the vanishing gradient problem in deep learning?\n"
   ]
  },
  {
   "cell_type": "markdown",
   "metadata": {},
   "source": [
    "Answer : The vanishing gradient problem is a common issue in deep learning that occurs when training neural networks using backpropagation. It refers to the phenomenon where the gradients of the loss function with respect to the model's parameters become smaller and smaller as the gradients are backpropagated through the network, making it difficult to update the parameters and train the model."
   ]
  },
  {
   "cell_type": "markdown",
   "metadata": {},
   "source": [
    "Q 15. What is the exploding gradient problem?"
   ]
  },
  {
   "cell_type": "markdown",
   "metadata": {},
   "source": [
    "Answer : The exploding gradient problem is a common issue in deep learning that occurs when training neural networks using backpropagation. It refers to the phenomenon where the gradients of the loss function with respect to the model's parameters become very large, causing the model's parameters to be updated too aggressively, leading to unstable training and potentially causing the model to diverge."
   ]
  },
  {
   "cell_type": "markdown",
   "metadata": {},
   "source": [
    "                                   Practical"
   ]
  },
  {
   "cell_type": "markdown",
   "metadata": {},
   "source": [
    "1. How do you create a simple perceptron for basic binary classification"
   ]
  },
  {
   "cell_type": "code",
   "execution_count": 4,
   "metadata": {},
   "outputs": [],
   "source": [
    "import numpy as np\n",
    "\n",
    "class SimplePerceptron:\n",
    "    def __init__(self, learning_rate=0.01, num_iterations=1000):\n",
    "        self.learning_rate = learning_rate\n",
    "        self.num_iterations = num_iterations\n",
    "        self.weights = None\n",
    "        self.bias = None\n",
    "\n",
    "    def sigmoid(self, x):\n",
    "        return 1 / (1 + np.exp(-x))\n",
    "\n",
    "    def train(self, X, y):\n",
    "        num_samples, num_features = X.shape\n",
    "        self.weights = np.zeros(num_features)\n",
    "        self.bias = 0\n",
    "\n",
    "        for _ in range(self.num_iterations):\n",
    "            for idx, x_i in enumerate(X):\n",
    "                linear_output = np.dot(x_i, self.weights) + self.bias\n",
    "                y_predicted = self.sigmoid(linear_output)\n",
    "\n",
    "                # Update weights and bias\n",
    "                update = self.learning_rate * (y[idx] - y_predicted)\n",
    "                self.weights += update * x_i\n",
    "                self.bias += update\n",
    "\n",
    "    def predict(self, X):\n",
    "        linear_output = np.dot(X, self.weights) + self.bias\n",
    "        y_predicted = self.sigmoid(linear_output)\n",
    "        return np.where(y_predicted >= 0.5, 1, 0)"
   ]
  },
  {
   "cell_type": "code",
   "execution_count": 5,
   "metadata": {},
   "outputs": [
    {
     "name": "stdout",
     "output_type": "stream",
     "text": [
      "[0 1 1 1]\n"
     ]
    }
   ],
   "source": [
    "# Example usage\n",
    "X = np.array([[0, 0], [0, 1], [1, 0], [1, 1]])\n",
    "y = np.array([0, 1, 1, 1])\n",
    "\n",
    "perceptron = SimplePerceptron()\n",
    "perceptron.train(X, y)\n",
    "\n",
    "print(perceptron.predict(X))"
   ]
  },
  {
   "cell_type": "markdown",
   "metadata": {},
   "source": [
    "2. How can you build a neural network with one hidden layer using Keras."
   ]
  },
  {
   "cell_type": "code",
   "execution_count": 2,
   "metadata": {},
   "outputs": [
    {
     "name": "stdout",
     "output_type": "stream",
     "text": [
      "Epoch 1/10\n",
      "1/1 [==============================] - 3s 3s/step - loss: 1.2833 - accuracy: 0.3833 - val_loss: 1.2316 - val_accuracy: 0.4000\n",
      "Epoch 2/10\n",
      "1/1 [==============================] - 0s 134ms/step - loss: 1.2597 - accuracy: 0.3917 - val_loss: 1.2085 - val_accuracy: 0.4333\n",
      "Epoch 3/10\n",
      "1/1 [==============================] - 0s 111ms/step - loss: 1.2364 - accuracy: 0.3917 - val_loss: 1.1859 - val_accuracy: 0.4333\n",
      "Epoch 4/10\n",
      "1/1 [==============================] - 0s 108ms/step - loss: 1.2135 - accuracy: 0.3917 - val_loss: 1.1637 - val_accuracy: 0.4667\n",
      "Epoch 5/10\n",
      "1/1 [==============================] - 0s 132ms/step - loss: 1.1910 - accuracy: 0.4167 - val_loss: 1.1418 - val_accuracy: 0.5000\n",
      "Epoch 6/10\n",
      "1/1 [==============================] - 0s 106ms/step - loss: 1.1688 - accuracy: 0.4250 - val_loss: 1.1205 - val_accuracy: 0.5333\n",
      "Epoch 7/10\n",
      "1/1 [==============================] - 0s 120ms/step - loss: 1.1472 - accuracy: 0.4417 - val_loss: 1.0995 - val_accuracy: 0.5333\n",
      "Epoch 8/10\n",
      "1/1 [==============================] - 0s 103ms/step - loss: 1.1259 - accuracy: 0.4667 - val_loss: 1.0788 - val_accuracy: 0.5333\n",
      "Epoch 9/10\n",
      "1/1 [==============================] - 0s 279ms/step - loss: 1.1051 - accuracy: 0.4667 - val_loss: 1.0586 - val_accuracy: 0.5333\n",
      "Epoch 10/10\n",
      "1/1 [==============================] - 0s 166ms/step - loss: 1.0847 - accuracy: 0.4750 - val_loss: 1.0387 - val_accuracy: 0.5333\n",
      "1/1 [==============================] - 0s 67ms/step - loss: 1.0387 - accuracy: 0.5333\n",
      "Test accuracy: 0.53\n",
      "1/1 [==============================] - 0s 408ms/step\n"
     ]
    }
   ],
   "source": [
    "import numpy as np\n",
    "from tensorflow import keras\n",
    "from sklearn.model_selection import train_test_split\n",
    "from sklearn.preprocessing import StandardScaler\n",
    "from sklearn.datasets import load_iris\n",
    "\n",
    "# Load the iris dataset\n",
    "iris = load_iris()\n",
    "X = iris.data\n",
    "y = iris.target\n",
    "\n",
    "# Split the data into training and testing sets\n",
    "X_train, X_test, y_train, y_test = train_test_split(X, y, test_size=0.2, random_state=42)\n",
    "\n",
    "# Scale the data using StandardScaler\n",
    "scaler = StandardScaler()\n",
    "X_train = scaler.fit_transform(X_train)\n",
    "X_test = scaler.transform(X_test)\n",
    "\n",
    "# Create the model\n",
    "model = keras.Sequential([\n",
    "    keras.layers.Dense(64, activation='relu', input_shape=(X_train.shape[1],)),\n",
    "    keras.layers.Dense(3, activation='softmax')\n",
    "])\n",
    "\n",
    "# Compile the model\n",
    "model.compile(loss='sparse_categorical_crossentropy', optimizer='adam', metrics=['accuracy'])\n",
    "\n",
    "# Train the model\n",
    "model.fit(X_train, y_train, epochs=10, batch_size=128, validation_data=(X_test, y_test))\n",
    "\n",
    "# Evaluate the model\n",
    "test_loss, test_acc = model.evaluate(X_test, y_test)\n",
    "print(f'Test accuracy: {test_acc:.2f}')\n",
    "\n",
    "# Make predictions\n",
    "predictions = model.predict(X_test)"
   ]
  },
  {
   "cell_type": "markdown",
   "metadata": {},
   "source": [
    "3. How do you initialize weights using the Xavier (Glorot) initialization method in Keras."
   ]
  },
  {
   "cell_type": "code",
   "execution_count": 2,
   "metadata": {},
   "outputs": [],
   "source": [
    "from tensorflow import keras\n",
    "from tensorflow.keras import layers\n",
    "from tensorflow.keras.initializers import GlorotUniform\n",
    "\n",
    "# Create a neural network model\n",
    "model = keras.Sequential([\n",
    "    layers.Dense(64, activation='relu', input_shape=(784,), kernel_initializer=GlorotUniform()),\n",
    "    layers.Dense(32, activation='relu', kernel_initializer=GlorotUniform()),\n",
    "    layers.Dense(10, activation='softmax', kernel_initializer=GlorotUniform())\n",
    "])\n"
   ]
  },
  {
   "cell_type": "markdown",
   "metadata": {},
   "source": [
    "4. How can you apply different activation functions in a neural network in Keras."
   ]
  },
  {
   "cell_type": "code",
   "execution_count": 4,
   "metadata": {},
   "outputs": [],
   "source": [
    "# Sigmoid Activation Function\n",
    "from tensorflow import keras\n",
    "from tensorflow.keras import layers\n",
    "\n",
    "model = keras.Sequential([\n",
    "    layers.Dense(64, activation='sigmoid', input_shape=(784,)),\n",
    "    layers.Dense(1, activation='sigmoid')\n",
    "])\n",
    "# ReLU (Rectified Linear Unit) Activation Function\n",
    "\n",
    "model = keras.Sequential([\n",
    "    layers.Dense(64, activation='relu', input_shape=(784,)),\n",
    "    layers.Dense(32, activation='relu')\n",
    "])\n",
    "# Tanh (Hyperbolic Tangent) Activation Function\n",
    "model = keras.Sequential([\n",
    "    layers.Dense(64, activation='tanh', input_shape=(784,)),\n",
    "    layers.Dense(1, activation='tanh')\n",
    "])\n",
    "# Softmax\n",
    "model = keras.Sequential([\n",
    "    layers.Dense(64, activation='relu', input_shape=(784,)),\n",
    "    layers.Dense(32, activation='relu'),\n",
    "    layers.Dense(10, activation='softmax')\n",
    "])"
   ]
  },
  {
   "cell_type": "markdown",
   "metadata": {},
   "source": [
    "5. How do you add dropout to a neural network model to prevent overfitting."
   ]
  },
  {
   "cell_type": "code",
   "execution_count": 5,
   "metadata": {},
   "outputs": [],
   "source": [
    "from tensorflow import keras\n",
    "from tensorflow.keras import layers\n",
    "\n",
    "model = keras.Sequential([\n",
    "    layers.Dense(64, activation='relu', input_shape=(784,)),\n",
    "    layers.Dropout(0.2),  # dropout 20% of the neurons\n",
    "    layers.Dense(32, activation='relu'),\n",
    "    layers.Dropout(0.2),  # dropout 20% of the neurons\n",
    "    layers.Dense(10, activation='softmax')\n",
    "])"
   ]
  },
  {
   "cell_type": "markdown",
   "metadata": {},
   "source": [
    "6. How do you manually implement forward propagation in a simple neural network."
   ]
  },
  {
   "cell_type": "code",
   "execution_count": 7,
   "metadata": {},
   "outputs": [
    {
     "name": "stdout",
     "output_type": "stream",
     "text": [
      "Output of the neural network: [0.86780448]\n"
     ]
    }
   ],
   "source": [
    "import numpy as np\n",
    "\n",
    "# Define the weights and biases\n",
    "w1 = np.array([[0.1, 0.2], [0.3, 0.4]])\n",
    "b1 = np.array([0.5, 0.6])\n",
    "w2 = np.array([[0.7, 0.8]])\n",
    "b2 = np.array([0.9])\n",
    "\n",
    "# Define the input\n",
    "x = np.array([0.1, 0.2])\n",
    "\n",
    "# Calculate the output of the hidden layer\n",
    "hidden_layer_input = np.dot(x, w1) + b1\n",
    "hidden_layer_output = 1 / (1 + np.exp(-hidden_layer_input))\n",
    "\n",
    "# Calculate the output of the output layer\n",
    "output_layer_input = np.dot(hidden_layer_output, w2.T) + b2\n",
    "output_layer_output = 1 / (1 + np.exp(-output_layer_input))\n",
    "\n",
    "print(\"Output of the neural network:\", output_layer_output)"
   ]
  },
  {
   "cell_type": "markdown",
   "metadata": {},
   "source": [
    "7.How do you add batch normalization to a neural network model in Keras."
   ]
  },
  {
   "cell_type": "code",
   "execution_count": 8,
   "metadata": {},
   "outputs": [],
   "source": [
    "from tensorflow import keras\n",
    "from tensorflow.keras import layers\n",
    "\n",
    "model = keras.Sequential([\n",
    "    layers.Dense(64, activation='relu', input_shape=(784,)),\n",
    "    layers.BatchNormalization(),\n",
    "    layers.Dense(32, activation='relu'),\n",
    "    layers.BatchNormalization(),\n",
    "    layers.Dense(10, activation='softmax')\n",
    "])"
   ]
  },
  {
   "cell_type": "markdown",
   "metadata": {},
   "source": [
    "8.How can you visualize the training process with accuracy and loss curves."
   ]
  },
  {
   "cell_type": "code",
   "execution_count": 6,
   "metadata": {},
   "outputs": [
    {
     "name": "stdout",
     "output_type": "stream",
     "text": [
      "Epoch 1/10\n",
      "4/4 [==============================] - 2s 274ms/step - loss: 1.3977 - accuracy: 0.3250 - val_loss: 1.1384 - val_accuracy: 0.3667\n",
      "Epoch 2/10\n",
      "4/4 [==============================] - 0s 38ms/step - loss: 1.1209 - accuracy: 0.3250 - val_loss: 1.0219 - val_accuracy: 0.3667\n",
      "Epoch 3/10\n",
      "4/4 [==============================] - 0s 36ms/step - loss: 1.0248 - accuracy: 0.4833 - val_loss: 1.0058 - val_accuracy: 0.3333\n",
      "Epoch 4/10\n",
      "4/4 [==============================] - 0s 33ms/step - loss: 0.9935 - accuracy: 0.3417 - val_loss: 0.9664 - val_accuracy: 0.3333\n",
      "Epoch 5/10\n",
      "4/4 [==============================] - 0s 35ms/step - loss: 0.9441 - accuracy: 0.4167 - val_loss: 0.8974 - val_accuracy: 0.6333\n",
      "Epoch 6/10\n",
      "4/4 [==============================] - 0s 35ms/step - loss: 0.8923 - accuracy: 0.6917 - val_loss: 0.8523 - val_accuracy: 0.7000\n",
      "Epoch 7/10\n",
      "4/4 [==============================] - 0s 38ms/step - loss: 0.8629 - accuracy: 0.6500 - val_loss: 0.8219 - val_accuracy: 0.7000\n",
      "Epoch 8/10\n",
      "4/4 [==============================] - 0s 36ms/step - loss: 0.8372 - accuracy: 0.6583 - val_loss: 0.7913 - val_accuracy: 0.7000\n",
      "Epoch 9/10\n",
      "4/4 [==============================] - 0s 49ms/step - loss: 0.8051 - accuracy: 0.6583 - val_loss: 0.7624 - val_accuracy: 0.7333\n",
      "Epoch 10/10\n",
      "4/4 [==============================] - 0s 65ms/step - loss: 0.7707 - accuracy: 0.7000 - val_loss: 0.7328 - val_accuracy: 0.8000\n"
     ]
    },
    {
     "data": {
      "image/png": "[encoded data removed]",
      "text/plain": [
       "<Figure size 1000x500 with 2 Axes>"
      ]
     },
     "metadata": {},
     "output_type": "display_data"
    }
   ],
   "source": [
    "from tensorflow import keras\n",
    "from tensorflow.keras import layers\n",
    "from sklearn.datasets import load_iris\n",
    "from sklearn.model_selection import train_test_split\n",
    "from sklearn.metrics import accuracy_score\n",
    "import matplotlib.pyplot as plt\n",
    "\n",
    "# Load the iris dataset\n",
    "iris = load_iris()\n",
    "X = iris.data\n",
    "y = iris.target\n",
    "\n",
    "# Split the dataset into training and validation sets\n",
    "X_train, X_val, y_train, y_val = train_test_split(X, y, test_size=0.2, random_state=42)\n",
    "\n",
    "# Create a neural network model\n",
    "model = keras.Sequential([\n",
    "    layers.Dense(64, activation='relu', input_shape=(4,)),\n",
    "    layers.Dense(32, activation='relu'),\n",
    "    layers.Dense(3, activation='softmax')\n",
    "])\n",
    "\n",
    "# Compile the model\n",
    "model.compile(loss='sparse_categorical_crossentropy', optimizer='adam', metrics=['accuracy'])\n",
    "\n",
    "# Train the model\n",
    "history = model.fit(X_train, y_train, epochs=10, batch_size=32, validation_data=(X_val, y_val))\n",
    "\n",
    "# Plot the accuracy and loss curves\n",
    "plt.figure(figsize=(10, 5))\n",
    "\n",
    "plt.subplot(1, 2, 1)\n",
    "plt.plot(history.history['accuracy'], label='Training Accuracy')\n",
    "plt.plot(history.history['val_accuracy'], label='Validation Accuracy')\n",
    "plt.title('Accuracy Curve')\n",
    "plt.xlabel('Epochs')\n",
    "plt.ylabel('Accuracy')\n",
    "plt.legend()\n",
    "\n",
    "plt.subplot(1, 2, 2)\n",
    "plt.plot(history.history['loss'], label='Training Loss')\n",
    "plt.plot(history.history['val_loss'], label='Validation Loss')\n",
    "plt.title('Loss Curve')\n",
    "plt.xlabel('Epochs')\n",
    "plt.ylabel('Loss')\n",
    "plt.legend()\n",
    "\n",
    "plt.tight_layout()\n",
    "plt.show()"
   ]
  },
  {
   "cell_type": "markdown",
   "metadata": {},
   "source": [
    "9. How can you use gradient clipping in Keras to control the gradient size and prevent exploding gradients."
   ]
  },
  {
   "cell_type": "code",
   "execution_count": 8,
   "metadata": {},
   "outputs": [
    {
     "name": "stdout",
     "output_type": "stream",
     "text": [
      "Epoch 1/10\n",
      "4/4 [==============================] - 4s 252ms/step - loss: 1.0942 - accuracy: 0.3250 - val_loss: 1.0086 - val_accuracy: 0.3667\n",
      "Epoch 2/10\n",
      "4/4 [==============================] - 0s 35ms/step - loss: 0.9856 - accuracy: 0.4583 - val_loss: 0.9334 - val_accuracy: 0.6667\n",
      "Epoch 3/10\n",
      "4/4 [==============================] - 0s 34ms/step - loss: 0.9136 - accuracy: 0.7917 - val_loss: 0.8727 - val_accuracy: 0.8000\n",
      "Epoch 4/10\n",
      "4/4 [==============================] - 0s 34ms/step - loss: 0.8413 - accuracy: 0.8167 - val_loss: 0.7983 - val_accuracy: 0.8000\n",
      "Epoch 5/10\n",
      "4/4 [==============================] - 0s 34ms/step - loss: 0.7710 - accuracy: 0.9000 - val_loss: 0.7357 - val_accuracy: 0.7667\n",
      "Epoch 6/10\n",
      "4/4 [==============================] - 0s 36ms/step - loss: 0.7203 - accuracy: 0.8417 - val_loss: 0.6854 - val_accuracy: 0.8000\n",
      "Epoch 7/10\n",
      "4/4 [==============================] - 0s 38ms/step - loss: 0.6697 - accuracy: 0.7917 - val_loss: 0.6397 - val_accuracy: 0.7667\n",
      "Epoch 8/10\n",
      "4/4 [==============================] - 0s 35ms/step - loss: 0.6280 - accuracy: 0.8083 - val_loss: 0.6032 - val_accuracy: 0.8000\n",
      "Epoch 9/10\n",
      "4/4 [==============================] - 0s 38ms/step - loss: 0.5877 - accuracy: 0.9000 - val_loss: 0.5697 - val_accuracy: 0.8333\n",
      "Epoch 10/10\n",
      "4/4 [==============================] - 0s 42ms/step - loss: 0.5539 - accuracy: 0.8917 - val_loss: 0.5385 - val_accuracy: 0.8333\n",
      "1/1 [==============================] - 1s 652ms/step\n",
      "Validation accuracy: 0.8333333333333334\n"
     ]
    }
   ],
   "source": [
    "from tensorflow.keras.optimizers import Adam\n",
    "# Load the iris dataset\n",
    "iris = load_iris()\n",
    "X = iris.data\n",
    "y = iris.target\n",
    "\n",
    "# Split the dataset into training and validation sets\n",
    "X_train, X_val, y_train, y_val = train_test_split(X, y, test_size=0.2, random_state=42)\n",
    "\n",
    "# Create a neural network model\n",
    "model = keras.Sequential([\n",
    "    layers.Dense(64, activation='relu', input_shape=(4,)),\n",
    "    layers.Dense(32, activation='relu'),\n",
    "    layers.Dense(3, activation='softmax')\n",
    "])\n",
    "\n",
    "# Compile the model with gradient clipping\n",
    "optimizer = Adam(clipnorm=1.0)\n",
    "model.compile(loss='sparse_categorical_crossentropy', optimizer=optimizer, metrics=['accuracy'])\n",
    "\n",
    "# Train the model\n",
    "model.fit(X_train, y_train, epochs=10, batch_size=32, validation_data=(X_val, y_val))\n",
    "\n",
    "# Evaluate the model on the validation set\n",
    "y_pred = model.predict(X_val)\n",
    "y_pred_class = y_pred.argmax(axis=1)\n",
    "print('Validation accuracy:', accuracy_score(y_val, y_pred_class))"
   ]
  },
  {
   "cell_type": "markdown",
   "metadata": {},
   "source": [
    "10. How can you create a custom loss function in Keras."
   ]
  },
  {
   "cell_type": "code",
   "execution_count": 9,
   "metadata": {},
   "outputs": [],
   "source": [
    "# Define a custom loss function\n",
    "def custom_loss(y_true, y_pred):\n",
    "    return tf.reduce_mean(tf.square(y_true - y_pred))\n",
    "\n",
    "# Create a neural network model\n",
    "model = keras.Sequential([\n",
    "    layers.Dense(64, activation='relu', input_shape=(784,)),\n",
    "    layers.Dense(32, activation='relu'),\n",
    "    layers.Dense(10, activation='softmax')\n",
    "])\n",
    "\n",
    "# Compile the model with the custom loss function\n",
    "model.compile(loss=custom_loss, optimizer='adam', metrics=['accuracy'])"
   ]
  },
  {
   "cell_type": "markdown",
   "metadata": {},
   "source": [
    "11. How can you visualize the structure of a neural network model in Keras."
   ]
  },
  {
   "cell_type": "code",
   "execution_count": 17,
   "metadata": {},
   "outputs": [
    {
     "name": "stdout",
     "output_type": "stream",
     "text": [
      "You must install pydot (`pip install pydot`) and install graphviz (see instructions at https://graphviz.gitlab.io/download/) for plot_model to work.\n",
      "Epoch 1/10\n",
      "4/4 [==============================] - 3s 265ms/step - loss: 1.5046 - accuracy: 0.3250 - val_loss: 1.1978 - val_accuracy: 0.3667\n",
      "Epoch 2/10\n",
      "4/4 [==============================] - 0s 35ms/step - loss: 1.1960 - accuracy: 0.3250 - val_loss: 1.0430 - val_accuracy: 0.3667\n",
      "Epoch 3/10\n",
      "4/4 [==============================] - 0s 34ms/step - loss: 1.0463 - accuracy: 0.4667 - val_loss: 1.0252 - val_accuracy: 0.5000\n",
      "Epoch 4/10\n",
      "4/4 [==============================] - 0s 35ms/step - loss: 1.0150 - accuracy: 0.4583 - val_loss: 0.9903 - val_accuracy: 0.4000\n",
      "Epoch 5/10\n",
      "4/4 [==============================] - 0s 33ms/step - loss: 0.9708 - accuracy: 0.3667 - val_loss: 0.9316 - val_accuracy: 0.5000\n",
      "Epoch 6/10\n",
      "4/4 [==============================] - 0s 38ms/step - loss: 0.9179 - accuracy: 0.6250 - val_loss: 0.8601 - val_accuracy: 0.8000\n",
      "Epoch 7/10\n",
      "4/4 [==============================] - 0s 39ms/step - loss: 0.8583 - accuracy: 0.7333 - val_loss: 0.8140 - val_accuracy: 0.7333\n",
      "Epoch 8/10\n",
      "4/4 [==============================] - 0s 34ms/step - loss: 0.8190 - accuracy: 0.6583 - val_loss: 0.7727 - val_accuracy: 0.7000\n",
      "Epoch 9/10\n",
      "4/4 [==============================] - 0s 36ms/step - loss: 0.7763 - accuracy: 0.6833 - val_loss: 0.7395 - val_accuracy: 0.7667\n",
      "Epoch 10/10\n",
      "4/4 [==============================] - 0s 36ms/step - loss: 0.7410 - accuracy: 0.8167 - val_loss: 0.7118 - val_accuracy: 0.8667\n",
      "WARNING:tensorflow:5 out of the last 5 calls to <function Model.make_predict_function.<locals>.predict_function at 0x0000011FE3A9FA60> triggered tf.function retracing. Tracing is expensive and the excessive number of tracings could be due to (1) creating @tf.function repeatedly in a loop, (2) passing tensors with different shapes, (3) passing Python objects instead of tensors. For (1), please define your @tf.function outside of the loop. For (2), @tf.function has reduce_retracing=True option that can avoid unnecessary retracing. For (3), please refer to https://www.tensorflow.org/guide/function#controlling_retracing and https://www.tensorflow.org/api_docs/python/tf/function for  more details.\n",
      "1/1 [==============================] - 0s 201ms/step\n",
      "Validation accuracy: 0.8666666666666667\n"
     ]
    }
   ],
   "source": [
    "from tensorflow.keras.utils import plot_model\n",
    "\n",
    "# Load the iris dataset\n",
    "iris = load_iris()\n",
    "X = iris.data\n",
    "y = iris.target\n",
    "\n",
    "# Split the dataset into training and validation sets\n",
    "X_train, X_val, y_train, y_val = train_test_split(X, y, test_size=0.2, random_state=42)\n",
    "\n",
    "# Create a neural network model\n",
    "model = keras.Sequential([\n",
    "    layers.Dense(64, activation='relu', input_shape=(4,)),\n",
    "    layers.Dense(32, activation='relu'),\n",
    "    layers.Dense(3, activation='softmax')\n",
    "])\n",
    "\n",
    "# Plot the model\n",
    "plot_model(model, to_file='model.png', show_shapes=True, show_layer_names=True)\n",
    "\n",
    "# Compile the model\n",
    "model.compile(loss='sparse_categorical_crossentropy', optimizer='adam', metrics=['accuracy'])\n",
    "\n",
    "# Train the model\n",
    "model.fit(X_train, y_train, epochs=10, batch_size=32, validation_data=(X_val, y_val))\n",
    "\n",
    "# Evaluate the model on the validation set\n",
    "y_pred = model.predict(X_val)\n",
    "y_pred_class = y_pred.argmax(axis=1)\n",
    "print('Validation accuracy:', accuracy_score(y_val, y_pred_class))"
   ]
  },
  {
   "cell_type": "code",
   "execution_count": null,
   "metadata": {},
   "outputs": [],
   "source": []
  }
 ],
 "metadata": {
  "kernelspec": {
   "display_name": "virual",
   "language": "python",
   "name": "python3"
  },
  "language_info": {
   "codemirror_mode": {
    "name": "ipython",
    "version": 3
   },
   "file_extension": ".py",
   "mimetype": "text/x-python",
   "name": "python",
   "nbconvert_exporter": "python",
   "pygments_lexer": "ipython3",
   "version": "3.8.18"
  }
 },
 "nbformat": 4,
 "nbformat_minor": 2
}
