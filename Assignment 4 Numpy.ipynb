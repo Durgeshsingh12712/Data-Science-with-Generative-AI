{
 "cells": [
  {
   "cell_type": "markdown",
   "id": "59527614-7ce5-47c0-adca-c0e10534b74d",
   "metadata": {},
   "source": [
    "                                              Assignment-4 : Numpy "
   ]
  },
  {
   "cell_type": "code",
   "execution_count": 1,
   "id": "a6e77075-8d2e-4381-8ddb-fce438ec4fb3",
   "metadata": {},
   "outputs": [],
   "source": [
    "import numpy as np"
   ]
  },
  {
   "cell_type": "code",
   "execution_count": 4,
   "id": "eb82f731-175b-402f-aff0-ac8fa03f0cab",
   "metadata": {},
   "outputs": [
    {
     "data": {
      "text/plain": [
       "array([0, 1, 2, 3, 4, 5])"
      ]
     },
     "execution_count": 4,
     "metadata": {},
     "output_type": "execute_result"
    }
   ],
   "source": [
    "# 1. Create a NumPy array 'arr' of integers from 0 to 5 and print its data type.\n",
    "arr = np.array([0, 1, 2, 3, 4, 5])\n",
    "arr"
   ]
  },
  {
   "cell_type": "code",
   "execution_count": 7,
   "id": "563e2cd9-cf85-48b0-9adf-c02f03725202",
   "metadata": {},
   "outputs": [
    {
     "data": {
      "text/plain": [
       "dtype('int64')"
      ]
     },
     "execution_count": 7,
     "metadata": {},
     "output_type": "execute_result"
    }
   ],
   "source": [
    "arr.dtype"
   ]
  },
  {
   "cell_type": "code",
   "execution_count": 8,
   "id": "f75e59f5-b724-4fc0-ac97-b41479138a3e",
   "metadata": {},
   "outputs": [],
   "source": [
    "# 2. Given a NumPy array 'arr', check if its data type is float64.\n",
    "arr = np.array([1.5, 2.6, 3.7])"
   ]
  },
  {
   "cell_type": "code",
   "execution_count": 9,
   "id": "d3704931-46f4-4fac-aa1c-ff6c4bf71ae9",
   "metadata": {},
   "outputs": [
    {
     "data": {
      "text/plain": [
       "dtype('float64')"
      ]
     },
     "execution_count": 9,
     "metadata": {},
     "output_type": "execute_result"
    }
   ],
   "source": [
    "arr.dtype"
   ]
  },
  {
   "cell_type": "code",
   "execution_count": 11,
   "id": "50bc87a6-dcd3-4ad9-8325-a921b9fdaa6b",
   "metadata": {},
   "outputs": [],
   "source": [
    "# 3. Create a NumPy array 'arr' with a data type of complex128 containing three complex numbers.\n",
    "arr = np.array([1+2j, 3+4j, 5+6j], dtype=np.complex128)"
   ]
  },
  {
   "cell_type": "code",
   "execution_count": 12,
   "id": "2988265f-237e-4907-83b1-5b9eeb4ad820",
   "metadata": {},
   "outputs": [
    {
     "data": {
      "text/plain": [
       "array([1.+2.j, 3.+4.j, 5.+6.j])"
      ]
     },
     "execution_count": 12,
     "metadata": {},
     "output_type": "execute_result"
    }
   ],
   "source": [
    "arr"
   ]
  },
  {
   "cell_type": "code",
   "execution_count": 13,
   "id": "7b802466-8f07-4ff3-9dda-d85660011b8c",
   "metadata": {},
   "outputs": [],
   "source": [
    "# 4. Convert an existing NumPy array 'arr' of integers to float32 data type.\n",
    "arr = np.array([1, 2, 3, 4, 5])"
   ]
  },
  {
   "cell_type": "code",
   "execution_count": 15,
   "id": "b8321fa1-dac7-40ee-9751-b47b55168d1c",
   "metadata": {},
   "outputs": [
    {
     "data": {
      "text/plain": [
       "dtype('int64')"
      ]
     },
     "execution_count": 15,
     "metadata": {},
     "output_type": "execute_result"
    }
   ],
   "source": [
    "arr.dtype"
   ]
  },
  {
   "cell_type": "code",
   "execution_count": 16,
   "id": "6e1a01cb-dca0-4e83-972f-89e69a6d9ebc",
   "metadata": {},
   "outputs": [],
   "source": [
    "arr_f32 = arr.astype(np.float32)"
   ]
  },
  {
   "cell_type": "code",
   "execution_count": 17,
   "id": "ef92e083-85b5-4fb6-a774-56cc6cfc11ad",
   "metadata": {},
   "outputs": [
    {
     "data": {
      "text/plain": [
       "array([1., 2., 3., 4., 5.], dtype=float32)"
      ]
     },
     "execution_count": 17,
     "metadata": {},
     "output_type": "execute_result"
    }
   ],
   "source": [
    "arr_f32"
   ]
  },
  {
   "cell_type": "code",
   "execution_count": 19,
   "id": "e4b21cbc-46d3-46c7-935c-efb3626857ba",
   "metadata": {},
   "outputs": [],
   "source": [
    "# 5. Given a NumPy array 'arr' with float64 data type, convert it to float32 to reduce decimal precision.\n",
    "\n",
    "arr = np.array([1.123456789, 2.987654321, 3.141592653], dtype=np.float64)"
   ]
  },
  {
   "cell_type": "code",
   "execution_count": 21,
   "id": "6ab6efa8-d499-4a92-bc4f-0c848587f1e3",
   "metadata": {},
   "outputs": [
    {
     "data": {
      "text/plain": [
       "dtype('float64')"
      ]
     },
     "execution_count": 21,
     "metadata": {},
     "output_type": "execute_result"
    }
   ],
   "source": [
    "arr.dtype"
   ]
  },
  {
   "cell_type": "code",
   "execution_count": 22,
   "id": "929b0b62-8c9d-4afa-b873-e1e7d908f9fb",
   "metadata": {},
   "outputs": [],
   "source": [
    "arr_f32 = arr.astype(np.float32)"
   ]
  },
  {
   "cell_type": "code",
   "execution_count": 23,
   "id": "02ddfb13-dd0b-42a9-a09e-f4289a996b9c",
   "metadata": {},
   "outputs": [
    {
     "data": {
      "text/plain": [
       "array([1.1234568, 2.9876542, 3.1415927], dtype=float32)"
      ]
     },
     "execution_count": 23,
     "metadata": {},
     "output_type": "execute_result"
    }
   ],
   "source": [
    "arr_f32"
   ]
  },
  {
   "cell_type": "code",
   "execution_count": 24,
   "id": "df1b4d85-fa14-40eb-8218-918704ca7523",
   "metadata": {},
   "outputs": [],
   "source": [
    "# 6. Write a function array_attributes that takes a NumPy array as input and returns its shape, size, and data type.\n",
    "\n",
    "def array_attributes(arr):\n",
    "    if isinstance(arr, np.ndarray):\n",
    "        return arr.shape, arr.size, arr.dtype\n",
    "    else:\n",
    "        raise ValueError(\"Input must be a Numpy array\")\n",
    "arr = np.array([[1, 2, 3], [4, 5, 6]])\n",
    "shape, size, dtype = array_attributes(arr)"
   ]
  },
  {
   "cell_type": "code",
   "execution_count": 25,
   "id": "079c143d-33ea-4762-91cd-417d24b83aa1",
   "metadata": {},
   "outputs": [
    {
     "data": {
      "text/plain": [
       "(2, 3)"
      ]
     },
     "execution_count": 25,
     "metadata": {},
     "output_type": "execute_result"
    }
   ],
   "source": [
    "shape"
   ]
  },
  {
   "cell_type": "code",
   "execution_count": 26,
   "id": "8bcb1d29-e2d8-4e11-a870-0a3768a614e5",
   "metadata": {},
   "outputs": [
    {
     "data": {
      "text/plain": [
       "6"
      ]
     },
     "execution_count": 26,
     "metadata": {},
     "output_type": "execute_result"
    }
   ],
   "source": [
    "size"
   ]
  },
  {
   "cell_type": "code",
   "execution_count": 27,
   "id": "ce1a1f6d-b4ba-4713-b5b0-30c927c9c44b",
   "metadata": {},
   "outputs": [
    {
     "data": {
      "text/plain": [
       "dtype('int64')"
      ]
     },
     "execution_count": 27,
     "metadata": {},
     "output_type": "execute_result"
    }
   ],
   "source": [
    "dtype"
   ]
  },
  {
   "cell_type": "code",
   "execution_count": 28,
   "id": "46637177-75ad-4c3f-9feb-ee557eb845e3",
   "metadata": {},
   "outputs": [],
   "source": [
    "# 7. Create a function array_dimension that takes a NumPy array as input and returns its dimensionality.\n",
    "def array_dimension(arr):\n",
    "    return arr.ndim"
   ]
  },
  {
   "cell_type": "code",
   "execution_count": 29,
   "id": "c57e2eb3-699e-4567-9820-5ed83b48d77e",
   "metadata": {},
   "outputs": [
    {
     "data": {
      "text/plain": [
       "1"
      ]
     },
     "execution_count": 29,
     "metadata": {},
     "output_type": "execute_result"
    }
   ],
   "source": [
    "arr1 = np.array([1, 2, 3])\n",
    "array_dimension(arr1)"
   ]
  },
  {
   "cell_type": "code",
   "execution_count": 30,
   "id": "19475c0f-d7f7-4297-b4e7-6a76bf716bc8",
   "metadata": {},
   "outputs": [
    {
     "data": {
      "text/plain": [
       "2"
      ]
     },
     "execution_count": 30,
     "metadata": {},
     "output_type": "execute_result"
    }
   ],
   "source": [
    "arr2 = np.array([[1, 2], [3, 4]])\n",
    "array_dimension(arr2)"
   ]
  },
  {
   "cell_type": "code",
   "execution_count": 31,
   "id": "b5b1ea9c-3c2e-417f-8f4a-922d1eee7c78",
   "metadata": {},
   "outputs": [
    {
     "data": {
      "text/plain": [
       "3"
      ]
     },
     "execution_count": 31,
     "metadata": {},
     "output_type": "execute_result"
    }
   ],
   "source": [
    "arr3 = np.array([[[1], [2]], [[3], [4]]])\n",
    "array_dimension(arr3)"
   ]
  },
  {
   "cell_type": "code",
   "execution_count": 32,
   "id": "59801bd9-a78b-4135-97ba-3ef65c03e66d",
   "metadata": {},
   "outputs": [],
   "source": [
    "# 8. Design a function item_size_info that takes a NumPy array as input and returns the item size and the total size in bytes.\n",
    "def item_size_info(arr):\n",
    "    item_size = arr.itemsize\n",
    "    total_size = arr.size * item_size\n",
    "    return item_size, total_size\n",
    "arr1 = np.array([1, 2, 3, 4])\n",
    "item_size, total_size = item_size_info(arr1)"
   ]
  },
  {
   "cell_type": "code",
   "execution_count": 33,
   "id": "27f91cfc-375d-4d53-82d9-56a1d3d6cfa5",
   "metadata": {},
   "outputs": [
    {
     "data": {
      "text/plain": [
       "8"
      ]
     },
     "execution_count": 33,
     "metadata": {},
     "output_type": "execute_result"
    }
   ],
   "source": [
    "item_size"
   ]
  },
  {
   "cell_type": "code",
   "execution_count": 34,
   "id": "46b850c2-9f42-4f75-afcd-55dee996732c",
   "metadata": {},
   "outputs": [
    {
     "data": {
      "text/plain": [
       "32"
      ]
     },
     "execution_count": 34,
     "metadata": {},
     "output_type": "execute_result"
    }
   ],
   "source": [
    "total_size"
   ]
  },
  {
   "cell_type": "code",
   "execution_count": 35,
   "id": "6a27fef4-deda-4d70-9a71-2623904a8925",
   "metadata": {},
   "outputs": [],
   "source": [
    "# 9. Create a function array_strides that takes a NumPy array as input and returns the strides of the array.\n",
    "def array_strides(arr):\n",
    "    return arr.strides\n",
    "arr1 = np.array([1, 2, 3, 4])\n",
    "arr2 = np.array([[1, 2], [3, 4]])\n",
    "arr3 = np.array([[[1], [2]], [[3], [4]]])"
   ]
  },
  {
   "cell_type": "code",
   "execution_count": 36,
   "id": "0def01dc-fa40-4f71-915e-d0bf5e53d766",
   "metadata": {},
   "outputs": [
    {
     "data": {
      "text/plain": [
       "(8,)"
      ]
     },
     "execution_count": 36,
     "metadata": {},
     "output_type": "execute_result"
    }
   ],
   "source": [
    "array_strides(arr1)"
   ]
  },
  {
   "cell_type": "code",
   "execution_count": 37,
   "id": "3240bfe3-40ca-40a3-ac25-801233a59dc2",
   "metadata": {},
   "outputs": [
    {
     "data": {
      "text/plain": [
       "(16, 8)"
      ]
     },
     "execution_count": 37,
     "metadata": {},
     "output_type": "execute_result"
    }
   ],
   "source": [
    "array_strides(arr2)"
   ]
  },
  {
   "cell_type": "code",
   "execution_count": 38,
   "id": "90f77412-fdb1-4881-b1c0-797e580e1293",
   "metadata": {},
   "outputs": [
    {
     "data": {
      "text/plain": [
       "(16, 8, 8)"
      ]
     },
     "execution_count": 38,
     "metadata": {},
     "output_type": "execute_result"
    }
   ],
   "source": [
    "array_strides(arr3)"
   ]
  },
  {
   "cell_type": "code",
   "execution_count": 41,
   "id": "334b9d84-427a-4e0a-9a87-265b480ff6fc",
   "metadata": {},
   "outputs": [],
   "source": [
    "# 10. Design a function shape_stride_relationship that takes a NumPy array as input and returns the shape and strides of the array.\n",
    "def shape_stride_relationship(arr):\n",
    "    return arr.shape, arr.strides\n",
    "arr1 = np.array([[[1], [2]], [[3], [4]]])\n",
    "shape, strides = shape_stride_relationship(arr1)"
   ]
  },
  {
   "cell_type": "code",
   "execution_count": 42,
   "id": "00da60b6-9995-4f4e-812b-92dac467a143",
   "metadata": {},
   "outputs": [
    {
     "data": {
      "text/plain": [
       "(2, 2, 1)"
      ]
     },
     "execution_count": 42,
     "metadata": {},
     "output_type": "execute_result"
    }
   ],
   "source": [
    "shape"
   ]
  },
  {
   "cell_type": "code",
   "execution_count": 43,
   "id": "da73f3ae-120e-4244-8d49-cfe9a0eec187",
   "metadata": {},
   "outputs": [
    {
     "data": {
      "text/plain": [
       "(16, 8, 8)"
      ]
     },
     "execution_count": 43,
     "metadata": {},
     "output_type": "execute_result"
    }
   ],
   "source": [
    "strides"
   ]
  },
  {
   "cell_type": "code",
   "execution_count": 49,
   "id": "d6ed2c62-10c5-4d0b-b8b4-b3b797859763",
   "metadata": {},
   "outputs": [
    {
     "data": {
      "text/plain": [
       "array([0., 0., 0., 0., 0.])"
      ]
     },
     "execution_count": 49,
     "metadata": {},
     "output_type": "execute_result"
    }
   ],
   "source": [
    "# 11. Create a function \"create_zeros_array that takes an integer 'n' as input and returns a NumPy array of zeros with 'n' elements.\n",
    "def create_zeros_array(n):\n",
    "    return np.zeros(n)\n",
    "    \n",
    "arr = create_zeros_array(5)\n",
    "arr"
   ]
  },
  {
   "cell_type": "code",
   "execution_count": 50,
   "id": "03c8d8b1-6e7b-449e-828f-fd70835aa82f",
   "metadata": {},
   "outputs": [
    {
     "data": {
      "text/plain": [
       "array([[1., 1., 1., 1.],\n",
       "       [1., 1., 1., 1.],\n",
       "       [1., 1., 1., 1.]])"
      ]
     },
     "execution_count": 50,
     "metadata": {},
     "output_type": "execute_result"
    }
   ],
   "source": [
    "# 12. Write a function `create_ones_matrix that takes integers rows and cols as inputs and generates a 2D NumPy array filled with ones of size `rows x cols.\n",
    "def create_ones_matrix(rows, cols):\n",
    "    return np.ones((rows, cols))\n",
    "    \n",
    "mat = create_ones_matrix(3, 4)\n",
    "mat"
   ]
  },
  {
   "cell_type": "code",
   "execution_count": 51,
   "id": "6035a90f-0b66-41ef-b139-31f6d3a8811d",
   "metadata": {},
   "outputs": [
    {
     "data": {
      "text/plain": [
       "array([0, 2, 4, 6, 8])"
      ]
     },
     "execution_count": 51,
     "metadata": {},
     "output_type": "execute_result"
    }
   ],
   "source": [
    "# 13. Write a function `generate_range_array` that takes three integers start, stop, and step as arguments and creates a NumPy array with a range starting from start, ending at stop (exclusive), and with the specified step.\n",
    "def generate_range_array(start, stop, step):\n",
    "    return np.arange(start, stop, step)\n",
    "    \n",
    "arr = generate_range_array(0, 10, 2)\n",
    "arr"
   ]
  },
  {
   "cell_type": "code",
   "execution_count": 52,
   "id": "1bf79dbb-b175-4f54-9223-1206c1a8bff4",
   "metadata": {},
   "outputs": [
    {
     "data": {
      "text/plain": [
       "array([ 0. ,  2.5,  5. ,  7.5, 10. ])"
      ]
     },
     "execution_count": 52,
     "metadata": {},
     "output_type": "execute_result"
    }
   ],
   "source": [
    "# 14. Design a function `generate_linear_space that takes two floats start`, `stop`, and an integer `num`as arguments and generates a NumPy array with num equally spaced values between 'start' and `stop` (inclusive).\n",
    "def generate_linear_space(start, stop, num):\n",
    "    return np.linspace(start, stop, num)\n",
    "\n",
    "arr = generate_linear_space(0, 10, 5)\n",
    "arr"
   ]
  },
  {
   "cell_type": "code",
   "execution_count": 53,
   "id": "5334c7ae-a206-46b0-abe9-dfd6e8e6592a",
   "metadata": {},
   "outputs": [
    {
     "data": {
      "text/plain": [
       "array([[1., 0., 0.],\n",
       "       [0., 1., 0.],\n",
       "       [0., 0., 1.]])"
      ]
     },
     "execution_count": 53,
     "metadata": {},
     "output_type": "execute_result"
    }
   ],
   "source": [
    "# 15. Create a function `create_identity_matrix that takes an integer `n` as input and generates a square identity matrix of size `n x n' using `numpy.eye`.\n",
    "def create_identity_matrix(n):\n",
    "    return np.eye(n)\n",
    "mat_3x3 = create_identity_matrix(3)\n",
    "mat_3x3"
   ]
  },
  {
   "cell_type": "code",
   "execution_count": 55,
   "id": "96144e0e-92bd-41cb-923b-af46ea668009",
   "metadata": {},
   "outputs": [],
   "source": [
    "# 16. Write a function that takes a Python list and converts it into a NumPy array.\n",
    "def  numpy_array(py_list):\n",
    "    return np.array(py_list)\n",
    "    \n",
    "py_list1 = [1, 2, 3, 4, 5]\n",
    "l1 = numpy_array(py_list1)\n",
    "py_list2 = [[1, 2], [3, 4], [5, 6]]\n",
    "l2 = numpy_array(py_list2)"
   ]
  },
  {
   "cell_type": "code",
   "execution_count": 56,
   "id": "dbe3745b-71f7-445e-809f-d931a30bd754",
   "metadata": {},
   "outputs": [
    {
     "data": {
      "text/plain": [
       "array([1, 2, 3, 4, 5])"
      ]
     },
     "execution_count": 56,
     "metadata": {},
     "output_type": "execute_result"
    }
   ],
   "source": [
    "l1"
   ]
  },
  {
   "cell_type": "code",
   "execution_count": 57,
   "id": "1d8cc639-e39b-45c6-84ad-a20cf921ae6b",
   "metadata": {},
   "outputs": [
    {
     "data": {
      "text/plain": [
       "array([[1, 2],\n",
       "       [3, 4],\n",
       "       [5, 6]])"
      ]
     },
     "execution_count": 57,
     "metadata": {},
     "output_type": "execute_result"
    }
   ],
   "source": [
    "l2"
   ]
  },
  {
   "cell_type": "code",
   "execution_count": 59,
   "id": "d1f35343-b922-4353-8d4d-199117faed91",
   "metadata": {},
   "outputs": [
    {
     "data": {
      "text/plain": [
       "array([1, 2, 3, 4, 5])"
      ]
     },
     "execution_count": 59,
     "metadata": {},
     "output_type": "execute_result"
    }
   ],
   "source": [
    "# 17. Create a NumPy array and demonstrate the use of 'numpy.view to create a new array object with the same data.\n",
    "arr = np.array([1, 2, 3, 4, 5])\n",
    "view_arr = arr.view()\n",
    "view_arr"
   ]
  },
  {
   "cell_type": "code",
   "execution_count": 60,
   "id": "c8b623b0-cd4f-429c-9064-0782201eade6",
   "metadata": {},
   "outputs": [],
   "source": [
    "view_arr[0] = 100"
   ]
  },
  {
   "cell_type": "code",
   "execution_count": 61,
   "id": "a6eed7e7-2743-4b00-941d-c01832b1961f",
   "metadata": {},
   "outputs": [
    {
     "data": {
      "text/plain": [
       "array([100,   2,   3,   4,   5])"
      ]
     },
     "execution_count": 61,
     "metadata": {},
     "output_type": "execute_result"
    }
   ],
   "source": [
    "view_arr"
   ]
  },
  {
   "cell_type": "code",
   "execution_count": 63,
   "id": "dfcb238f-b5d9-4c7f-adad-c66c1887098d",
   "metadata": {},
   "outputs": [],
   "source": [
    "# 18. Write a function that takes two NumPy arrays and concatenates them along a specified axis.\n",
    "def concatenate_arrays(arr1, arr2, axis=0):\n",
    "    return np.concatenate((arr1, arr2), axis=axis)\n",
    "\n",
    "arr1 = np.array([1, 2, 3])\n",
    "arr2 = np.array([4, 5, 6])\n",
    "result1 = concatenate_arrays(arr1, arr2)\n",
    "arr1_2d = np.array([[1, 2], [3, 4]])\n",
    "arr2_2d = np.array([[5, 6], [7, 8]])\n",
    "result2 = concatenate_arrays(arr1_2d, arr2_2d, axis=0)"
   ]
  },
  {
   "cell_type": "code",
   "execution_count": 64,
   "id": "3233bc8a-def1-4a5d-97ba-f9bba5805b3f",
   "metadata": {},
   "outputs": [
    {
     "data": {
      "text/plain": [
       "array([1, 2, 3, 4, 5, 6])"
      ]
     },
     "execution_count": 64,
     "metadata": {},
     "output_type": "execute_result"
    }
   ],
   "source": [
    "result1"
   ]
  },
  {
   "cell_type": "code",
   "execution_count": 65,
   "id": "79c46ebe-6a51-4d4c-9592-1381eeb1687e",
   "metadata": {},
   "outputs": [
    {
     "data": {
      "text/plain": [
       "array([[1, 2],\n",
       "       [3, 4],\n",
       "       [5, 6],\n",
       "       [7, 8]])"
      ]
     },
     "execution_count": 65,
     "metadata": {},
     "output_type": "execute_result"
    }
   ],
   "source": [
    "result2"
   ]
  },
  {
   "cell_type": "code",
   "execution_count": 67,
   "id": "58186d75-5e9c-4395-a5cf-99fd346df554",
   "metadata": {},
   "outputs": [],
   "source": [
    "# 19. Create two NumPy arrays with different shapes and concatenate them horizontally using 'numpy. concatenate.\n",
    "arr1 = np.array([[1, 2], [3, 4]])\n",
    "arr2 = np.array([[5, 6, 7], [8, 9, 10]])\n",
    "\n",
    "result = np.concatenate((arr1, arr2), axis=1)"
   ]
  },
  {
   "cell_type": "code",
   "execution_count": 68,
   "id": "a6d70d13-102f-4179-af89-1d1e30f70d25",
   "metadata": {},
   "outputs": [
    {
     "data": {
      "text/plain": [
       "array([[1, 2],\n",
       "       [3, 4]])"
      ]
     },
     "execution_count": 68,
     "metadata": {},
     "output_type": "execute_result"
    }
   ],
   "source": [
    "arr1"
   ]
  },
  {
   "cell_type": "code",
   "execution_count": 69,
   "id": "36186b1d-0442-415a-877a-c2ab9a4e8577",
   "metadata": {},
   "outputs": [
    {
     "data": {
      "text/plain": [
       "array([[ 5,  6,  7],\n",
       "       [ 8,  9, 10]])"
      ]
     },
     "execution_count": 69,
     "metadata": {},
     "output_type": "execute_result"
    }
   ],
   "source": [
    "arr2"
   ]
  },
  {
   "cell_type": "code",
   "execution_count": 70,
   "id": "a9b27c5c-3321-490f-a091-0aaaab589522",
   "metadata": {},
   "outputs": [
    {
     "data": {
      "text/plain": [
       "array([[ 1,  2,  5,  6,  7],\n",
       "       [ 3,  4,  8,  9, 10]])"
      ]
     },
     "execution_count": 70,
     "metadata": {},
     "output_type": "execute_result"
    }
   ],
   "source": [
    "result"
   ]
  },
  {
   "cell_type": "code",
   "execution_count": 72,
   "id": "f8a9fd42-7d29-49d9-ba4b-b5d1a72adf84",
   "metadata": {},
   "outputs": [],
   "source": [
    "# 20. Write a function that vertically stacks multiple NumPy arrays given as a list.\n",
    "def stack_arrays_vertically(arrays_list):\n",
    "    return np.vstack(arrays_list)\n",
    "arr1 = np.array([[1, 2], [3, 4]])\n",
    "arr2 = np.array([[5, 6], [7, 8]])\n",
    "arr3 = np.array([[9, 10], [11, 12]])\n",
    "\n",
    "arr = [arr1, arr2, arr3]\n",
    "result = stack_arrays_vertically(arr)"
   ]
  },
  {
   "cell_type": "code",
   "execution_count": 73,
   "id": "bf3389ed-696d-4cc1-86c7-6ee036e897d9",
   "metadata": {},
   "outputs": [
    {
     "data": {
      "text/plain": [
       "array([[ 1,  2],\n",
       "       [ 3,  4],\n",
       "       [ 5,  6],\n",
       "       [ 7,  8],\n",
       "       [ 9, 10],\n",
       "       [11, 12]])"
      ]
     },
     "execution_count": 73,
     "metadata": {},
     "output_type": "execute_result"
    }
   ],
   "source": [
    "result"
   ]
  },
  {
   "cell_type": "code",
   "execution_count": 74,
   "id": "a49b6a92-27bc-4e7d-8dfe-5f7adb0e0a5f",
   "metadata": {},
   "outputs": [
    {
     "data": {
      "text/plain": [
       "array([1, 3, 5, 7, 9])"
      ]
     },
     "execution_count": 74,
     "metadata": {},
     "output_type": "execute_result"
    }
   ],
   "source": [
    "# 21. Write a Python function using NumPy to create an array of integers within a specified range (inclusive) with a given step size.\n",
    "def create_integer_array(start, stop, step):\n",
    "    return np.arange(start, stop + 1, step)\n",
    "arr = create_integer_array(1, 10, 2)\n",
    "arr"
   ]
  },
  {
   "cell_type": "code",
   "execution_count": 75,
   "id": "e54554de-d45e-44b9-887d-bee7d2cdec5c",
   "metadata": {},
   "outputs": [
    {
     "data": {
      "text/plain": [
       "array([0.        , 0.11111111, 0.22222222, 0.33333333, 0.44444444,\n",
       "       0.55555556, 0.66666667, 0.77777778, 0.88888889, 1.        ])"
      ]
     },
     "execution_count": 75,
     "metadata": {},
     "output_type": "execute_result"
    }
   ],
   "source": [
    "# 22. Write a Python function using NumPy to generate an array of 10 equally spaced values between 0 and 1 (inclusive).\n",
    "def generate_equally_spaced(start, stop, num_values):\n",
    "    return np.linspace(start, stop, num_values)\n",
    "arr = generate_equally_spaced(0, 1, 10)\n",
    "arr"
   ]
  },
  {
   "cell_type": "code",
   "execution_count": 76,
   "id": "58722a4c-118f-46ff-8b5c-5f5af5df294a",
   "metadata": {},
   "outputs": [
    {
     "data": {
      "text/plain": [
       "array([   1.        ,    5.62341325,   31.6227766 ,  177.827941  ,\n",
       "       1000.        ])"
      ]
     },
     "execution_count": 76,
     "metadata": {},
     "output_type": "execute_result"
    }
   ],
   "source": [
    "# 23. Write a Python function using NumPy to create an array of 5 logarithmically spaced values between 1 and 1000 (inclusive).\n",
    "def generate_logarithmically_spaced_values(start, stop, num_values):\n",
    "    return np.logspace(np.log10(start), np.log10(stop), num_values)\n",
    "arr = generate_logarithmically_spaced_values(1, 1000, 5)\n",
    "arr"
   ]
  },
  {
   "cell_type": "code",
   "execution_count": 1,
   "id": "24c65d86-efba-4314-a6af-dd1e739738d5",
   "metadata": {},
   "outputs": [
    {
     "name": "stdout",
     "output_type": "stream",
     "text": [
      "   Column1  Column2  Column3\n",
      "0       27       20       55\n",
      "1       23       66       45\n",
      "2       45       86        3\n",
      "3       92       35       72\n",
      "4       68       57       80\n"
     ]
    }
   ],
   "source": [
    "# 24. Create a Pandas DataFrame using a NumPy array that contains 5 rows and 3 columns, where the values are random integers between 1 and 100.\n",
    "import numpy as np\n",
    "import pandas as pd\n",
    "\n",
    "np_array = np.random.randint(1, 100, size=(5, 3))\n",
    "df = pd.DataFrame(np_array, columns=['Column1', 'Column2', 'Column3'])\n",
    "print(df)"
   ]
  },
  {
   "cell_type": "code",
   "execution_count": 5,
   "id": "a6a2f332-f89f-415c-9327-d8225f0ba4ea",
   "metadata": {},
   "outputs": [
    {
     "name": "stdout",
     "output_type": "stream",
     "text": [
      "   A  B\n",
      "0  1 -1\n",
      "1  0  2\n",
      "2  3 -3\n",
      "3  0  4\n",
      "4  5 -5\n"
     ]
    }
   ],
   "source": [
    "# 25. Write a function that takes a Pandas DataFrame and replaces all negative values in a specific column with zeros. Use NumPy operations within the Pandas DataFrame.\n",
    "def replace_negatives_with_zero(df, column_name):\n",
    "    df[column_name] = np.where(df[column_name] < 0, 0, df[column_name])\n",
    "    return df\n",
    "\n",
    "data = {\n",
    "    'A': [1, -2, 3, -4, 5],\n",
    "    'B': [-1, 2, -3, 4, -5]\n",
    "}\n",
    "df = pd.DataFrame(data)\n",
    "\n",
    "df = replace_negatives_with_zero(df, 'A')\n",
    "\n",
    "print(df)"
   ]
  },
  {
   "cell_type": "code",
   "execution_count": 80,
   "id": "a1a5f82f-8f3e-4bfc-b955-cad09c38c832",
   "metadata": {},
   "outputs": [
    {
     "data": {
      "text/plain": [
       "np.int64(30)"
      ]
     },
     "execution_count": 80,
     "metadata": {},
     "output_type": "execute_result"
    }
   ],
   "source": [
    "# 26. Access the 3rd element from the given NumPy array.\n",
    "arr = np.array([10, 20, 30, 40, 50])\n",
    "arr[2]"
   ]
  },
  {
   "cell_type": "code",
   "execution_count": 81,
   "id": "e81b620f-25da-401f-bfa0-e362f0f9fa69",
   "metadata": {},
   "outputs": [
    {
     "data": {
      "text/plain": [
       "np.int64(6)"
      ]
     },
     "execution_count": 81,
     "metadata": {},
     "output_type": "execute_result"
    }
   ],
   "source": [
    "# 27. Retrieve the element at index (1, 2) from the 2D NumPy array.\n",
    "arr_2d = np.array([[1, 2, 3], [4, 5, 6], [7, 8, 9]])\n",
    "element = arr_2d[1, 2]\n",
    "element"
   ]
  },
  {
   "cell_type": "code",
   "execution_count": 85,
   "id": "7ac41e4f-8954-4a29-9da5-b55c51b9917f",
   "metadata": {},
   "outputs": [
    {
     "data": {
      "text/plain": [
       "array([ 8, 10,  7])"
      ]
     },
     "execution_count": 85,
     "metadata": {},
     "output_type": "execute_result"
    }
   ],
   "source": [
    "# 28. Using boolean indexing, extract elements greater than 5 from the given NumPy array.\n",
    "arr = np.array([3, 8, 2, 10, 5, 7])\n",
    "val = arr > 5\n",
    "greater = arr[val]\n",
    "greater"
   ]
  },
  {
   "cell_type": "code",
   "execution_count": 86,
   "id": "f44dfa24-99a8-4ef2-968c-e6e98882f4dc",
   "metadata": {},
   "outputs": [
    {
     "data": {
      "text/plain": [
       "array([3, 4, 5])"
      ]
     },
     "execution_count": 86,
     "metadata": {},
     "output_type": "execute_result"
    }
   ],
   "source": [
    "# 29. Perform basic slicing to extract elements from index 2 to 5 (inclusive) from the given NumPy array. I\n",
    "arr = np.array([1, 2, 3, 4, 5, 6, 7, 8, 9])\n",
    "arr[2:5]"
   ]
  },
  {
   "cell_type": "code",
   "execution_count": 107,
   "id": "a6fc43ad-1910-4e29-8ac2-62cb098400de",
   "metadata": {},
   "outputs": [
    {
     "data": {
      "text/plain": [
       "array([[2, 3],\n",
       "       [5, 6]])"
      ]
     },
     "execution_count": 107,
     "metadata": {},
     "output_type": "execute_result"
    }
   ],
   "source": [
    "# 30. Slice the 2D NumPy array to extract the sub-array `[[2, 3], [5, 6]] from the given array.\n",
    "arr_2d = np.array([[1, 2, 3], [4, 5, 6], [7, 8, 9]])\n",
    "sub_array = arr_2d[0:2, 1:3]\n",
    "sub_array"
   ]
  },
  {
   "cell_type": "code",
   "execution_count": 108,
   "id": "78326dfc-abac-45f2-a203-30d53aa82c18",
   "metadata": {},
   "outputs": [
    {
     "data": {
      "text/plain": [
       "array([2, 6, 7])"
      ]
     },
     "execution_count": 108,
     "metadata": {},
     "output_type": "execute_result"
    }
   ],
   "source": [
    "# 31.Write a NumPy function to extract elements in specific order from a given 2D array based on indices provided in another array.\n",
    "def extract_elements(arr_2d, indices):\n",
    "    rows, cols = indices[:, 0], indices[:, 1]\n",
    "    return arr_2d[rows, cols]\n",
    "arr_2d = np.array([[1, 2, 3], [4, 5, 6], [7, 8, 9]])\n",
    "indices = np.array([[0, 1], [1, 2], [2, 0]])\n",
    "extracted_elements = extract_elements(arr_2d, indices)\n",
    "extracted_elements"
   ]
  },
  {
   "cell_type": "code",
   "execution_count": 109,
   "id": "b3d32a86-7b58-4623-b65f-b63056587afa",
   "metadata": {},
   "outputs": [
    {
     "name": "stdout",
     "output_type": "stream",
     "text": [
      "[20 40 30]\n"
     ]
    }
   ],
   "source": [
    "# 32. Create a NumPy function that filters elements greater than a threshold from a given ID array using boolean indexing.\n",
    "def filter_elements_greater_than_threshold(arr, threshold):\n",
    "    mask = arr > threshold\n",
    "    filtered_elements = arr[mask]\n",
    "    return filtered_elements\n",
    "\n",
    "arr = np.array([10, 20, 5, 40, 30, 15])\n",
    "threshold = 15\n",
    "\n",
    "filtered_arr = filter_elements_greater_than_threshold(arr, threshold)\n",
    "print(filtered_arr)"
   ]
  },
  {
   "cell_type": "code",
   "execution_count": 110,
   "id": "b1bf801e-3918-464c-9c30-78acbc8b8456",
   "metadata": {},
   "outputs": [
    {
     "name": "stdout",
     "output_type": "stream",
     "text": [
      "[6 8]\n"
     ]
    }
   ],
   "source": [
    "# 33. Develop a NumPy function that extracts specific elements from a 3D array using indices provided in three separate arrays for each dimension.\n",
    "def extract_elements_from_3d_array(arr_3d, row_indices, col_indices, depth_indices):\n",
    "    return arr_3d[row_indices, col_indices, depth_indices]\n",
    "\n",
    "arr_3d = np.array([[[1, 2, 3], [4, 5, 6]], \n",
    "                   [[7, 8, 9], [10, 11, 12]]])\n",
    "row_indices = np.array([0, 1])\n",
    "col_indices = np.array([1, 0])\n",
    "depth_indices = np.array([2, 1])\n",
    "\n",
    "extracted_elements = extract_elements_from_3d_array(arr_3d, row_indices, col_indices, depth_indices)\n",
    "print(extracted_elements)"
   ]
  },
  {
   "cell_type": "code",
   "execution_count": 111,
   "id": "48cbbc88-c390-4199-a53e-b0f2ed80bec7",
   "metadata": {},
   "outputs": [
    {
     "name": "stdout",
     "output_type": "stream",
     "text": [
      "[20 30 15]\n"
     ]
    }
   ],
   "source": [
    "# 34. Write a NumPy function that returns elements from an array where both two conditions are satisfied using boolean indexing.\n",
    "def filter_elements_with_conditions(arr, condition1, condition2):\n",
    "    filtered_elements = arr[condition1 & condition2]\n",
    "    return filtered_elements\n",
    "\n",
    "arr = np.array([10, 20, 5, 40, 30, 15])\n",
    "condition1 = arr > 10\n",
    "condition2 = arr < 40\n",
    "\n",
    "filtered_arr = filter_elements_with_conditions(arr, condition1, condition2)\n",
    "print(filtered_arr)"
   ]
  },
  {
   "cell_type": "code",
   "execution_count": 113,
   "id": "0d2af750-6397-46f0-bdd2-2d8773639eb7",
   "metadata": {},
   "outputs": [
    {
     "name": "stdout",
     "output_type": "stream",
     "text": [
      "[2 6 7]\n"
     ]
    }
   ],
   "source": [
    "# 35. Create a NumPy function that extracts elements from a 2D array using row and column indices provided in separate arrays.\n",
    "def extract_elements_using_indices(arr_2d, row_indices, col_indices):\n",
    "    return arr_2d[row_indices, col_indices]\n",
    "\n",
    "arr_2d = np.array([[1, 2, 3], [4, 5, 6], [7, 8, 9]])\n",
    "row_indices = np.array([0, 1, 2])\n",
    "col_indices = np.array([1, 2, 0])\n",
    "\n",
    "extracted_elements = extract_elements_using_indices(arr_2d, row_indices, col_indices)\n",
    "print(extracted_elements)"
   ]
  },
  {
   "cell_type": "code",
   "execution_count": 114,
   "id": "754d1041-1fa5-408e-89f3-422ce4273b5f",
   "metadata": {},
   "outputs": [
    {
     "name": "stdout",
     "output_type": "stream",
     "text": [
      "[[ 6  7  8]\n",
      " [ 9 10 11]\n",
      " [12 13 14]]\n"
     ]
    }
   ],
   "source": [
    "# 36. Given an array arr of shape (3, 3), add a scalar value of 5 to each element using NumPy broadcasting.\n",
    "arr = np.array([[1, 2, 3],\n",
    "                [4, 5, 6],\n",
    "                [7, 8, 9]])\n",
    "result = arr + 5\n",
    "print(result)"
   ]
  },
  {
   "cell_type": "code",
   "execution_count": 123,
   "id": "43188142-4e62-4243-8ba5-3cae6b60e62d",
   "metadata": {},
   "outputs": [
    {
     "data": {
      "text/plain": [
       "array([[ 4, 16, 36],\n",
       "       [ 5, 18, 39],\n",
       "       [ 6, 20, 42],\n",
       "       [ 7, 22, 45]])"
      ]
     },
     "execution_count": 123,
     "metadata": {},
     "output_type": "execute_result"
    }
   ],
   "source": [
    "# 37. Consider two arrays arrl of shape (1, 3) and arr2 of shape (3, 4). Multiply each row of arr2 by the corresponding element in arrl using NumPy broadcasting.\n",
    "\n",
    "arr1 = np.array([[1, 2, 3]]) \n",
    "arr2 = np.array([[4, 5, 6, 7],\n",
    "                 [8, 9, 10, 11],\n",
    "                 [12, 13, 14, 15]])\n",
    "result = arr1 * arr2.T\n",
    "result\n"
   ]
  },
  {
   "cell_type": "code",
   "execution_count": 133,
   "id": "4b735492-e44f-4d50-b7ae-3f3d7d5b17a0",
   "metadata": {},
   "outputs": [
    {
     "name": "stdout",
     "output_type": "stream",
     "text": [
      "[[10 12 14]\n",
      " [16 18 20]\n",
      " [22 24 26]\n",
      " [28 30 32]]\n"
     ]
    }
   ],
   "source": [
    "# 38. Given a ID array arrl of shape (1, 4) and a 2D array arr2 of shape (4,3), add arrl to each row of arr2 using NumPy broadcasting.\n",
    "arr1 = np.array([[1, 2, 3, 4]]) \n",
    "arr2 = np.array([[5, 6, 7],\n",
    "                 [8, 9, 10],\n",
    "                 [11, 12, 13],\n",
    "                 [14, 15, 16]])\n",
    "\n",
    "result = arr2 + arr2\n",
    "print(result)"
   ]
  },
  {
   "cell_type": "code",
   "execution_count": 134,
   "id": "68d0e858-c259-4cb5-a417-cfb66bf4efe2",
   "metadata": {},
   "outputs": [
    {
     "data": {
      "text/plain": [
       "array([[5, 6, 7],\n",
       "       [6, 7, 8],\n",
       "       [7, 8, 9]])"
      ]
     },
     "execution_count": 134,
     "metadata": {},
     "output_type": "execute_result"
    }
   ],
   "source": [
    "# 39. Consider two arrays arrl of shape (3, 1) and arr2 of shape (1, 3). Add these arrays using NumPy broadcasting.\n",
    "arr1 = np.array([[1], [2], [3]])\n",
    "arr2 = np.array([[4, 5, 6]])\n",
    "\n",
    "result = arr1 + arr2\n",
    "result"
   ]
  },
  {
   "cell_type": "code",
   "execution_count": 135,
   "id": "e237dc02-9558-4cb7-9b95-1d8383be87b5",
   "metadata": {},
   "outputs": [
    {
     "data": {
      "text/plain": [
       "array([[ 7, 16, 21],\n",
       "       [36, 50, 54]])"
      ]
     },
     "execution_count": 135,
     "metadata": {},
     "output_type": "execute_result"
    }
   ],
   "source": [
    "# 40. Given arrays arrl of shape (2, 3) and arr2 of shape (2, 2), perform multiplication using NumPy broadcasting. Handle the shape incompatibility.\n",
    "arr1 = np.array([[1, 2, 3], \n",
    "                 [4, 5, 6]])\n",
    "arr2 = np.array([[7, 8], \n",
    "                 [9, 10]]) \n",
    "arr2_expanded = np.tile(arr2, (1, 3))\n",
    "result = arr1 * arr2_expanded[:, :3]\n",
    "result"
   ]
  },
  {
   "cell_type": "code",
   "execution_count": 136,
   "id": "229f67c8-8261-4177-864c-97b150903369",
   "metadata": {},
   "outputs": [
    {
     "name": "stdout",
     "output_type": "stream",
     "text": [
      "[2.5 3.5 4.5]\n"
     ]
    }
   ],
   "source": [
    "# 41. Calculate column-wise mean for the given array:\n",
    "arr = np.array([[1, 2, 3], [4, 5, 6]])\n",
    "\n",
    "column_mean = np.mean(arr, axis=0)\n",
    "\n",
    "print(column_mean)"
   ]
  },
  {
   "cell_type": "code",
   "execution_count": 138,
   "id": "5cdd1316-db21-4703-9c67-a896bb51315e",
   "metadata": {},
   "outputs": [
    {
     "data": {
      "text/plain": [
       "array([3, 6])"
      ]
     },
     "execution_count": 138,
     "metadata": {},
     "output_type": "execute_result"
    }
   ],
   "source": [
    "# 42. Find maximum value in each row of the given array:\n",
    "arr = np.array([[1, 2, 3], [4, 5, 6]])\n",
    "\n",
    "result = np.max(arr, axis=1)\n",
    "result"
   ]
  },
  {
   "cell_type": "code",
   "execution_count": 4,
   "id": "32f165cc-1c9a-49ec-aeb0-d5bee09c587f",
   "metadata": {},
   "outputs": [
    {
     "name": "stdout",
     "output_type": "stream",
     "text": [
      "[1 1 1]\n"
     ]
    }
   ],
   "source": [
    "# 43. For the given array, find indices of maximum value in each column.\n",
    "arr = np.array([[1, 2, 3], [4, 5, 6]])\n",
    "\n",
    "max_indic = np.argmax(arr, axis=0)\n",
    "\n",
    "print(max_indic)"
   ]
  },
  {
   "cell_type": "code",
   "execution_count": 6,
   "id": "16f269e9-5fe2-4073-bea2-0264e3e923d4",
   "metadata": {},
   "outputs": [
    {
     "name": "stdout",
     "output_type": "stream",
     "text": [
      "[[ 1  3  5]\n",
      " [ 4  9 11]]\n"
     ]
    }
   ],
   "source": [
    "# 44. For the given array, apply custom function to calculate moving sum along rows.\n",
    "arr = np.array([[1, 2, 3], [4, 5, 6]])\n",
    "\n",
    "def moving_sum(arr, window_size):\n",
    "    rows, cols = arr.shape\n",
    "    result = np.zeros_like(arr)\n",
    "    \n",
    "    for i in range(rows):\n",
    "        for j in range(cols):\n",
    "            \n",
    "            start = max(0, j - window_size + 1)\n",
    "            result[i, j] = np.sum(arr[i, start:j+1])\n",
    "    \n",
    "    return result\n",
    "result = moving_sum(arr, window_size=2)\n",
    "print(result)"
   ]
  },
  {
   "cell_type": "code",
   "execution_count": 9,
   "id": "65694b94-aa4b-4316-bdc1-49e70bd5ffaf",
   "metadata": {},
   "outputs": [
    {
     "name": "stdout",
     "output_type": "stream",
     "text": [
      "[False False False]\n"
     ]
    }
   ],
   "source": [
    "# 45. In the given array, check if all elements in each column are even.\n",
    "arr = np.array([[2, 4, 6], [3, 5, 7]])\n",
    "\n",
    "are_all_even = np.all(arr % 2 == 0, axis=0)\n",
    "\n",
    "print(are_all_even)"
   ]
  },
  {
   "cell_type": "code",
   "execution_count": 10,
   "id": "59a983fe-ec5b-4abf-a8a8-e4d25441a62d",
   "metadata": {},
   "outputs": [
    {
     "name": "stdout",
     "output_type": "stream",
     "text": [
      "[[1 2 3]\n",
      " [4 5 6]]\n"
     ]
    }
   ],
   "source": [
    "# 46. Given a NumPy array arr, reshape it into a matrix of dimensions `m` rows and 'n' columns. Return the reshaped matrix.\n",
    "original_array = np.array([1, 2, 3, 4, 5, 6])\n",
    "\n",
    "reshaped_arr = original_array.reshape(2, 3)\n",
    "print(reshaped_arr)"
   ]
  },
  {
   "cell_type": "code",
   "execution_count": 12,
   "id": "21f346bd-98d5-44fc-b0f5-095d6013f875",
   "metadata": {},
   "outputs": [
    {
     "name": "stdout",
     "output_type": "stream",
     "text": [
      "[1 2 3 4 5 6]\n"
     ]
    }
   ],
   "source": [
    "# 47. Create a function that takes a matrix as input and returns the flattened array.\n",
    "input_matrix = np.array([[1, 2, 3], [4, 5, 6]])\n",
    "\n",
    "def flatten_matrix(matrix):\n",
    "    return matrix.flatten()\n",
    "    \n",
    "flattened_array = flatten_matrix(input_matrix)\n",
    "\n",
    "print(flattened_array)\n"
   ]
  },
  {
   "cell_type": "code",
   "execution_count": 13,
   "id": "b5b6ff89-6016-4cf6-8361-693cb53c311a",
   "metadata": {},
   "outputs": [],
   "source": [
    "# 48. Write a function that concatenates two given arrays along a specified axis.\n",
    "array1 = np.array([[1, 2], [3, 4]]) \n",
    "array2 = np.array([[5, 6], [7, 8]])\n",
    "\n",
    "def concatenate_array(array1, array2, axis=0):\n",
    "    return np.concatenate((array1, array2), axis=axis)\n",
    "result_axis_0 = concatenate_array(array1, array2, axis=0)\n",
    "result_axis_1 = concatenate_array(array1, array2, axis=1)"
   ]
  },
  {
   "cell_type": "code",
   "execution_count": 14,
   "id": "6d06a82c-d8c9-4f58-a656-d83f0c9e1347",
   "metadata": {},
   "outputs": [
    {
     "name": "stdout",
     "output_type": "stream",
     "text": [
      "[[1 2]\n",
      " [3 4]\n",
      " [5 6]\n",
      " [7 8]]\n"
     ]
    }
   ],
   "source": [
    "print(result_axis_0)"
   ]
  },
  {
   "cell_type": "code",
   "execution_count": 16,
   "id": "b816e143-c33b-4c11-b05a-bc7d34b7b92f",
   "metadata": {},
   "outputs": [
    {
     "name": "stdout",
     "output_type": "stream",
     "text": [
      "[[1 2 5 6]\n",
      " [3 4 7 8]]\n"
     ]
    }
   ],
   "source": [
    "print(result_axis_1)"
   ]
  },
  {
   "cell_type": "code",
   "execution_count": 28,
   "id": "72531664-3888-49e1-a96a-f1632ec5179a",
   "metadata": {},
   "outputs": [
    {
     "name": "stdout",
     "output_type": "stream",
     "text": [
      "[[1 2 3]]\n",
      "[[4 5 6]]\n",
      "[[7 8 9]]\n"
     ]
    }
   ],
   "source": [
    "# 49. Create a function that splits an array into multiple sub-arrays along a specified axis. \n",
    "original_array = np.array([[1, 2, 3], [4, 5, 6], [7, 8, 9]])\n",
    "\n",
    "def split_array(array, axis, sections):\n",
    "    return np.split(array, sections, axis=axis)\n",
    "\n",
    "result_axis_0 = split_array(original_array, axis=0, sections=3)\n",
    "for sub_array in result_axis_0:\n",
    "    print(sub_array)"
   ]
  },
  {
   "cell_type": "code",
   "execution_count": 29,
   "id": "e71aaf23-313e-4c31-9606-4cdfdf7523d8",
   "metadata": {},
   "outputs": [
    {
     "name": "stdout",
     "output_type": "stream",
     "text": [
      "[[1]\n",
      " [4]\n",
      " [7]]\n",
      "[[2]\n",
      " [5]\n",
      " [8]]\n",
      "[[3]\n",
      " [6]\n",
      " [9]]\n"
     ]
    }
   ],
   "source": [
    "result_axis_1 = split_array(original_array, axis=1, sections=3)\n",
    "for sub_array in result_axis_1:\n",
    "    print(sub_array)"
   ]
  },
  {
   "cell_type": "code",
   "execution_count": 31,
   "id": "90fae986-baee-4e32-843e-4cc12be95790",
   "metadata": {},
   "outputs": [],
   "source": [
    "# 50. Write a function that inserts and then deletes elements from a given array at specified indices.\n",
    "#original_array = np.array([1, 2, 3, 4, 5])[2,4]\n",
    "#indices_to_insert = [2, 4] values_to_insert = [10, 11]\n",
    "#indices_to_delete = [1, 3]"
   ]
  },
  {
   "cell_type": "code",
   "execution_count": 33,
   "id": "1acc61b1-da6e-40e4-ad37-2ec08f136643",
   "metadata": {},
   "outputs": [],
   "source": [
    "# 51. Create a NumPy array arrl with random integers and another array arr2 with integers from 1 to 10. Perform element-wise addition between arrl' and `arr2.\n",
    "arr1 = np.random.randint(1, 10, size=5)\n",
    "arr2 = np.array([1, 2, 3, 4, 5])\n",
    "\n",
    "result = arr1 + arr2"
   ]
  },
  {
   "cell_type": "code",
   "execution_count": 34,
   "id": "96d5b1ec-f4a2-46c4-a26e-1751edd234d4",
   "metadata": {},
   "outputs": [
    {
     "data": {
      "text/plain": [
       "array([2, 7, 6, 1, 2], dtype=int32)"
      ]
     },
     "execution_count": 34,
     "metadata": {},
     "output_type": "execute_result"
    }
   ],
   "source": [
    "arr1"
   ]
  },
  {
   "cell_type": "code",
   "execution_count": 35,
   "id": "7ee8e6ac-b417-48a4-87d0-6e93944adefa",
   "metadata": {},
   "outputs": [
    {
     "data": {
      "text/plain": [
       "array([1, 2, 3, 4, 5])"
      ]
     },
     "execution_count": 35,
     "metadata": {},
     "output_type": "execute_result"
    }
   ],
   "source": [
    "arr2"
   ]
  },
  {
   "cell_type": "code",
   "execution_count": 36,
   "id": "698bc5ac-e194-44b4-a862-8febee083cfd",
   "metadata": {},
   "outputs": [
    {
     "name": "stdout",
     "output_type": "stream",
     "text": [
      "[3 9 9 5 7]\n"
     ]
    }
   ],
   "source": [
    "print(result)"
   ]
  },
  {
   "cell_type": "code",
   "execution_count": 37,
   "id": "766c4603-7858-4f68-b1e5-7d663e33efb5",
   "metadata": {},
   "outputs": [],
   "source": [
    "# 52. Generate a NumPy array arrl with sequential integers from 10 to 1 and another array arr2 with integers from 1 to 10. Subtract arr2 from arrl element-wise.\n",
    "\n",
    "arr1 = np.arange(10, 0, -1)\n",
    "arr2 = np.arange(1, 11)\n",
    "\n",
    "result = arr1 - arr2"
   ]
  },
  {
   "cell_type": "code",
   "execution_count": 38,
   "id": "390d3f39-986c-458d-ab2f-533a5829605d",
   "metadata": {},
   "outputs": [
    {
     "data": {
      "text/plain": [
       "array([10,  9,  8,  7,  6,  5,  4,  3,  2,  1])"
      ]
     },
     "execution_count": 38,
     "metadata": {},
     "output_type": "execute_result"
    }
   ],
   "source": [
    "arr1"
   ]
  },
  {
   "cell_type": "code",
   "execution_count": 39,
   "id": "d7c2f077-b0d9-4eb0-b6ab-9c3cd0c617c1",
   "metadata": {},
   "outputs": [
    {
     "data": {
      "text/plain": [
       "array([ 1,  2,  3,  4,  5,  6,  7,  8,  9, 10])"
      ]
     },
     "execution_count": 39,
     "metadata": {},
     "output_type": "execute_result"
    }
   ],
   "source": [
    "arr2"
   ]
  },
  {
   "cell_type": "code",
   "execution_count": 40,
   "id": "5912ad67-a1fb-48fa-8d91-15187e7fe93d",
   "metadata": {},
   "outputs": [
    {
     "name": "stdout",
     "output_type": "stream",
     "text": [
      "[ 9  7  5  3  1 -1 -3 -5 -7 -9]\n"
     ]
    }
   ],
   "source": [
    "print(result)"
   ]
  },
  {
   "cell_type": "code",
   "execution_count": 42,
   "id": "0c0750d1-a820-4f78-bf44-aee651bfb872",
   "metadata": {},
   "outputs": [],
   "source": [
    "# 53. Create a NumPy array arrl with random integers and another array arr2 with integers from 1 to 5. Perform element-wise multiplication between arrl and arr2.\n",
    "arr1 = np.random.randint(1, 5, size=4)\n",
    "arr2 = np.array([1, 2, 3, 4])\n",
    "\n",
    "result = arr1 * arr2"
   ]
  },
  {
   "cell_type": "code",
   "execution_count": 43,
   "id": "71b227d1-123f-497d-a480-c9c083dac2a3",
   "metadata": {},
   "outputs": [
    {
     "data": {
      "text/plain": [
       "array([2, 2, 2, 4], dtype=int32)"
      ]
     },
     "execution_count": 43,
     "metadata": {},
     "output_type": "execute_result"
    }
   ],
   "source": [
    "arr1"
   ]
  },
  {
   "cell_type": "code",
   "execution_count": 44,
   "id": "af0fdd21-e667-4c58-b2a3-f65d1e644f5e",
   "metadata": {},
   "outputs": [
    {
     "data": {
      "text/plain": [
       "array([1, 2, 3, 4])"
      ]
     },
     "execution_count": 44,
     "metadata": {},
     "output_type": "execute_result"
    }
   ],
   "source": [
    "arr2"
   ]
  },
  {
   "cell_type": "code",
   "execution_count": 45,
   "id": "788e5d5b-9798-485f-b893-8d07c56b1d08",
   "metadata": {},
   "outputs": [
    {
     "name": "stdout",
     "output_type": "stream",
     "text": [
      "[ 2  4  6 16]\n"
     ]
    }
   ],
   "source": [
    "print(result)"
   ]
  },
  {
   "cell_type": "code",
   "execution_count": 46,
   "id": "fab7d676-ccad-41e8-afbd-a57939b5fe87",
   "metadata": {},
   "outputs": [],
   "source": [
    "# 54. Generate a NumPy array arrl with even integers from 2 to 10 and another array 'arr2 with integers from 1 to 5. Perform element-wise division of arrl by arr2.\n",
    "arr1 = np.arange(2, 11, 2)\n",
    "arr2 = np.arange(1, 6)\n",
    "\n",
    "result = arr1 / arr2"
   ]
  },
  {
   "cell_type": "code",
   "execution_count": 47,
   "id": "9fcb1a1a-5343-4c93-87be-9dbe6f12bff1",
   "metadata": {},
   "outputs": [
    {
     "data": {
      "text/plain": [
       "array([ 2,  4,  6,  8, 10])"
      ]
     },
     "execution_count": 47,
     "metadata": {},
     "output_type": "execute_result"
    }
   ],
   "source": [
    "arr1"
   ]
  },
  {
   "cell_type": "code",
   "execution_count": 48,
   "id": "3611535a-0553-4f11-a07e-dfd9686a1235",
   "metadata": {},
   "outputs": [
    {
     "data": {
      "text/plain": [
       "array([1, 2, 3, 4, 5])"
      ]
     },
     "execution_count": 48,
     "metadata": {},
     "output_type": "execute_result"
    }
   ],
   "source": [
    "arr2"
   ]
  },
  {
   "cell_type": "code",
   "execution_count": 49,
   "id": "108c0432-426e-4997-8ccf-4af7b1affd68",
   "metadata": {},
   "outputs": [
    {
     "name": "stdout",
     "output_type": "stream",
     "text": [
      "[2. 2. 2. 2. 2.]\n"
     ]
    }
   ],
   "source": [
    "print(result)"
   ]
  },
  {
   "cell_type": "code",
   "execution_count": 50,
   "id": "8d433603-4532-4007-8f58-72f483ea38a8",
   "metadata": {},
   "outputs": [],
   "source": [
    "# 55. Create a NumPy array arrl with integers from 1 to 5 and another array arr2 with the same numbers reversed. Calculate the exponentiation of arr1 raised to the power of arr2 element-wise.\n",
    "arr1 = np.arange(1, 6)\n",
    "arr2 = arr1[::-1]\n",
    "\n",
    "result = arr1 ** arr2"
   ]
  },
  {
   "cell_type": "code",
   "execution_count": 51,
   "id": "f0115bf2-ff0e-402b-a484-6f72ef0411c2",
   "metadata": {},
   "outputs": [
    {
     "data": {
      "text/plain": [
       "array([1, 2, 3, 4, 5])"
      ]
     },
     "execution_count": 51,
     "metadata": {},
     "output_type": "execute_result"
    }
   ],
   "source": [
    "arr1"
   ]
  },
  {
   "cell_type": "code",
   "execution_count": 52,
   "id": "24b543ed-5cbc-438e-ae81-70aa02f9fe3e",
   "metadata": {},
   "outputs": [
    {
     "data": {
      "text/plain": [
       "array([5, 4, 3, 2, 1])"
      ]
     },
     "execution_count": 52,
     "metadata": {},
     "output_type": "execute_result"
    }
   ],
   "source": [
    "arr2"
   ]
  },
  {
   "cell_type": "code",
   "execution_count": 53,
   "id": "e0a9f8f5-2613-4bd7-82e7-28791797cac3",
   "metadata": {},
   "outputs": [
    {
     "name": "stdout",
     "output_type": "stream",
     "text": [
      "[ 1 16 27 16  5]\n"
     ]
    }
   ],
   "source": [
    "print(result)"
   ]
  },
  {
   "cell_type": "code",
   "execution_count": 56,
   "id": "73f9c2fb-43a0-4caa-9305-bb817319f6ca",
   "metadata": {},
   "outputs": [
    {
     "name": "stdout",
     "output_type": "stream",
     "text": [
      "3\n"
     ]
    }
   ],
   "source": [
    "# 56. Write a function that counts the occurrences of a specific substring within a NumPy array of strings. \n",
    "arr = np.array(['hello', 'world', 'hello', 'numpy', 'hello'])\n",
    "\n",
    "def count_substring_occurances(arr, substring):\n",
    "    count = np.sum(np.char.find(arr, substring) != -1)\n",
    "    return count\n",
    "\n",
    "substring = 'hello'\n",
    "result = count_substring_occurances(arr, substring)\n",
    "print(result)"
   ]
  },
  {
   "cell_type": "code",
   "execution_count": 57,
   "id": "21bdd726-78de-4dc5-aa9d-f5631a0c96ad",
   "metadata": {},
   "outputs": [
    {
     "name": "stdout",
     "output_type": "stream",
     "text": [
      "HWOAIGPT\n"
     ]
    }
   ],
   "source": [
    "# 57. Write a function that extracts uppercase characters from a NumPy array of strings. \n",
    "arr = np.array(['Hello', 'World', 'OpenAI', 'GPT'])\n",
    "\n",
    "def extract_uppercase(arr):\n",
    "    uppercase_chars = []\n",
    "\n",
    "    for string in arr:\n",
    "        uppercase_chars.extend([char for char in string if char.isupper()])\n",
    "    return ''.join(uppercase_chars)\n",
    "\n",
    "result = extract_uppercase(arr)\n",
    "print(result)"
   ]
  },
  {
   "cell_type": "code",
   "execution_count": 58,
   "id": "cc3ef7e4-c2c8-4098-925d-f457409d9206",
   "metadata": {},
   "outputs": [
    {
     "name": "stdout",
     "output_type": "stream",
     "text": [
      "['orange' 'banana' 'grape' 'pineorange']\n"
     ]
    }
   ],
   "source": [
    "# 58. Write a function that replaces occurrences of a substring in a NumPy array of strings with a new string.\n",
    "arr = np.array(['apple', 'banana', 'grape', 'pineapple'])\n",
    "\n",
    "def replace_substring(arr, old_substring, new_substring):\n",
    "    return np.char.replace(arr, old_substring, new_substring)\n",
    "\n",
    "result = replace_substring(arr, 'apple', 'orange')\n",
    "print(result)"
   ]
  },
  {
   "cell_type": "code",
   "execution_count": 59,
   "id": "1409ecc7-7e25-4604-9396-95359148349c",
   "metadata": {},
   "outputs": [
    {
     "name": "stdout",
     "output_type": "stream",
     "text": [
      "['HelloOpen' 'WorldAI']\n"
     ]
    }
   ],
   "source": [
    "# 59. Write a function that concatenates strings in a NumPy array element-wise.\n",
    "arr1 = np.array([ 'Hello', 'World'])\n",
    "arr2 = np.array(['Open', 'AI'])\n",
    "\n",
    "def concatenate_strings(arr1, arr2):\n",
    "    return np.char.add(arr1, arr2)\n",
    "\n",
    "result = concatenate_strings(arr1, arr2)\n",
    "print(result)"
   ]
  },
  {
   "cell_type": "code",
   "execution_count": 60,
   "id": "c03c0640-70e8-4819-863a-b07cd79ddb5e",
   "metadata": {},
   "outputs": [
    {
     "name": "stdout",
     "output_type": "stream",
     "text": [
      "9\n"
     ]
    }
   ],
   "source": [
    "#60. Write a function that finds the length of the longest string in a NumPy array.\n",
    "arr = np.array(['apple', 'banana', 'grape', 'pineapple'])\n",
    "\n",
    "def find_longest_string_length(arr):\n",
    "    lengths = np.char.str_len(arr)\n",
    "    return np.max(lengths)\n",
    "\n",
    "result = find_longest_string_length(arr)\n",
    "print(result)"
   ]
  },
  {
   "cell_type": "code",
   "execution_count": 2,
   "id": "59da44e6-943c-4979-a49a-28f3d619a826",
   "metadata": {},
   "outputs": [],
   "source": [
    "# 61. Create a dataset of 100 random integers between 1 and 1000. Compute the mean, med,ian, variance, and standard deviation of the dataset using NumPy's functions.\n",
    "data = np.random.randint(1, 1001, size=100)\n",
    "\n",
    "mean = np.mean(data)\n",
    "median = np.median(data)\n",
    "variance = np.var(data)\n",
    "std_deviation = np.std(data)"
   ]
  },
  {
   "cell_type": "code",
   "execution_count": 7,
   "id": "2e5a6149-0f0e-40ec-8ca1-186e76007869",
   "metadata": {},
   "outputs": [
    {
     "name": "stdout",
     "output_type": "stream",
     "text": [
      "551.54\n"
     ]
    }
   ],
   "source": [
    "print(mean)"
   ]
  },
  {
   "cell_type": "code",
   "execution_count": 8,
   "id": "dbce312d-abea-4ec6-92e8-076711b38ff1",
   "metadata": {},
   "outputs": [
    {
     "name": "stdout",
     "output_type": "stream",
     "text": [
      "619.5\n"
     ]
    }
   ],
   "source": [
    "print(median)"
   ]
  },
  {
   "cell_type": "code",
   "execution_count": 9,
   "id": "50bf4e59-a89e-4336-8ccc-8b0ad69a88b4",
   "metadata": {},
   "outputs": [
    {
     "name": "stdout",
     "output_type": "stream",
     "text": [
      "91373.34839999997\n"
     ]
    }
   ],
   "source": [
    "print(variance)"
   ]
  },
  {
   "cell_type": "code",
   "execution_count": 10,
   "id": "3369a255-f484-43d7-8c90-d928566306af",
   "metadata": {},
   "outputs": [
    {
     "name": "stdout",
     "output_type": "stream",
     "text": [
      "302.2802481142292\n"
     ]
    }
   ],
   "source": [
    "print(std_deviation)"
   ]
  },
  {
   "cell_type": "code",
   "execution_count": 11,
   "id": "5292cc53-df24-4473-bbf9-e574baf4666e",
   "metadata": {},
   "outputs": [],
   "source": [
    "# 62. Generate an array of 50 random numbers between 1 and 100. Find the 25th and 75th percentiles of the dataset.\n",
    "\n",
    "arr = np.random.randint(1, 100, size=50)\n",
    "\n",
    "per_25 = np.percentile(arr, 25)\n",
    "per_75 = np.percentile(arr, 75)"
   ]
  },
  {
   "cell_type": "code",
   "execution_count": 12,
   "id": "9c0597b4-19c5-4acf-83e8-a24bf5d266c5",
   "metadata": {},
   "outputs": [
    {
     "name": "stdout",
     "output_type": "stream",
     "text": [
      "30.0\n"
     ]
    }
   ],
   "source": [
    "print(per_25)"
   ]
  },
  {
   "cell_type": "code",
   "execution_count": 13,
   "id": "0665adef-d892-45e5-9865-8485e856f192",
   "metadata": {},
   "outputs": [
    {
     "name": "stdout",
     "output_type": "stream",
     "text": [
      "78.0\n"
     ]
    }
   ],
   "source": [
    "print(per_75)"
   ]
  },
  {
   "cell_type": "code",
   "execution_count": 15,
   "id": "051bd399-80aa-492f-a0bf-e756de1aaa73",
   "metadata": {},
   "outputs": [],
   "source": [
    "# 63. Create two arrays representing two sets of variables. Compute the correlation coefficient between these arrays using NumPy's 'corrcoef function.\n",
    "arr1 = np.random.randint(1, 101, size=100)\n",
    "arr2 = np.random.randint(1, 101, size=100)\n",
    "\n",
    "cor_matrix = np.corrcoef(arr1, arr2)\n",
    "cor_coefficient = cor_matrix[0, 1]"
   ]
  },
  {
   "cell_type": "code",
   "execution_count": 16,
   "id": "7e79bd8a-17ca-4d01-8126-32f12656cf85",
   "metadata": {},
   "outputs": [
    {
     "data": {
      "text/plain": [
       "array([44, 39, 86, 30, 30, 15, 16, 67, 93, 22, 59, 62, 29, 62, 91, 43, 60,\n",
       "       81, 59, 71, 23, 12, 81, 38, 82, 30, 80, 79, 83, 20, 10, 27, 94, 10,\n",
       "       84, 27, 58, 55, 21, 90, 98, 63, 30, 40,  6, 65, 51,  1, 84, 88, 74,\n",
       "        1, 64, 26, 34, 59, 33, 77, 20, 42,  5, 73, 93, 92, 94, 43, 24, 20,\n",
       "        5, 10, 18, 33,  4, 22,  1, 56, 80, 33, 90, 43, 20, 72, 19,  9, 91,\n",
       "       59,  2, 65, 19, 64, 80, 97, 40, 44, 68, 40, 56, 80, 89, 62],\n",
       "      dtype=int32)"
      ]
     },
     "execution_count": 16,
     "metadata": {},
     "output_type": "execute_result"
    }
   ],
   "source": [
    "arr1"
   ]
  },
  {
   "cell_type": "code",
   "execution_count": 17,
   "id": "95a6d2d1-ec40-4f61-b4c8-fccdcfe05dd0",
   "metadata": {},
   "outputs": [
    {
     "data": {
      "text/plain": [
       "array([ 12,  23,  98,  56,  77,  52,  66,  40,  21,  99,  70,  90,   8,\n",
       "         5,  34, 100,  77,  24,  73,  12,  54,  28,  95,  30,  49,  94,\n",
       "        83,  55,  56,  69,  19,  94,  94,  51,  62,   9,  28,  48,  80,\n",
       "        46,  99,   4,  40,  91,  70,  55,  49,   8,  95, 100,  96,   5,\n",
       "        80,  46,  97,  54,  75,  28,  38,  23,  48,  90,  36,  80,  25,\n",
       "       100,  42,  79,  29,  31,  57,  66,  92,  27,  35,  97,   8,   3,\n",
       "        28,  96,  87,  26,  62,  45,  19,  38,  52,  26,   3,  34,  81,\n",
       "        28,  66,  60,  97,  40,  43,  15,  72,  28], dtype=int32)"
      ]
     },
     "execution_count": 17,
     "metadata": {},
     "output_type": "execute_result"
    }
   ],
   "source": [
    "arr2"
   ]
  },
  {
   "cell_type": "code",
   "execution_count": 18,
   "id": "6061db6b-7dc2-4ecc-9a6c-92b88ffbf968",
   "metadata": {},
   "outputs": [
    {
     "name": "stdout",
     "output_type": "stream",
     "text": [
      "0.08313909236781289\n"
     ]
    }
   ],
   "source": [
    "print(cor_coefficient)"
   ]
  },
  {
   "cell_type": "code",
   "execution_count": 20,
   "id": "a2135faf-16f7-497a-8c63-179f8d089740",
   "metadata": {},
   "outputs": [
    {
     "name": "stdout",
     "output_type": "stream",
     "text": [
      "[[ 25  28]\n",
      " [ 57  64]\n",
      " [ 89 100]]\n"
     ]
    }
   ],
   "source": [
    "# 64. Create two matrices and perform matrix multiplication using NumPy's 'dot function.\n",
    "A = np.array([[1, 2], [3, 4], [5, 6]])\n",
    "B = np.array([[7, 8], [9, 10]])\n",
    "\n",
    "result = np.dot(A, B)\n",
    "print(result)"
   ]
  },
  {
   "cell_type": "code",
   "execution_count": 21,
   "id": "7352f8e9-9c49-4fe9-a511-d2c928e56f90",
   "metadata": {},
   "outputs": [],
   "source": [
    "# 65. Create an array of 50 integers between 10 and 1000. Calculate the 10th, 50th (median), and 90th percentiles along with the first and third quartiles.\n",
    "\n",
    "arr = np.random.randint(10, 1001, size=50)\n",
    "\n",
    "per_10 = np.percentile(data, 10)\n",
    "median = np.percentile(data, 50)\n",
    "per_90 = np.percentile(data, 90)\n",
    "q1 = np.percentile(data, 25)\n",
    "q3 = np.percentile(data, 75)"
   ]
  },
  {
   "cell_type": "code",
   "execution_count": 22,
   "id": "982f43a3-e9fe-4a5d-b156-ca262ed4ae6c",
   "metadata": {},
   "outputs": [
    {
     "name": "stdout",
     "output_type": "stream",
     "text": [
      "126.80000000000001\n"
     ]
    }
   ],
   "source": [
    "print(per_10)"
   ]
  },
  {
   "cell_type": "code",
   "execution_count": 23,
   "id": "b12c082a-a0c9-42c1-94a1-d305b783c5ec",
   "metadata": {},
   "outputs": [
    {
     "name": "stdout",
     "output_type": "stream",
     "text": [
      "619.5\n"
     ]
    }
   ],
   "source": [
    "print(median)"
   ]
  },
  {
   "cell_type": "code",
   "execution_count": 24,
   "id": "72a39941-8c20-4417-93af-fb9bbcf3a06a",
   "metadata": {},
   "outputs": [
    {
     "name": "stdout",
     "output_type": "stream",
     "text": [
      "914.2000000000002\n"
     ]
    }
   ],
   "source": [
    "print(per_90)"
   ]
  },
  {
   "cell_type": "code",
   "execution_count": 25,
   "id": "8c0f7b7c-785c-4509-90f3-4ab6df2e03e3",
   "metadata": {},
   "outputs": [
    {
     "name": "stdout",
     "output_type": "stream",
     "text": [
      "257.25\n"
     ]
    }
   ],
   "source": [
    "print(q1)"
   ]
  },
  {
   "cell_type": "code",
   "execution_count": 26,
   "id": "cf9ac6f5-06ed-4fb4-ac73-48a0a1791574",
   "metadata": {},
   "outputs": [
    {
     "name": "stdout",
     "output_type": "stream",
     "text": [
      "823.25\n"
     ]
    }
   ],
   "source": [
    "print(q3)"
   ]
  },
  {
   "cell_type": "code",
   "execution_count": 29,
   "id": "32d9c97f-e0ea-4c98-a5b1-92f12218f453",
   "metadata": {},
   "outputs": [
    {
     "name": "stdout",
     "output_type": "stream",
     "text": [
      "The index of 30 is : (array([2]),)\n"
     ]
    }
   ],
   "source": [
    "# 66. Create a NumPy array of integers and find the index of a specific element.\n",
    "\n",
    "arr = np.array([10, 20, 30, 40, 50])\n",
    "\n",
    "index = np.where(arr == 30)\n",
    "print(f\"The index of 30 is : {index}\")"
   ]
  },
  {
   "cell_type": "code",
   "execution_count": 30,
   "id": "f6ff3c6c-0b7b-4c15-bbd9-6fca05371c68",
   "metadata": {},
   "outputs": [],
   "source": [
    "# 67. Generate a random NumPy array and sort it in ascending order.\n",
    "arr = np.random.randint(1, 101, size=10)\n",
    "\n",
    "sorted_arr = np.sort(arr)"
   ]
  },
  {
   "cell_type": "code",
   "execution_count": 31,
   "id": "6351dca2-231b-496e-b00e-95681146ec73",
   "metadata": {},
   "outputs": [
    {
     "data": {
      "text/plain": [
       "array([81, 48, 29, 98, 10, 49, 43, 56, 16, 17], dtype=int32)"
      ]
     },
     "execution_count": 31,
     "metadata": {},
     "output_type": "execute_result"
    }
   ],
   "source": [
    "arr"
   ]
  },
  {
   "cell_type": "code",
   "execution_count": 32,
   "id": "d731e00c-90af-4a82-8618-aaa8c345584e",
   "metadata": {},
   "outputs": [
    {
     "data": {
      "text/plain": [
       "array([10, 16, 17, 29, 43, 48, 49, 56, 81, 98], dtype=int32)"
      ]
     },
     "execution_count": 32,
     "metadata": {},
     "output_type": "execute_result"
    }
   ],
   "source": [
    "sorted_arr"
   ]
  },
  {
   "cell_type": "code",
   "execution_count": 33,
   "id": "1486c831-fb0f-4ad6-8efa-b78d6b929f9a",
   "metadata": {},
   "outputs": [
    {
     "name": "stdout",
     "output_type": "stream",
     "text": [
      "[25 42 30]\n"
     ]
    }
   ],
   "source": [
    "# 68. Filter elements >20 in the given NumPy array.\n",
    "arr = np.array([12, 25, 6, 42, 8, 30])\n",
    "\n",
    "filtered_arr = arr[arr > 20]\n",
    "\n",
    "print(filtered_arr)"
   ]
  },
  {
   "cell_type": "code",
   "execution_count": 35,
   "id": "a347381a-0734-46b4-9882-816a6d75ca4e",
   "metadata": {},
   "outputs": [
    {
     "name": "stdout",
     "output_type": "stream",
     "text": [
      "[12 15]\n"
     ]
    }
   ],
   "source": [
    "# 69. Filter elements which are divisible by 3 from a given NumPy array.\n",
    "arr = np.array([1, 5, 8, 12, 15])\n",
    "\n",
    "filtered_arr = arr[arr % 3 == 0]\n",
    "print(filtered_arr)"
   ]
  },
  {
   "cell_type": "code",
   "execution_count": 37,
   "id": "0dd9af95-f639-4e18-9e4b-95fde67c06e2",
   "metadata": {},
   "outputs": [
    {
     "name": "stdout",
     "output_type": "stream",
     "text": [
      "[20 30 40]\n"
     ]
    }
   ],
   "source": [
    "# 70. Filter elements which are ≥ 20 and ≤ 40 from a given NumPy array.\n",
    "arr = np.array([10, 20, 30, 40, 50])\n",
    "\n",
    "filtered_arr = arr[(arr >= 20) & (arr <= 40)]\n",
    "print(filtered_arr)"
   ]
  },
  {
   "cell_type": "code",
   "execution_count": 38,
   "id": "2ad5c990-93f5-492b-97df-2bd59588bc5e",
   "metadata": {},
   "outputs": [
    {
     "name": "stdout",
     "output_type": "stream",
     "text": [
      "=\n"
     ]
    }
   ],
   "source": [
    "# 71. For the given NumPy array, check its byte order using the dtype attribute byteorder.\n",
    "arr = np.array([1, 2, 3])\n",
    "\n",
    "byte_order = arr.dtype.byteorder\n",
    "print(byte_order)"
   ]
  },
  {
   "cell_type": "code",
   "execution_count": 39,
   "id": "1df52693-caa2-4279-bea2-1edc2e23e9d7",
   "metadata": {},
   "outputs": [
    {
     "data": {
      "text/plain": [
       "array([16777216, 33554432, 50331648], dtype=int32)"
      ]
     },
     "execution_count": 39,
     "metadata": {},
     "output_type": "execute_result"
    }
   ],
   "source": [
    "# 72. For the given NumPy array, perform byte swapping in place using 'byteswap().\n",
    "arr = np.array([1, 2, 3], dtype=np.int32)\n",
    "\n",
    "arr.byteswap(inplace=True)"
   ]
  },
  {
   "cell_type": "code",
   "execution_count": 42,
   "id": "dd2d4406-2252-4d27-824b-68638ef26bee",
   "metadata": {},
   "outputs": [],
   "source": [
    "# 73. For the given NumPy array, swap its byte order without modifying the original array using newbyteorder()`.\n",
    "arr = np.array([1, 2, 3], dtype=np.int32)\n",
    "\n",
    "swapped_arr = arr.dtype.newbyteorder()"
   ]
  },
  {
   "cell_type": "code",
   "execution_count": 43,
   "id": "736ad7fe-d0ff-42a1-b528-fd9a28135014",
   "metadata": {},
   "outputs": [
    {
     "data": {
      "text/plain": [
       "array([1, 2, 3], dtype=int32)"
      ]
     },
     "execution_count": 43,
     "metadata": {},
     "output_type": "execute_result"
    }
   ],
   "source": [
    "arr"
   ]
  },
  {
   "cell_type": "code",
   "execution_count": 44,
   "id": "c3c8767e-aaf4-4ddf-b006-a75625fa3e59",
   "metadata": {},
   "outputs": [
    {
     "name": "stdout",
     "output_type": "stream",
     "text": [
      ">i4\n"
     ]
    }
   ],
   "source": [
    "print(swapped_arr)"
   ]
  },
  {
   "cell_type": "code",
   "execution_count": 46,
   "id": "de27a40f-850d-4517-be64-68d57e0119c3",
   "metadata": {},
   "outputs": [],
   "source": [
    "# 74. For the given NumPy array and swap its byte order conditionally based on system endianness using newbyteorder().\n",
    "arr = np.array([1, 2, 3], dtype=np.int32)\n",
    "\n",
    "swapped_arr = arr.dtype.newbyteorder('>' if arr.dtype.byteorder == '=' else '<')"
   ]
  },
  {
   "cell_type": "code",
   "execution_count": 47,
   "id": "35c23304-5c04-441d-8d47-266932983146",
   "metadata": {},
   "outputs": [
    {
     "data": {
      "text/plain": [
       "array([1, 2, 3], dtype=int32)"
      ]
     },
     "execution_count": 47,
     "metadata": {},
     "output_type": "execute_result"
    }
   ],
   "source": [
    "arr"
   ]
  },
  {
   "cell_type": "code",
   "execution_count": 48,
   "id": "c942844c-8df9-453a-9df7-160a254bd294",
   "metadata": {},
   "outputs": [
    {
     "data": {
      "text/plain": [
       "dtype('>i4')"
      ]
     },
     "execution_count": 48,
     "metadata": {},
     "output_type": "execute_result"
    }
   ],
   "source": [
    "swapped_arr"
   ]
  },
  {
   "cell_type": "code",
   "execution_count": 50,
   "id": "002ce887-c8e3-4a79-b13f-d1419b0f2d80",
   "metadata": {},
   "outputs": [
    {
     "name": "stdout",
     "output_type": "stream",
     "text": [
      "The array is native byte order. No  byte swapping is neccesary\n"
     ]
    }
   ],
   "source": [
    "# 75. For the given NumPy array, check if byte swapping is necessary for the current system using `dtype` attribute byteorder.\n",
    "arr = np.array([1, 2, 3], dtype=np.int32)\n",
    "\n",
    "system_byteorder = arr.dtype.byteorder\n",
    "if system_byteorder == '=':\n",
    "    print(\"The array is native byte order. No  byte swapping is neccesary\")\n",
    "else:\n",
    "    print(\"The array is not native byte order. byte swapping is neccesary\")"
   ]
  },
  {
   "cell_type": "code",
   "execution_count": 54,
   "id": "fe894ad8-d2ba-4b78-9095-f787adbce2cc",
   "metadata": {},
   "outputs": [],
   "source": [
    "# 76. Create a NumPy array arrl with values from 1 to 10. Create a copy of `arrl named copy_arr` and modify an element in copy_arr. Check if modifying copy_arr affects arrl`.\n",
    "\n",
    "arr = np.arange(1, 11)\n",
    "\n",
    "copy_arr = arr.copy()\n",
    "copy_arr[0] = 100"
   ]
  },
  {
   "cell_type": "code",
   "execution_count": 55,
   "id": "15e91341-0a06-47b6-9b41-ddf0c7e03003",
   "metadata": {},
   "outputs": [
    {
     "data": {
      "text/plain": [
       "array([ 1,  2,  3,  4,  5,  6,  7,  8,  9, 10])"
      ]
     },
     "execution_count": 55,
     "metadata": {},
     "output_type": "execute_result"
    }
   ],
   "source": [
    "arr"
   ]
  },
  {
   "cell_type": "code",
   "execution_count": 56,
   "id": "50fcf85b-2d63-4a53-8cd3-5513edf03570",
   "metadata": {},
   "outputs": [
    {
     "data": {
      "text/plain": [
       "array([100,   2,   3,   4,   5,   6,   7,   8,   9,  10])"
      ]
     },
     "execution_count": 56,
     "metadata": {},
     "output_type": "execute_result"
    }
   ],
   "source": [
    "copy_arr"
   ]
  },
  {
   "cell_type": "code",
   "execution_count": 57,
   "id": "8e857314-9583-494f-b7f5-c2d96749e1d5",
   "metadata": {},
   "outputs": [],
   "source": [
    "# 77. Create a 2D NumPy array matrix of shape (3, 3) with random integers. Extract a slice view_slice from the matrix. Modify an element in view_slice and observe if it changes the original `matrix.\n",
    "\n",
    "matrix = np.random.randint(1, 10, size=(3, 3))\n",
    "\n",
    "view_slice = matrix[:2, :2]"
   ]
  },
  {
   "cell_type": "code",
   "execution_count": 58,
   "id": "26bfdc8d-7547-42c1-886d-0cd66a5ce3e4",
   "metadata": {},
   "outputs": [
    {
     "data": {
      "text/plain": [
       "array([[4, 6, 2],\n",
       "       [7, 6, 2],\n",
       "       [1, 7, 5]], dtype=int32)"
      ]
     },
     "execution_count": 58,
     "metadata": {},
     "output_type": "execute_result"
    }
   ],
   "source": [
    "matrix"
   ]
  },
  {
   "cell_type": "code",
   "execution_count": 59,
   "id": "d6588639-d6e1-4284-8216-ae33de9bccc3",
   "metadata": {},
   "outputs": [
    {
     "data": {
      "text/plain": [
       "array([[4, 6],\n",
       "       [7, 6]], dtype=int32)"
      ]
     },
     "execution_count": 59,
     "metadata": {},
     "output_type": "execute_result"
    }
   ],
   "source": [
    "view_slice"
   ]
  },
  {
   "cell_type": "code",
   "execution_count": 60,
   "id": "2f8cc655-df3c-4434-8c3d-21e3811265c7",
   "metadata": {},
   "outputs": [],
   "source": [
    "view_slice[0, 0] = 99"
   ]
  },
  {
   "cell_type": "code",
   "execution_count": 61,
   "id": "3fd3b617-cc0b-408e-8888-5f9174cb99c1",
   "metadata": {},
   "outputs": [
    {
     "data": {
      "text/plain": [
       "array([[99,  6,  2],\n",
       "       [ 7,  6,  2],\n",
       "       [ 1,  7,  5]], dtype=int32)"
      ]
     },
     "execution_count": 61,
     "metadata": {},
     "output_type": "execute_result"
    }
   ],
   "source": [
    "matrix"
   ]
  },
  {
   "cell_type": "code",
   "execution_count": 62,
   "id": "8f4027b9-a074-4edb-9408-495783d58d90",
   "metadata": {},
   "outputs": [
    {
     "data": {
      "text/plain": [
       "array([[99,  6],\n",
       "       [ 7,  6]], dtype=int32)"
      ]
     },
     "execution_count": 62,
     "metadata": {},
     "output_type": "execute_result"
    }
   ],
   "source": [
    "view_slice"
   ]
  },
  {
   "cell_type": "code",
   "execution_count": 72,
   "id": "0068211c-6de6-4214-b96b-3a7224e9675b",
   "metadata": {},
   "outputs": [],
   "source": [
    "# 78. Create a NumPy array array_a of shape (4,3) with sequential integers from 1 to 12. Extract a slice view_b from array_a and broadcast the addition of 5 to view_b. Check if it alters the original array_a.\n",
    "arr = np.arange(1, 13).reshape(4, 3)\n",
    "view_b = arr[1:3, 0:2]\n",
    "view_b += 5"
   ]
  },
  {
   "cell_type": "code",
   "execution_count": 73,
   "id": "2e8af9fb-11bc-4c94-a96d-ec1fe180b1fe",
   "metadata": {},
   "outputs": [
    {
     "data": {
      "text/plain": [
       "array([[ 1,  2,  3],\n",
       "       [ 9, 10,  6],\n",
       "       [12, 13,  9],\n",
       "       [10, 11, 12]])"
      ]
     },
     "execution_count": 73,
     "metadata": {},
     "output_type": "execute_result"
    }
   ],
   "source": [
    "arr"
   ]
  },
  {
   "cell_type": "code",
   "execution_count": 74,
   "id": "8f96f24a-796d-4829-9423-07136a1e0ffd",
   "metadata": {},
   "outputs": [
    {
     "data": {
      "text/plain": [
       "array([[ 9, 10],\n",
       "       [12, 13]])"
      ]
     },
     "execution_count": 74,
     "metadata": {},
     "output_type": "execute_result"
    }
   ],
   "source": [
    "view_b"
   ]
  },
  {
   "cell_type": "code",
   "execution_count": 78,
   "id": "9eca6ead-6e7e-4046-8dc2-d911de475589",
   "metadata": {},
   "outputs": [],
   "source": [
    "# 79. Create a NumPy array orig_array of shape (2, 4) with values from 1 to 8. Create a reshaped view reshaped_view of shape (4, 2) from orig_array. Modify an element in reshaped_view and check if it reflects changes in the original`orig_array`.\n",
    "orig_array = np.arange(1, 9).reshape(2, 4)\n",
    "reshaped_view = orig_array.reshape(4, 2)"
   ]
  },
  {
   "cell_type": "code",
   "execution_count": 79,
   "id": "6523bb2e-78c8-4a1e-a958-424963976c6e",
   "metadata": {},
   "outputs": [
    {
     "data": {
      "text/plain": [
       "array([[1, 2, 3, 4],\n",
       "       [5, 6, 7, 8]])"
      ]
     },
     "execution_count": 79,
     "metadata": {},
     "output_type": "execute_result"
    }
   ],
   "source": [
    "orig_array"
   ]
  },
  {
   "cell_type": "code",
   "execution_count": 80,
   "id": "34e3070d-2e87-4ac1-8799-1f58fcc32458",
   "metadata": {},
   "outputs": [],
   "source": [
    "reshaped_view[0, 0] = 100"
   ]
  },
  {
   "cell_type": "code",
   "execution_count": 81,
   "id": "93dbfc8c-2497-4b69-b690-1e419b0fd619",
   "metadata": {},
   "outputs": [
    {
     "data": {
      "text/plain": [
       "array([[100,   2],\n",
       "       [  3,   4],\n",
       "       [  5,   6],\n",
       "       [  7,   8]])"
      ]
     },
     "execution_count": 81,
     "metadata": {},
     "output_type": "execute_result"
    }
   ],
   "source": [
    "reshaped_view"
   ]
  },
  {
   "cell_type": "code",
   "execution_count": 82,
   "id": "80052e69-5210-4c8d-85e7-029c135119ef",
   "metadata": {},
   "outputs": [],
   "source": [
    "# 80. Create a NumPy array`data` of shape (3, 4) with random integers. Extract a copy data_copy of elements greater than 5. Modify an element in data_copy' and verify if it affects the original `data`.\n",
    "data = np.random.randint(1, 11, size=(3, 4))\n",
    "\n",
    "data_copy = data[data > 5].copy()\n",
    "data_copy[0] = 100"
   ]
  },
  {
   "cell_type": "code",
   "execution_count": 83,
   "id": "26eac3e5-8079-4fb8-b07e-5bfe6ddeeb9b",
   "metadata": {},
   "outputs": [
    {
     "data": {
      "text/plain": [
       "array([[ 7,  8,  7,  2],\n",
       "       [ 6,  6,  9,  3],\n",
       "       [ 7,  5,  8, 10]], dtype=int32)"
      ]
     },
     "execution_count": 83,
     "metadata": {},
     "output_type": "execute_result"
    }
   ],
   "source": [
    "data"
   ]
  },
  {
   "cell_type": "code",
   "execution_count": 84,
   "id": "421c64a3-bc17-4962-bdc3-51035d87ebc1",
   "metadata": {},
   "outputs": [
    {
     "data": {
      "text/plain": [
       "array([100,   8,   7,   6,   6,   9,   7,   8,  10], dtype=int32)"
      ]
     },
     "execution_count": 84,
     "metadata": {},
     "output_type": "execute_result"
    }
   ],
   "source": [
    "data_copy"
   ]
  },
  {
   "cell_type": "code",
   "execution_count": 85,
   "id": "2396494b-db82-4f83-bd37-147b4be2eb96",
   "metadata": {},
   "outputs": [],
   "source": [
    "# 81. Create two matrices A and B of identical shape containing integers and perform addition and subtraction operations between them.\n",
    "\n",
    "A = np.random.randint(1, 11, size=(3, 4))\n",
    "B = np.random.randint(1, 11, size=(3, 4))\n",
    "\n",
    "add = A + B\n",
    "sub = A - B"
   ]
  },
  {
   "cell_type": "code",
   "execution_count": 86,
   "id": "543d6ab9-4d71-48cb-8d7b-f26028567e1b",
   "metadata": {},
   "outputs": [
    {
     "data": {
      "text/plain": [
       "array([[ 4,  4,  5,  7],\n",
       "       [10,  7,  3,  1],\n",
       "       [ 3,  8,  5,  1]], dtype=int32)"
      ]
     },
     "execution_count": 86,
     "metadata": {},
     "output_type": "execute_result"
    }
   ],
   "source": [
    "A"
   ]
  },
  {
   "cell_type": "code",
   "execution_count": 87,
   "id": "fd1c4293-7812-4972-a0d7-f4c989139748",
   "metadata": {},
   "outputs": [
    {
     "data": {
      "text/plain": [
       "array([[10,  6,  6,  1],\n",
       "       [ 9,  5,  2,  5],\n",
       "       [ 8,  4,  1,  3]], dtype=int32)"
      ]
     },
     "execution_count": 87,
     "metadata": {},
     "output_type": "execute_result"
    }
   ],
   "source": [
    "B"
   ]
  },
  {
   "cell_type": "code",
   "execution_count": 88,
   "id": "627d0178-6d68-4b8a-9ca9-31487985a053",
   "metadata": {},
   "outputs": [
    {
     "data": {
      "text/plain": [
       "array([[14, 10, 11,  8],\n",
       "       [19, 12,  5,  6],\n",
       "       [11, 12,  6,  4]], dtype=int32)"
      ]
     },
     "execution_count": 88,
     "metadata": {},
     "output_type": "execute_result"
    }
   ],
   "source": [
    "add"
   ]
  },
  {
   "cell_type": "code",
   "execution_count": 89,
   "id": "ea18058e-c9e1-4d22-8c3d-288160a13856",
   "metadata": {},
   "outputs": [
    {
     "data": {
      "text/plain": [
       "array([[-6, -2, -1,  6],\n",
       "       [ 1,  2,  1, -4],\n",
       "       [-5,  4,  4, -2]], dtype=int32)"
      ]
     },
     "execution_count": 89,
     "metadata": {},
     "output_type": "execute_result"
    }
   ],
   "source": [
    "sub"
   ]
  },
  {
   "cell_type": "code",
   "execution_count": 91,
   "id": "2ef1a709-126f-4fe6-89e3-c4d91c879965",
   "metadata": {},
   "outputs": [],
   "source": [
    "# 82. Generate two matrices `C` (3x2) and `D` (2x4) and perform matrix multiplication.\n",
    "\n",
    "C = np.random.randint(1, 11, size=(3, 2))\n",
    "D = np.random.randint(1, 11, size=(2, 4))\n",
    "\n",
    "result = C @ D"
   ]
  },
  {
   "cell_type": "code",
   "execution_count": 92,
   "id": "a151f68a-48f0-401f-9fd1-e5b98ef0a968",
   "metadata": {},
   "outputs": [
    {
     "data": {
      "text/plain": [
       "array([[ 6,  3],\n",
       "       [ 9,  7],\n",
       "       [10,  2]], dtype=int32)"
      ]
     },
     "execution_count": 92,
     "metadata": {},
     "output_type": "execute_result"
    }
   ],
   "source": [
    "C"
   ]
  },
  {
   "cell_type": "code",
   "execution_count": 93,
   "id": "15f328c8-6567-42c5-9107-87f321372978",
   "metadata": {},
   "outputs": [
    {
     "data": {
      "text/plain": [
       "array([[6, 2, 8, 9],\n",
       "       [9, 8, 8, 5]], dtype=int32)"
      ]
     },
     "execution_count": 93,
     "metadata": {},
     "output_type": "execute_result"
    }
   ],
   "source": [
    "D"
   ]
  },
  {
   "cell_type": "code",
   "execution_count": 94,
   "id": "d2a3c2e3-94bd-4dd2-b952-29c6403e1f86",
   "metadata": {},
   "outputs": [
    {
     "name": "stdout",
     "output_type": "stream",
     "text": [
      "[[ 63  36  72  69]\n",
      " [117  74 128 116]\n",
      " [ 78  36  96 100]]\n"
     ]
    }
   ],
   "source": [
    "print(result)"
   ]
  },
  {
   "cell_type": "code",
   "execution_count": 95,
   "id": "ae08e03c-3c4f-42b7-a09c-742c275e0f7e",
   "metadata": {},
   "outputs": [],
   "source": [
    "# 83. Create a matrix `E` and find its transpose.\n",
    "\n",
    "E = np.random.randint(1, 11, size=(3, 4))\n",
    "\n",
    "E_transpose = E.T"
   ]
  },
  {
   "cell_type": "code",
   "execution_count": 96,
   "id": "008d7cf2-fcd4-494b-a9b3-911798d78393",
   "metadata": {},
   "outputs": [
    {
     "data": {
      "text/plain": [
       "array([[ 8, 10,  6,  9],\n",
       "       [ 1,  3, 10,  3],\n",
       "       [ 2,  1,  3,  5]], dtype=int32)"
      ]
     },
     "execution_count": 96,
     "metadata": {},
     "output_type": "execute_result"
    }
   ],
   "source": [
    "E"
   ]
  },
  {
   "cell_type": "code",
   "execution_count": 97,
   "id": "4534567c-b3cd-4672-abaa-84878efc3b27",
   "metadata": {},
   "outputs": [
    {
     "data": {
      "text/plain": [
       "array([[ 8,  1,  2],\n",
       "       [10,  3,  1],\n",
       "       [ 6, 10,  3],\n",
       "       [ 9,  3,  5]], dtype=int32)"
      ]
     },
     "execution_count": 97,
     "metadata": {},
     "output_type": "execute_result"
    }
   ],
   "source": [
    "E_transpose"
   ]
  },
  {
   "cell_type": "code",
   "execution_count": 98,
   "id": "05098993-ab69-49cd-83a6-58667d6be5d7",
   "metadata": {},
   "outputs": [],
   "source": [
    "# 84. Generate a square matrix F and compute its determinant.\n",
    "F = np.random.randint(1, 11, size=(3, 3))\n",
    "\n",
    "det_F = np.linalg.det(F)"
   ]
  },
  {
   "cell_type": "code",
   "execution_count": 99,
   "id": "4e4667a4-9661-4aaf-9f46-45284cdc3223",
   "metadata": {},
   "outputs": [
    {
     "data": {
      "text/plain": [
       "array([[4, 7, 9],\n",
       "       [4, 6, 1],\n",
       "       [7, 6, 4]], dtype=int32)"
      ]
     },
     "execution_count": 99,
     "metadata": {},
     "output_type": "execute_result"
    }
   ],
   "source": [
    "F"
   ]
  },
  {
   "cell_type": "code",
   "execution_count": 100,
   "id": "52eab253-4ac2-43d4-8225-e597a1494176",
   "metadata": {},
   "outputs": [
    {
     "data": {
      "text/plain": [
       "np.float64(-152.99999999999997)"
      ]
     },
     "execution_count": 100,
     "metadata": {},
     "output_type": "execute_result"
    }
   ],
   "source": [
    "det_F"
   ]
  },
  {
   "cell_type": "code",
   "execution_count": 114,
   "id": "1f13e3bc-87a8-4a5a-80cf-7fe9c22acdaf",
   "metadata": {},
   "outputs": [],
   "source": [
    "# 85. Create a square matrix `G`and find its inverse.\n",
    "G = np.array([[1, 2, 3], [0, 1, 4], [5, 6, 0]])\n",
    "\n",
    "G_inv = np.linalg.inv(G)"
   ]
  },
  {
   "cell_type": "code",
   "execution_count": 115,
   "id": "29c7c5b4-6923-4a4c-bb60-2fc9f0bb2a07",
   "metadata": {},
   "outputs": [
    {
     "data": {
      "text/plain": [
       "array([[1, 2, 3],\n",
       "       [0, 1, 4],\n",
       "       [5, 6, 0]])"
      ]
     },
     "execution_count": 115,
     "metadata": {},
     "output_type": "execute_result"
    }
   ],
   "source": [
    "G"
   ]
  },
  {
   "cell_type": "code",
   "execution_count": 116,
   "id": "ab2914df-e6d8-46b5-acbb-76a0d735d014",
   "metadata": {},
   "outputs": [
    {
     "name": "stdout",
     "output_type": "stream",
     "text": [
      "[[-24.  18.   5.]\n",
      " [ 20. -15.  -4.]\n",
      " [ -5.   4.   1.]]\n"
     ]
    }
   ],
   "source": [
    "print(G_inv)"
   ]
  }
 ],
 "metadata": {
  "kernelspec": {
   "display_name": "Python 3 (ipykernel)",
   "language": "python",
   "name": "python3"
  },
  "language_info": {
   "codemirror_mode": {
    "name": "ipython",
    "version": 3
   },
   "file_extension": ".py",
   "mimetype": "text/x-python",
   "name": "python",
   "nbconvert_exporter": "python",
   "pygments_lexer": "ipython3",
   "version": "3.13.0"
  }
 },
 "nbformat": 4,
 "nbformat_minor": 5
}
