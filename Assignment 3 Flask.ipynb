{
 "cells": [
  {
   "cell_type": "markdown",
   "id": "218cfe4c-cccf-4e82-95ee-250bab5eef3a",
   "metadata": {},
   "source": [
    "                                            Assignment 3 : Flask"
   ]
  },
  {
   "cell_type": "markdown",
   "id": "d03cb94e-4176-4221-90a8-ceb1bd451cb1",
   "metadata": {},
   "source": [
    "# 1. What is Flask, and what makes it different from other web frameworks?\n",
    "Explain:\n",
    "* Flask : Flask is a lightweight and flexible web framework for Python.\n",
    "* Known for its simplicity and fine control over its components.\n",
    "- flask Differs from other Web frameworks:\n",
    "* Flask is intentionally minimalistic compared to more feature-heavy frameworks like Django.\n",
    "* Django comes with many built-in features such as an ORM (Object-Relational Mapper), authentication system, and admin interface.\n",
    "* Flask is often chosen for projects where you need greater control over the structure of your application.\n",
    "* Because of its simplicity, Flask has a relatively shallow learning curve, especially for Python developers who are new to web development.\n",
    "* While Flask is very popular, especially for small to medium-sized projects, Django has a much larger ecosystem and community with a wide array of pre-built plugins, tools, and documentation."
   ]
  },
  {
   "cell_type": "markdown",
   "id": "a3c166d8-07a8-4e67-a762-7b45c9f3adf9",
   "metadata": {},
   "source": [
    "# 2. Describe the basic structure of a Flask application.\n",
    "Explain:\n",
    "* A basic Flask application consists of a few essential components that work together to handle incoming HTTP requests, process them, and return a response.\n",
    "* At the heart of every Flask application is an instance of the Flask class, which represents the application itself. This is where you define routes, views, configurations, and initialize extensions or middleware."
   ]
  },
  {
   "cell_type": "code",
   "execution_count": 1,
   "id": "6c5dc45e-2ecc-45a9-9d15-e8d430d2103d",
   "metadata": {},
   "outputs": [],
   "source": [
    "# from flask import Flask, render_template\n",
    "\n",
    "# app = Flask(__name__)\n",
    "\n",
    "# @app.route('/')\n",
    "# def home():\n",
    "#     return render_template('index.html')\n",
    "\n",
    "# if __name__ == '__main__':\n",
    "#     app.run(debug=True) "
   ]
  },
  {
   "cell_type": "markdown",
   "id": "79db921f-aa35-43e7-a0b4-388aed8432ba",
   "metadata": {},
   "source": [
    "# 3. How do you install Flask on your local machine?\n",
    "Explain :\n",
    "1. Step 1:-  Install Python \n",
    "2. Step 2:- python --version\n",
    "3. Step 3:- Create A virtual environment -> pyhton -m venv flaskpro\n",
    "4. Step 4:- activate the virtual environment -> flaskpro\\scripts\\activate\n",
    "5. Step 5:- Install Flask ->  pip install Flask\n",
    "6. Step 6:- Check -> python -m flask --version\n",
    "7. Step 7:- Then create Basic Flask Application\n",
    "* from flask import Flask\n",
    "\n",
    "* app = Flask(__name__)\n",
    "\n",
    "* @app.route('/')\n",
    "* def hello_world():\n",
    "*     return 'Hello, World!'\n",
    "\n",
    "* if __name__ == '__main__':\n",
    "*     app.run(debug=True)"
   ]
  },
  {
   "cell_type": "markdown",
   "id": "792d6f94-eef8-43c1-a9db-d30c9ff83238",
   "metadata": {},
   "source": [
    "# 4. Explain the concept of routing in Flask.\n",
    "Explain: \n",
    "* In Flask, routing is the mechanism by which URL patterns (routes) are mapped to specific functions (view functions).\n",
    "* When a user makes a request to a particular URL in a Flask application, the application needs to determine which function should handle that request.\n",
    "- Routing in Flask : A route is a URL pattern (such as /home or /about) that is associated with a function in your Flask application. The function is called a view function because it is responsible for generating the content that is returned to the user when they visit that route.\n",
    "* from flask import Flask\n",
    "\n",
    "* app = Flask(__name__)\n",
    "\n",
    "* @app.route('/')\n",
    "* def home():\n",
    "*     return \"Hello, World!\"\n",
    "\n",
    "* if __name__ == '__main__':\n",
    "*     app.run(debug=True)"
   ]
  },
  {
   "cell_type": "markdown",
   "id": "ce1982b2-563a-48c7-8178-bee4106a372f",
   "metadata": {},
   "source": [
    "# 5. What are Flask templates, and how are they used in web development?\n",
    "Explain: In Flask, templates are files that contain HTML (and potentially other content like CSS or JavaScript) that can be dynamically rendered with data from your Flask application. Templates allow you to separate the logic of your application from its presentation, which improves code organization and maintainability.\n",
    "1. app.py: Your main Flask application file, where routes and logic are defined.\n",
    "2. templates/: Contains HTML templates that will be dynamically rendered by Flask.\n",
    "3. static/: Contains static files like CSS, JS, and images."
   ]
  },
  {
   "cell_type": "code",
   "execution_count": null,
   "id": "6c27b4b4-cdc5-4c0b-85d1-9cc77395faad",
   "metadata": {},
   "outputs": [],
   "source": []
  }
 ],
 "metadata": {
  "kernelspec": {
   "display_name": "Python 3 (ipykernel)",
   "language": "python",
   "name": "python3"
  },
  "language_info": {
   "codemirror_mode": {
    "name": "ipython",
    "version": 3
   },
   "file_extension": ".py",
   "mimetype": "text/x-python",
   "name": "python",
   "nbconvert_exporter": "python",
   "pygments_lexer": "ipython3",
   "version": "3.13.0"
  }
 },
 "nbformat": 4,
 "nbformat_minor": 5
}
